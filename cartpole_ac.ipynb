{
 "cells": [
  {
   "cell_type": "markdown",
   "metadata": {},
   "source": [
    "# CartPole solver using an actor-critic (IAC) agent"
   ]
  },
  {
   "cell_type": "code",
   "execution_count": 67,
   "metadata": {},
   "outputs": [
    {
     "name": "stdout",
     "output_type": "stream",
     "text": [
      "The autoreload extension is already loaded. To reload it, use:\n",
      "  %reload_ext autoreload\n"
     ]
    }
   ],
   "source": [
    "%load_ext autoreload\n",
    "%autoreload 2"
   ]
  },
  {
   "cell_type": "code",
   "execution_count": 68,
   "metadata": {},
   "outputs": [],
   "source": [
    "# import os\n",
    "# os.environ[\"CUDA_VISIBLE_DEVICES\"] = \"-1\"\n",
    "# os.environ['TF_CPP_MIN_LOG_LEVEL'] = '2'\n",
    "\n",
    "# import warnings\n",
    "# warnings.filterwarnings('error', message=r\".*complex128.*\")\n",
    "# warnings.simplefilter('module')\n",
    "\n",
    "# from silence_tensorflow import silence_tensorflow\n",
    "# silence_tensorflow()\n",
    "\n",
    "import eqmarl\n",
    "import matplotlib.pyplot as plt\n",
    "import gymnasium as gym\n",
    "from tensorflow import keras\n",
    "import tensorflow as tf"
   ]
  },
  {
   "cell_type": "code",
   "execution_count": 69,
   "metadata": {},
   "outputs": [
    {
     "data": {
      "text/plain": [
       "[]"
      ]
     },
     "execution_count": 69,
     "metadata": {},
     "output_type": "execute_result"
    }
   ],
   "source": [
    "# # Disable GPUs.\n",
    "# tf.config.set_visible_devices([], 'GPU')\n",
    "\n",
    "# List any available GPUs.\n",
    "tf.config.list_physical_devices('GPU')"
   ]
  },
  {
   "cell_type": "code",
   "execution_count": 70,
   "metadata": {},
   "outputs": [],
   "source": [
    "def generate_model_CartPole_critic_classical(units: list[int], activation: str = 'relu', **kwargs) -> keras.Model:\n",
    "    assert type(units) == list, 'units must be a list of integers'\n",
    "    layers = []\n",
    "    layers += [keras.layers.Flatten()]\n",
    "    layers += [keras.layers.Dense(u, activation=activation) for u in units]\n",
    "    layers += [keras.layers.Dense(1, activation=None, name='v')] # Value function estimator V(s).\n",
    "    model = keras.Sequential(layers=layers, **kwargs)\n",
    "    return model"
   ]
  },
  {
   "cell_type": "code",
   "execution_count": 71,
   "metadata": {},
   "outputs": [],
   "source": [
    "import cirq\n",
    "import functools as ft\n",
    "import numpy as np\n",
    "\n",
    "def make_observables_cartpole(qubits: list) -> list:\n",
    "    return [\n",
    "        cirq.Z(qubits[0]) * cirq.Z(qubits[1]),\n",
    "        cirq.Z(qubits[2]) * cirq.Z(qubits[3]),\n",
    "    ]\n",
    "\n",
    "def generate_model_CartPole_actor_quantum(\n",
    "    n_layers,\n",
    "    beta = 1.0,\n",
    "    name=None,\n",
    "    ):\n",
    "    \"\"\"Single-agent variant of hybrid quantum actor for CoinGame.\n",
    "    \"\"\"\n",
    "    \n",
    "    state_bounds = tf.convert_to_tensor(np.array([2.4, 2.5, 0.21, 2.5], dtype='float32'))\n",
    "\n",
    "    # Shape of observables is already known for CoinGame2.\n",
    "    obs_shape = (4,1)\n",
    "\n",
    "    # Qubit dimension is pre-determined for CoinGame2 environment.\n",
    "    # Using `4` to match observable dimension.\n",
    "    d_qubits = 4\n",
    "\n",
    "    # Create qubit list using qubit dimensions.\n",
    "    qubits = cirq.LineQubit.range(d_qubits)\n",
    "    \n",
    "    # Generate observables.\n",
    "    observables = make_observables_cartpole(qubits)\n",
    "\n",
    "    # Define quantum layer.\n",
    "    qlayer = eqmarl.HybridVariationalEncodingPQC(\n",
    "        qubits=qubits, \n",
    "        d_qubits=d_qubits,\n",
    "        n_layers=n_layers,\n",
    "        observables=observables,\n",
    "        # squash_activation='tanh',\n",
    "        squash_activation='arctan',\n",
    "        encoding_layer_cls=eqmarl.ParameterizedRotationLayer_Rx,\n",
    "        )\n",
    "    \n",
    "    # Raw observations are given as a 1D list, so convert matrix shape into list size.\n",
    "    input_size = ft.reduce(lambda x, y: x*y, obs_shape)\n",
    "\n",
    "    model = keras.Sequential([\n",
    "            keras.Input(shape=(input_size,), dtype=tf.dtypes.float32, name='input'), # Shape of model input, which should match the observation vector shape.\n",
    "            keras.Sequential([\n",
    "                keras.layers.Lambda(lambda x: x/state_bounds), # Normalizes input states.\n",
    "                keras.layers.Reshape((*obs_shape,)), # Reshape to matrix grid.\n",
    "                ], name=\"input-preprocess\"),\n",
    "            qlayer, # Hybrid quantum layer.\n",
    "            keras.Sequential([\n",
    "                eqmarl.RescaleWeighted(len(observables)),\n",
    "                keras.layers.Lambda(lambda x: x * beta),\n",
    "                keras.layers.Softmax(),\n",
    "                ], name='observables-policy')\n",
    "        ], name=name)\n",
    "    return model"
   ]
  },
  {
   "cell_type": "code",
   "execution_count": 72,
   "metadata": {},
   "outputs": [
    {
     "name": "stdout",
     "output_type": "stream",
     "text": [
      "Model: \"actor-quantum\"\n",
      "_________________________________________________________________\n",
      " Layer (type)                Output Shape              Param #   \n",
      "=================================================================\n",
      " input-preprocess (Sequentia  (None, 4, 1)             0         \n",
      " l)                                                              \n",
      "                                                                 \n",
      " HybridVariationalEncodingPQ  (None, 2)                92        \n",
      " C (HybridVariationalEncodin                                     \n",
      " gPQC)                                                           \n",
      "                                                                 \n",
      " observables-policy (Sequent  (None, 2)                2         \n",
      " ial)                                                            \n",
      "                                                                 \n",
      "=================================================================\n",
      "Total params: 94\n",
      "Trainable params: 94\n",
      "Non-trainable params: 0\n",
      "_________________________________________________________________\n"
     ]
    }
   ],
   "source": [
    "# Quantum actor.\n",
    "n_layers = 5\n",
    "n_actions = 2\n",
    "model_actor = generate_model_CartPole_actor_quantum(\n",
    "    n_layers=n_layers,\n",
    "    name='actor-quantum',\n",
    "    )\n",
    "\n",
    "\n",
    "# optimizer_actor = keras.optimizers.Adam(learning_rate=0.1)\n",
    "optimizer_actor = [\n",
    "    tf.keras.optimizers.Adam(learning_rate=0.01, amsgrad=True),\n",
    "    tf.keras.optimizers.Adam(learning_rate=0.1, amsgrad=True),\n",
    "    tf.keras.optimizers.Adam(learning_rate=0.1, amsgrad=True),\n",
    "]\n",
    "\n",
    "model_actor.build((None, 4))\n",
    "model_actor.summary()"
   ]
  },
  {
   "cell_type": "code",
   "execution_count": 73,
   "metadata": {},
   "outputs": [
    {
     "name": "stdout",
     "output_type": "stream",
     "text": [
      "Model: \"critic-classical\"\n",
      "_________________________________________________________________\n",
      " Layer (type)                Output Shape              Param #   \n",
      "=================================================================\n",
      " flatten_3 (Flatten)         (None, 4)                 0         \n",
      "                                                                 \n",
      " dense_9 (Dense)             (None, 128)               640       \n",
      "                                                                 \n",
      " dense_10 (Dense)            (None, 64)                8256      \n",
      "                                                                 \n",
      " dense_11 (Dense)            (None, 32)                2080      \n",
      "                                                                 \n",
      " v (Dense)                   (None, 1)                 33        \n",
      "                                                                 \n",
      "=================================================================\n",
      "Total params: 11,009\n",
      "Trainable params: 11,009\n",
      "Non-trainable params: 0\n",
      "_________________________________________________________________\n"
     ]
    }
   ],
   "source": [
    "# Classical critic.\n",
    "model_critic = generate_model_CartPole_critic_classical(\n",
    "    units=[128, 64, 32],\n",
    "    name=f\"critic-classical\",\n",
    "    )\n",
    "\n",
    "optimizer_critic = keras.optimizers.Adam(learning_rate=0.001)\n",
    "\n",
    "model_critic.build((None, 4))\n",
    "model_critic.summary()"
   ]
  },
  {
   "cell_type": "markdown",
   "metadata": {},
   "source": [
    "## Training"
   ]
  },
  {
   "cell_type": "code",
   "execution_count": 75,
   "metadata": {},
   "outputs": [
    {
     "name": "stderr",
     "output_type": "stream",
     "text": [
      "Episode 0:   0%|          | 0/1000 [00:00<?, ?episode/s]"
     ]
    },
    {
     "name": "stderr",
     "output_type": "stream",
     "text": [
      "Episode 10:   1%|          | 9/1000 [00:02<03:20,  4.94episode/s, episode_reward=33]"
     ]
    },
    {
     "name": "stdout",
     "output_type": "stream",
     "text": [
      "Episode 10/1000, average last 10 rewards 17.0\n"
     ]
    },
    {
     "name": "stderr",
     "output_type": "stream",
     "text": [
      "Episode 20:   2%|▏         | 19/1000 [00:05<04:21,  3.75episode/s, episode_reward=13]"
     ]
    },
    {
     "name": "stdout",
     "output_type": "stream",
     "text": [
      "Episode 20/1000, average last 10 rewards 24.600000381469727\n"
     ]
    },
    {
     "name": "stderr",
     "output_type": "stream",
     "text": [
      "Episode 30:   3%|▎         | 29/1000 [00:10<04:54,  3.30episode/s, episode_reward=181]"
     ]
    },
    {
     "name": "stdout",
     "output_type": "stream",
     "text": [
      "Episode 30/1000, average last 10 rewards 49.599998474121094\n"
     ]
    },
    {
     "name": "stderr",
     "output_type": "stream",
     "text": [
      "Episode 40:   4%|▍         | 39/1000 [00:15<08:30,  1.88episode/s, episode_reward=30] "
     ]
    },
    {
     "name": "stdout",
     "output_type": "stream",
     "text": [
      "Episode 40/1000, average last 10 rewards 44.70000076293945\n"
     ]
    },
    {
     "name": "stderr",
     "output_type": "stream",
     "text": [
      "Episode 50:   5%|▍         | 49/1000 [00:18<04:39,  3.40episode/s, episode_reward=43]"
     ]
    },
    {
     "name": "stdout",
     "output_type": "stream",
     "text": [
      "Episode 50/1000, average last 10 rewards 24.5\n"
     ]
    },
    {
     "name": "stderr",
     "output_type": "stream",
     "text": [
      "Episode 60:   6%|▌         | 59/1000 [00:22<05:05,  3.08episode/s, episode_reward=94]"
     ]
    },
    {
     "name": "stdout",
     "output_type": "stream",
     "text": [
      "Episode 60/1000, average last 10 rewards 38.20000076293945\n"
     ]
    },
    {
     "name": "stderr",
     "output_type": "stream",
     "text": [
      "Episode 70:   7%|▋         | 69/1000 [00:27<09:02,  1.72episode/s, episode_reward=58] "
     ]
    },
    {
     "name": "stdout",
     "output_type": "stream",
     "text": [
      "Episode 70/1000, average last 10 rewards 51.29999923706055\n"
     ]
    },
    {
     "name": "stderr",
     "output_type": "stream",
     "text": [
      "Episode 80:   8%|▊         | 79/1000 [00:37<23:15,  1.52s/episode, episode_reward=55] "
     ]
    },
    {
     "name": "stdout",
     "output_type": "stream",
     "text": [
      "Episode 80/1000, average last 10 rewards 105.0\n"
     ]
    },
    {
     "name": "stderr",
     "output_type": "stream",
     "text": [
      "Episode 90:   9%|▉         | 89/1000 [00:46<17:00,  1.12s/episode, episode_reward=108]"
     ]
    },
    {
     "name": "stdout",
     "output_type": "stream",
     "text": [
      "Episode 90/1000, average last 10 rewards 93.69999694824219\n"
     ]
    },
    {
     "name": "stderr",
     "output_type": "stream",
     "text": [
      "Episode 100:  10%|▉         | 99/1000 [00:59<17:31,  1.17s/episode, episode_reward=152]"
     ]
    },
    {
     "name": "stdout",
     "output_type": "stream",
     "text": [
      "Episode 100/1000, average last 10 rewards 133.1999969482422\n"
     ]
    },
    {
     "name": "stderr",
     "output_type": "stream",
     "text": [
      "Episode 110:  11%|█         | 109/1000 [01:14<26:10,  1.76s/episode, episode_reward=45] "
     ]
    },
    {
     "name": "stdout",
     "output_type": "stream",
     "text": [
      "Episode 110/1000, average last 10 rewards 164.8000030517578\n"
     ]
    },
    {
     "name": "stderr",
     "output_type": "stream",
     "text": [
      "Episode 120:  12%|█▏        | 119/1000 [01:19<08:34,  1.71episode/s, episode_reward=47] "
     ]
    },
    {
     "name": "stdout",
     "output_type": "stream",
     "text": [
      "Episode 120/1000, average last 10 rewards 48.29999923706055\n"
     ]
    },
    {
     "name": "stderr",
     "output_type": "stream",
     "text": [
      "Episode 130:  13%|█▎        | 129/1000 [01:34<19:53,  1.37s/episode, episode_reward=326]"
     ]
    },
    {
     "name": "stdout",
     "output_type": "stream",
     "text": [
      "Episode 130/1000, average last 10 rewards 158.3000030517578\n"
     ]
    },
    {
     "name": "stderr",
     "output_type": "stream",
     "text": [
      "Episode 140:  14%|█▍        | 139/1000 [02:18<2:01:08,  8.44s/episode, episode_reward=252]   "
     ]
    },
    {
     "name": "stdout",
     "output_type": "stream",
     "text": [
      "Episode 140/1000, average last 10 rewards 529.7999877929688\n"
     ]
    },
    {
     "name": "stderr",
     "output_type": "stream",
     "text": [
      "Episode 140:  14%|█▍        | 139/1000 [02:18<14:20,  1.00episode/s, episode_reward=252]  \n"
     ]
    }
   ],
   "source": [
    "gamma = 0.95\n",
    "\n",
    "env = gym.make('CartPole-v1')\n",
    "trainer = eqmarl.trainers.GymTrainer(env=env)\n",
    "\n",
    "agent = eqmarl.agents.AC(\n",
    "    model_actor=model_actor,\n",
    "    model_critic=model_critic,\n",
    "    optimizer_actor=optimizer_actor,\n",
    "    optimizer_critic=optimizer_critic,\n",
    "    n_actions=n_actions,\n",
    "    gamma=gamma,\n",
    ")\n",
    "\n",
    "n_episodes = 1000\n",
    "\n",
    "metrics_history = trainer.train(\n",
    "    n_episodes=n_episodes,\n",
    "    agent=agent,\n",
    "    reward_termination_threshold=500, # Stop after reward reaches threshold.\n",
    "    report_interval=10,\n",
    "    )"
   ]
  },
  {
   "cell_type": "code",
   "execution_count": 76,
   "metadata": {},
   "outputs": [
    {
     "data": {
      "image/png": "[encoded data removed]",
      "text/plain": [
       "<Figure size 640x480 with 1 Axes>"
      ]
     },
     "metadata": {},
     "output_type": "display_data"
    }
   ],
   "source": [
    "for k, data in metrics_history.items():\n",
    "    plt.figure()\n",
    "    plt.plot(data)\n",
    "    plt.title(k)"
   ]
  }
 ],
 "metadata": {
  "kernelspec": {
   "display_name": "qml",
   "language": "python",
   "name": "python3"
  },
  "language_info": {
   "codemirror_mode": {
    "name": "ipython",
    "version": 3
   },
   "file_extension": ".py",
   "mimetype": "text/x-python",
   "name": "python",
   "nbconvert_exporter": "python",
   "pygments_lexer": "ipython3",
   "version": "3.9.18"
  }
 },
 "nbformat": 4,
 "nbformat_minor": 2
}
