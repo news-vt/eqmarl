{
 "cells": [
  {
   "cell_type": "markdown",
   "metadata": {},
   "source": [
    "# CartPole solver using multi-agent advantage actor-critic (MAA2C) with a shared classical policy and joint classical critic."
   ]
  },
  {
   "cell_type": "code",
   "execution_count": 1,
   "metadata": {},
   "outputs": [],
   "source": [
    "%load_ext autoreload\n",
    "%autoreload 2"
   ]
  },
  {
   "cell_type": "code",
   "execution_count": 2,
   "metadata": {},
   "outputs": [
    {
     "name": "stderr",
     "output_type": "stream",
     "text": [
      "2024-01-30 11:25:52.070664: I tensorflow/core/platform/cpu_feature_guard.cc:151] This TensorFlow binary is optimized with oneAPI Deep Neural Network Library (oneDNN) to use the following CPU instructions in performance-critical operations:  AVX2 FMA\n",
      "To enable them in other operations, rebuild TensorFlow with the appropriate compiler flags.\n"
     ]
    }
   ],
   "source": [
    "import eqmarl\n",
    "import matplotlib.pyplot as plt\n",
    "import gymnasium as gym\n",
    "import tensorflow.keras as keras\n",
    "import tensorflow as tf"
   ]
  },
  {
   "cell_type": "code",
   "execution_count": 3,
   "metadata": {},
   "outputs": [
    {
     "data": {
      "text/plain": [
       "[]"
      ]
     },
     "execution_count": 3,
     "metadata": {},
     "output_type": "execute_result"
    }
   ],
   "source": [
    "# List any available GPUs.\n",
    "tf.config.list_physical_devices('GPU')"
   ]
  },
  {
   "cell_type": "code",
   "execution_count": 4,
   "metadata": {},
   "outputs": [],
   "source": [
    "import numpy as np\n",
    "\n",
    "state_bounds = tf.convert_to_tensor(np.array([2.4, 2.5, 0.21, 2.5], dtype='float32'))\n",
    "\n",
    "def generate_model_actor_classical(n_actions: int, units: list[int], activation: str = 'relu', **kwargs) -> keras.Model:\n",
    "    assert type(units) == list, 'units must be a list of integers'\n",
    "    layers = []\n",
    "    layers += [keras.layers.Lambda(lambda x: x/state_bounds)] # Normalizes input states.]\n",
    "    layers += [keras.layers.Flatten()]\n",
    "    layers += [keras.layers.Dense(u, activation=activation) for u in units]\n",
    "    layers += [keras.layers.Dense(n_actions, activation='softmax', name='policy')] # Policy estimation pi(a|s)\n",
    "    model = keras.Sequential(layers=layers, **kwargs)\n",
    "    return model\n",
    "\n",
    "\n",
    "def generate_model_critic_classical(units: list[int], activation: str = 'relu', **kwargs) -> keras.Model:\n",
    "    assert type(units) == list, 'units must be a list of integers'\n",
    "    layers = []\n",
    "    layers += [keras.layers.Lambda(lambda x: x/state_bounds)] # Normalizes input states.]\n",
    "    layers += [keras.layers.Flatten()]\n",
    "    layers += [keras.layers.Dense(u, activation=activation) for u in units]\n",
    "    layers += [keras.layers.Dense(1, activation=None, name='v')] # Value function estimator V(s).\n",
    "    model = keras.Sequential(layers=layers, **kwargs)\n",
    "    return model"
   ]
  },
  {
   "cell_type": "code",
   "execution_count": 5,
   "metadata": {},
   "outputs": [],
   "source": [
    "n_actions = 2\n",
    "n_agents = 2"
   ]
  },
  {
   "cell_type": "code",
   "execution_count": 6,
   "metadata": {},
   "outputs": [
    {
     "name": "stdout",
     "output_type": "stream",
     "text": [
      "Model: \"actor-classical-shared\"\n",
      "_________________________________________________________________\n",
      " Layer (type)                Output Shape              Param #   \n",
      "=================================================================\n",
      " lambda (Lambda)             (None, 4)                 0         \n",
      "                                                                 \n",
      " flatten (Flatten)           (None, 4)                 0         \n",
      "                                                                 \n",
      " dense (Dense)               (None, 256)               1280      \n",
      "                                                                 \n",
      " policy (Dense)              (None, 2)                 514       \n",
      "                                                                 \n",
      "=================================================================\n",
      "Total params: 1,794\n",
      "Trainable params: 1,794\n",
      "Non-trainable params: 0\n",
      "_________________________________________________________________\n"
     ]
    }
   ],
   "source": [
    "# Classical actor.\n",
    "model_actor = generate_model_actor_classical(\n",
    "    n_actions=n_actions,\n",
    "    units=[256],\n",
    "    name=f\"actor-classical-shared\"\n",
    "    )\n",
    "optimizer_actor = keras.optimizers.Adam(learning_rate=3e-4)\n",
    "\n",
    "model_actor.build((None, 4))\n",
    "model_actor.summary()"
   ]
  },
  {
   "cell_type": "code",
   "execution_count": 7,
   "metadata": {},
   "outputs": [
    {
     "name": "stdout",
     "output_type": "stream",
     "text": [
      "Model: \"critic-classical-joint\"\n",
      "_________________________________________________________________\n",
      " Layer (type)                Output Shape              Param #   \n",
      "=================================================================\n",
      " lambda_1 (Lambda)           (None, 2, 4)              0         \n",
      "                                                                 \n",
      " flatten_1 (Flatten)         (None, 8)                 0         \n",
      "                                                                 \n",
      " dense_1 (Dense)             (None, 256)               2304      \n",
      "                                                                 \n",
      " v (Dense)                   (None, 1)                 257       \n",
      "                                                                 \n",
      "=================================================================\n",
      "Total params: 2,561\n",
      "Trainable params: 2,561\n",
      "Non-trainable params: 0\n",
      "_________________________________________________________________\n"
     ]
    }
   ],
   "source": [
    "# Classical critic.\n",
    "model_critic = generate_model_critic_classical(\n",
    "    units=[256],\n",
    "    name=f\"critic-classical-joint\"\n",
    "    )\n",
    "optimizer_critic = keras.optimizers.Adam(learning_rate=3e-4)\n",
    "\n",
    "model_critic.build((None, n_agents, 4))\n",
    "model_critic.summary()"
   ]
  },
  {
   "cell_type": "markdown",
   "metadata": {},
   "source": [
    "## Training"
   ]
  },
  {
   "cell_type": "code",
   "execution_count": 9,
   "metadata": {},
   "outputs": [
    {
     "name": "stdout",
     "output_type": "stream",
     "text": [
      "Training for 3000 episodes, press 'Ctrl+C' to terminate early\n"
     ]
    },
    {
     "name": "stderr",
     "output_type": "stream",
     "text": [
      "Episode 3000: 100%|██████████| 3000/3000 [13:27<00:00,  3.72episode/s, episode_reward=[184. 184.]]\n"
     ]
    }
   ],
   "source": [
    "gamma = 0.99\n",
    "alpha = 0.001\n",
    "env = gym.vector.make('CartPole-v1', num_envs=n_agents)\n",
    "\n",
    "algo = eqmarl.algorithms.MAA2C(\n",
    "    env=env,\n",
    "    model_actor=model_actor,\n",
    "    model_critic=model_critic,\n",
    "    optimizer_actor=optimizer_actor,\n",
    "    optimizer_critic=optimizer_critic,\n",
    "    gamma=gamma,\n",
    "    alpha=alpha,\n",
    "    )\n",
    "\n",
    "reward_history, metrics_history = algo.train(n_episodes=3000, max_steps_per_episode=500)"
   ]
  },
  {
   "cell_type": "code",
   "execution_count": 11,
   "metadata": {},
   "outputs": [
    {
     "data": {
      "text/plain": [
       "[<matplotlib.lines.Line2D at 0x15563ac70>,\n",
       " <matplotlib.lines.Line2D at 0x15563a2b0>]"
      ]
     },
     "execution_count": 11,
     "metadata": {},
     "output_type": "execute_result"
    },
    {
     "data": {
      "image/png": "[encoded data removed]",
      "text/plain": [
       "<Figure size 640x480 with 1 Axes>"
      ]
     },
     "metadata": {},
     "output_type": "display_data"
    }
   ],
   "source": [
    "plt.plot(reward_history)"
   ]
  },
  {
   "cell_type": "code",
   "execution_count": null,
   "metadata": {},
   "outputs": [],
   "source": []
  }
 ],
 "metadata": {
  "kernelspec": {
   "display_name": "qml",
   "language": "python",
   "name": "python3"
  },
  "language_info": {
   "codemirror_mode": {
    "name": "ipython",
    "version": 3
   },
   "file_extension": ".py",
   "mimetype": "text/x-python",
   "name": "python",
   "nbconvert_exporter": "python",
   "pygments_lexer": "ipython3",
   "version": "3.9.18"
  }
 },
 "nbformat": 4,
 "nbformat_minor": 2
}
