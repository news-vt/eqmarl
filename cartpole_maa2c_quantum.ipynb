{
 "cells": [
  {
   "cell_type": "markdown",
   "metadata": {},
   "source": [
    "# CartPole solver using multi-agent advantage actor-critic (MAA2C) with a shared classical policy and joint quantum critic."
   ]
  },
  {
   "cell_type": "code",
   "execution_count": 1,
   "metadata": {},
   "outputs": [],
   "source": [
    "%load_ext autoreload\n",
    "%autoreload 2"
   ]
  },
  {
   "cell_type": "code",
   "execution_count": 2,
   "metadata": {},
   "outputs": [
    {
     "name": "stderr",
     "output_type": "stream",
     "text": [
      "2024-01-30 12:21:41.772859: I tensorflow/core/platform/cpu_feature_guard.cc:151] This TensorFlow binary is optimized with oneAPI Deep Neural Network Library (oneDNN) to use the following CPU instructions in performance-critical operations:  AVX2 FMA\n",
      "To enable them in other operations, rebuild TensorFlow with the appropriate compiler flags.\n"
     ]
    }
   ],
   "source": [
    "# import os\n",
    "# os.environ[\"CUDA_VISIBLE_DEVICES\"] = \"-1\"\n",
    "# os.environ['TF_CPP_MIN_LOG_LEVEL'] = '2'\n",
    "\n",
    "# import warnings\n",
    "# warnings.filterwarnings('error', message=r\".*complex128.*\")\n",
    "# warnings.simplefilter('module')\n",
    "\n",
    "# from silence_tensorflow import silence_tensorflow\n",
    "# silence_tensorflow()\n",
    "\n",
    "import eqmarl\n",
    "import matplotlib.pyplot as plt\n",
    "import gymnasium as gym\n",
    "import tensorflow.keras as keras\n",
    "import tensorflow as tf"
   ]
  },
  {
   "cell_type": "code",
   "execution_count": 3,
   "metadata": {},
   "outputs": [
    {
     "data": {
      "text/plain": [
       "[]"
      ]
     },
     "execution_count": 3,
     "metadata": {},
     "output_type": "execute_result"
    }
   ],
   "source": [
    "# # Disable GPUs.\n",
    "# tf.config.set_visible_devices([], 'GPU')\n",
    "\n",
    "# List any available GPUs.\n",
    "tf.config.list_physical_devices('GPU')"
   ]
  },
  {
   "cell_type": "code",
   "execution_count": 4,
   "metadata": {},
   "outputs": [],
   "source": [
    "import numpy as np\n",
    "import cirq\n",
    "import functools\n",
    "\n",
    "state_bounds = tf.convert_to_tensor(np.array([2.4, 2.5, 0.21, 2.5], dtype='float32'))\n",
    "\n",
    "\n",
    "def generate_model_critic_quantum_partite(\n",
    "    n_agents,\n",
    "    n_layers,\n",
    "    beta = 1.0,\n",
    "    squash_activation = 'linear', # linear, arctan/atan, tanh\n",
    "    name=None,\n",
    "    ):\n",
    "    \"\"\"eQMARL variant of hybrid quantum joint critic for CartPole.\n",
    "    \"\"\"\n",
    "    # State boundaries for input normalization.\n",
    "    state_bounds = tf.convert_to_tensor(np.array([2.4, 2.5, 0.21, 2.5], dtype='float32'))\n",
    "\n",
    "    # Shape of observables is already known for CartPole..\n",
    "    obs_shape = (4,1)\n",
    "\n",
    "    # Qubit dimension is pre-determined for CartPole environment.\n",
    "    # Using `4` to match observable dimension.\n",
    "    d_qubits = 4\n",
    "\n",
    "    # Create qubit list using qubit dimensions.\n",
    "    qubits = cirq.LineQubit.range(n_agents * d_qubits)\n",
    "\n",
    "    # Single observable across all qubits.\n",
    "    observables = [cirq.Z(q) for q in qubits]\n",
    "    observables = [functools.reduce(lambda x, y: x*y, observables)]\n",
    "\n",
    "    # Define quantum layer.\n",
    "    qlayer = eqmarl.layers.HybridPartiteVariationalEncodingPQC(\n",
    "        qubits=qubits, \n",
    "        n_parts=n_agents,\n",
    "        d_qubits=d_qubits,\n",
    "        n_layers=n_layers,\n",
    "        observables=observables,\n",
    "        squash_activation=squash_activation,\n",
    "        encoding_layer_cls=eqmarl.ops.ParameterizedRotationLayer_Rx,\n",
    "        )\n",
    "    \n",
    "    # Raw observations are given as a 1D list, so convert matrix shape into list size.\n",
    "    input_size = functools.reduce(lambda x, y: x*y, obs_shape)\n",
    "\n",
    "    model = keras.Sequential([\n",
    "            keras.Input(shape=(n_agents, input_size), dtype=tf.dtypes.float32, name='input'), # Shape of model input, which should match the observation vector shape.\n",
    "            keras.Sequential([\n",
    "                keras.layers.Lambda(lambda x: x/state_bounds), # Normalizes input states.\n",
    "                keras.layers.Reshape((n_agents, *obs_shape)), # Reshape to agent observations.\n",
    "                ], name=\"input-preprocess\"),\n",
    "            qlayer,\n",
    "            keras.Sequential([\n",
    "                eqmarl.layers.RescaleWeighted(len(observables)),\n",
    "                keras.layers.Lambda(lambda x: x * beta),\n",
    "                # keras.layers.Softmax(),\n",
    "                ], name='observables-joint-value')\n",
    "        ], name=name)\n",
    "    return model"
   ]
  },
  {
   "cell_type": "code",
   "execution_count": 5,
   "metadata": {},
   "outputs": [],
   "source": [
    "n_actions = 2\n",
    "n_agents = 2"
   ]
  },
  {
   "cell_type": "code",
   "execution_count": 6,
   "metadata": {},
   "outputs": [
    {
     "name": "stdout",
     "output_type": "stream",
     "text": [
      "Model: \"actor-quantum-shared\"\n",
      "_________________________________________________________________\n",
      " Layer (type)                Output Shape              Param #   \n",
      "=================================================================\n",
      " input-preprocess (Sequentia  (None, 4, 1)             0         \n",
      " l)                                                              \n",
      "                                                                 \n",
      " HybridVariationalEncodingPQ  (None, 2)                92        \n",
      " C (HybridVariationalEncodin                                     \n",
      " gPQC)                                                           \n",
      "                                                                 \n",
      " observables-policy (Sequent  (None, 2)                2         \n",
      " ial)                                                            \n",
      "                                                                 \n",
      "=================================================================\n",
      "Total params: 94\n",
      "Trainable params: 94\n",
      "Non-trainable params: 0\n",
      "_________________________________________________________________\n"
     ]
    }
   ],
   "source": [
    "# Quantum shared actor.\n",
    "model_actor = eqmarl.models.generate_model_CartPole_actor_quantum(\n",
    "    n_layers=5,\n",
    "    name=f\"actor-quantum-shared\",\n",
    "    )\n",
    "optimizer_actor = [\n",
    "    keras.optimizers.Adam(learning_rate=1e-2),\n",
    "    keras.optimizers.Adam(learning_rate=1e-1),\n",
    "    keras.optimizers.Adam(learning_rate=1e-1),\n",
    "    ]\n",
    "\n",
    "\n",
    "model_actor.build((None, 4))\n",
    "model_actor.summary()"
   ]
  },
  {
   "cell_type": "code",
   "execution_count": 7,
   "metadata": {},
   "outputs": [
    {
     "name": "stdout",
     "output_type": "stream",
     "text": [
      "Model: \"critic-quantum-joint\"\n",
      "_________________________________________________________________\n",
      " Layer (type)                Output Shape              Param #   \n",
      "=================================================================\n",
      " input-preprocess (Sequentia  (None, 2, 4, 1)          0         \n",
      " l)                                                              \n",
      "                                                                 \n",
      " HybridPartiteVariationalEnc  (None, 1)                184       \n",
      " odingPQC (HybridPartiteVari                                     \n",
      " ationalEncodingPQC)                                             \n",
      "                                                                 \n",
      " observables-joint-value (Se  (None, 1)                1         \n",
      " quential)                                                       \n",
      "                                                                 \n",
      "=================================================================\n",
      "Total params: 185\n",
      "Trainable params: 185\n",
      "Non-trainable params: 0\n",
      "_________________________________________________________________\n"
     ]
    }
   ],
   "source": [
    "# Quantum joint critic.\n",
    "model_critic = generate_model_critic_quantum_partite(\n",
    "    n_agents=n_agents,\n",
    "    n_layers=5,\n",
    "    name=f\"critic-quantum-joint\",\n",
    "    )\n",
    "optimizer_critic = [\n",
    "    keras.optimizers.Adam(learning_rate=1e-2),\n",
    "    keras.optimizers.Adam(learning_rate=1e-1),\n",
    "    keras.optimizers.Adam(learning_rate=1e-1),\n",
    "    ]\n",
    "\n",
    "\n",
    "model_critic.build((None, n_agents, 4))\n",
    "model_critic.summary()"
   ]
  },
  {
   "cell_type": "markdown",
   "metadata": {},
   "source": [
    "## Training"
   ]
  },
  {
   "cell_type": "code",
   "execution_count": 8,
   "metadata": {},
   "outputs": [
    {
     "name": "stdout",
     "output_type": "stream",
     "text": [
      "Training for 3000 episodes, press 'Ctrl+C' to terminate early\n"
     ]
    },
    {
     "name": "stderr",
     "output_type": "stream",
     "text": [
      "Episode 76:   3%|▎         | 76/3000 [00:42<57:59,  1.19s/episode, episode_reward=[56. 56.]]WARNING:tensorflow:5 out of the last 31 calls to <function Adjoint.differentiate_analytic at 0x1546f8280> triggered tf.function retracing. Tracing is expensive and the excessive number of tracings could be due to (1) creating @tf.function repeatedly in a loop, (2) passing tensors with different shapes, (3) passing Python objects instead of tensors. For (1), please define your @tf.function outside of the loop. For (2), @tf.function has experimental_relax_shapes=True option that relaxes argument shapes that can avoid unnecessary retracing. For (3), please refer to https://www.tensorflow.org/guide/function#controlling_retracing and https://www.tensorflow.org/api_docs/python/tf/function for  more details.\n",
      "Episode 92:   3%|▎         | 92/3000 [00:52<36:00,  1.35episode/s, episode_reward=[25. 25.]]WARNING:tensorflow:5 out of the last 25 calls to <function Adjoint.differentiate_analytic at 0x1546f8280> triggered tf.function retracing. Tracing is expensive and the excessive number of tracings could be due to (1) creating @tf.function repeatedly in a loop, (2) passing tensors with different shapes, (3) passing Python objects instead of tensors. For (1), please define your @tf.function outside of the loop. For (2), @tf.function has experimental_relax_shapes=True option that relaxes argument shapes that can avoid unnecessary retracing. For (3), please refer to https://www.tensorflow.org/guide/function#controlling_retracing and https://www.tensorflow.org/api_docs/python/tf/function for  more details.\n",
      "Episode 2066:  69%|██████▉   | 2066/3000 [59:12<26:46,  1.72s/episode, episode_reward=[16. 16.]]    "
     ]
    },
    {
     "name": "stdout",
     "output_type": "stream",
     "text": [
      "Terminating early at episode 2066\n"
     ]
    },
    {
     "name": "stderr",
     "output_type": "stream",
     "text": [
      "\n"
     ]
    }
   ],
   "source": [
    "gamma = 0.99\n",
    "alpha = 0.001\n",
    "env = gym.vector.make('CartPole-v1', num_envs=n_agents)\n",
    "\n",
    "algo = eqmarl.algorithms.MAA2C(\n",
    "    env=env,\n",
    "    model_actor=model_actor,\n",
    "    model_critic=model_critic,\n",
    "    optimizer_actor=optimizer_actor,\n",
    "    optimizer_critic=optimizer_critic,\n",
    "    gamma=gamma,\n",
    "    alpha=alpha,\n",
    "    )\n",
    "\n",
    "reward_history, metrics_history = algo.train(n_episodes=3000, max_steps_per_episode=500)"
   ]
  },
  {
   "cell_type": "code",
   "execution_count": 9,
   "metadata": {},
   "outputs": [
    {
     "data": {
      "text/plain": [
       "[<matplotlib.lines.Line2D at 0x156eb2dc0>,\n",
       " <matplotlib.lines.Line2D at 0x156eb2f70>]"
      ]
     },
     "execution_count": 9,
     "metadata": {},
     "output_type": "execute_result"
    },
    {
     "data": {
      "image/png": "[encoded data removed]",
      "text/plain": [
       "<Figure size 640x480 with 1 Axes>"
      ]
     },
     "metadata": {},
     "output_type": "display_data"
    }
   ],
   "source": [
    "plt.plot(reward_history)"
   ]
  },
  {
   "cell_type": "code",
   "execution_count": null,
   "metadata": {},
   "outputs": [],
   "source": []
  }
 ],
 "metadata": {
  "kernelspec": {
   "display_name": "qml",
   "language": "python",
   "name": "python3"
  },
  "language_info": {
   "codemirror_mode": {
    "name": "ipython",
    "version": 3
   },
   "file_extension": ".py",
   "mimetype": "text/x-python",
   "name": "python",
   "nbconvert_exporter": "python",
   "pygments_lexer": "ipython3",
   "version": "3.9.18"
  }
 },
 "nbformat": 4,
 "nbformat_minor": 2
}
