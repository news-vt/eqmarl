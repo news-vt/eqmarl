{
 "cells": [
  {
   "cell_type": "markdown",
   "metadata": {},
   "source": [
    "# CartPole solver using Policy Gradient (PG) with a single classical policy."
   ]
  },
  {
   "cell_type": "code",
   "execution_count": 1,
   "metadata": {},
   "outputs": [],
   "source": [
    "%load_ext autoreload\n",
    "%autoreload 2"
   ]
  },
  {
   "cell_type": "code",
   "execution_count": 2,
   "metadata": {},
   "outputs": [
    {
     "name": "stderr",
     "output_type": "stream",
     "text": [
      "2024-02-01 13:04:48.272837: I tensorflow/core/platform/cpu_feature_guard.cc:151] This TensorFlow binary is optimized with oneAPI Deep Neural Network Library (oneDNN) to use the following CPU instructions in performance-critical operations:  AVX2 FMA\n",
      "To enable them in other operations, rebuild TensorFlow with the appropriate compiler flags.\n"
     ]
    }
   ],
   "source": [
    "# import os\n",
    "# os.environ[\"CUDA_VISIBLE_DEVICES\"] = \"-1\"\n",
    "# os.environ['TF_CPP_MIN_LOG_LEVEL'] = '2'\n",
    "\n",
    "# import warnings\n",
    "# warnings.filterwarnings('error', message=r\".*complex128.*\")\n",
    "# warnings.simplefilter('module')\n",
    "\n",
    "# from silence_tensorflow import silence_tensorflow\n",
    "# silence_tensorflow()\n",
    "\n",
    "import eqmarl\n",
    "import matplotlib.pyplot as plt\n",
    "import gymnasium as gym\n",
    "import tensorflow.keras as keras\n",
    "import tensorflow as tf"
   ]
  },
  {
   "cell_type": "code",
   "execution_count": 3,
   "metadata": {},
   "outputs": [
    {
     "data": {
      "text/plain": [
       "[]"
      ]
     },
     "execution_count": 3,
     "metadata": {},
     "output_type": "execute_result"
    }
   ],
   "source": [
    "# # Disable GPUs.\n",
    "# tf.config.set_visible_devices([], 'GPU')\n",
    "\n",
    "# List any available GPUs.\n",
    "tf.config.list_physical_devices('GPU')"
   ]
  },
  {
   "cell_type": "code",
   "execution_count": 4,
   "metadata": {},
   "outputs": [],
   "source": [
    "import numpy as np\n",
    "\n",
    "state_bounds = tf.convert_to_tensor(np.array([2.4, 2.5, 0.21, 2.5], dtype='float32'))\n",
    "\n",
    "def generate_model_policy_classical(n_actions: int, units: list[int], activation: str = 'relu', **kwargs) -> keras.Model:\n",
    "    assert type(units) == list, 'units must be a list of integers'\n",
    "    layers = []\n",
    "    layers += [keras.layers.Lambda(lambda x: x/state_bounds)] # Normalizes input states.]\n",
    "    layers += [keras.layers.Flatten()]\n",
    "    layers += [keras.layers.Dense(u, activation=activation) for u in units]\n",
    "    layers += [keras.layers.Dense(n_actions, activation='softmax', name='policy')] # Policy estimation pi(a|s)\n",
    "    model = keras.Sequential(layers=layers, **kwargs)\n",
    "    return model"
   ]
  },
  {
   "cell_type": "code",
   "execution_count": 5,
   "metadata": {},
   "outputs": [],
   "source": [
    "n_actions = 2"
   ]
  },
  {
   "cell_type": "code",
   "execution_count": 6,
   "metadata": {},
   "outputs": [
    {
     "name": "stdout",
     "output_type": "stream",
     "text": [
      "Model: \"policy-classical\"\n",
      "_________________________________________________________________\n",
      " Layer (type)                Output Shape              Param #   \n",
      "=================================================================\n",
      " lambda (Lambda)             (None, 4)                 0         \n",
      "                                                                 \n",
      " flatten (Flatten)           (None, 4)                 0         \n",
      "                                                                 \n",
      " dense (Dense)               (None, 128)               640       \n",
      "                                                                 \n",
      " policy (Dense)              (None, 2)                 258       \n",
      "                                                                 \n",
      "=================================================================\n",
      "Total params: 898\n",
      "Trainable params: 898\n",
      "Non-trainable params: 0\n",
      "_________________________________________________________________\n"
     ]
    }
   ],
   "source": [
    "# Classical policy.\n",
    "model_policy = generate_model_policy_classical(\n",
    "    n_actions=n_actions,\n",
    "    units=[128],\n",
    "    name=f\"policy-classical\"\n",
    "    )\n",
    "optimizer_policy = keras.optimizers.Adam(learning_rate=0.01)\n",
    "\n",
    "model_policy.build((None, 4))\n",
    "model_policy.summary()"
   ]
  },
  {
   "cell_type": "markdown",
   "metadata": {},
   "source": [
    "## Training"
   ]
  },
  {
   "cell_type": "code",
   "execution_count": 7,
   "metadata": {},
   "outputs": [
    {
     "name": "stdout",
     "output_type": "stream",
     "text": [
      "Training for 1000 episodes, press 'Ctrl+C' to terminate early\n"
     ]
    },
    {
     "name": "stderr",
     "output_type": "stream",
     "text": [
      "Episode 0:   0%|          | 0/1000 [00:00<?, ?episode/s]"
     ]
    },
    {
     "name": "stderr",
     "output_type": "stream",
     "text": [
      "Episode 100:  10%|█         | 100/1000 [00:41<06:15,  2.39episode/s, episode_reward=500]"
     ]
    },
    {
     "name": "stdout",
     "output_type": "stream",
     "text": [
      "Terminating early at episode 100\n"
     ]
    },
    {
     "name": "stderr",
     "output_type": "stream",
     "text": [
      "\n"
     ]
    }
   ],
   "source": [
    "gamma = 0.99\n",
    "env = gym.make('CartPole-v1')\n",
    "\n",
    "algo = eqmarl.algorithms.PG(\n",
    "    env=env,\n",
    "    model_policy=model_policy,\n",
    "    optimizer_policy=optimizer_policy,\n",
    "    gamma=gamma,\n",
    "    )\n",
    "\n",
    "reward_history, metrics_history = algo.train(n_episodes=1000, max_steps_per_episode=500)"
   ]
  },
  {
   "cell_type": "code",
   "execution_count": 8,
   "metadata": {},
   "outputs": [
    {
     "data": {
      "text/plain": [
       "[<matplotlib.lines.Line2D at 0x14df79730>]"
      ]
     },
     "execution_count": 8,
     "metadata": {},
     "output_type": "execute_result"
    },
    {
     "data": {
      "image/png": "[encoded data removed]",
      "text/plain": [
       "<Figure size 640x480 with 1 Axes>"
      ]
     },
     "metadata": {},
     "output_type": "display_data"
    }
   ],
   "source": [
    "plt.plot(reward_history)"
   ]
  },
  {
   "cell_type": "code",
   "execution_count": null,
   "metadata": {},
   "outputs": [],
   "source": []
  }
 ],
 "metadata": {
  "kernelspec": {
   "display_name": "qml",
   "language": "python",
   "name": "python3"
  },
  "language_info": {
   "codemirror_mode": {
    "name": "ipython",
    "version": 3
   },
   "file_extension": ".py",
   "mimetype": "text/x-python",
   "name": "python",
   "nbconvert_exporter": "python",
   "pygments_lexer": "ipython3",
   "version": "3.9.18"
  }
 },
 "nbformat": 4,
 "nbformat_minor": 2
}
