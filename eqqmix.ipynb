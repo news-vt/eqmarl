{
 "cells": [
  {
   "cell_type": "markdown",
   "metadata": {},
   "source": [
    "# eQQMIX : Entangled Quantum QMIX Algorithm -- eQVDN\n",
    "\n",
    "Multi-agent learning by deriving $Q_{tot}$ from GHZ-entangled agent PQCs and joint measurements."
   ]
  },
  {
   "cell_type": "code",
   "execution_count": null,
   "metadata": {},
   "outputs": [],
   "source": []
  }
 ],
 "metadata": {
  "language_info": {
   "name": "python"
  }
 },
 "nbformat": 4,
 "nbformat_minor": 2
}
