{
 "cells": [
  {
   "cell_type": "markdown",
   "metadata": {},
   "source": [
    "# eQQMIX : Entangled Quantum QMIX Algorithm -- eQVDN\n",
    "\n",
    "Multi-agent learning by deriving $Q_{tot}$ from GHZ-entangled agent PQCs and joint measurements.\n",
    "\n",
    "Inspired by the tutorial: https://www.tensorflow.org/quantum/tutorials/quantum_reinforcement_learning#3_deep_q-learning_with_pqc_q-function_approximators"
   ]
  },
  {
   "cell_type": "code",
   "execution_count": 84,
   "metadata": {},
   "outputs": [
    {
     "name": "stdout",
     "output_type": "stream",
     "text": [
      "The autoreload extension is already loaded. To reload it, use:\n",
      "  %reload_ext autoreload\n"
     ]
    }
   ],
   "source": [
    "%load_ext autoreload\n",
    "%autoreload 2"
   ]
  },
  {
   "cell_type": "code",
   "execution_count": 85,
   "metadata": {},
   "outputs": [],
   "source": [
    "# import os\n",
    "# os.environ[\"CUDA_VISIBLE_DEVICES\"] = \"-1\"\n",
    "# os.environ['TF_CPP_MIN_LOG_LEVEL'] = '2'\n",
    "\n",
    "import warnings\n",
    "# warnings.filterwarnings('error', message=r\".*complex128.*\")\n",
    "# warnings.simplefilter('module')\n",
    "\n",
    "from silence_tensorflow import silence_tensorflow\n",
    "silence_tensorflow()\n",
    "\n",
    "from eqmarl import *\n",
    "import pennylane as qml\n",
    "import numpy as np\n",
    "import functools as ft\n",
    "import collections as cl\n",
    "import matplotlib.pyplot as plt\n",
    "from tensorflow import keras\n",
    "import tensorflow as tf\n",
    "import gymnasium as gym\n",
    "from pathlib import Path\n",
    "from PIL import Image"
   ]
  },
  {
   "cell_type": "code",
   "execution_count": 86,
   "metadata": {},
   "outputs": [
    {
     "data": {
      "text/plain": [
       "[PhysicalDevice(name='/physical_device:GPU:0', device_type='GPU')]"
      ]
     },
     "execution_count": 86,
     "metadata": {},
     "output_type": "execute_result"
    }
   ],
   "source": [
    "# # Disable GPUs.\n",
    "# tf.config.set_visible_devices([], 'GPU')\n",
    "\n",
    "# List any available GPUs.\n",
    "tf.config.list_physical_devices('GPU')"
   ]
  },
  {
   "cell_type": "code",
   "execution_count": 87,
   "metadata": {},
   "outputs": [
    {
     "name": "stdout",
     "output_type": "stream",
     "text": [
      "Name: PennyLane\n",
      "Version: 0.33.0\n",
      "Summary: PennyLane is a Python quantum machine learning library by Xanadu Inc.\n",
      "Home-page: https://github.com/PennyLaneAI/pennylane\n",
      "Author: \n",
      "Author-email: \n",
      "License: Apache License 2.0\n",
      "Location: /usr/local/Caskroom/miniforge/base/envs/qml/lib/python3.11/site-packages\n",
      "Requires: appdirs, autograd, autoray, cachetools, networkx, numpy, pennylane-lightning, requests, rustworkx, scipy, semantic-version, toml, typing-extensions\n",
      "Required-by: PennyLane-Cirq, PennyLane-Lightning\n",
      "\n",
      "Platform info:           macOS-14.1.1-x86_64-i386-64bit\n",
      "Python version:          3.11.6\n",
      "Numpy version:           1.23.5\n",
      "Scipy version:           1.11.3\n",
      "Installed devices:\n",
      "- default.gaussian (PennyLane-0.33.0)\n",
      "- default.mixed (PennyLane-0.33.0)\n",
      "- default.qubit (PennyLane-0.33.0)\n",
      "- default.qubit.autograd (PennyLane-0.33.0)\n",
      "- default.qubit.jax (PennyLane-0.33.0)\n",
      "- default.qubit.legacy (PennyLane-0.33.0)\n",
      "- default.qubit.tf (PennyLane-0.33.0)\n",
      "- default.qubit.torch (PennyLane-0.33.0)\n",
      "- default.qutrit (PennyLane-0.33.0)\n",
      "- null.qubit (PennyLane-0.33.0)\n",
      "- cirq.mixedsimulator (PennyLane-Cirq-0.33.0)\n",
      "- cirq.pasqal (PennyLane-Cirq-0.33.0)\n",
      "- cirq.qsim (PennyLane-Cirq-0.33.0)\n",
      "- cirq.qsimh (PennyLane-Cirq-0.33.0)\n",
      "- cirq.simulator (PennyLane-Cirq-0.33.0)\n",
      "- lightning.qubit (PennyLane-Lightning-0.33.1)\n"
     ]
    }
   ],
   "source": [
    "# List information about PennyLane plugins.\n",
    "qml.about()"
   ]
  },
  {
   "cell_type": "code",
   "execution_count": 88,
   "metadata": {},
   "outputs": [],
   "source": [
    "from time import perf_counter\n",
    "from contextlib import contextmanager\n",
    "\n",
    "@contextmanager\n",
    "def catchtime() -> float:\n",
    "    start = perf_counter()\n",
    "    yield lambda: perf_counter() - start\n",
    "\n",
    "\n",
    "# with catchtime() as t:\n",
    "#     import time\n",
    "#     time.sleep(1)\n",
    "\n",
    "# print(f\"Execution time: {t():.4f} secs\")"
   ]
  },
  {
   "cell_type": "code",
   "execution_count": null,
   "metadata": {},
   "outputs": [],
   "source": []
  },
  {
   "cell_type": "code",
   "execution_count": 89,
   "metadata": {},
   "outputs": [
    {
     "name": "stdout",
     "output_type": "stream",
     "text": [
      "weights_var.shape=(6, 4, 3)\n",
      "weights_enc.shape=(5, 4)\n"
     ]
    }
   ],
   "source": [
    "def one_qubit_rotation(qubit, symbols):\n",
    "    \"\"\"\n",
    "    Returns Cirq gates that apply a rotation of the bloch sphere about the X,\n",
    "    Y and Z axis, specified by the values in `symbols`.\n",
    "    \"\"\"\n",
    "    return [cirq.rx(symbols[0])(qubit),\n",
    "            cirq.ry(symbols[1])(qubit),\n",
    "            cirq.rz(symbols[2])(qubit)]\n",
    "\n",
    "def entangling_layer(qubits):\n",
    "    \"\"\"\n",
    "    Returns a layer of CZ entangling gates on `qubits` (arranged in a circular topology).\n",
    "    \"\"\"\n",
    "    cz_ops = [cirq.CZ(q0, q1) for q0, q1 in zip(qubits, qubits[1:])]\n",
    "    cz_ops += ([cirq.CZ(qubits[0], qubits[-1])] if len(qubits) != 2 else [])\n",
    "    return cz_ops\n",
    "\n",
    "def generate_circuit_cirq(wires, n_layers):\n",
    "    \n",
    "    if isinstance(wires, int):\n",
    "            wires = list(range(wires))\n",
    "    elif isinstance(wires, (list, tuple)):\n",
    "        wires = wires\n",
    "    else:\n",
    "        raise ValueError(f\"Wires must either be an integer, list, or tuple; got {wires}\")\n",
    "    \n",
    "    n_wires = len(wires)\n",
    "    qubits = cirq.LineQubit.range(n_wires)\n",
    "    \n",
    "    \n",
    "    ### Weights\n",
    "    weights_var = sympy.symbols(f'theta(0:{3*(n_layers+1)*n_wires})')\n",
    "    weights_var = np.asarray(weights_var).reshape((n_layers + 1, n_wires, 3))\n",
    "    #\n",
    "    weights_enc = sympy.symbols(f'x(0:{n_layers})'+f'_(0:{n_wires})')\n",
    "    weights_enc = np.asarray(weights_enc).reshape((n_layers, n_wires))\n",
    "    \n",
    "    print(f\"{weights_var.shape=}\")\n",
    "    print(f\"{weights_enc.shape=}\")\n",
    "    \n",
    "    circuit = cirq.Circuit()\n",
    "    for l in range(n_layers):\n",
    "        # Variational layer\n",
    "        circuit += cirq.Circuit(one_qubit_rotation(q, weights_var[l, i]) for i, q in enumerate(qubits))\n",
    "        circuit += entangling_layer(qubits)\n",
    "        # Encoding layer\n",
    "        circuit += cirq.Circuit(cirq.rx(weights_enc[l, i])(q) for i, q in enumerate(qubits))\n",
    "    \n",
    "    # Last varitional layer\n",
    "    circuit += cirq.Circuit(one_qubit_rotation(q, weights_var[n_layers, i]) for i, q in enumerate(qubits))\n",
    "    \n",
    "    return circuit, (weights_var, weights_enc)\n",
    "\n",
    "\n",
    "_, (cirq_weights_var, cirq_weights_enc) = generate_circuit_cirq(4, 5)\n",
    "\n",
    "# class CirqQuantumLayer(keras.layers.Layer):\n",
    "#     def __init__(self,\n",
    "#         wires: int | list[int],\n",
    "#         n_layers: int,\n",
    "#         observables: list | Callable[[list], list] | None = None,\n",
    "#         initial_state: list | Callable[[list], None] = None,\n",
    "#         ):\n",
    "#         super().__init__()\n",
    "        \n",
    "#         if isinstance(wires, int):\n",
    "#             wires = list(range(wires))\n",
    "#         elif isinstance(wires, (list, tuple)):\n",
    "#             wires = wires\n",
    "#         else:\n",
    "#             raise ValueError(f\"Wires must either be an integer, list, or tuple; got {wires}\")\n",
    "#         self.n_wires = len(wires)\n",
    "#         self.wires = wires"
   ]
  },
  {
   "cell_type": "code",
   "execution_count": 90,
   "metadata": {},
   "outputs": [],
   "source": [
    "device = qml.device('default.qubit')\n",
    "@qml.qnode(device=device)\n",
    "def quantum_circuit(wires, n_layers, observables, weights_var, weights_enc):\n",
    "    VariationalEncodingPQC(\n",
    "        weights_var=weights_var,\n",
    "        weights_enc=weights_enc,\n",
    "        n_layers=n_layers,\n",
    "        wires=wires,\n",
    "        )\n",
    "    if observables is not None:\n",
    "        res = [qml.expval(o) for o in observables]\n",
    "        return res\n",
    "\n",
    "class CustomQuantumLayer(keras.layers.Layer):\n",
    "    def __init__(self,\n",
    "        wires: int | list[int],\n",
    "        n_layers: int,\n",
    "        observables: list | Callable[[list], list] | None = None,\n",
    "        initial_state: list | Callable[[list], None] = None,\n",
    "        ):\n",
    "        super().__init__()\n",
    "        \n",
    "        if isinstance(wires, int):\n",
    "            wires = list(range(wires))\n",
    "        elif isinstance(wires, (list, tuple)):\n",
    "            wires = wires\n",
    "        else:\n",
    "            raise ValueError(f\"Wires must either be an integer, list, or tuple; got {wires}\")\n",
    "        self.n_wires = len(wires)\n",
    "        self.wires = wires\n",
    "        \n",
    "        self.set_observables(observables=observables)\n",
    "        \n",
    "        self.n_layers = n_layers\n",
    "        self.initial_state = initial_state\n",
    "        \n",
    "        \n",
    "        ### Create trainable variables for this layer.\n",
    "        shape_weights_var, shape_weights_enc = VariationalEncodingPQC.shape(\n",
    "            n_layers=n_layers,\n",
    "            wires=wires,\n",
    "            )\n",
    "        print(f'got shape: {(shape_weights_var, shape_weights_enc)=}')\n",
    "        \n",
    "        self.weights_var = tf.Variable(\n",
    "            initial_value=tf.random_uniform_initializer(minval=0., maxval=np.pi,)(shape=shape_weights_var, dtype='float32'),\n",
    "            trainable=True,\n",
    "            name='weights_var',\n",
    "            )\n",
    "        self.weights_enc = tf.Variable(\n",
    "            initial_value=tf.ones(shape=shape_weights_enc, dtype='float32'),\n",
    "            trainable=True,\n",
    "            name='weights_enc',\n",
    "            )\n",
    "        print('init vars')\n",
    "        \n",
    "        ### Build quantum circuit.\n",
    "        # self.q_device = qml.device('default.qubit', wires=wires)\n",
    "        # self.q_qnode = qml.QNode(self.quantum_circuit, device=self.q_device)\n",
    "        self.q_qnode = quantum_circuit\n",
    "        print('build circuit')\n",
    "        \n",
    "        \n",
    "    def call(self, inputs):\n",
    "        \n",
    "        inputs = tf.reshape(inputs, (-1, self.n_wires)) # Ensure shape is 2D with (batch, d_qubits)\n",
    "        \n",
    "        print('pre-einsum')\n",
    "        weights_enc = tf.einsum(\"lqf,bq->blqf\", self.weights_enc, inputs) # For each agent, encode each `input` state feature `q` on the `q-th` qubit and repeat encoding on same qubit for every layer `l`. Number of input features must match number of qubits.\n",
    "        print('post-einsum')\n",
    "        \n",
    "        weights_var = self.weights_var\n",
    "        \n",
    "        print('pre-eval')\n",
    "        # res = self.q_qnode(weights_var, weights_enc)\n",
    "        res = self.q_qnode(self.wires, self.n_layers, self.observables, weights_var, weights_enc)\n",
    "        print('post-eval')\n",
    "        res = tf.convert_to_tensor(res) # Ensure tensor.\n",
    "        res = tf.transpose(res) # Place batch dimension first.\n",
    "        # new_shape = tf.concat([batch_dim, tf.shape(res)[1:]], axis=0)\n",
    "        # res = tf.reshape(res, new_shape)\n",
    "        return res\n",
    "\n",
    "    def quantum_circuit(self, weights_var, weights_enc):\n",
    "        VariationalEncodingPQC(\n",
    "            weights_var=weights_var,\n",
    "            weights_enc=weights_enc,\n",
    "            n_layers=self.n_layers,\n",
    "            wires=self.wires,\n",
    "            )\n",
    "        return self.measure()\n",
    "    \n",
    "    def measure(self) -> list | None:\n",
    "        \"\"\"Returns list of expectations across all observables.\"\"\"\n",
    "        if self.observables is not None:\n",
    "            res = [qml.expval(o) for o in self.observables]\n",
    "            return res\n",
    "        \n",
    "        \n",
    "    def set_observables(self, observables: list | Callable[[list], list] | None = None):\n",
    "        \"\"\"Allows setting observables after circuit has been created.\"\"\"\n",
    "        if observables is None:\n",
    "            self.observables = None\n",
    "        elif hasattr(observables, '__iter__') and not isinstance(observables, str):\n",
    "            self.observables = np.asarray(observables).tolist() # Ensure type is a Python list.\n",
    "        elif isinstance(observables, Callable):\n",
    "            self.observables = np.asarray(observables(self.wires)).tolist() # Ensure type is a Python list.\n",
    "        else:\n",
    "            raise ValueError(f\"observables must either be a list or function; got `{observables}`\")\n",
    "        "
   ]
  },
  {
   "cell_type": "code",
   "execution_count": 91,
   "metadata": {},
   "outputs": [],
   "source": [
    "class Rescaling(keras.layers.Layer):\n",
    "    \"\"\"Learnable rescaling from range [-1, 1] to range [0, 1].\"\"\"\n",
    "    def __init__(self, input_dim):\n",
    "        super().__init__()\n",
    "        self.input_dim = input_dim\n",
    "        self.w = tf.Variable(\n",
    "            initial_value=tf.ones(shape=(1,input_dim)),\n",
    "            dtype='float32',\n",
    "            trainable=True,\n",
    "            name='obs-weights',\n",
    "            )\n",
    "        \n",
    "    def call(self, inputs):\n",
    "        # inputs = tf.math.abs(inputs)\n",
    "        # inputs = tf.cast(inputs, dtype='float32')\n",
    "        return tf.math.multiply(\n",
    "            (1+inputs)/2., # Rescale from [-1, 1] to range [0, 1].\n",
    "            tf.repeat(self.w, repeats=tf.shape(inputs)[0], axis=0),\n",
    "            )"
   ]
  },
  {
   "cell_type": "code",
   "execution_count": 92,
   "metadata": {},
   "outputs": [],
   "source": [
    "def generate_model_Qlearning(n_wires, n_layers, observables, is_target):\n",
    "    \n",
    "    circuit = AgentCircuit(\n",
    "        wires=n_wires,\n",
    "        n_layers=n_layers,\n",
    "        observables=observables,\n",
    "    )\n",
    "    # circuit = MARLCircuit(\n",
    "    #     n_agents=1,\n",
    "    #     d_qubits=4,\n",
    "    #     n_layers=n_layers,\n",
    "    #     observables=observables,\n",
    "    #     # initial_state=lambda wires: entangle_agents_phi_plus(wires, d_qubits, n_agents),\n",
    "    # )\n",
    "    # qnode = circuit.qnode(device='lightning.gpu', interface='tf') # Set interface to TensorFlow.\n",
    "    # tf_device_kwargs = dict(\n",
    "    #     name='default.qubit.tf',\n",
    "    #     tensorflow_device='cuda',\n",
    "    # )\n",
    "    # qnode = circuit.qnode(device=tf_device_kwargs, interface='tf', diff_method=\"backprop\") # Set interface to TensorFlow.\n",
    "    # qnode = circuit.qnode(device='default.qubit.tf', interface='tf', diff_method=\"backprop\") # Set interface to TensorFlow.\n",
    "    # qnode = circuit.qnode(device='lightning.qubit', interface='tf') # Set interface to TensorFlow.\n",
    "    # qnode = circuit.qnode(device='default.qubit', diff_method=\"adjoint\") # Set interface to TensorFlow.\n",
    "    # qnode = circuit.qnode(device='default.qubit', interface='tf') # Set interface to TensorFlow.\n",
    "    # qnode = circuit.qnode(device='cirq.simulator') # Set interface to TensorFlow.\n",
    "    qnode = circuit.qnode(device='default.qubit.tf', interface='tf') # Set interface to TensorFlow.\n",
    "    # qnode = circuit.qnode(device='cirq.simulator') # Set interface to TensorFlow.\n",
    "    # qnode = circuit.qnode(device='lightning.qubit', interface=None) # Set interface to TensorFlow.\n",
    "    \n",
    "    # qnode = qml.transforms.broadcast_expand(qnode)\n",
    "    \n",
    "    qlayer = circuit.get_keras_layer(name='ReUploadingPQC', qnode=qnode)\n",
    "\n",
    "    model = keras.Sequential([\n",
    "            keras.Input(shape=(n_wires,), dtype=tf.dtypes.float32, name='input'), # Shape of model input, which should match the observation vector shape.\n",
    "            qlayer,\n",
    "            # CustomQuantumLayer(n_wires, n_layers, observables),\n",
    "            # keras.layers.Lambda(lambda x: tf.math.abs(x)), # Convert complex to float via abs.\n",
    "            keras.layers.Activation('tanh'), # Ensure outputs of PQC are in range [-1, 1].\n",
    "            keras.Sequential([Rescaling(len(observables))], name=is_target*'Target'+'Q-values'),\n",
    "        ],\n",
    "        )\n",
    "    return model\n",
    "    "
   ]
  },
  {
   "cell_type": "code",
   "execution_count": 93,
   "metadata": {},
   "outputs": [
    {
     "data": {
      "text/plain": [
       "{'model': 'qubit',\n",
       " 'tensor_observables': True,\n",
       " 'supports_broadcasting': False,\n",
       " 'supports_finite_shots': True,\n",
       " 'supports_tensor_observables': True,\n",
       " 'returns_probs': True,\n",
       " 'returns_state': True}"
      ]
     },
     "execution_count": 93,
     "metadata": {},
     "output_type": "execute_result"
    }
   ],
   "source": [
    "qml.device('cirq.simulator', wires=4).capabilities()"
   ]
  },
  {
   "cell_type": "code",
   "execution_count": 94,
   "metadata": {},
   "outputs": [],
   "source": [
    "def generate_model_Qlearning_MARL(n_agents, d_qubits, n_layers, observables, is_target):\n",
    "\n",
    "    circuit = MARLCircuit(\n",
    "        n_agents=n_agents,\n",
    "        d_qubits=d_qubits,\n",
    "        n_layers=n_layers,\n",
    "        observables=observables,\n",
    "        initial_state=lambda wires: entangle_agents_phi_plus(wires, d_qubits, n_agents),\n",
    "    )\n",
    "    qnode = circuit.qnode(interface='tf') # Set interface to TensorFlow.\n",
    "    qlayer = circuit.get_keras_layer(name='MARL-ReUploadingPQCs', qnode=qnode)\n",
    "    \n",
    "    model = keras.Sequential([\n",
    "            # Input shape must be 1D into the quantum layer, so use (n_agents, d_qubits,) followed by a reshape layer.\n",
    "            keras.Input(shape=(n_agents, d_qubits,), dtype=tf.dtypes.float32, name='input'), # Shape of model input, which should match the combined observation vector shape for all agents.\n",
    "            keras.layers.Reshape(target_shape=(-1,)), # Ensure input to the quantum layer is 1D for total number of wires.\n",
    "            qlayer,\n",
    "            # keras.layers.Lambda(lambda x: tf.math.abs(x)), # Convert complex to float via abs.\n",
    "            keras.layers.Activation('tanh'), # Ensure outputs of PQC are in range [-1, 1].\n",
    "            keras.Sequential([Rescaling(len(observables))], name=is_target*'Target'+'Q-values'),\n",
    "        ],\n",
    "        )\n",
    "    return model, circuit\n",
    "    "
   ]
  },
  {
   "cell_type": "code",
   "execution_count": 95,
   "metadata": {},
   "outputs": [],
   "source": [
    "# env = gym.make('CartPole-v1')\n",
    "n_actions = 2 # because `env.action_space.n == 2`\n",
    "n_wires = 4 # because `env.observation_space.shape == (4,)`\n",
    "# input_shape = (4,) # Shape of model input, which should match the observation vector shape `env.observation_space.shape == (4,)`\n",
    "\n",
    "n_layers = 5 # Number of PQC layers.\n",
    "\n",
    "observables = np.array([\n",
    "    qml.PauliZ(wires=0) @ qml.PauliZ(wires=1), # Z0 Z1 (action 0 -- \"left\")\n",
    "    qml.PauliZ(wires=2) @ qml.PauliZ(wires=3), # Z2 Z3 (action 1 -- \"right\")\n",
    "    ])\n",
    "# observables = lambda wires: [\n",
    "#     qml.PauliZ(wires=0) @ qml.PauliZ(wires=1), # Z0 Z1 (action 0 -- \"left\")\n",
    "#     qml.PauliZ(wires=2) @ qml.PauliZ(wires=3), # Z2 Z3 (action 1 -- \"right\")\n",
    "#     ]\n",
    "\n",
    "circuit = AgentCircuit(\n",
    "    wires=n_wires,\n",
    "    n_layers=n_layers,\n",
    "    observables=observables,\n",
    ")\n",
    "\n",
    "# qnode = circuit.qnode(device='cirq.simulator')\n",
    "# qnode = qml.transforms.broadcast_expand(qnode)\n",
    "\n",
    "# print(qml.draw(qnode, wire_order=list(range(n_wires)))())"
   ]
  },
  {
   "cell_type": "code",
   "execution_count": 96,
   "metadata": {},
   "outputs": [
    {
     "name": "stdout",
     "output_type": "stream",
     "text": [
      "got shape: (shape_weights_var, shape_weights_enc)=((6, 4, 3), (5, 4, 1))\n"
     ]
    },
    {
     "name": "stdout",
     "output_type": "stream",
     "text": [
      "init vars\n",
      "build circuit\n",
      "pre-einsum\n",
      "post-einsum\n",
      "pre-eval\n",
      "post-eval\n"
     ]
    },
    {
     "data": {
      "text/plain": [
       "<tf.Tensor: shape=(16, 2), dtype=float64, numpy=\n",
       "array([[ 0.02244957, -0.15272183],\n",
       "       [-0.39600534,  0.10686855],\n",
       "       [-0.01517503,  0.13550406],\n",
       "       [-0.43501235, -0.04501883],\n",
       "       [-0.12202727, -0.04573747],\n",
       "       [-0.33118969, -0.25787647],\n",
       "       [-0.3487854 , -0.20212473],\n",
       "       [-0.68281436,  0.029862  ],\n",
       "       [-0.33301937, -0.08804562],\n",
       "       [-0.25348182, -0.06584507],\n",
       "       [-0.66484126,  0.33853128],\n",
       "       [ 0.02177291,  0.22383502],\n",
       "       [-0.51221907,  0.11221447],\n",
       "       [-0.50826028,  0.06346768],\n",
       "       [ 0.08330686,  0.3535901 ],\n",
       "       [-0.49244223,  0.26614106]])>"
      ]
     },
     "execution_count": 96,
     "metadata": {},
     "output_type": "execute_result"
    }
   ],
   "source": [
    "inputs = np.random.random(size=(16,4,))\n",
    "CustomQuantumLayer(wires=4, n_layers=5, observables=observables)(inputs)"
   ]
  },
  {
   "cell_type": "code",
   "execution_count": 97,
   "metadata": {},
   "outputs": [
    {
     "name": "stdout",
     "output_type": "stream",
     "text": [
      "setting weights\n"
     ]
    }
   ],
   "source": [
    "model = generate_model_Qlearning(\n",
    "    n_wires=n_wires,\n",
    "    n_layers=n_layers,\n",
    "    observables=observables,\n",
    "    is_target=False,\n",
    "    )\n",
    "\n",
    "model_target = generate_model_Qlearning(\n",
    "    n_wires=n_wires,\n",
    "    n_layers=n_layers,\n",
    "    observables=observables,\n",
    "    is_target=True,\n",
    "    )\n",
    "\n",
    "print('setting weights')\n",
    "model_target.set_weights(model.get_weights())"
   ]
  },
  {
   "cell_type": "code",
   "execution_count": 98,
   "metadata": {},
   "outputs": [],
   "source": [
    "# weights = model.layers[0].weights\n",
    "# inputs = tf.convert_to_tensor(tf.constant(np.random.random(size=(16, 4,)), dtype='float32'))\n",
    "# # inputs = [tf.convert_to_tensor(tf.constant(np.random.random(size=(4,)), dtype='float32')) for i in range(16)]\n",
    "\n",
    "# # print(qml.draw(circuit, wire_order=list(range(circuit.n_wires)))(*weights, inputs))\n",
    "# # circuit.qnode()(*weights, inputs)\n",
    "# qnode(*weights, [b for b in inputs])"
   ]
  },
  {
   "cell_type": "code",
   "execution_count": 99,
   "metadata": {},
   "outputs": [],
   "source": [
    "# tf.reduce_all(tf.reshape(tf.tile(weights[0], multiples=[16, 1, 1]), (16, 6, 4, 3))[0] == tf.reshape(tf.tile(weights[0], multiples=[16, 1, 1]), (16, 6, 4, 3))[-1])"
   ]
  },
  {
   "cell_type": "code",
   "execution_count": 100,
   "metadata": {},
   "outputs": [],
   "source": [
    "# model(inputs)"
   ]
  },
  {
   "cell_type": "code",
   "execution_count": 101,
   "metadata": {},
   "outputs": [],
   "source": [
    "observables_MARL = np.array([\n",
    "    qml.PauliZ(wires=0) @ qml.PauliZ(wires=1) @ qml.PauliZ(wires=4) @ qml.PauliZ(wires=5), # Z0 Z1 Z4 Z5 (action 0 -- \"left\")\n",
    "    # -(qml.PauliZ(wires=0) @ qml.PauliZ(wires=1) @ qml.PauliZ(wires=4) @ qml.PauliZ(wires=5)), # - Z0 Z1 Z4 Z5 (action 0 -- \"left\")\n",
    "    qml.PauliZ(wires=2) @ qml.PauliZ(wires=3) @ qml.PauliZ(wires=6) @ qml.PauliZ(wires=7), # Z2 Z3 Z6 Z7 (action 1 -- \"right\")\n",
    "    # -(qml.PauliZ(wires=2) @ qml.PauliZ(wires=3) @ qml.PauliZ(wires=6) @ qml.PauliZ(wires=7)), # - Z2 Z3 Z6 Z7 (action 1 -- \"right\")\n",
    "    ])\n",
    "\n",
    "model_MARL, circuit_MARL = generate_model_Qlearning_MARL(\n",
    "    n_agents=2,\n",
    "    d_qubits=4,\n",
    "    n_layers=n_layers,\n",
    "    observables=observables_MARL,\n",
    "    is_target=False,\n",
    "    )\n",
    "\n",
    "# model_MARL.layers[0].weights[1].shape\n",
    "\n",
    "# # Get shapes for weights of quantum layer.\n",
    "# [w.shape for w in model.layers[0].weights]"
   ]
  },
  {
   "cell_type": "code",
   "execution_count": 102,
   "metadata": {},
   "outputs": [],
   "source": [
    "# s = np.random.random(size=(3, 2, 4,))\n",
    "# model_MARL([s])"
   ]
  },
  {
   "cell_type": "code",
   "execution_count": 103,
   "metadata": {},
   "outputs": [
    {
     "data": {
      "text/plain": [
       "(TensorShape([6, 4, 3]), TensorShape([5, 4, 1]))"
      ]
     },
     "execution_count": 103,
     "metadata": {},
     "output_type": "execute_result"
    }
   ],
   "source": [
    "model.get_layer('ReUploadingPQC').weights[0].shape, model.get_layer('ReUploadingPQC').weights[1].shape"
   ]
  },
  {
   "cell_type": "code",
   "execution_count": 104,
   "metadata": {},
   "outputs": [
    {
     "data": {
      "text/plain": [
       "(TensorShape([2, 6, 4, 3]), TensorShape([2, 5, 4, 1]))"
      ]
     },
     "execution_count": 104,
     "metadata": {},
     "output_type": "execute_result"
    }
   ],
   "source": [
    "model_MARL.get_layer('MARL-ReUploadingPQCs').weights[0].shape, model_MARL.get_layer('MARL-ReUploadingPQCs').weights[1].shape"
   ]
  },
  {
   "cell_type": "code",
   "execution_count": 105,
   "metadata": {},
   "outputs": [],
   "source": [
    "# # Example override of MARL weights with weights from a local agent model.\n",
    "# aidx = 0 # Agent index to update.\n",
    "# updated_agents_weights_var = tf.stack([])\n",
    "# updated_agents_weights_var = model_MARL.get_layer('MARL-ReUploadingPQCs').weights[0]\n",
    "# # updated_agents_weights_var.scatter_update(model.get_layer('ReUploadingPQC').weights[0][:])\n",
    "# # updated_agents_weights_var = tf.tensor_scatter_nd_update(updated_agents_weights_var, [[aidx, 6, 4, 3]], model.get_layer('ReUploadingPQC').weights[0])\n",
    "# # updated_agents_weights_var[aidx].assign(model.get_layer('ReUploadingPQC').weights[0])\n",
    "# # updated_agents_weights_enc = model_MARL.get_layer('MARL-ReUploadingPQCs').weights[1]\n",
    "# # updated_agents_weights_enc[aidx].assign(model.get_layer('ReUploadingPQC').weights[1])\n",
    "# # updated_agents_weights_enc\n",
    "# updated_agents_weights_var\n",
    "# # model_MARL.get_layer('MARL-ReUploadingPQCs').set_weights([updated_agents_weights_var, updated_agents_weights_enc])"
   ]
  },
  {
   "cell_type": "code",
   "execution_count": 106,
   "metadata": {},
   "outputs": [],
   "source": [
    "# tf.reduce_all(model_MARL.get_layer('MARL-ReUploadingPQCs').get_weights()[aidx][0] == model.get_layer('ReUploadingPQC').weights[0])\n",
    "# tf.reduce_all(model_MARL.get_layer('MARL-ReUploadingPQCs').get_weights()[aidx][1] == model.get_layer('ReUploadingPQC').weights[1])"
   ]
  },
  {
   "cell_type": "code",
   "execution_count": 107,
   "metadata": {},
   "outputs": [],
   "source": [
    "# model_MARL.get_layer('MARL-ReUploadingPQCs').get_weights()[aidx][1].shape, model.get_layer('ReUploadingPQC').weights[1].shape"
   ]
  },
  {
   "cell_type": "code",
   "execution_count": 108,
   "metadata": {},
   "outputs": [
    {
     "data": {
      "image/png": "[encoded data removed]",
      "text/plain": [
       "<IPython.core.display.Image object>"
      ]
     },
     "execution_count": 108,
     "metadata": {},
     "output_type": "execute_result"
    }
   ],
   "source": [
    "tf.keras.utils.plot_model(model_MARL, show_shapes=True, dpi=70, to_file=\"model_MARL.png\")"
   ]
  },
  {
   "cell_type": "code",
   "execution_count": 109,
   "metadata": {},
   "outputs": [
    {
     "data": {
      "text/plain": [
       "(<Figure size 1200x900 with 1 Axes>, <Axes: >)"
      ]
     },
     "execution_count": 109,
     "metadata": {},
     "output_type": "execute_result"
    },
    {
     "data": {
      "image/png": "[encoded data removed]",
      "text/plain": [
       "<Figure size 1200x900 with 1 Axes>"
      ]
     },
     "metadata": {},
     "output_type": "display_data"
    }
   ],
   "source": [
    "# print(qml.draw(circuit, wire_order=list(range(circuit.n_wires)))(*model.layers[0].weights))\n",
    "qml.draw_mpl(circuit_MARL, wire_order=list(range(circuit.n_wires)))(*model_MARL.layers[1].weights)"
   ]
  },
  {
   "cell_type": "code",
   "execution_count": 110,
   "metadata": {},
   "outputs": [
    {
     "data": {
      "image/png": "[encoded data removed]",
      "text/plain": [
       "<IPython.core.display.Image object>"
      ]
     },
     "execution_count": 110,
     "metadata": {},
     "output_type": "execute_result"
    }
   ],
   "source": [
    "tf.keras.utils.plot_model(model, show_shapes=True, dpi=70, to_file=\"model_classic.png\")"
   ]
  },
  {
   "cell_type": "code",
   "execution_count": 111,
   "metadata": {},
   "outputs": [
    {
     "data": {
      "image/png": "[encoded data removed]",
      "text/plain": [
       "<IPython.core.display.Image object>"
      ]
     },
     "execution_count": 111,
     "metadata": {},
     "output_type": "execute_result"
    }
   ],
   "source": [
    "tf.keras.utils.plot_model(model_target, show_shapes=True, dpi=70, to_file=\"model_classic_target.png\")"
   ]
  },
  {
   "cell_type": "code",
   "execution_count": 112,
   "metadata": {},
   "outputs": [
    {
     "name": "stdout",
     "output_type": "stream",
     "text": [
      "Model: \"sequential_8\"\n",
      "_________________________________________________________________\n",
      " Layer (type)                Output Shape              Param #   \n",
      "=================================================================\n",
      " ReUploadingPQC (KerasLayer)  (None, 2)                92        \n",
      "                                                                 \n",
      " activation_8 (Activation)   (None, 2)                 0         \n",
      "                                                                 \n",
      " Q-values (Sequential)       (None, 2)                 2         \n",
      "                                                                 \n",
      "=================================================================\n",
      "Total params: 94\n",
      "Trainable params: 94\n",
      "Non-trainable params: 0\n",
      "_________________________________________________________________\n"
     ]
    }
   ],
   "source": [
    "model.summary()"
   ]
  },
  {
   "cell_type": "code",
   "execution_count": 113,
   "metadata": {},
   "outputs": [],
   "source": [
    "# ### Visualize the circuit.\n",
    "# weight_shapes = circuit.weight_shapes\n",
    "# weights = {\n",
    "#     k: np.random.uniform(low=0., high=np.pi, size=s)\n",
    "#     for k, s in weight_shapes.items()\n",
    "# }\n",
    "# # shape_var, shape_enc = circuit.shape\n",
    "# # weights_var = np.random.uniform(low=0., high=np.pi, size=shape_var)\n",
    "# # weights_enc = np.random.uniform(low=0., high=np.pi, size=shape_enc)\n",
    "# print(qml.draw(circuit, wire_order=circuit.wires)(**weights))"
   ]
  },
  {
   "cell_type": "code",
   "execution_count": 114,
   "metadata": {},
   "outputs": [],
   "source": [
    "def interact_env(state, model, epsilon, n_actions, env):\n",
    "    # state_shape = state.shape\n",
    "    # state = np.asarray(state).reshape((1, *state_shape)) # Reshape to (1, features) so that batch_size=1.\n",
    "    # state = tf.convert_to_tensor([state]) # Reshape to (1, features) so that batch_size=1.\n",
    "    state = np.asarray(state).reshape((1, 4)) # Reshape to (1, features) so that batch_size=1.\n",
    "    \n",
    "    # Select action.\n",
    "    coin = np.random.random()\n",
    "    if coin > epsilon: # Epsilon-greedy\n",
    "        q_vals = model([state])\n",
    "        action = int(tf.argmax(q_vals[0]).numpy())\n",
    "    else: # Random action.\n",
    "        action = np.random.choice(n_actions)\n",
    "    \n",
    "    next_state, reward, done, _, _ = env.step(action)\n",
    "    next_state = np.asarray(next_state).reshape(state.shape)\n",
    "    \n",
    "    return dict(\n",
    "        state=state,\n",
    "        action=action,\n",
    "        reward=reward,\n",
    "        next_state=next_state,\n",
    "        done=done,\n",
    "    )"
   ]
  },
  {
   "cell_type": "code",
   "execution_count": 115,
   "metadata": {},
   "outputs": [],
   "source": [
    "gamma = 0.99\n",
    "n_episodes = 2000\n",
    "\n",
    "# Define replay memory\n",
    "max_memory_length = 10000 # Maximum replay length\n",
    "replay_memory = cl.deque(maxlen=max_memory_length)\n",
    "\n",
    "epsilon = 1.0  # Epsilon greedy parameter\n",
    "epsilon_min = 0.01  # Minimum epsilon greedy parameter\n",
    "decay_epsilon = 0.99 # Decay rate of epsilon greedy parameter\n",
    "batch_size = 16\n",
    "steps_per_update = 10 # Train the model every x steps\n",
    "steps_per_target_update = 30 # Update the target model every x steps\n",
    "\n",
    "optimizer_in = tf.keras.optimizers.Adam(learning_rate=0.001, amsgrad=True)\n",
    "optimizer_var = tf.keras.optimizers.Adam(learning_rate=0.001, amsgrad=True)\n",
    "optimizer_out = tf.keras.optimizers.Adam(learning_rate=0.1, amsgrad=True)\n",
    "\n",
    "# Assign the model parameters to each optimizer\n",
    "w_in, w_var, w_out = 1, 0, 2\n",
    "\n",
    "optimizer_w_tups = list(zip([optimizer_in, optimizer_var, optimizer_out], [w_in, w_var, w_out]))"
   ]
  },
  {
   "cell_type": "code",
   "execution_count": 116,
   "metadata": {},
   "outputs": [],
   "source": [
    "### Q-learning update function.\n",
    "\n",
    "# @tf.function\n",
    "def Q_learning_update(states, actions, rewards, next_states, done, model, model_target, gamma, n_actions, optimizer_w_tups):\n",
    "    \n",
    "    states = tf.convert_to_tensor(states)\n",
    "    actions = tf.convert_to_tensor(actions)\n",
    "    rewards = tf.convert_to_tensor(rewards)\n",
    "    next_states = tf.convert_to_tensor(next_states)\n",
    "    done = tf.convert_to_tensor(done)\n",
    "\n",
    "    # Compute target Q-values and masks on sampled actions.\n",
    "    # with catchtime() as t:\n",
    "    future_rewards = model_target([next_states])\n",
    "    target_q_values = rewards + (gamma * tf.reduce_max(future_rewards, axis=1) * (1. - done))\n",
    "    # print(f\"{target_q_values=}\")\n",
    "    # print(f\"[target_q_values] Execution time: {t():.4f} secs\")\n",
    "    \n",
    "    masks = tf.one_hot(actions, n_actions)\n",
    "    # print(f\"{actions=}\")\n",
    "    # print(f\"{masks=}\")\n",
    "    \n",
    "    \n",
    "    # with catchtime() as t:\n",
    "    # Train the model using target Q-values.\n",
    "    with tf.GradientTape() as tape:\n",
    "        tape.watch(model.trainable_variables)\n",
    "        # with catchtime() as t1:\n",
    "        q_values = model([states])\n",
    "        # print(f\"[tape:eval] Execution time: {t1():.4f} secs\")\n",
    "        # print(f\"{q_values=}\")\n",
    "        q_values_masked = tf.reduce_sum(tf.multiply(q_values, masks), axis=1)\n",
    "        # print(f\"{q_values_masked=}\")\n",
    "        loss = tf.keras.losses.Huber()(target_q_values, q_values_masked)\n",
    "    # print(f\"[tape] Execution time: {t():.4f} secs\")\n",
    "        \n",
    "    # with catchtime() as t:\n",
    "    # Backprop.\n",
    "    grads = tape.gradient(loss, model.trainable_variables)\n",
    "    for optimizer, w in optimizer_w_tups:\n",
    "        optimizer.apply_gradients([(grads[w], model.trainable_variables[w])])\n",
    "    # print(f\"[backprop] Execution time: {t():.4f} secs\")\n",
    "        \n",
    "    # # print(f\"{loss=}\")\n",
    "    # # print(f\"{grads=}\")\n",
    "    # # print(f\"{masks=}\")\n",
    "    # print(f\"{target_q_values=}\")\n",
    "    # print(f\"{q_values=}\")\n",
    "    # print(f\"{loss=}\")\n",
    "    # print(f\"{grads=}\")"
   ]
  },
  {
   "cell_type": "code",
   "execution_count": 117,
   "metadata": {},
   "outputs": [],
   "source": [
    "###### NEW Q-LEARNING UPDATE\n",
    "# @tf.function\n",
    "def Q_learning_update_new(states, actions, rewards, next_states, done, model, gamma, n_actions):\n",
    "    states = tf.convert_to_tensor(states)\n",
    "    actions = tf.convert_to_tensor(actions)\n",
    "    rewards = tf.convert_to_tensor(rewards)\n",
    "    next_states = tf.convert_to_tensor(next_states)\n",
    "    done = tf.convert_to_tensor(done)\n",
    "\n",
    "    # Compute their target q_values and the masks on sampled actions\n",
    "    future_rewards = model_target([next_states])\n",
    "    target_q_values = rewards + (gamma * tf.reduce_max(future_rewards, axis=1)\n",
    "                                                   * (1.0 - done))\n",
    "    masks = tf.one_hot(actions, n_actions)\n",
    "\n",
    "    # Train the model on the states and target Q-values\n",
    "    with catchtime() as t:\n",
    "        with tf.GradientTape() as tape:\n",
    "            tape.watch(model.trainable_variables)\n",
    "            q_values = model([states])\n",
    "            q_values_masked = tf.reduce_sum(tf.multiply(q_values, masks), axis=1)\n",
    "            loss = tf.keras.losses.Huber()(target_q_values, q_values_masked)\n",
    "    # print(f\"[tape] Execution time: {t():.4f} secs\")\n",
    "\n",
    "    # Backpropagation\n",
    "    with catchtime() as t:\n",
    "        grads = tape.gradient(loss, model.trainable_variables)\n",
    "        for optimizer, w in zip([optimizer_in, optimizer_var, optimizer_out], [w_in, w_var, w_out]):\n",
    "            optimizer.apply_gradients([(grads[w], model.trainable_variables[w])])\n",
    "    # print(f\"[backprop] Execution time: {t():.4f} secs\")\n",
    "    \n",
    "    \n",
    "    # # print(f\"{masks=}\")\n",
    "    # print(f\"{target_q_values=}\")\n",
    "    # print(f\"{q_values=}\")\n",
    "    # print(f\"{loss=}\")\n",
    "    # print(f\"{grads=}\")\n",
    "###### NEW Q-LEARNING UPDATE"
   ]
  },
  {
   "cell_type": "code",
   "execution_count": 118,
   "metadata": {},
   "outputs": [
    {
     "name": "stdout",
     "output_type": "stream",
     "text": [
      "<tf.Variable 'weights_var:0' shape=(6, 4, 3) dtype=float32, numpy=\n",
      "array([[[0.9795265 , 2.5960279 , 2.1518202 ],\n",
      "        [0.02107726, 2.473989  , 1.2272667 ],\n",
      "        [0.919326  , 3.1169918 , 3.0099733 ],\n",
      "        [1.7474581 , 0.51730394, 0.42240947]],\n",
      "\n",
      "       [[0.41562828, 1.6801547 , 1.7935408 ],\n",
      "        [1.6012857 , 1.5158921 , 0.48947695],\n",
      "        [1.1634032 , 1.5459988 , 1.7813333 ],\n",
      "        [0.6525358 , 0.57252014, 3.1379402 ]],\n",
      "\n",
      "       [[1.160837  , 1.1915387 , 2.4262888 ],\n",
      "        [2.1429353 , 1.2545271 , 2.4632328 ],\n",
      "        [2.132518  , 2.3058002 , 1.7342987 ],\n",
      "        [0.34395775, 2.0382597 , 3.10728   ]],\n",
      "\n",
      "       [[2.577254  , 2.2138915 , 3.009214  ],\n",
      "        [0.07217575, 2.9404893 , 2.0462024 ],\n",
      "        [0.9947409 , 0.00350464, 2.8940952 ],\n",
      "        [1.2009699 , 2.426756  , 2.8750033 ]],\n",
      "\n",
      "       [[1.8067718 , 2.4923575 , 1.3476688 ],\n",
      "        [0.60064   , 2.3412738 , 1.3119922 ],\n",
      "        [2.5677843 , 0.6319979 , 2.028576  ],\n",
      "        [0.51786757, 1.4087288 , 1.9031417 ]],\n",
      "\n",
      "       [[2.563901  , 1.2973688 , 0.82717633],\n",
      "        [0.5996543 , 2.39762   , 2.6201646 ],\n",
      "        [1.5534462 , 2.1571178 , 0.9432915 ],\n",
      "        [0.8397294 , 2.6197484 , 1.9788439 ]]], dtype=float32)>\n",
      "<tf.Variable 'weights_enc:0' shape=(5, 4, 1) dtype=float32, numpy=\n",
      "array([[[1.],\n",
      "        [1.],\n",
      "        [1.],\n",
      "        [1.]],\n",
      "\n",
      "       [[1.],\n",
      "        [1.],\n",
      "        [1.],\n",
      "        [1.]],\n",
      "\n",
      "       [[1.],\n",
      "        [1.],\n",
      "        [1.],\n",
      "        [1.]],\n",
      "\n",
      "       [[1.],\n",
      "        [1.],\n",
      "        [1.],\n",
      "        [1.]],\n",
      "\n",
      "       [[1.],\n",
      "        [1.],\n",
      "        [1.],\n",
      "        [1.]]], dtype=float32)>\n",
      "<tf.Variable 'obs-weights:0' shape=(1, 2) dtype=float32, numpy=array([[1., 1.]], dtype=float32)>\n"
     ]
    }
   ],
   "source": [
    "original_trainable_variables = model.trainable_variables # Preserve\n",
    "for v in original_trainable_variables: print(v)"
   ]
  },
  {
   "cell_type": "code",
   "execution_count": 119,
   "metadata": {},
   "outputs": [
    {
     "data": {
      "text/plain": [
       "TensorShape([16, 20])"
      ]
     },
     "execution_count": 119,
     "metadata": {},
     "output_type": "execute_result"
    }
   ],
   "source": [
    "x = np.random.random(size=(16, 4,))\n",
    "tf.tile(x, multiples=[1, 5]).shape"
   ]
  },
  {
   "cell_type": "code",
   "execution_count": 120,
   "metadata": {},
   "outputs": [
    {
     "name": "stdout",
     "output_type": "stream",
     "text": [
      "Episode 10/2000, average last 10 rewards 15.2\n",
      "Episode 20/2000, average last 10 rewards 21.7\n",
      "Episode 30/2000, average last 10 rewards 23.4\n",
      "Episode 40/2000, average last 10 rewards 18.7\n",
      "Episode 50/2000, average last 10 rewards 31.8\n",
      "Episode 60/2000, average last 10 rewards 33.7\n",
      "Episode 70/2000, average last 10 rewards 36.6\n",
      "Episode 80/2000, average last 10 rewards 43.6\n",
      "Episode 90/2000, average last 10 rewards 47.0\n",
      "Episode 100/2000, average last 10 rewards 53.6\n",
      "Episode 110/2000, average last 10 rewards 46.5\n",
      "Episode 120/2000, average last 10 rewards 46.3\n",
      "Episode 130/2000, average last 10 rewards 38.8\n",
      "Episode 140/2000, average last 10 rewards 40.4\n",
      "Episode 150/2000, average last 10 rewards 36.2\n",
      "Episode 160/2000, average last 10 rewards 42.5\n",
      "Episode 170/2000, average last 10 rewards 40.5\n",
      "Episode 180/2000, average last 10 rewards 40.1\n",
      "Episode 190/2000, average last 10 rewards 45.2\n",
      "Episode 200/2000, average last 10 rewards 42.7\n",
      "Episode 210/2000, average last 10 rewards 38.9\n",
      "Episode 220/2000, average last 10 rewards 37.3\n",
      "Episode 230/2000, average last 10 rewards 36.0\n",
      "Episode 240/2000, average last 10 rewards 34.2\n"
     ]
    },
    {
     "ename": "KeyboardInterrupt",
     "evalue": "",
     "output_type": "error",
     "traceback": [
      "\u001b[0;31m---------------------------------------------------------------------------\u001b[0m",
      "\u001b[0;31mKeyboardInterrupt\u001b[0m                         Traceback (most recent call last)",
      "Cell \u001b[0;32mIn[120], line 15\u001b[0m\n\u001b[1;32m     11\u001b[0m state, _ \u001b[38;5;241m=\u001b[39m env\u001b[38;5;241m.\u001b[39mreset()\n\u001b[1;32m     13\u001b[0m \u001b[38;5;28;01mwhile\u001b[39;00m \u001b[38;5;28;01mTrue\u001b[39;00m:\n\u001b[1;32m     14\u001b[0m     \u001b[38;5;66;03m# Interact with environment.\u001b[39;00m\n\u001b[0;32m---> 15\u001b[0m     interaction \u001b[38;5;241m=\u001b[39m \u001b[43minteract_env\u001b[49m\u001b[43m(\u001b[49m\u001b[43mstate\u001b[49m\u001b[43m,\u001b[49m\u001b[43m \u001b[49m\u001b[43mmodel\u001b[49m\u001b[43m,\u001b[49m\u001b[43m \u001b[49m\u001b[43mepsilon\u001b[49m\u001b[43m,\u001b[49m\u001b[43m \u001b[49m\u001b[43mn_actions\u001b[49m\u001b[43m,\u001b[49m\u001b[43m \u001b[49m\u001b[43menv\u001b[49m\u001b[43m)\u001b[49m\n\u001b[1;32m     17\u001b[0m     \u001b[38;5;66;03m# Preserve interaction in the replay memory.\u001b[39;00m\n\u001b[1;32m     18\u001b[0m     replay_memory\u001b[38;5;241m.\u001b[39mappend(interaction)\n",
      "Cell \u001b[0;32mIn[114], line 10\u001b[0m, in \u001b[0;36minteract_env\u001b[0;34m(state, model, epsilon, n_actions, env)\u001b[0m\n\u001b[1;32m      8\u001b[0m coin \u001b[38;5;241m=\u001b[39m np\u001b[38;5;241m.\u001b[39mrandom\u001b[38;5;241m.\u001b[39mrandom()\n\u001b[1;32m      9\u001b[0m \u001b[38;5;28;01mif\u001b[39;00m coin \u001b[38;5;241m>\u001b[39m epsilon: \u001b[38;5;66;03m# Epsilon-greedy\u001b[39;00m\n\u001b[0;32m---> 10\u001b[0m     q_vals \u001b[38;5;241m=\u001b[39m \u001b[43mmodel\u001b[49m\u001b[43m(\u001b[49m\u001b[43m[\u001b[49m\u001b[43mstate\u001b[49m\u001b[43m]\u001b[49m\u001b[43m)\u001b[49m\n\u001b[1;32m     11\u001b[0m     action \u001b[38;5;241m=\u001b[39m \u001b[38;5;28mint\u001b[39m(tf\u001b[38;5;241m.\u001b[39margmax(q_vals[\u001b[38;5;241m0\u001b[39m])\u001b[38;5;241m.\u001b[39mnumpy())\n\u001b[1;32m     12\u001b[0m \u001b[38;5;28;01melse\u001b[39;00m: \u001b[38;5;66;03m# Random action.\u001b[39;00m\n",
      "File \u001b[0;32m/usr/local/Caskroom/miniforge/base/envs/qml/lib/python3.11/site-packages/keras/utils/traceback_utils.py:65\u001b[0m, in \u001b[0;36mfilter_traceback.<locals>.error_handler\u001b[0;34m(*args, **kwargs)\u001b[0m\n\u001b[1;32m     63\u001b[0m filtered_tb \u001b[38;5;241m=\u001b[39m \u001b[38;5;28;01mNone\u001b[39;00m\n\u001b[1;32m     64\u001b[0m \u001b[38;5;28;01mtry\u001b[39;00m:\n\u001b[0;32m---> 65\u001b[0m     \u001b[38;5;28;01mreturn\u001b[39;00m \u001b[43mfn\u001b[49m\u001b[43m(\u001b[49m\u001b[38;5;241;43m*\u001b[39;49m\u001b[43margs\u001b[49m\u001b[43m,\u001b[49m\u001b[43m \u001b[49m\u001b[38;5;241;43m*\u001b[39;49m\u001b[38;5;241;43m*\u001b[39;49m\u001b[43mkwargs\u001b[49m\u001b[43m)\u001b[49m\n\u001b[1;32m     66\u001b[0m \u001b[38;5;28;01mexcept\u001b[39;00m \u001b[38;5;167;01mException\u001b[39;00m \u001b[38;5;28;01mas\u001b[39;00m e:\n\u001b[1;32m     67\u001b[0m     filtered_tb \u001b[38;5;241m=\u001b[39m _process_traceback_frames(e\u001b[38;5;241m.\u001b[39m__traceback__)\n",
      "File \u001b[0;32m/usr/local/Caskroom/miniforge/base/envs/qml/lib/python3.11/site-packages/keras/engine/training.py:558\u001b[0m, in \u001b[0;36mModel.__call__\u001b[0;34m(self, *args, **kwargs)\u001b[0m\n\u001b[1;32m    554\u001b[0m         \u001b[38;5;28msuper\u001b[39m()\u001b[38;5;241m.\u001b[39m\u001b[38;5;21m__call__\u001b[39m(inputs, \u001b[38;5;241m*\u001b[39mcopied_args, \u001b[38;5;241m*\u001b[39m\u001b[38;5;241m*\u001b[39mcopied_kwargs)\n\u001b[1;32m    556\u001b[0m     layout_map_lib\u001b[38;5;241m.\u001b[39m_map_subclass_model_variable(\u001b[38;5;28mself\u001b[39m, \u001b[38;5;28mself\u001b[39m\u001b[38;5;241m.\u001b[39m_layout_map)\n\u001b[0;32m--> 558\u001b[0m \u001b[38;5;28;01mreturn\u001b[39;00m \u001b[38;5;28;43msuper\u001b[39;49m\u001b[43m(\u001b[49m\u001b[43m)\u001b[49m\u001b[38;5;241;43m.\u001b[39;49m\u001b[38;5;21;43m__call__\u001b[39;49m\u001b[43m(\u001b[49m\u001b[38;5;241;43m*\u001b[39;49m\u001b[43margs\u001b[49m\u001b[43m,\u001b[49m\u001b[43m \u001b[49m\u001b[38;5;241;43m*\u001b[39;49m\u001b[38;5;241;43m*\u001b[39;49m\u001b[43mkwargs\u001b[49m\u001b[43m)\u001b[49m\n",
      "File \u001b[0;32m/usr/local/Caskroom/miniforge/base/envs/qml/lib/python3.11/site-packages/keras/utils/traceback_utils.py:65\u001b[0m, in \u001b[0;36mfilter_traceback.<locals>.error_handler\u001b[0;34m(*args, **kwargs)\u001b[0m\n\u001b[1;32m     63\u001b[0m filtered_tb \u001b[38;5;241m=\u001b[39m \u001b[38;5;28;01mNone\u001b[39;00m\n\u001b[1;32m     64\u001b[0m \u001b[38;5;28;01mtry\u001b[39;00m:\n\u001b[0;32m---> 65\u001b[0m     \u001b[38;5;28;01mreturn\u001b[39;00m \u001b[43mfn\u001b[49m\u001b[43m(\u001b[49m\u001b[38;5;241;43m*\u001b[39;49m\u001b[43margs\u001b[49m\u001b[43m,\u001b[49m\u001b[43m \u001b[49m\u001b[38;5;241;43m*\u001b[39;49m\u001b[38;5;241;43m*\u001b[39;49m\u001b[43mkwargs\u001b[49m\u001b[43m)\u001b[49m\n\u001b[1;32m     66\u001b[0m \u001b[38;5;28;01mexcept\u001b[39;00m \u001b[38;5;167;01mException\u001b[39;00m \u001b[38;5;28;01mas\u001b[39;00m e:\n\u001b[1;32m     67\u001b[0m     filtered_tb \u001b[38;5;241m=\u001b[39m _process_traceback_frames(e\u001b[38;5;241m.\u001b[39m__traceback__)\n",
      "File \u001b[0;32m/usr/local/Caskroom/miniforge/base/envs/qml/lib/python3.11/site-packages/keras/engine/base_layer.py:1145\u001b[0m, in \u001b[0;36mLayer.__call__\u001b[0;34m(self, *args, **kwargs)\u001b[0m\n\u001b[1;32m   1140\u001b[0m     inputs \u001b[38;5;241m=\u001b[39m \u001b[38;5;28mself\u001b[39m\u001b[38;5;241m.\u001b[39m_maybe_cast_inputs(inputs, input_list)\n\u001b[1;32m   1142\u001b[0m \u001b[38;5;28;01mwith\u001b[39;00m autocast_variable\u001b[38;5;241m.\u001b[39menable_auto_cast_variables(\n\u001b[1;32m   1143\u001b[0m     \u001b[38;5;28mself\u001b[39m\u001b[38;5;241m.\u001b[39m_compute_dtype_object\n\u001b[1;32m   1144\u001b[0m ):\n\u001b[0;32m-> 1145\u001b[0m     outputs \u001b[38;5;241m=\u001b[39m \u001b[43mcall_fn\u001b[49m\u001b[43m(\u001b[49m\u001b[43minputs\u001b[49m\u001b[43m,\u001b[49m\u001b[43m \u001b[49m\u001b[38;5;241;43m*\u001b[39;49m\u001b[43margs\u001b[49m\u001b[43m,\u001b[49m\u001b[43m \u001b[49m\u001b[38;5;241;43m*\u001b[39;49m\u001b[38;5;241;43m*\u001b[39;49m\u001b[43mkwargs\u001b[49m\u001b[43m)\u001b[49m\n\u001b[1;32m   1147\u001b[0m \u001b[38;5;28;01mif\u001b[39;00m \u001b[38;5;28mself\u001b[39m\u001b[38;5;241m.\u001b[39m_activity_regularizer:\n\u001b[1;32m   1148\u001b[0m     \u001b[38;5;28mself\u001b[39m\u001b[38;5;241m.\u001b[39m_handle_activity_regularization(inputs, outputs)\n",
      "File \u001b[0;32m/usr/local/Caskroom/miniforge/base/envs/qml/lib/python3.11/site-packages/keras/utils/traceback_utils.py:96\u001b[0m, in \u001b[0;36minject_argument_info_in_traceback.<locals>.error_handler\u001b[0;34m(*args, **kwargs)\u001b[0m\n\u001b[1;32m     94\u001b[0m bound_signature \u001b[38;5;241m=\u001b[39m \u001b[38;5;28;01mNone\u001b[39;00m\n\u001b[1;32m     95\u001b[0m \u001b[38;5;28;01mtry\u001b[39;00m:\n\u001b[0;32m---> 96\u001b[0m     \u001b[38;5;28;01mreturn\u001b[39;00m \u001b[43mfn\u001b[49m\u001b[43m(\u001b[49m\u001b[38;5;241;43m*\u001b[39;49m\u001b[43margs\u001b[49m\u001b[43m,\u001b[49m\u001b[43m \u001b[49m\u001b[38;5;241;43m*\u001b[39;49m\u001b[38;5;241;43m*\u001b[39;49m\u001b[43mkwargs\u001b[49m\u001b[43m)\u001b[49m\n\u001b[1;32m     97\u001b[0m \u001b[38;5;28;01mexcept\u001b[39;00m \u001b[38;5;167;01mException\u001b[39;00m \u001b[38;5;28;01mas\u001b[39;00m e:\n\u001b[1;32m     98\u001b[0m     \u001b[38;5;28;01mif\u001b[39;00m \u001b[38;5;28mhasattr\u001b[39m(e, \u001b[38;5;124m\"\u001b[39m\u001b[38;5;124m_keras_call_info_injected\u001b[39m\u001b[38;5;124m\"\u001b[39m):\n\u001b[1;32m     99\u001b[0m         \u001b[38;5;66;03m# Only inject info for the innermost failing call\u001b[39;00m\n",
      "File \u001b[0;32m/usr/local/Caskroom/miniforge/base/envs/qml/lib/python3.11/site-packages/keras/engine/sequential.py:412\u001b[0m, in \u001b[0;36mSequential.call\u001b[0;34m(self, inputs, training, mask)\u001b[0m\n\u001b[1;32m    410\u001b[0m     \u001b[38;5;28;01mif\u001b[39;00m \u001b[38;5;129;01mnot\u001b[39;00m \u001b[38;5;28mself\u001b[39m\u001b[38;5;241m.\u001b[39mbuilt:\n\u001b[1;32m    411\u001b[0m         \u001b[38;5;28mself\u001b[39m\u001b[38;5;241m.\u001b[39m_init_graph_network(\u001b[38;5;28mself\u001b[39m\u001b[38;5;241m.\u001b[39minputs, \u001b[38;5;28mself\u001b[39m\u001b[38;5;241m.\u001b[39moutputs)\n\u001b[0;32m--> 412\u001b[0m     \u001b[38;5;28;01mreturn\u001b[39;00m \u001b[38;5;28;43msuper\u001b[39;49m\u001b[43m(\u001b[49m\u001b[43m)\u001b[49m\u001b[38;5;241;43m.\u001b[39;49m\u001b[43mcall\u001b[49m\u001b[43m(\u001b[49m\u001b[43minputs\u001b[49m\u001b[43m,\u001b[49m\u001b[43m \u001b[49m\u001b[43mtraining\u001b[49m\u001b[38;5;241;43m=\u001b[39;49m\u001b[43mtraining\u001b[49m\u001b[43m,\u001b[49m\u001b[43m \u001b[49m\u001b[43mmask\u001b[49m\u001b[38;5;241;43m=\u001b[39;49m\u001b[43mmask\u001b[49m\u001b[43m)\u001b[49m\n\u001b[1;32m    414\u001b[0m outputs \u001b[38;5;241m=\u001b[39m inputs  \u001b[38;5;66;03m# handle the corner case where self.layers is empty\u001b[39;00m\n\u001b[1;32m    415\u001b[0m \u001b[38;5;28;01mfor\u001b[39;00m layer \u001b[38;5;129;01min\u001b[39;00m \u001b[38;5;28mself\u001b[39m\u001b[38;5;241m.\u001b[39mlayers:\n\u001b[1;32m    416\u001b[0m     \u001b[38;5;66;03m# During each iteration, `inputs` are the inputs to `layer`, and\u001b[39;00m\n\u001b[1;32m    417\u001b[0m     \u001b[38;5;66;03m# `outputs` are the outputs of `layer` applied to `inputs`. At the\u001b[39;00m\n\u001b[1;32m    418\u001b[0m     \u001b[38;5;66;03m# end of each iteration `inputs` is set to `outputs` to prepare for\u001b[39;00m\n\u001b[1;32m    419\u001b[0m     \u001b[38;5;66;03m# the next layer.\u001b[39;00m\n",
      "File \u001b[0;32m/usr/local/Caskroom/miniforge/base/envs/qml/lib/python3.11/site-packages/keras/engine/functional.py:512\u001b[0m, in \u001b[0;36mFunctional.call\u001b[0;34m(self, inputs, training, mask)\u001b[0m\n\u001b[1;32m    493\u001b[0m \u001b[38;5;129m@doc_controls\u001b[39m\u001b[38;5;241m.\u001b[39mdo_not_doc_inheritable\n\u001b[1;32m    494\u001b[0m \u001b[38;5;28;01mdef\u001b[39;00m \u001b[38;5;21mcall\u001b[39m(\u001b[38;5;28mself\u001b[39m, inputs, training\u001b[38;5;241m=\u001b[39m\u001b[38;5;28;01mNone\u001b[39;00m, mask\u001b[38;5;241m=\u001b[39m\u001b[38;5;28;01mNone\u001b[39;00m):\n\u001b[1;32m    495\u001b[0m \u001b[38;5;250m    \u001b[39m\u001b[38;5;124;03m\"\"\"Calls the model on new inputs.\u001b[39;00m\n\u001b[1;32m    496\u001b[0m \n\u001b[1;32m    497\u001b[0m \u001b[38;5;124;03m    In this case `call` just reapplies\u001b[39;00m\n\u001b[0;32m   (...)\u001b[0m\n\u001b[1;32m    510\u001b[0m \u001b[38;5;124;03m        a list of tensors if there are more than one outputs.\u001b[39;00m\n\u001b[1;32m    511\u001b[0m \u001b[38;5;124;03m    \"\"\"\u001b[39;00m\n\u001b[0;32m--> 512\u001b[0m     \u001b[38;5;28;01mreturn\u001b[39;00m \u001b[38;5;28;43mself\u001b[39;49m\u001b[38;5;241;43m.\u001b[39;49m\u001b[43m_run_internal_graph\u001b[49m\u001b[43m(\u001b[49m\u001b[43minputs\u001b[49m\u001b[43m,\u001b[49m\u001b[43m \u001b[49m\u001b[43mtraining\u001b[49m\u001b[38;5;241;43m=\u001b[39;49m\u001b[43mtraining\u001b[49m\u001b[43m,\u001b[49m\u001b[43m \u001b[49m\u001b[43mmask\u001b[49m\u001b[38;5;241;43m=\u001b[39;49m\u001b[43mmask\u001b[49m\u001b[43m)\u001b[49m\n",
      "File \u001b[0;32m/usr/local/Caskroom/miniforge/base/envs/qml/lib/python3.11/site-packages/keras/engine/functional.py:669\u001b[0m, in \u001b[0;36mFunctional._run_internal_graph\u001b[0;34m(self, inputs, training, mask)\u001b[0m\n\u001b[1;32m    666\u001b[0m     \u001b[38;5;28;01mcontinue\u001b[39;00m  \u001b[38;5;66;03m# Node is not computable, try skipping.\u001b[39;00m\n\u001b[1;32m    668\u001b[0m args, kwargs \u001b[38;5;241m=\u001b[39m node\u001b[38;5;241m.\u001b[39mmap_arguments(tensor_dict)\n\u001b[0;32m--> 669\u001b[0m outputs \u001b[38;5;241m=\u001b[39m \u001b[43mnode\u001b[49m\u001b[38;5;241;43m.\u001b[39;49m\u001b[43mlayer\u001b[49m\u001b[43m(\u001b[49m\u001b[38;5;241;43m*\u001b[39;49m\u001b[43margs\u001b[49m\u001b[43m,\u001b[49m\u001b[43m \u001b[49m\u001b[38;5;241;43m*\u001b[39;49m\u001b[38;5;241;43m*\u001b[39;49m\u001b[43mkwargs\u001b[49m\u001b[43m)\u001b[49m\n\u001b[1;32m    671\u001b[0m \u001b[38;5;66;03m# Update tensor_dict.\u001b[39;00m\n\u001b[1;32m    672\u001b[0m \u001b[38;5;28;01mfor\u001b[39;00m x_id, y \u001b[38;5;129;01min\u001b[39;00m \u001b[38;5;28mzip\u001b[39m(\n\u001b[1;32m    673\u001b[0m     node\u001b[38;5;241m.\u001b[39mflat_output_ids, tf\u001b[38;5;241m.\u001b[39mnest\u001b[38;5;241m.\u001b[39mflatten(outputs)\n\u001b[1;32m    674\u001b[0m ):\n",
      "File \u001b[0;32m/usr/local/Caskroom/miniforge/base/envs/qml/lib/python3.11/site-packages/keras/utils/traceback_utils.py:65\u001b[0m, in \u001b[0;36mfilter_traceback.<locals>.error_handler\u001b[0;34m(*args, **kwargs)\u001b[0m\n\u001b[1;32m     63\u001b[0m filtered_tb \u001b[38;5;241m=\u001b[39m \u001b[38;5;28;01mNone\u001b[39;00m\n\u001b[1;32m     64\u001b[0m \u001b[38;5;28;01mtry\u001b[39;00m:\n\u001b[0;32m---> 65\u001b[0m     \u001b[38;5;28;01mreturn\u001b[39;00m \u001b[43mfn\u001b[49m\u001b[43m(\u001b[49m\u001b[38;5;241;43m*\u001b[39;49m\u001b[43margs\u001b[49m\u001b[43m,\u001b[49m\u001b[43m \u001b[49m\u001b[38;5;241;43m*\u001b[39;49m\u001b[38;5;241;43m*\u001b[39;49m\u001b[43mkwargs\u001b[49m\u001b[43m)\u001b[49m\n\u001b[1;32m     66\u001b[0m \u001b[38;5;28;01mexcept\u001b[39;00m \u001b[38;5;167;01mException\u001b[39;00m \u001b[38;5;28;01mas\u001b[39;00m e:\n\u001b[1;32m     67\u001b[0m     filtered_tb \u001b[38;5;241m=\u001b[39m _process_traceback_frames(e\u001b[38;5;241m.\u001b[39m__traceback__)\n",
      "File \u001b[0;32m/usr/local/Caskroom/miniforge/base/envs/qml/lib/python3.11/site-packages/keras/engine/base_layer.py:1145\u001b[0m, in \u001b[0;36mLayer.__call__\u001b[0;34m(self, *args, **kwargs)\u001b[0m\n\u001b[1;32m   1140\u001b[0m     inputs \u001b[38;5;241m=\u001b[39m \u001b[38;5;28mself\u001b[39m\u001b[38;5;241m.\u001b[39m_maybe_cast_inputs(inputs, input_list)\n\u001b[1;32m   1142\u001b[0m \u001b[38;5;28;01mwith\u001b[39;00m autocast_variable\u001b[38;5;241m.\u001b[39menable_auto_cast_variables(\n\u001b[1;32m   1143\u001b[0m     \u001b[38;5;28mself\u001b[39m\u001b[38;5;241m.\u001b[39m_compute_dtype_object\n\u001b[1;32m   1144\u001b[0m ):\n\u001b[0;32m-> 1145\u001b[0m     outputs \u001b[38;5;241m=\u001b[39m \u001b[43mcall_fn\u001b[49m\u001b[43m(\u001b[49m\u001b[43minputs\u001b[49m\u001b[43m,\u001b[49m\u001b[43m \u001b[49m\u001b[38;5;241;43m*\u001b[39;49m\u001b[43margs\u001b[49m\u001b[43m,\u001b[49m\u001b[43m \u001b[49m\u001b[38;5;241;43m*\u001b[39;49m\u001b[38;5;241;43m*\u001b[39;49m\u001b[43mkwargs\u001b[49m\u001b[43m)\u001b[49m\n\u001b[1;32m   1147\u001b[0m \u001b[38;5;28;01mif\u001b[39;00m \u001b[38;5;28mself\u001b[39m\u001b[38;5;241m.\u001b[39m_activity_regularizer:\n\u001b[1;32m   1148\u001b[0m     \u001b[38;5;28mself\u001b[39m\u001b[38;5;241m.\u001b[39m_handle_activity_regularization(inputs, outputs)\n",
      "File \u001b[0;32m/usr/local/Caskroom/miniforge/base/envs/qml/lib/python3.11/site-packages/keras/utils/traceback_utils.py:96\u001b[0m, in \u001b[0;36minject_argument_info_in_traceback.<locals>.error_handler\u001b[0;34m(*args, **kwargs)\u001b[0m\n\u001b[1;32m     94\u001b[0m bound_signature \u001b[38;5;241m=\u001b[39m \u001b[38;5;28;01mNone\u001b[39;00m\n\u001b[1;32m     95\u001b[0m \u001b[38;5;28;01mtry\u001b[39;00m:\n\u001b[0;32m---> 96\u001b[0m     \u001b[38;5;28;01mreturn\u001b[39;00m \u001b[43mfn\u001b[49m\u001b[43m(\u001b[49m\u001b[38;5;241;43m*\u001b[39;49m\u001b[43margs\u001b[49m\u001b[43m,\u001b[49m\u001b[43m \u001b[49m\u001b[38;5;241;43m*\u001b[39;49m\u001b[38;5;241;43m*\u001b[39;49m\u001b[43mkwargs\u001b[49m\u001b[43m)\u001b[49m\n\u001b[1;32m     97\u001b[0m \u001b[38;5;28;01mexcept\u001b[39;00m \u001b[38;5;167;01mException\u001b[39;00m \u001b[38;5;28;01mas\u001b[39;00m e:\n\u001b[1;32m     98\u001b[0m     \u001b[38;5;28;01mif\u001b[39;00m \u001b[38;5;28mhasattr\u001b[39m(e, \u001b[38;5;124m\"\u001b[39m\u001b[38;5;124m_keras_call_info_injected\u001b[39m\u001b[38;5;124m\"\u001b[39m):\n\u001b[1;32m     99\u001b[0m         \u001b[38;5;66;03m# Only inject info for the innermost failing call\u001b[39;00m\n",
      "File \u001b[0;32m/usr/local/Caskroom/miniforge/base/envs/qml/lib/python3.11/site-packages/pennylane/qnn/keras.py:383\u001b[0m, in \u001b[0;36mKerasLayer.call\u001b[0;34m(self, inputs)\u001b[0m\n\u001b[1;32m    380\u001b[0m     inputs \u001b[38;5;241m=\u001b[39m tf\u001b[38;5;241m.\u001b[39mreshape(inputs, (\u001b[38;5;241m-\u001b[39m\u001b[38;5;241m1\u001b[39m, inputs\u001b[38;5;241m.\u001b[39mshape[\u001b[38;5;241m-\u001b[39m\u001b[38;5;241m1\u001b[39m]))\n\u001b[1;32m    382\u001b[0m \u001b[38;5;66;03m# calculate the forward pass as usual\u001b[39;00m\n\u001b[0;32m--> 383\u001b[0m results \u001b[38;5;241m=\u001b[39m \u001b[38;5;28;43mself\u001b[39;49m\u001b[38;5;241;43m.\u001b[39;49m\u001b[43m_evaluate_qnode\u001b[49m\u001b[43m(\u001b[49m\u001b[43minputs\u001b[49m\u001b[43m)\u001b[49m\n\u001b[1;32m    385\u001b[0m \u001b[38;5;66;03m# reshape to the correct number of batch dims\u001b[39;00m\n\u001b[1;32m    386\u001b[0m \u001b[38;5;28;01mif\u001b[39;00m has_batch_dim:\n",
      "File \u001b[0;32m/usr/local/Caskroom/miniforge/base/envs/qml/lib/python3.11/site-packages/pennylane/qnn/keras.py:405\u001b[0m, in \u001b[0;36mKerasLayer._evaluate_qnode\u001b[0;34m(self, x)\u001b[0m\n\u001b[1;32m    393\u001b[0m \u001b[38;5;250m\u001b[39m\u001b[38;5;124;03m\"\"\"Evaluates a QNode for a single input datapoint.\u001b[39;00m\n\u001b[1;32m    394\u001b[0m \n\u001b[1;32m    395\u001b[0m \u001b[38;5;124;03mArgs:\u001b[39;00m\n\u001b[0;32m   (...)\u001b[0m\n\u001b[1;32m    399\u001b[0m \u001b[38;5;124;03m    tensor: output datapoint\u001b[39;00m\n\u001b[1;32m    400\u001b[0m \u001b[38;5;124;03m\"\"\"\u001b[39;00m\n\u001b[1;32m    401\u001b[0m kwargs \u001b[38;5;241m=\u001b[39m {\n\u001b[1;32m    402\u001b[0m     \u001b[38;5;241m*\u001b[39m\u001b[38;5;241m*\u001b[39m{\u001b[38;5;28mself\u001b[39m\u001b[38;5;241m.\u001b[39minput_arg: x},\n\u001b[1;32m    403\u001b[0m     \u001b[38;5;241m*\u001b[39m\u001b[38;5;241m*\u001b[39m{k: \u001b[38;5;241m1.0\u001b[39m \u001b[38;5;241m*\u001b[39m w \u001b[38;5;28;01mfor\u001b[39;00m k, w \u001b[38;5;129;01min\u001b[39;00m \u001b[38;5;28mself\u001b[39m\u001b[38;5;241m.\u001b[39mqnode_weights\u001b[38;5;241m.\u001b[39mitems()},\n\u001b[1;32m    404\u001b[0m }\n\u001b[0;32m--> 405\u001b[0m res \u001b[38;5;241m=\u001b[39m \u001b[38;5;28;43mself\u001b[39;49m\u001b[38;5;241;43m.\u001b[39;49m\u001b[43mqnode\u001b[49m\u001b[43m(\u001b[49m\u001b[38;5;241;43m*\u001b[39;49m\u001b[38;5;241;43m*\u001b[39;49m\u001b[43mkwargs\u001b[49m\u001b[43m)\u001b[49m\n\u001b[1;32m    407\u001b[0m \u001b[38;5;28;01mif\u001b[39;00m \u001b[38;5;28misinstance\u001b[39m(res, (\u001b[38;5;28mlist\u001b[39m, \u001b[38;5;28mtuple\u001b[39m)):\n\u001b[1;32m    408\u001b[0m     \u001b[38;5;28;01mif\u001b[39;00m \u001b[38;5;28mlen\u001b[39m(x\u001b[38;5;241m.\u001b[39mshape) \u001b[38;5;241m>\u001b[39m \u001b[38;5;241m1\u001b[39m:\n\u001b[1;32m    409\u001b[0m         \u001b[38;5;66;03m# multi-return and batch dim case\u001b[39;00m\n",
      "File \u001b[0;32m/usr/local/Caskroom/miniforge/base/envs/qml/lib/python3.11/site-packages/pennylane/qnode.py:1027\u001b[0m, in \u001b[0;36mQNode.__call__\u001b[0;34m(self, *args, **kwargs)\u001b[0m\n\u001b[1;32m   1022\u001b[0m         full_transform_program\u001b[38;5;241m.\u001b[39m_set_all_argnums(\n\u001b[1;32m   1023\u001b[0m             \u001b[38;5;28mself\u001b[39m, args, kwargs, argnums\n\u001b[1;32m   1024\u001b[0m         )  \u001b[38;5;66;03m# pylint: disable=protected-access\u001b[39;00m\n\u001b[1;32m   1026\u001b[0m \u001b[38;5;66;03m# pylint: disable=unexpected-keyword-arg\u001b[39;00m\n\u001b[0;32m-> 1027\u001b[0m res \u001b[38;5;241m=\u001b[39m \u001b[43mqml\u001b[49m\u001b[38;5;241;43m.\u001b[39;49m\u001b[43mexecute\u001b[49m\u001b[43m(\u001b[49m\n\u001b[1;32m   1028\u001b[0m \u001b[43m    \u001b[49m\u001b[43m(\u001b[49m\u001b[38;5;28;43mself\u001b[39;49m\u001b[38;5;241;43m.\u001b[39;49m\u001b[43m_tape\u001b[49m\u001b[43m,\u001b[49m\u001b[43m)\u001b[49m\u001b[43m,\u001b[49m\n\u001b[1;32m   1029\u001b[0m \u001b[43m    \u001b[49m\u001b[43mdevice\u001b[49m\u001b[38;5;241;43m=\u001b[39;49m\u001b[38;5;28;43mself\u001b[39;49m\u001b[38;5;241;43m.\u001b[39;49m\u001b[43mdevice\u001b[49m\u001b[43m,\u001b[49m\n\u001b[1;32m   1030\u001b[0m \u001b[43m    \u001b[49m\u001b[43mgradient_fn\u001b[49m\u001b[38;5;241;43m=\u001b[39;49m\u001b[38;5;28;43mself\u001b[39;49m\u001b[38;5;241;43m.\u001b[39;49m\u001b[43mgradient_fn\u001b[49m\u001b[43m,\u001b[49m\n\u001b[1;32m   1031\u001b[0m \u001b[43m    \u001b[49m\u001b[43minterface\u001b[49m\u001b[38;5;241;43m=\u001b[39;49m\u001b[38;5;28;43mself\u001b[39;49m\u001b[38;5;241;43m.\u001b[39;49m\u001b[43minterface\u001b[49m\u001b[43m,\u001b[49m\n\u001b[1;32m   1032\u001b[0m \u001b[43m    \u001b[49m\u001b[43mtransform_program\u001b[49m\u001b[38;5;241;43m=\u001b[39;49m\u001b[43mfull_transform_program\u001b[49m\u001b[43m,\u001b[49m\n\u001b[1;32m   1033\u001b[0m \u001b[43m    \u001b[49m\u001b[43mconfig\u001b[49m\u001b[38;5;241;43m=\u001b[39;49m\u001b[43mconfig\u001b[49m\u001b[43m,\u001b[49m\n\u001b[1;32m   1034\u001b[0m \u001b[43m    \u001b[49m\u001b[43mgradient_kwargs\u001b[49m\u001b[38;5;241;43m=\u001b[39;49m\u001b[38;5;28;43mself\u001b[39;49m\u001b[38;5;241;43m.\u001b[39;49m\u001b[43mgradient_kwargs\u001b[49m\u001b[43m,\u001b[49m\n\u001b[1;32m   1035\u001b[0m \u001b[43m    \u001b[49m\u001b[43moverride_shots\u001b[49m\u001b[38;5;241;43m=\u001b[39;49m\u001b[43moverride_shots\u001b[49m\u001b[43m,\u001b[49m\n\u001b[1;32m   1036\u001b[0m \u001b[43m    \u001b[49m\u001b[38;5;241;43m*\u001b[39;49m\u001b[38;5;241;43m*\u001b[39;49m\u001b[38;5;28;43mself\u001b[39;49m\u001b[38;5;241;43m.\u001b[39;49m\u001b[43mexecute_kwargs\u001b[49m\u001b[43m,\u001b[49m\n\u001b[1;32m   1037\u001b[0m \u001b[43m\u001b[49m\u001b[43m)\u001b[49m\n\u001b[1;32m   1039\u001b[0m res \u001b[38;5;241m=\u001b[39m res[\u001b[38;5;241m0\u001b[39m]\n\u001b[1;32m   1041\u001b[0m \u001b[38;5;66;03m# convert result to the interface in case the qfunc has no parameters\u001b[39;00m\n",
      "File \u001b[0;32m/usr/local/Caskroom/miniforge/base/envs/qml/lib/python3.11/site-packages/pennylane/interfaces/execution.py:616\u001b[0m, in \u001b[0;36mexecute\u001b[0;34m(tapes, device, gradient_fn, interface, transform_program, config, grad_on_execution, gradient_kwargs, cache, cachesize, max_diff, override_shots, expand_fn, max_expansion, device_batch_transform)\u001b[0m\n\u001b[1;32m    614\u001b[0m \u001b[38;5;66;03m# Exiting early if we do not need to deal with an interface boundary\u001b[39;00m\n\u001b[1;32m    615\u001b[0m \u001b[38;5;28;01mif\u001b[39;00m no_interface_boundary_required:\n\u001b[0;32m--> 616\u001b[0m     results \u001b[38;5;241m=\u001b[39m \u001b[43minner_execute\u001b[49m\u001b[43m(\u001b[49m\u001b[43mtapes\u001b[49m\u001b[43m)\u001b[49m\n\u001b[1;32m    617\u001b[0m     \u001b[38;5;28;01mreturn\u001b[39;00m post_processing(results)\n\u001b[1;32m    619\u001b[0m _grad_on_execution \u001b[38;5;241m=\u001b[39m \u001b[38;5;28;01mFalse\u001b[39;00m\n",
      "File \u001b[0;32m/usr/local/Caskroom/miniforge/base/envs/qml/lib/python3.11/site-packages/pennylane/interfaces/execution.py:249\u001b[0m, in \u001b[0;36m_make_inner_execute.<locals>.inner_execute\u001b[0;34m(tapes, **_)\u001b[0m\n\u001b[1;32m    247\u001b[0m \u001b[38;5;28;01mif\u001b[39;00m numpy_only:\n\u001b[1;32m    248\u001b[0m     tapes \u001b[38;5;241m=\u001b[39m \u001b[38;5;28mtuple\u001b[39m(qml\u001b[38;5;241m.\u001b[39mtransforms\u001b[38;5;241m.\u001b[39mconvert_to_numpy_parameters(t) \u001b[38;5;28;01mfor\u001b[39;00m t \u001b[38;5;129;01min\u001b[39;00m tapes)\n\u001b[0;32m--> 249\u001b[0m \u001b[38;5;28;01mreturn\u001b[39;00m \u001b[43mcached_device_execution\u001b[49m\u001b[43m(\u001b[49m\u001b[43mtapes\u001b[49m\u001b[43m)\u001b[49m\n",
      "File \u001b[0;32m/usr/local/Caskroom/miniforge/base/envs/qml/lib/python3.11/site-packages/pennylane/interfaces/execution.py:371\u001b[0m, in \u001b[0;36mcache_execute.<locals>.wrapper\u001b[0;34m(tapes, **kwargs)\u001b[0m\n\u001b[1;32m    366\u001b[0m         \u001b[38;5;28;01mreturn\u001b[39;00m (res, []) \u001b[38;5;28;01mif\u001b[39;00m return_tuple \u001b[38;5;28;01melse\u001b[39;00m res\n\u001b[1;32m    368\u001b[0m \u001b[38;5;28;01melse\u001b[39;00m:\n\u001b[1;32m    369\u001b[0m     \u001b[38;5;66;03m# execute all unique tapes that do not exist in the cache\u001b[39;00m\n\u001b[1;32m    370\u001b[0m     \u001b[38;5;66;03m# convert to list as new device interface returns a tuple\u001b[39;00m\n\u001b[0;32m--> 371\u001b[0m     res \u001b[38;5;241m=\u001b[39m \u001b[38;5;28mlist\u001b[39m(\u001b[43mfn\u001b[49m\u001b[43m(\u001b[49m\u001b[38;5;28;43mtuple\u001b[39;49m\u001b[43m(\u001b[49m\u001b[43mexecution_tapes\u001b[49m\u001b[38;5;241;43m.\u001b[39;49m\u001b[43mvalues\u001b[49m\u001b[43m(\u001b[49m\u001b[43m)\u001b[49m\u001b[43m)\u001b[49m\u001b[43m,\u001b[49m\u001b[43m \u001b[49m\u001b[38;5;241;43m*\u001b[39;49m\u001b[38;5;241;43m*\u001b[39;49m\u001b[43mkwargs\u001b[49m\u001b[43m)\u001b[49m)\n\u001b[1;32m    373\u001b[0m final_res \u001b[38;5;241m=\u001b[39m []\n\u001b[1;32m    375\u001b[0m \u001b[38;5;28;01mfor\u001b[39;00m i, tape \u001b[38;5;129;01min\u001b[39;00m \u001b[38;5;28menumerate\u001b[39m(tapes):\n",
      "File \u001b[0;32m/usr/local/Caskroom/miniforge/base/envs/qml/lib/python3.11/contextlib.py:81\u001b[0m, in \u001b[0;36mContextDecorator.__call__.<locals>.inner\u001b[0;34m(*args, **kwds)\u001b[0m\n\u001b[1;32m     78\u001b[0m \u001b[38;5;129m@wraps\u001b[39m(func)\n\u001b[1;32m     79\u001b[0m \u001b[38;5;28;01mdef\u001b[39;00m \u001b[38;5;21minner\u001b[39m(\u001b[38;5;241m*\u001b[39margs, \u001b[38;5;241m*\u001b[39m\u001b[38;5;241m*\u001b[39mkwds):\n\u001b[1;32m     80\u001b[0m     \u001b[38;5;28;01mwith\u001b[39;00m \u001b[38;5;28mself\u001b[39m\u001b[38;5;241m.\u001b[39m_recreate_cm():\n\u001b[0;32m---> 81\u001b[0m         \u001b[38;5;28;01mreturn\u001b[39;00m \u001b[43mfunc\u001b[49m\u001b[43m(\u001b[49m\u001b[38;5;241;43m*\u001b[39;49m\u001b[43margs\u001b[49m\u001b[43m,\u001b[49m\u001b[43m \u001b[49m\u001b[38;5;241;43m*\u001b[39;49m\u001b[38;5;241;43m*\u001b[39;49m\u001b[43mkwds\u001b[49m\u001b[43m)\u001b[49m\n",
      "File \u001b[0;32m/usr/local/Caskroom/miniforge/base/envs/qml/lib/python3.11/site-packages/pennylane/_qubit_device.py:460\u001b[0m, in \u001b[0;36mQubitDevice.batch_execute\u001b[0;34m(self, circuits)\u001b[0m\n\u001b[1;32m    455\u001b[0m \u001b[38;5;28;01mfor\u001b[39;00m circuit \u001b[38;5;129;01min\u001b[39;00m circuits:\n\u001b[1;32m    456\u001b[0m     \u001b[38;5;66;03m# we need to reset the device here, else it will\u001b[39;00m\n\u001b[1;32m    457\u001b[0m     \u001b[38;5;66;03m# not start the next computation in the zero state\u001b[39;00m\n\u001b[1;32m    458\u001b[0m     \u001b[38;5;28mself\u001b[39m\u001b[38;5;241m.\u001b[39mreset()\n\u001b[0;32m--> 460\u001b[0m     res \u001b[38;5;241m=\u001b[39m \u001b[38;5;28;43mself\u001b[39;49m\u001b[38;5;241;43m.\u001b[39;49m\u001b[43mexecute\u001b[49m\u001b[43m(\u001b[49m\u001b[43mcircuit\u001b[49m\u001b[43m)\u001b[49m\n\u001b[1;32m    461\u001b[0m     results\u001b[38;5;241m.\u001b[39mappend(res)\n\u001b[1;32m    463\u001b[0m \u001b[38;5;28;01mif\u001b[39;00m \u001b[38;5;28mself\u001b[39m\u001b[38;5;241m.\u001b[39mtracker\u001b[38;5;241m.\u001b[39mactive:\n",
      "File \u001b[0;32m/usr/local/Caskroom/miniforge/base/envs/qml/lib/python3.11/site-packages/pennylane/_qubit_device.py:279\u001b[0m, in \u001b[0;36mQubitDevice.execute\u001b[0;34m(self, circuit, **kwargs)\u001b[0m\n\u001b[1;32m    276\u001b[0m \u001b[38;5;28mself\u001b[39m\u001b[38;5;241m.\u001b[39mcheck_validity(circuit\u001b[38;5;241m.\u001b[39moperations, circuit\u001b[38;5;241m.\u001b[39mobservables)\n\u001b[1;32m    278\u001b[0m \u001b[38;5;66;03m# apply all circuit operations\u001b[39;00m\n\u001b[0;32m--> 279\u001b[0m \u001b[38;5;28;43mself\u001b[39;49m\u001b[38;5;241;43m.\u001b[39;49m\u001b[43mapply\u001b[49m\u001b[43m(\u001b[49m\u001b[43mcircuit\u001b[49m\u001b[38;5;241;43m.\u001b[39;49m\u001b[43moperations\u001b[49m\u001b[43m,\u001b[49m\u001b[43m \u001b[49m\u001b[43mrotations\u001b[49m\u001b[38;5;241;43m=\u001b[39;49m\u001b[38;5;28;43mself\u001b[39;49m\u001b[38;5;241;43m.\u001b[39;49m\u001b[43m_get_diagonalizing_gates\u001b[49m\u001b[43m(\u001b[49m\u001b[43mcircuit\u001b[49m\u001b[43m)\u001b[49m\u001b[43m,\u001b[49m\u001b[43m \u001b[49m\u001b[38;5;241;43m*\u001b[39;49m\u001b[38;5;241;43m*\u001b[39;49m\u001b[43mkwargs\u001b[49m\u001b[43m)\u001b[49m\n\u001b[1;32m    281\u001b[0m \u001b[38;5;66;03m# generate computational basis samples\u001b[39;00m\n\u001b[1;32m    282\u001b[0m \u001b[38;5;28;01mif\u001b[39;00m \u001b[38;5;28mself\u001b[39m\u001b[38;5;241m.\u001b[39mshots \u001b[38;5;129;01mis\u001b[39;00m \u001b[38;5;129;01mnot\u001b[39;00m \u001b[38;5;28;01mNone\u001b[39;00m \u001b[38;5;129;01mor\u001b[39;00m circuit\u001b[38;5;241m.\u001b[39mis_sampled:\n",
      "File \u001b[0;32m/usr/local/Caskroom/miniforge/base/envs/qml/lib/python3.11/site-packages/pennylane/devices/default_qubit_legacy.py:296\u001b[0m, in \u001b[0;36mDefaultQubitLegacy.apply\u001b[0;34m(self, operations, rotations, **kwargs)\u001b[0m\n\u001b[1;32m    294\u001b[0m         \u001b[38;5;28mself\u001b[39m\u001b[38;5;241m.\u001b[39m_state \u001b[38;5;241m=\u001b[39m \u001b[38;5;28mself\u001b[39m\u001b[38;5;241m.\u001b[39m_apply_parametrized_evolution(\u001b[38;5;28mself\u001b[39m\u001b[38;5;241m.\u001b[39m_state, operation)\n\u001b[1;32m    295\u001b[0m     \u001b[38;5;28;01melse\u001b[39;00m:\n\u001b[0;32m--> 296\u001b[0m         \u001b[38;5;28mself\u001b[39m\u001b[38;5;241m.\u001b[39m_state \u001b[38;5;241m=\u001b[39m \u001b[38;5;28;43mself\u001b[39;49m\u001b[38;5;241;43m.\u001b[39;49m\u001b[43m_apply_operation\u001b[49m\u001b[43m(\u001b[49m\u001b[38;5;28;43mself\u001b[39;49m\u001b[38;5;241;43m.\u001b[39;49m\u001b[43m_state\u001b[49m\u001b[43m,\u001b[49m\u001b[43m \u001b[49m\u001b[43moperation\u001b[49m\u001b[43m)\u001b[49m\n\u001b[1;32m    298\u001b[0m \u001b[38;5;66;03m# store the pre-rotated state\u001b[39;00m\n\u001b[1;32m    299\u001b[0m \u001b[38;5;28mself\u001b[39m\u001b[38;5;241m.\u001b[39m_pre_rotated_state \u001b[38;5;241m=\u001b[39m \u001b[38;5;28mself\u001b[39m\u001b[38;5;241m.\u001b[39m_state\n",
      "File \u001b[0;32m/usr/local/Caskroom/miniforge/base/envs/qml/lib/python3.11/site-packages/pennylane/devices/default_qubit_legacy.py:341\u001b[0m, in \u001b[0;36mDefaultQubitLegacy._apply_operation\u001b[0;34m(self, state, operation)\u001b[0m\n\u001b[1;32m    338\u001b[0m matrix \u001b[38;5;241m=\u001b[39m \u001b[38;5;28mself\u001b[39m\u001b[38;5;241m.\u001b[39m_asarray(\u001b[38;5;28mself\u001b[39m\u001b[38;5;241m.\u001b[39m_get_unitary_matrix(operation), dtype\u001b[38;5;241m=\u001b[39m\u001b[38;5;28mself\u001b[39m\u001b[38;5;241m.\u001b[39mC_DTYPE)\n\u001b[1;32m    340\u001b[0m \u001b[38;5;28;01mif\u001b[39;00m operation \u001b[38;5;129;01min\u001b[39;00m diagonal_in_z_basis:\n\u001b[0;32m--> 341\u001b[0m     \u001b[38;5;28;01mreturn\u001b[39;00m \u001b[38;5;28;43mself\u001b[39;49m\u001b[38;5;241;43m.\u001b[39;49m\u001b[43m_apply_diagonal_unitary\u001b[49m\u001b[43m(\u001b[49m\u001b[43mstate\u001b[49m\u001b[43m,\u001b[49m\u001b[43m \u001b[49m\u001b[43mmatrix\u001b[49m\u001b[43m,\u001b[49m\u001b[43m \u001b[49m\u001b[43mwires\u001b[49m\u001b[43m)\u001b[49m\n\u001b[1;32m    342\u001b[0m \u001b[38;5;28;01mif\u001b[39;00m \u001b[38;5;28mlen\u001b[39m(wires) \u001b[38;5;241m<\u001b[39m\u001b[38;5;241m=\u001b[39m \u001b[38;5;241m2\u001b[39m:\n\u001b[1;32m    343\u001b[0m     \u001b[38;5;66;03m# Einsum is faster for small gates\u001b[39;00m\n\u001b[1;32m    344\u001b[0m     \u001b[38;5;28;01mreturn\u001b[39;00m \u001b[38;5;28mself\u001b[39m\u001b[38;5;241m.\u001b[39m_apply_unitary_einsum(state, matrix, wires)\n",
      "File \u001b[0;32m/usr/local/Caskroom/miniforge/base/envs/qml/lib/python3.11/site-packages/pennylane/devices/default_qubit_legacy.py:935\u001b[0m, in \u001b[0;36mDefaultQubitLegacy._apply_diagonal_unitary\u001b[0;34m(self, state, phases, wires)\u001b[0m\n\u001b[1;32m    932\u001b[0m affected_indices \u001b[38;5;241m=\u001b[39m \u001b[38;5;124m\"\u001b[39m\u001b[38;5;124m\"\u001b[39m\u001b[38;5;241m.\u001b[39mjoin(ABC_ARRAY[\u001b[38;5;28mlist\u001b[39m(device_wires)]\u001b[38;5;241m.\u001b[39mtolist())\n\u001b[1;32m    934\u001b[0m einsum_indices \u001b[38;5;241m=\u001b[39m \u001b[38;5;124mf\u001b[39m\u001b[38;5;124m\"\u001b[39m\u001b[38;5;124m...\u001b[39m\u001b[38;5;132;01m{\u001b[39;00maffected_indices\u001b[38;5;132;01m}\u001b[39;00m\u001b[38;5;124m,...\u001b[39m\u001b[38;5;132;01m{\u001b[39;00mstate_indices\u001b[38;5;132;01m}\u001b[39;00m\u001b[38;5;124m->...\u001b[39m\u001b[38;5;132;01m{\u001b[39;00mstate_indices\u001b[38;5;132;01m}\u001b[39;00m\u001b[38;5;124m\"\u001b[39m\n\u001b[0;32m--> 935\u001b[0m \u001b[38;5;28;01mreturn\u001b[39;00m \u001b[38;5;28;43mself\u001b[39;49m\u001b[38;5;241;43m.\u001b[39;49m\u001b[43m_einsum\u001b[49m\u001b[43m(\u001b[49m\u001b[43meinsum_indices\u001b[49m\u001b[43m,\u001b[49m\u001b[43m \u001b[49m\u001b[43mphases\u001b[49m\u001b[43m,\u001b[49m\u001b[43m \u001b[49m\u001b[43mstate\u001b[49m\u001b[43m)\u001b[49m\n",
      "File \u001b[0;32m/usr/local/Caskroom/miniforge/base/envs/qml/lib/python3.11/site-packages/tensorflow/python/util/traceback_utils.py:150\u001b[0m, in \u001b[0;36mfilter_traceback.<locals>.error_handler\u001b[0;34m(*args, **kwargs)\u001b[0m\n\u001b[1;32m    148\u001b[0m filtered_tb \u001b[38;5;241m=\u001b[39m \u001b[38;5;28;01mNone\u001b[39;00m\n\u001b[1;32m    149\u001b[0m \u001b[38;5;28;01mtry\u001b[39;00m:\n\u001b[0;32m--> 150\u001b[0m   \u001b[38;5;28;01mreturn\u001b[39;00m \u001b[43mfn\u001b[49m\u001b[43m(\u001b[49m\u001b[38;5;241;43m*\u001b[39;49m\u001b[43margs\u001b[49m\u001b[43m,\u001b[49m\u001b[43m \u001b[49m\u001b[38;5;241;43m*\u001b[39;49m\u001b[38;5;241;43m*\u001b[39;49m\u001b[43mkwargs\u001b[49m\u001b[43m)\u001b[49m\n\u001b[1;32m    151\u001b[0m \u001b[38;5;28;01mexcept\u001b[39;00m \u001b[38;5;167;01mException\u001b[39;00m \u001b[38;5;28;01mas\u001b[39;00m e:\n\u001b[1;32m    152\u001b[0m   filtered_tb \u001b[38;5;241m=\u001b[39m _process_traceback_frames(e\u001b[38;5;241m.\u001b[39m__traceback__)\n",
      "File \u001b[0;32m/usr/local/Caskroom/miniforge/base/envs/qml/lib/python3.11/site-packages/tensorflow/python/util/dispatch.py:1176\u001b[0m, in \u001b[0;36madd_dispatch_support.<locals>.decorator.<locals>.op_dispatch_handler\u001b[0;34m(*args, **kwargs)\u001b[0m\n\u001b[1;32m   1174\u001b[0m \u001b[38;5;66;03m# Fallback dispatch system (dispatch v1):\u001b[39;00m\n\u001b[1;32m   1175\u001b[0m \u001b[38;5;28;01mtry\u001b[39;00m:\n\u001b[0;32m-> 1176\u001b[0m   \u001b[38;5;28;01mreturn\u001b[39;00m \u001b[43mdispatch_target\u001b[49m\u001b[43m(\u001b[49m\u001b[38;5;241;43m*\u001b[39;49m\u001b[43margs\u001b[49m\u001b[43m,\u001b[49m\u001b[43m \u001b[49m\u001b[38;5;241;43m*\u001b[39;49m\u001b[38;5;241;43m*\u001b[39;49m\u001b[43mkwargs\u001b[49m\u001b[43m)\u001b[49m\n\u001b[1;32m   1177\u001b[0m \u001b[38;5;28;01mexcept\u001b[39;00m (\u001b[38;5;167;01mTypeError\u001b[39;00m, \u001b[38;5;167;01mValueError\u001b[39;00m):\n\u001b[1;32m   1178\u001b[0m   \u001b[38;5;66;03m# Note: convert_to_eager_tensor currently raises a ValueError, not a\u001b[39;00m\n\u001b[1;32m   1179\u001b[0m   \u001b[38;5;66;03m# TypeError, when given unexpected types.  So we need to catch both.\u001b[39;00m\n\u001b[1;32m   1180\u001b[0m   result \u001b[38;5;241m=\u001b[39m dispatch(op_dispatch_handler, args, kwargs)\n",
      "File \u001b[0;32m/usr/local/Caskroom/miniforge/base/envs/qml/lib/python3.11/site-packages/tensorflow/python/ops/special_math_ops.py:762\u001b[0m, in \u001b[0;36meinsum\u001b[0;34m(equation, *inputs, **kwargs)\u001b[0m\n\u001b[1;32m    617\u001b[0m \u001b[38;5;129m@tf_export\u001b[39m(\u001b[38;5;124m'\u001b[39m\u001b[38;5;124meinsum\u001b[39m\u001b[38;5;124m'\u001b[39m, \u001b[38;5;124m'\u001b[39m\u001b[38;5;124mlinalg.einsum\u001b[39m\u001b[38;5;124m'\u001b[39m)\n\u001b[1;32m    618\u001b[0m \u001b[38;5;129m@dispatch\u001b[39m\u001b[38;5;241m.\u001b[39madd_dispatch_support\n\u001b[1;32m    619\u001b[0m \u001b[38;5;28;01mdef\u001b[39;00m \u001b[38;5;21meinsum\u001b[39m(equation, \u001b[38;5;241m*\u001b[39minputs, \u001b[38;5;241m*\u001b[39m\u001b[38;5;241m*\u001b[39mkwargs):\n\u001b[1;32m    620\u001b[0m \u001b[38;5;250m  \u001b[39m\u001b[38;5;124mr\u001b[39m\u001b[38;5;124;03m\"\"\"Tensor contraction over specified indices and outer product.\u001b[39;00m\n\u001b[1;32m    621\u001b[0m \n\u001b[1;32m    622\u001b[0m \u001b[38;5;124;03m  Einsum allows defining Tensors by defining their element-wise computation.\u001b[39;00m\n\u001b[0;32m   (...)\u001b[0m\n\u001b[1;32m    760\u001b[0m \u001b[38;5;124;03m      - number of inputs or their shapes are inconsistent with `equation`.\u001b[39;00m\n\u001b[1;32m    761\u001b[0m \u001b[38;5;124;03m  \"\"\"\u001b[39;00m\n\u001b[0;32m--> 762\u001b[0m   \u001b[38;5;28;01mreturn\u001b[39;00m \u001b[43m_einsum_v2\u001b[49m\u001b[43m(\u001b[49m\u001b[43mequation\u001b[49m\u001b[43m,\u001b[49m\u001b[43m \u001b[49m\u001b[38;5;241;43m*\u001b[39;49m\u001b[43minputs\u001b[49m\u001b[43m,\u001b[49m\u001b[43m \u001b[49m\u001b[38;5;241;43m*\u001b[39;49m\u001b[38;5;241;43m*\u001b[39;49m\u001b[43mkwargs\u001b[49m\u001b[43m)\u001b[49m\n",
      "File \u001b[0;32m/usr/local/Caskroom/miniforge/base/envs/qml/lib/python3.11/site-packages/tensorflow/python/ops/special_math_ops.py:1199\u001b[0m, in \u001b[0;36m_einsum_v2\u001b[0;34m(equation, *inputs, **kwargs)\u001b[0m\n\u001b[1;32m   1197\u001b[0m   \u001b[38;5;28;01mif\u001b[39;00m ellipsis_label:\n\u001b[1;32m   1198\u001b[0m     resolved_equation \u001b[38;5;241m=\u001b[39m resolved_equation\u001b[38;5;241m.\u001b[39mreplace(ellipsis_label, \u001b[38;5;124m'\u001b[39m\u001b[38;5;124m...\u001b[39m\u001b[38;5;124m'\u001b[39m)\n\u001b[0;32m-> 1199\u001b[0m   \u001b[38;5;28;01mreturn\u001b[39;00m \u001b[43mgen_linalg_ops\u001b[49m\u001b[38;5;241;43m.\u001b[39;49m\u001b[43meinsum\u001b[49m\u001b[43m(\u001b[49m\u001b[43minputs\u001b[49m\u001b[43m,\u001b[49m\u001b[43m \u001b[49m\u001b[43mresolved_equation\u001b[49m\u001b[43m)\u001b[49m\n\u001b[1;32m   1201\u001b[0m \u001b[38;5;66;03m# Send fully specified shapes to opt_einsum, since it cannot handle unknown\u001b[39;00m\n\u001b[1;32m   1202\u001b[0m \u001b[38;5;66;03m# dimensions. For unknown dimensions, we guess that the dimension equals 1.\u001b[39;00m\n\u001b[1;32m   1203\u001b[0m \u001b[38;5;66;03m# Instead of creating Tensors or NumPy arrays with the specified shape,\u001b[39;00m\n\u001b[1;32m   1204\u001b[0m \u001b[38;5;66;03m# create a dummy `shaped` object with a `shape` property.\u001b[39;00m\n\u001b[1;32m   1205\u001b[0m shaped \u001b[38;5;241m=\u001b[39m collections\u001b[38;5;241m.\u001b[39mnamedtuple(\u001b[38;5;124m'\u001b[39m\u001b[38;5;124mshaped\u001b[39m\u001b[38;5;124m'\u001b[39m, [\u001b[38;5;124m'\u001b[39m\u001b[38;5;124mshape\u001b[39m\u001b[38;5;124m'\u001b[39m])\n",
      "File \u001b[0;32m/usr/local/Caskroom/miniforge/base/envs/qml/lib/python3.11/site-packages/tensorflow/python/ops/gen_linalg_ops.py:1082\u001b[0m, in \u001b[0;36meinsum\u001b[0;34m(inputs, equation, name)\u001b[0m\n\u001b[1;32m   1080\u001b[0m \u001b[38;5;28;01mif\u001b[39;00m tld\u001b[38;5;241m.\u001b[39mis_eager:\n\u001b[1;32m   1081\u001b[0m   \u001b[38;5;28;01mtry\u001b[39;00m:\n\u001b[0;32m-> 1082\u001b[0m     _result \u001b[38;5;241m=\u001b[39m \u001b[43mpywrap_tfe\u001b[49m\u001b[38;5;241;43m.\u001b[39;49m\u001b[43mTFE_Py_FastPathExecute\u001b[49m\u001b[43m(\u001b[49m\n\u001b[1;32m   1083\u001b[0m \u001b[43m      \u001b[49m\u001b[43m_ctx\u001b[49m\u001b[43m,\u001b[49m\u001b[43m \u001b[49m\u001b[38;5;124;43m\"\u001b[39;49m\u001b[38;5;124;43mEinsum\u001b[39;49m\u001b[38;5;124;43m\"\u001b[39;49m\u001b[43m,\u001b[49m\u001b[43m \u001b[49m\u001b[43mname\u001b[49m\u001b[43m,\u001b[49m\u001b[43m \u001b[49m\u001b[43minputs\u001b[49m\u001b[43m,\u001b[49m\u001b[43m \u001b[49m\u001b[38;5;124;43m\"\u001b[39;49m\u001b[38;5;124;43mequation\u001b[39;49m\u001b[38;5;124;43m\"\u001b[39;49m\u001b[43m,\u001b[49m\u001b[43m \u001b[49m\u001b[43mequation\u001b[49m\u001b[43m)\u001b[49m\n\u001b[1;32m   1084\u001b[0m     \u001b[38;5;28;01mreturn\u001b[39;00m _result\n\u001b[1;32m   1085\u001b[0m   \u001b[38;5;28;01mexcept\u001b[39;00m _core\u001b[38;5;241m.\u001b[39m_NotOkStatusException \u001b[38;5;28;01mas\u001b[39;00m e:\n",
      "\u001b[0;31mKeyboardInterrupt\u001b[0m: "
     ]
    }
   ],
   "source": [
    "### Main training loop\n",
    "\n",
    "# with tf.device(\"/gpu:0\"):\n",
    "\n",
    "env = gym.make('CartPole-v1')\n",
    "\n",
    "episode_reward_history = []\n",
    "step_count = 0\n",
    "for episode in range(n_episodes):\n",
    "    episode_reward = 0\n",
    "    state, _ = env.reset()\n",
    "    \n",
    "    while True:\n",
    "        # Interact with environment.\n",
    "        interaction = interact_env(state, model, epsilon, n_actions, env)\n",
    "        \n",
    "        # Preserve interaction in the replay memory.\n",
    "        replay_memory.append(interaction)\n",
    "        \n",
    "        state = interaction['next_state']\n",
    "        episode_reward += interaction['reward']\n",
    "        step_count += 1\n",
    "        \n",
    "        if step_count % steps_per_update == 0:\n",
    "            training_batch = np.random.choice(replay_memory, size=batch_size) # Randomly select interactions from replay memory and train on them.\n",
    "            \n",
    "            Q_learning_update(\n",
    "                states=np.asarray([x['state'] for x in training_batch]).squeeze(),\n",
    "                actions=np.asarray([x['action'] for x in training_batch]).squeeze(),\n",
    "                rewards=np.asarray([x['reward'] for x in training_batch], dtype=np.float32).squeeze(),\n",
    "                next_states=np.asarray([x['next_state'] for x in training_batch]).squeeze(),\n",
    "                done=np.asarray([x['done'] for x in training_batch], dtype=np.float32).squeeze(),\n",
    "                model=model,\n",
    "                model_target=model_target,\n",
    "                gamma=gamma,\n",
    "                n_actions=n_actions,\n",
    "                optimizer_w_tups=optimizer_w_tups,\n",
    "            )\n",
    "            # \n",
    "            # \n",
    "            # \n",
    "            # Q_learning_update_new(np.asarray([x['state'] for x in training_batch]).squeeze(),\n",
    "            #                   np.asarray([x['action'] for x in training_batch]).squeeze(),\n",
    "            #                   np.asarray([x['reward'] for x in training_batch], dtype=np.float32).squeeze(),\n",
    "            #                   np.asarray([x['next_state'] for x in training_batch]).squeeze(),\n",
    "            #                   np.asarray([x['done'] for x in training_batch], dtype=np.float32).squeeze(),\n",
    "            #                   model, gamma, n_actions)\n",
    "        \n",
    "        if step_count % steps_per_target_update == 0:\n",
    "            model_target.set_weights(model.get_weights())\n",
    "        \n",
    "        if interaction['done']:\n",
    "            break\n",
    "        \n",
    "    # Decay epsilon.\n",
    "    epsilon = max(epsilon * decay_epsilon, epsilon_min)\n",
    "    episode_reward_history.append(episode_reward)\n",
    "    \n",
    "    if (episode+1) % 10 == 0:\n",
    "        avg_rewards = np.mean(episode_reward_history[-10:])\n",
    "        print(\"Episode {}/{}, average last 10 rewards {}\".format(episode+1, n_episodes, avg_rewards))\n",
    "        if avg_rewards >= 500.0:\n",
    "            break\n",
    "    \n",
    "    # if episode > 10: break"
   ]
  },
  {
   "cell_type": "code",
   "execution_count": 529,
   "metadata": {},
   "outputs": [
    {
     "data": {
      "text/plain": [
       "array([[-0.01039738,  0.01608276,  0.00298963,  0.03868127],\n",
       "       [-0.01039721,  0.01605068,  0.00298371,  0.03860574],\n",
       "       [-0.0104175 ,  0.01601867,  0.00298969,  0.03860421],\n",
       "       [-0.01039686,  0.01605086,  0.00298385,  0.03868117],\n",
       "       [-0.01039675,  0.01601875,  0.00298394,  0.03860412]])"
      ]
     },
     "execution_count": 529,
     "metadata": {},
     "output_type": "execute_result"
    }
   ],
   "source": [
    "# (2, 4)\n",
    "inputs = np.array([[-0.01039682,  0.01605072,  0.0029838 ,  0.03860417], [ 0.01260861,  0.21097969, -0.0169554 , -0.2498462 ]])\n",
    "\n",
    "# (5, 4, 1)\n",
    "weights_enc = np.array([[[1.000054  ],\n",
    "        [1.0019959 ],\n",
    "        [1.0019536 ],\n",
    "        [1.0019972 ]],\n",
    "\n",
    "       [[1.0000376 ],\n",
    "        [0.9999973 ],\n",
    "        [0.99996847],\n",
    "        [1.0000407 ]],\n",
    "\n",
    "       [[1.001989  ],\n",
    "        [0.9980035 ],\n",
    "        [1.0019749 ],\n",
    "        [1.000001  ]],\n",
    "\n",
    "       [[1.0000042 ],\n",
    "        [1.0000086 ],\n",
    "        [1.0000173 ],\n",
    "        [1.0019947 ]],\n",
    "\n",
    "       [[0.99999315],\n",
    "        [0.99800795],\n",
    "        [1.0000461 ],\n",
    "        [0.9999987 ]]], dtype='float32')\n",
    "weights_enc = weights_enc.squeeze()\n",
    "\n",
    "\n",
    "(inputs[0] * weights_enc)"
   ]
  },
  {
   "cell_type": "code",
   "execution_count": 535,
   "metadata": {},
   "outputs": [
    {
     "data": {
      "text/plain": [
       "array([[ 0.01260929,  0.21140079, -0.01698852, -0.2503452 ],\n",
       "       [ 0.01260908,  0.21097912, -0.01695487, -0.24985636],\n",
       "       [ 0.01263369,  0.21055847, -0.01698889, -0.24984644],\n",
       "       [ 0.01260866,  0.2109815 , -0.01695569, -0.25034458],\n",
       "       [ 0.01260852,  0.21055941, -0.01695618, -0.24984587]])"
      ]
     },
     "execution_count": 535,
     "metadata": {},
     "output_type": "execute_result"
    }
   ],
   "source": [
    "(inputs[1] * weights_enc)"
   ]
  },
  {
   "cell_type": "code",
   "execution_count": 538,
   "metadata": {},
   "outputs": [
    {
     "data": {
      "text/plain": [
       "array([[ True,  True,  True,  True],\n",
       "       [ True,  True,  True,  True],\n",
       "       [ True,  True,  True,  True],\n",
       "       [ True,  True,  True,  True],\n",
       "       [ True,  True,  True,  True]])"
      ]
     },
     "execution_count": 538,
     "metadata": {},
     "output_type": "execute_result"
    }
   ],
   "source": [
    "np.einsum(\"lqf,bq->blqf\", weights_enc[..., None], inputs).squeeze()[0] == (inputs[0] * weights_enc)"
   ]
  },
  {
   "cell_type": "code",
   "execution_count": null,
   "metadata": {},
   "outputs": [],
   "source": [
    "# =====\n",
    "# inputs=<tf.Tensor: shape=(2, 4), dtype=float32, numpy=\n",
    "# array([[-0.01039682,  0.01605072,  0.0029838 ,  0.03860417],\n",
    "#        [ 0.01260861,  0.21097969, -0.0169554 , -0.2498462 ]],\n",
    "#       dtype=float32)>\n",
    "# before: weights_enc=<tf.Tensor: shape=(5, 4, 1), dtype=float32, numpy=\n",
    "# array([[[1.000054  ],\n",
    "#         [1.0019959 ],\n",
    "#         [1.0019536 ],\n",
    "#         [1.0019972 ]],\n",
    "\n",
    "#        [[1.0000376 ],\n",
    "#         [0.9999973 ],\n",
    "#         [0.99996847],\n",
    "#         [1.0000407 ]],\n",
    "\n",
    "#        [[1.001989  ],\n",
    "#         [0.9980035 ],\n",
    "#         [1.0019749 ],\n",
    "#         [1.000001  ]],\n",
    "\n",
    "#        [[1.0000042 ],\n",
    "#         [1.0000086 ],\n",
    "#         [1.0000173 ],\n",
    "#         [1.0019947 ]],\n",
    "\n",
    "#        [[0.99999315],\n",
    "#         [0.99800795],\n",
    "#         [1.0000461 ],\n",
    "#         [0.9999987 ]]], dtype=float32)>\n",
    "# after: weights_enc=<tf.Tensor: shape=(2, 5, 4, 1), dtype=float32, numpy=\n",
    "# array([[[[-0.01039738],\n",
    "#          [ 0.01608276],\n",
    "#          [ 0.00298963],\n",
    "#          [ 0.03868127]],\n",
    "\n",
    "#         [[-0.01039721],\n",
    "#          [ 0.01605068],\n",
    "#          [ 0.00298371],\n",
    "#          [ 0.03860573]],\n",
    "\n",
    "#         [[-0.0104175 ],\n",
    "#          [ 0.01601868],\n",
    "#          [ 0.0029897 ],\n",
    "#          [ 0.0386042 ]],\n",
    "\n",
    "#         [[-0.01039687],\n",
    "#          [ 0.01605086],\n",
    "#          [ 0.00298386],\n",
    "#          [ 0.03868117]],\n",
    "\n",
    "#         [[-0.01039675],\n",
    "#          [ 0.01601875],\n",
    "#          [ 0.00298394],\n",
    "#          [ 0.03860411]]],\n",
    "\n",
    "\n",
    "#        [[[ 0.0126093 ],\n",
    "#          [ 0.21140078],\n",
    "#          [-0.01698852],\n",
    "#          [-0.2503452 ]],\n",
    "\n",
    "#         [[ 0.01260909],\n",
    "#          [ 0.21097912],\n",
    "#          [-0.01695487],\n",
    "#          [-0.24985637]],\n",
    "\n",
    "#         [[ 0.01263369],\n",
    "#          [ 0.21055846],\n",
    "#          [-0.01698889],\n",
    "#          [-0.24984644]],\n",
    "\n",
    "#         [[ 0.01260867],\n",
    "#          [ 0.2109815 ],\n",
    "#          [-0.01695569],\n",
    "#          [-0.25034457]],\n",
    "\n",
    "#         [[ 0.01260853],\n",
    "#          [ 0.2105594 ],\n",
    "#          [-0.01695618],\n",
    "#          [-0.24984588]]]], dtype=float32)>"
   ]
  },
  {
   "cell_type": "code",
   "execution_count": 121,
   "metadata": {},
   "outputs": [
    {
     "data": {
      "text/plain": [
       "[<tf.Variable 'weights_var:0' shape=(6, 4, 3) dtype=float32, numpy=\n",
       " array([[[ 0.8992366 ,  2.8772943 ,  1.879757  ],\n",
       "         [ 0.37681198,  2.1544685 ,  0.864176  ],\n",
       "         [ 0.8254121 ,  2.9689143 ,  3.1924121 ],\n",
       "         [ 1.8816415 ,  0.53120875,  0.27561656]],\n",
       " \n",
       "        [[ 0.14867863,  1.7185    ,  2.0863283 ],\n",
       "         [ 1.9247961 ,  1.7721976 ,  0.23817705],\n",
       "         [ 1.3070227 ,  1.501061  ,  1.6546408 ],\n",
       "         [ 0.52923423,  0.29428253,  2.6046674 ]],\n",
       " \n",
       "        [[ 0.9749011 ,  0.7565416 ,  2.3298078 ],\n",
       "         [ 2.2114854 ,  1.3636088 ,  2.3599875 ],\n",
       "         [ 2.518731  ,  2.6639385 ,  1.6354268 ],\n",
       "         [ 0.4897658 ,  1.9616092 ,  3.1068795 ]],\n",
       " \n",
       "        [[ 2.3427887 ,  2.1460302 ,  3.0651636 ],\n",
       "         [-0.37185103,  3.041791  ,  2.3234792 ],\n",
       "         [ 0.61731356,  0.1413978 ,  2.8576503 ],\n",
       "         [ 1.0293293 ,  2.3811455 ,  3.2479558 ]],\n",
       " \n",
       "        [[ 1.6332233 ,  2.4399865 ,  1.41707   ],\n",
       "         [ 0.45894718,  2.2528346 ,  1.2898452 ],\n",
       "         [ 2.6537335 ,  0.87593484,  1.8463498 ],\n",
       "         [ 0.64321524,  1.4454983 ,  1.8362882 ]],\n",
       " \n",
       "        [[ 2.598592  ,  1.0907158 ,  0.82717633],\n",
       "         [ 0.51560163,  2.3943396 ,  2.6201646 ],\n",
       "         [ 1.3789502 ,  2.364773  ,  0.9432915 ],\n",
       "         [ 1.1250836 ,  2.7506301 ,  1.9788439 ]]], dtype=float32)>,\n",
       " <tf.Variable 'weights_enc:0' shape=(5, 4, 1) dtype=float32, numpy=\n",
       " array([[[0.5685038 ],\n",
       "         [0.9148708 ],\n",
       "         [0.5175057 ],\n",
       "         [0.57229465]],\n",
       " \n",
       "        [[0.43865618],\n",
       "         [0.52986145],\n",
       "         [0.7672997 ],\n",
       "         [0.35153013]],\n",
       " \n",
       "        [[1.1600906 ],\n",
       "         [0.34931526],\n",
       "         [1.0487832 ],\n",
       "         [0.7488983 ]],\n",
       " \n",
       "        [[0.45236388],\n",
       "         [0.6127326 ],\n",
       "         [0.80711466],\n",
       "         [0.33779317]],\n",
       " \n",
       "        [[0.88493395],\n",
       "         [0.27212942],\n",
       "         [1.0504917 ],\n",
       "         [0.51375157]]], dtype=float32)>,\n",
       " <tf.Variable 'obs-weights:0' shape=(1, 2) dtype=float32, numpy=array([[79.57911 , 79.445656]], dtype=float32)>]"
      ]
     },
     "execution_count": 121,
     "metadata": {},
     "output_type": "execute_result"
    }
   ],
   "source": [
    "model.trainable_variables"
   ]
  },
  {
   "cell_type": "code",
   "execution_count": 122,
   "metadata": {},
   "outputs": [
    {
     "name": "stdout",
     "output_type": "stream",
     "text": [
      "<tf.Variable 'weights_var:0' shape=(6, 4, 3) dtype=float32, numpy=\n",
      "array([[[ 0.8992366 ,  2.8772943 ,  1.879757  ],\n",
      "        [ 0.37681198,  2.1544685 ,  0.864176  ],\n",
      "        [ 0.8254121 ,  2.9689143 ,  3.1924121 ],\n",
      "        [ 1.8816415 ,  0.53120875,  0.27561656]],\n",
      "\n",
      "       [[ 0.14867863,  1.7185    ,  2.0863283 ],\n",
      "        [ 1.9247961 ,  1.7721976 ,  0.23817705],\n",
      "        [ 1.3070227 ,  1.501061  ,  1.6546408 ],\n",
      "        [ 0.52923423,  0.29428253,  2.6046674 ]],\n",
      "\n",
      "       [[ 0.9749011 ,  0.7565416 ,  2.3298078 ],\n",
      "        [ 2.2114854 ,  1.3636088 ,  2.3599875 ],\n",
      "        [ 2.518731  ,  2.6639385 ,  1.6354268 ],\n",
      "        [ 0.4897658 ,  1.9616092 ,  3.1068795 ]],\n",
      "\n",
      "       [[ 2.3427887 ,  2.1460302 ,  3.0651636 ],\n",
      "        [-0.37185103,  3.041791  ,  2.3234792 ],\n",
      "        [ 0.61731356,  0.1413978 ,  2.8576503 ],\n",
      "        [ 1.0293293 ,  2.3811455 ,  3.2479558 ]],\n",
      "\n",
      "       [[ 1.6332233 ,  2.4399865 ,  1.41707   ],\n",
      "        [ 0.45894718,  2.2528346 ,  1.2898452 ],\n",
      "        [ 2.6537335 ,  0.87593484,  1.8463498 ],\n",
      "        [ 0.64321524,  1.4454983 ,  1.8362882 ]],\n",
      "\n",
      "       [[ 2.598592  ,  1.0907158 ,  0.82717633],\n",
      "        [ 0.51560163,  2.3943396 ,  2.6201646 ],\n",
      "        [ 1.3789502 ,  2.364773  ,  0.9432915 ],\n",
      "        [ 1.1250836 ,  2.7506301 ,  1.9788439 ]]], dtype=float32)>\n",
      "<tf.Variable 'weights_enc:0' shape=(5, 4, 1) dtype=float32, numpy=\n",
      "array([[[0.5685038 ],\n",
      "        [0.9148708 ],\n",
      "        [0.5175057 ],\n",
      "        [0.57229465]],\n",
      "\n",
      "       [[0.43865618],\n",
      "        [0.52986145],\n",
      "        [0.7672997 ],\n",
      "        [0.35153013]],\n",
      "\n",
      "       [[1.1600906 ],\n",
      "        [0.34931526],\n",
      "        [1.0487832 ],\n",
      "        [0.7488983 ]],\n",
      "\n",
      "       [[0.45236388],\n",
      "        [0.6127326 ],\n",
      "        [0.80711466],\n",
      "        [0.33779317]],\n",
      "\n",
      "       [[0.88493395],\n",
      "        [0.27212942],\n",
      "        [1.0504917 ],\n",
      "        [0.51375157]]], dtype=float32)>\n",
      "<tf.Variable 'obs-weights:0' shape=(1, 2) dtype=float32, numpy=array([[79.57911 , 79.445656]], dtype=float32)>\n"
     ]
    }
   ],
   "source": [
    "updated_trainable_variables = model.trainable_variables # Preserve\n",
    "for v in updated_trainable_variables: print(v)"
   ]
  },
  {
   "cell_type": "code",
   "execution_count": 123,
   "metadata": {},
   "outputs": [
    {
     "data": {
      "text/plain": [
       "[<matplotlib.lines.Line2D at 0x1b5b37350>]"
      ]
     },
     "execution_count": 123,
     "metadata": {},
     "output_type": "execute_result"
    },
    {
     "data": {
      "image/png": "[encoded data removed]",
      "text/plain": [
       "<Figure size 640x480 with 1 Axes>"
      ]
     },
     "metadata": {},
     "output_type": "display_data"
    }
   ],
   "source": [
    "plt.plot(episode_reward_history)"
   ]
  },
  {
   "cell_type": "code",
   "execution_count": 40,
   "metadata": {},
   "outputs": [
    {
     "name": "stderr",
     "output_type": "stream",
     "text": [
      "/usr/local/Caskroom/miniforge/base/envs/qml/lib/python3.11/site-packages/pennylane/math/utils.py:227: UserWarning: Contains tensors of types {'autograd', 'tensorflow'}; dispatch will prioritize TensorFlow, PyTorch, and  Jax over Autograd. Consider replacing Autograd with vanilla NumPy.\n",
      "  warnings.warn(\n"
     ]
    },
    {
     "data": {
      "text/plain": [
       "[{'state': array([[0.00602067, 0.01091631, 0.00542063, 0.0035057 ]], dtype=float32),\n",
       "  'action': 0,\n",
       "  'reward': 1.0,\n",
       "  'next_state': array([[ 0.00623899, -0.18428296,  0.00549074,  0.29789397]],\n",
       "        dtype=float32),\n",
       "  'done': False},\n",
       " {'state': array([[0.00602067, 0.01091631, 0.00542063, 0.0035057 ]], dtype=float32),\n",
       "  'action': 0,\n",
       "  'reward': 1.0,\n",
       "  'next_state': array([[ 0.00255333, -0.37948275,  0.01144862,  0.5923035 ]],\n",
       "        dtype=float32),\n",
       "  'done': False},\n",
       " {'state': array([[0.00602067, 0.01091631, 0.00542063, 0.0035057 ]], dtype=float32),\n",
       "  'action': 0,\n",
       "  'reward': 1.0,\n",
       "  'next_state': array([[-0.00503632, -0.57476306,  0.02329469,  0.8885706 ]],\n",
       "        dtype=float32),\n",
       "  'done': False},\n",
       " {'state': array([[0.00602067, 0.01091631, 0.00542063, 0.0035057 ]], dtype=float32),\n",
       "  'action': 0,\n",
       "  'reward': 1.0,\n",
       "  'next_state': array([[-0.01653158, -0.7701933 ,  0.0410661 ,  1.1884844 ]],\n",
       "        dtype=float32),\n",
       "  'done': False},\n",
       " {'state': array([[0.00602067, 0.01091631, 0.00542063, 0.0035057 ]], dtype=float32),\n",
       "  'action': 0,\n",
       "  'reward': 1.0,\n",
       "  'next_state': array([[-0.03193545, -0.9658228 ,  0.06483579,  1.4937514 ]],\n",
       "        dtype=float32),\n",
       "  'done': False},\n",
       " {'state': array([[0.00602067, 0.01091631, 0.00542063, 0.0035057 ]], dtype=float32),\n",
       "  'action': 0,\n",
       "  'reward': 1.0,\n",
       "  'next_state': array([[-0.0512519 , -1.1616708 ,  0.09471082,  1.8059545 ]],\n",
       "        dtype=float32),\n",
       "  'done': False},\n",
       " {'state': array([[0.00602067, 0.01091631, 0.00542063, 0.0035057 ]], dtype=float32),\n",
       "  'action': 0,\n",
       "  'reward': 1.0,\n",
       "  'next_state': array([[-0.07448532, -1.3577137 ,  0.1308299 ,  2.1265044 ]],\n",
       "        dtype=float32),\n",
       "  'done': False},\n",
       " {'state': array([[0.00602067, 0.01091631, 0.00542063, 0.0035057 ]], dtype=float32),\n",
       "  'action': 0,\n",
       "  'reward': 1.0,\n",
       "  'next_state': array([[-0.1016396 , -1.5538708 ,  0.17335999,  2.4565797 ]],\n",
       "        dtype=float32),\n",
       "  'done': False},\n",
       " {'state': array([[0.00602067, 0.01091631, 0.00542063, 0.0035057 ]], dtype=float32),\n",
       "  'action': 0,\n",
       "  'reward': 1.0,\n",
       "  'next_state': array([[-0.13271701, -1.749987  ,  0.22249159,  2.7970574 ]],\n",
       "        dtype=float32),\n",
       "  'done': True}]"
      ]
     },
     "execution_count": 40,
     "metadata": {},
     "output_type": "execute_result"
    }
   ],
   "source": [
    "env = gym.make('CartPole-v1')\n",
    "epsilon = 0\n",
    "\n",
    "state, _ = env.reset()\n",
    "trajectory = []\n",
    "for t in range(100):\n",
    "    traj = interact_env(state, model, epsilon, n_actions, env)\n",
    "    trajectory.append(traj)\n",
    "    if traj['done']:\n",
    "        break\n",
    "\n",
    "trajectory"
   ]
  },
  {
   "cell_type": "code",
   "execution_count": 44,
   "metadata": {},
   "outputs": [],
   "source": [
    "def render_episode_as_gif_frames(env_name, actor, max_steps):\n",
    "    env = gym.make(env_name, render_mode='rgb_array')\n",
    "    \n",
    "    state, _ = env.reset()\n",
    "    \n",
    "    state = tf.constant(state, dtype=tf.float32)\n",
    "    screen = env.render()\n",
    "    images = [Image.fromarray(screen)]\n",
    "    \n",
    "    for i in range(1, max_steps+1):\n",
    "        state = tf.expand_dims(state, 0)\n",
    "        action_probs = actor(state)\n",
    "        action = np.argmax(np.squeeze(action_probs))\n",
    "        \n",
    "        state, reward, done, _, _ = env.step(action)\n",
    "        state = tf.constant(state, dtype=tf.float32)\n",
    "        \n",
    "        screen = env.render()\n",
    "        images.append(Image.fromarray(screen))\n",
    "        \n",
    "        if done:\n",
    "            break\n",
    "\n",
    "    return images\n",
    "\n",
    "def save_frames_as_gif(frames: list[Image.Image], path: Path, **kwargs):\n",
    "    frames[1].save(\n",
    "        path,\n",
    "        save_all=True,\n",
    "        append_images=frames[2:],\n",
    "        optimize=False,\n",
    "        duration=40,\n",
    "        loop=0,\n",
    "        **kwargs,\n",
    "    )\n",
    "    \n",
    "import IPython.display\n",
    "def display_gif(path: Path) -> IPython.display.DisplayHandle:\n",
    "    return display(\n",
    "        IPython.display.Image(\n",
    "            data=open(path,'rb').read(), format='png'),\n",
    "        )"
   ]
  },
  {
   "cell_type": "code",
   "execution_count": 45,
   "metadata": {},
   "outputs": [
    {
     "name": "stderr",
     "output_type": "stream",
     "text": [
      "/usr/local/Caskroom/miniforge/base/envs/qml/lib/python3.11/site-packages/pennylane/math/utils.py:227: UserWarning: Contains tensors of types {'autograd', 'tensorflow'}; dispatch will prioritize TensorFlow, PyTorch, and  Jax over Autograd. Consider replacing Autograd with vanilla NumPy.\n",
      "  warnings.warn(\n"
     ]
    },
    {
     "name": "stdout",
     "output_type": "stream",
     "text": [
      "rendering 10 frames to GIF ./images/gym_CartPole.gif\n"
     ]
    },
    {
     "data": {
      "image/png": "[encoded data removed]",
      "text/plain": [
       "<IPython.core.display.Image object>"
      ]
     },
     "metadata": {},
     "output_type": "display_data"
    }
   ],
   "source": [
    "gif_path = './images/gym_CartPole.gif'\n",
    "frames = render_episode_as_gif_frames('CartPole-v1', model, 100)\n",
    "print(f\"rendering {len(frames)} frames to GIF {gif_path}\")\n",
    "save_frames_as_gif(frames, gif_path)\n",
    "display_gif(gif_path)"
   ]
  },
  {
   "cell_type": "code",
   "execution_count": null,
   "metadata": {},
   "outputs": [],
   "source": []
  }
 ],
 "metadata": {
  "kernelspec": {
   "display_name": "qml",
   "language": "python",
   "name": "python3"
  },
  "language_info": {
   "codemirror_mode": {
    "name": "ipython",
    "version": 3
   },
   "file_extension": ".py",
   "mimetype": "text/x-python",
   "name": "python",
   "nbconvert_exporter": "python",
   "pygments_lexer": "ipython3",
   "version": "3.11.6"
  }
 },
 "nbformat": 4,
 "nbformat_minor": 2
}
