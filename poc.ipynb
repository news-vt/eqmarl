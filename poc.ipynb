{
 "cells": [
  {
   "cell_type": "markdown",
   "metadata": {},
   "source": [
    "# Proof of Concept (PoC)\n",
    "\n",
    "Building QMARL with entangled agents."
   ]
  },
  {
   "cell_type": "code",
   "execution_count": 153,
   "metadata": {},
   "outputs": [],
   "source": [
    "from cirq.contrib.svg import SVGCircuit, circuit_to_svg\n",
    "from pathlib import Path\n",
    "from typing import Any, Callable, Generator, Iterable\n",
    "import cirq\n",
    "import matplotlib.gridspec as gsp\n",
    "import matplotlib.pyplot as plt\n",
    "import numpy as np\n",
    "import pandas as pd\n",
    "import seaborn as sns\n",
    "import sympy"
   ]
  },
  {
   "cell_type": "code",
   "execution_count": 154,
   "metadata": {},
   "outputs": [],
   "source": [
    "# This flag globally disables all quantum circuit tests within the function `test_runner` (defined below).\n",
    "# Use this flag to prevent lots of tests from running and taking up significant execution time.\n",
    "GLOBAL_TEST_FLAG = False"
   ]
  },
  {
   "cell_type": "code",
   "execution_count": 155,
   "metadata": {},
   "outputs": [
    {
     "data": {
      "text/plain": [
       "<contextlib.ExitStack at 0x147a89250>"
      ]
     },
     "execution_count": 155,
     "metadata": {},
     "output_type": "execute_result"
    }
   ],
   "source": [
    "plt.ioff() # Turn off automatic showing of plots (must explicitly show plots)."
   ]
  },
  {
   "cell_type": "markdown",
   "metadata": {},
   "source": [
    "## Experiment functions"
   ]
  },
  {
   "cell_type": "code",
   "execution_count": 156,
   "metadata": {},
   "outputs": [],
   "source": [
    "def plot_state_histogram_all(samples, axis, d: int, n: int, key: str = 'all', color: str|tuple[float, float, float] = None):\n",
    "    hist_all = samples.histogram(key=key)\n",
    "    df_hist_all = pd.DataFrame.from_records([hist_all], columns=list(range(2**(d*n)))).melt(value_vars=list(range(2**(d*n)))).rename(columns={'variable': 'qubit state', 'value': 'result count'})\n",
    "    if color is None:\n",
    "        color = sns.color_palette()[0]\n",
    "    sns.barplot(df_hist_all, x='qubit state', y='result count', ax=axis, color=color)\n",
    "    ctr = samples.histogram(key=key)\n",
    "    mean = np.mean([v for k, v in ctr.items()])\n",
    "    std = np.std([v for k, v in ctr.items()])\n",
    "    axis.axhline(y=mean, color='red', linestyle='--', label='mean')\n",
    "    axis.axhline(y=mean+std, color='green', linestyle='--', label='mean+std')\n",
    "    axis.set_xticklabels(axis.get_xticklabels(), rotation=90)\n",
    "    axis.xaxis.set_major_formatter(lambda x, pos: f\"{int(x):0{d*n}b}\")\n",
    "    axis.legend()\n",
    "    return axis\n",
    "\n",
    "\n",
    "def plot_state_histogram_agents(samples, axis, d: int, n: int, key_prefix: str = 'agent', colors: list[str|tuple[float,float,float]] = None):\n",
    "    hist_agents = [samples.histogram(key=f\"{key_prefix}{k}\") for k in range(n)]\n",
    "    df_hist_agents = pd.DataFrame.from_records(hist_agents, columns=list(range(2**d)))\n",
    "    df_hist_agents = df_hist_agents\\\n",
    "        .rename_axis(index='agent')\\\n",
    "        .reset_index()\\\n",
    "        .melt(id_vars='agent', value_vars=list(range(2**d)))\\\n",
    "        .rename(columns={'variable': 'qubit state', 'value': 'result count'})\n",
    "    if colors is None:\n",
    "        colors = sns.color_palette()[1:] # Remove first one because it is assumed to be reserved for the \"all\" plot.\n",
    "    sns.barplot(df_hist_agents, x='qubit state', y='result count', hue='agent', ax=axis, palette=colors)\n",
    "    axis.set_xticklabels(axis.get_xticklabels(), rotation=90)\n",
    "    axis.xaxis.set_major_formatter(lambda x, pos: f\"{int(x):0{d}b}\")\n",
    "    return axis"
   ]
  },
  {
   "cell_type": "code",
   "execution_count": 157,
   "metadata": {},
   "outputs": [],
   "source": [
    "def build_parameterized_system_circuit(\n",
    "    d: int, \n",
    "    n: int, \n",
    "    policy_fn: Callable[[list[cirq.LineQubit], int], tuple[Iterable[Any], list[list[sympy.Symbol]]]],\n",
    "    initial_state_prep_fn: Callable[[list[cirq.LineQubit]], Any] = None,\n",
    "    meas_key_all: str = 'all',\n",
    "    meas_key_prefix_agent: str = 'agent',\n",
    "    meas_flag: bool = True, # Denotes whether to perform measurements (True) or not (False).\n",
    "    ) -> tuple[cirq.Circuit, list[list[list[sympy.Symbol]]]]:\n",
    "    \"\"\"Constructs an parameterized circuit representing the entire system (all agents).\n",
    "    \"\"\"\n",
    "    qubits = cirq.LineQubit.range(d * n)\n",
    "    circuit = cirq.Circuit()\n",
    "    # var_thetas, enc_inputs = [], []\n",
    "    symbol_list = []\n",
    "    if initial_state_prep_fn is not None:\n",
    "        circuit.append(initial_state_prep_fn(qubits))\n",
    "    for aidx in range(n):\n",
    "        qidx = aidx * d # Starting qubit index for the specified agent.\n",
    "        \n",
    "        # Policy circuit.\n",
    "        agent_circuit_gen_fn, agent_symbol_list = policy_fn(qubits[qidx:qidx+d], aidx)\n",
    "        symbol_list.append(agent_symbol_list) # Preserve symbols for agent.\n",
    "        circuit.append(agent_circuit_gen_fn())\n",
    "        \n",
    "        # Measure (only if requested).\n",
    "        if meas_flag: circuit.append(cirq.measure(qubits[qidx:qidx+d], key=f\"{meas_key_prefix_agent}{aidx}\")) # Measure agent qubits.\n",
    "    if meas_flag: circuit.append(cirq.measure(qubits, key=meas_key_all)) # Store measurement of entire system circuit.\n",
    "    return circuit, symbol_list"
   ]
  },
  {
   "cell_type": "code",
   "execution_count": 158,
   "metadata": {},
   "outputs": [],
   "source": [
    "def simulate_parameterized_circuit(\n",
    "    circuit: cirq.Circuit,\n",
    "    symbol_dict: dict,\n",
    "    repetitions: int = 100,\n",
    "    ) -> tuple[float, dict]:\n",
    "    param_resolver = cirq.ParamResolver(symbol_dict)\n",
    "\n",
    "    # Compute entanglement entropy of output state.\n",
    "    extra_data_fields = {}\n",
    "    extra_data_fields['rho'] = cirq.final_density_matrix(circuit, param_resolver=param_resolver)\n",
    "    extra_data_fields['entropy'] = cirq.von_neumann_entropy(extra_data_fields['rho'])\n",
    "    \n",
    "    # Simulate circuit and generate histogram of measurement outcomes.\n",
    "    sim = cirq.Simulator()\n",
    "    samples = sim.run(circuit, repetitions=repetitions, param_resolver=param_resolver)\n",
    "    return samples, extra_data_fields"
   ]
  },
  {
   "cell_type": "code",
   "execution_count": 159,
   "metadata": {},
   "outputs": [],
   "source": [
    "def test_runner(\n",
    "    d: int,\n",
    "    n: int,\n",
    "    policy_fn: Callable[[list[cirq.LineQubit], int], tuple[Iterable[Any], list[list]]],\n",
    "    symbol_resolver_fn: Callable[..., dict] = None,\n",
    "    figure_kwargs: dict = dict(layout='constrained', figsize=(20,14)),\n",
    "    subfigure_kwargs: dict = dict(nrows=2, ncols=2, wspace=0.09, hspace=0.09),\n",
    "    figure_title: str = None,\n",
    "    repetitions: int = 100,\n",
    "    initial_state_prep_fn: Callable[[list[cirq.LineQubit]], Any] = None,\n",
    "    plot_all_histogram: bool = True,\n",
    "    plot_agent_histogram: bool = True,\n",
    "    return_sim_results: bool = False,\n",
    "    ) -> plt.Figure|tuple[plt.Figure,list[tuple[dict, dict]]]:\n",
    "    assert plot_all_histogram or plot_agent_histogram, 'must designate at least one histogram plot'\n",
    "\n",
    "    # Default resolver returns empty dictionary.\n",
    "    if symbol_resolver_fn is None:\n",
    "        symbol_resolver_fn = lambda *args, **kwargs: {}\n",
    "    \n",
    "    # Nullify all return values if testing is disabled.\n",
    "    if not GLOBAL_TEST_FLAG:\n",
    "        fig, all_sim_results = None, None\n",
    "\n",
    "    else:\n",
    "        fig = plt.figure(**figure_kwargs)\n",
    "        subfigs = fig.subfigures(**subfigure_kwargs)\n",
    "        subfigs = subfigs.flatten()\n",
    "        fig.suptitle(figure_title)\n",
    "        \n",
    "        n_circuits = len(subfigs)\n",
    "        all_sim_results: list[tuple[dict, dict]] = []\n",
    "        for i in range(n_circuits):\n",
    "            circuit, symbol_list = build_parameterized_system_circuit(\n",
    "                d=d,\n",
    "                n=n,\n",
    "                policy_fn=policy_fn,\n",
    "                initial_state_prep_fn=initial_state_prep_fn,\n",
    "                meas_key_all='all',\n",
    "                meas_key_prefix_agent='agent',\n",
    "            )\n",
    "\n",
    "            # Build parameter dictionary.\n",
    "            # Resolves parameter name to value.\n",
    "            symbol_dict = symbol_resolver_fn(symbol_list)\n",
    "\n",
    "            # Simulate.\n",
    "            samples, extra_data_fields = simulate_parameterized_circuit(circuit=circuit, symbol_dict=symbol_dict, repetitions=repetitions)\n",
    "            all_sim_results.append((samples, extra_data_fields)) # Append the tuple of samples and extra fields.\n",
    "\n",
    "            # Plot measurement histogram for all qubits and qubits for each agent.\n",
    "            if plot_agent_histogram and plot_all_histogram:\n",
    "                axs = subfigs[i].subplots(2, 1).flatten()\n",
    "                plot_state_histogram_all(samples, axs[0], d, n, key='all')\n",
    "                plot_state_histogram_agents(samples, axs[1], d, n, key_prefix='agent')\n",
    "            else:\n",
    "                axs = [subfigs[i].subplots(1, 1)]\n",
    "                if plot_all_histogram:\n",
    "                    plot_state_histogram_all(samples, axs[0], d, n, key='all')\n",
    "                elif plot_agent_histogram:\n",
    "                    plot_state_histogram_agents(samples, axs[0], d, n, key_prefix='agent')\n",
    "            \n",
    "            extra_key = 'entropy'\n",
    "            if extra_key in extra_data_fields: # Display entropy.\n",
    "                axs[0].set_title(f\"{extra_key}={extra_data_fields[extra_key]:.4f}\")\n",
    "\n",
    "    if return_sim_results:\n",
    "        return fig, all_sim_results\n",
    "    else:\n",
    "        # Return the completed figure.\n",
    "        return fig"
   ]
  },
  {
   "cell_type": "markdown",
   "metadata": {},
   "source": [
    "## Circuit generation tools"
   ]
  },
  {
   "cell_type": "code",
   "execution_count": 160,
   "metadata": {},
   "outputs": [],
   "source": [
    "## Functions to create various entangled input states.\n",
    "\n",
    "def entangle_agents_phi_plus(qubits: list[cirq.LineQubit], d: int, n: int):\n",
    "    \"\"\"Entangles via $\\\\Phi^+$.\"\"\"\n",
    "    for i in range(d):\n",
    "        yield cirq.H(qubits[i])\n",
    "        for j in range(n-1):\n",
    "            yield cirq.CNOT(qubits[j*d + i], qubits[(j+1)*d + i])\n",
    "\n",
    "\n",
    "def entangle_agents_phi_minus(qubits: list[cirq.LineQubit], d: int, n: int):\n",
    "    \"\"\"Entangles via $\\\\Phi^-$.\"\"\"\n",
    "    for i in range(d):\n",
    "        yield cirq.X(qubits[i])\n",
    "        yield cirq.H(qubits[i])\n",
    "        for j in range(n-1):\n",
    "            yield cirq.CNOT(qubits[j*d + i], qubits[(j+1)*d + i])\n",
    "\n",
    "\n",
    "def entangle_agents_psi_plus(qubits: list[cirq.LineQubit], d: int, n: int):\n",
    "    \"\"\"Entangles via $\\\\Psi^+$.\"\"\"\n",
    "    for i in range(d):\n",
    "        yield cirq.H(qubits[i])\n",
    "        for j in range(n-1):\n",
    "            yield cirq.X(qubits[(j+1)*d + i])\n",
    "            yield cirq.CNOT(qubits[j*d + i], qubits[(j+1)*d + i])\n",
    "            \n",
    "\n",
    "def entangle_agents_psi_minus(qubits: list[cirq.LineQubit], d: int, n: int):\n",
    "    \"\"\"Entangles via $\\\\Psi^-$.\"\"\"\n",
    "    for i in range(d):\n",
    "        yield cirq.X(qubits[i])\n",
    "        yield cirq.H(qubits[i])\n",
    "        for j in range(n-1):\n",
    "            yield cirq.X(qubits[(j+1)*d + i])\n",
    "            yield cirq.CNOT(qubits[j*d + i], qubits[(j+1)*d + i])"
   ]
  },
  {
   "cell_type": "code",
   "execution_count": 161,
   "metadata": {},
   "outputs": [],
   "source": [
    "## Adapted from: https://www.tensorflow.org/quantum/tutorials/quantum_reinforcement_learning\n",
    "\n",
    "def variational_rotation_3(qubit: cirq.LineQubit, symbols: tuple[float, float, float]) -> tuple[Any, Any, Any]:\n",
    "    \"\"\"Applies 3 rotation gates (Rx, Ry, Rz) to a single qubit using provided symbols for parameterization.\"\"\"\n",
    "    return [\n",
    "        cirq.rx(symbols[0])(qubit),\n",
    "        cirq.ry(symbols[1])(qubit),\n",
    "        cirq.rz(symbols[2])(qubit),\n",
    "    ]\n",
    "\n",
    "def variational_rotation_layer(\n",
    "    qubits: list[cirq.LineQubit],\n",
    "    symbols: list[list[float]],\n",
    "    variational_rotation_fn: Callable[[cirq.LineQubit, list[float]], Any] = variational_rotation_3,\n",
    "    ):\n",
    "    return [variational_rotation_fn(qubit, symbols[i]) for i, qubit in enumerate(qubits)]\n",
    "\n",
    "\n",
    "def circular_entangling_layer(\n",
    "    qubits: list[cirq.LineQubit],\n",
    "    gate: Callable[[cirq.LineQubit, cirq.LineQubit], Any] = cirq.CZ,\n",
    "    ) -> Generator:\n",
    "    \"\"\"Entangles a list of qubits with their next-neighbor in circular fashion (i.e., ensures first and last qubit are also entangled).\"\"\"\n",
    "    yield [gate(q0, q1) for q0, q1 in zip(qubits, qubits[1:])]\n",
    "    if len(qubits) != 2:\n",
    "        yield gate(qubits[0], qubits[-1]) # Entangle the first and last qubit.\n",
    "\n",
    "\n",
    "def neighbor_entangling_layer(\n",
    "    qubits: list[cirq.LineQubit],\n",
    "    gate: Callable[[cirq.LineQubit, cirq.LineQubit], Any] = cirq.CNOT,\n",
    "    ) -> Generator:\n",
    "    \"\"\"Entangles a list of qubits with their next-neighbor (does not entangle first and last qubit).\"\"\"\n",
    "    yield [gate(q0, q1) for q0, q1 in zip(qubits, qubits[1:])]\n",
    "\n",
    "\n",
    "def single_rotation_encoding_layer(\n",
    "    qubits: list[cirq.LineQubit],\n",
    "    symbols: list[float],\n",
    "    gate: Callable[[cirq.LineQubit], Any] = cirq.rx,\n",
    "    ) -> Any:\n",
    "    yield [gate(symbols[i])(qubit) for i, qubit in enumerate(qubits)]"
   ]
  },
  {
   "cell_type": "markdown",
   "metadata": {},
   "source": [
    "## Policy Circuits"
   ]
  },
  {
   "cell_type": "markdown",
   "metadata": {},
   "source": [
    "### Simple parameterized variational policy\n",
    "\n",
    "Contains variational layer with Rx, Ry, Rz rotations parameterized by $\\theta$, followed by a next-neighbor entanglement layer."
   ]
  },
  {
   "cell_type": "code",
   "execution_count": 162,
   "metadata": {},
   "outputs": [],
   "source": [
    "def parameterized_variational_policy_circuit(\n",
    "    qubits: list,\n",
    "    n_layers: int,\n",
    "    n_var_rotations: int = 3, # Number of rotational gates to apply for each qubit in the variational layer (e.g., Rx, Ry, Rz).\n",
    "    variational_layer_fn: Callable[[list[cirq.LineQubit], list[list[float]]], Any] = variational_rotation_layer,\n",
    "    entangling_layer_fn: Callable[[list[cirq.LineQubit]], Any] = lambda qubits: neighbor_entangling_layer(qubits, gate=cirq.CNOT),\n",
    "    symbol_superscript_index: int = None\n",
    "    ) -> tuple[Callable[[], Iterable[Any]], list[list]]:\n",
    "    d = len(qubits) # Dimension of qubits.\n",
    "    \n",
    "    # Variational parameters.\n",
    "    var_thetas = sympy.symbols(f\"theta{f'^{{({symbol_superscript_index})}}' if symbol_superscript_index is not None else ''}(0:{n_var_rotations*(n_layers+1)*d})\") # Add +1 here because there will be a final variational layer at the end.\n",
    "    var_thetas = np.asarray(var_thetas).reshape((n_layers+1, d, n_var_rotations))\n",
    "\n",
    "    # Define generator to build circuit.\n",
    "    # This allows the caller to define circuit parameters.\n",
    "    def gen_circuit() -> Iterable[Any]:\n",
    "        for l in range(n_layers):\n",
    "            yield variational_layer_fn(qubits, var_thetas[l])\n",
    "            yield entangling_layer_fn(qubits)\n",
    "\n",
    "    return gen_circuit, (var_thetas.flatten().tolist(),)\n",
    "\n",
    "\n",
    "## Define parameter resolvers for this variational-only policy.\n",
    "\n",
    "class ParamResolverRandomTheta:\n",
    "    def __call__(self, symbols: list[list[sympy.Symbol]]):\n",
    "        \"\"\"Resolver for random variational thetas and random encoder inputs.\"\"\"\n",
    "        var_thetas_matrix = symbols\n",
    "        var_thetas_matrix = np.asarray(var_thetas_matrix)\n",
    "        var_thetas_values = np.random.uniform(low=0., high=np.pi, size=var_thetas_matrix.shape)\n",
    "        param_dict = {\n",
    "            **{symbol: var_thetas_values.flatten()[i] for i, symbol in enumerate(var_thetas_matrix.flatten())},\n",
    "        }\n",
    "        return param_dict\n",
    "\n",
    "class ParamResolverIdenticalTheta:\n",
    "    \"\"\"Resolver for identical variational thetas.\n",
    "    \n",
    "    This is written as a class that overloads `__call__` to act like a function because the function needs to define the random values based on the shape of the inputs the first time it is called.\n",
    "    \"\"\"\n",
    "    def __init__(self):\n",
    "        self.var_thetas_values = None\n",
    "        self.enc_inputs_values = None\n",
    "\n",
    "    def __call__(self, symbols: list[list[sympy.Symbol]]):\n",
    "        var_thetas_matrix = symbols\n",
    "        var_thetas_matrix = np.asarray(var_thetas_matrix)\n",
    "        if self.var_thetas_values is None:\n",
    "            self.var_thetas_values = np.random.uniform(low=0., high=np.pi, size=var_thetas_matrix.shape)\n",
    "        param_dict = {\n",
    "            **{symbol: self.var_thetas_values.flatten()[i] for i, symbol in enumerate(var_thetas_matrix.flatten())},\n",
    "        }\n",
    "        return param_dict\n",
    "\n",
    "\n",
    "class ParamResolverNearlyIdenticalTheta:\n",
    "    \"\"\"Resolver for nearly identical variational thetas.\n",
    "    \n",
    "    This is written as a class that overloads `__call__` to act like a function because the function needs to define the random values based on the shape of the inputs the first time it is called.\n",
    "    \"\"\"\n",
    "    def __init__(self):\n",
    "        self.var_thetas_values = None\n",
    "\n",
    "    def __call__(self, symbols: list[list[sympy.Symbol]]):\n",
    "        var_thetas_matrix = symbols\n",
    "        var_thetas_matrix = np.asarray(var_thetas_matrix)\n",
    "        if self.var_thetas_values is None:\n",
    "            self.var_thetas_values = np.random.uniform(low=0., high=np.pi, size=var_thetas_matrix.shape)\n",
    "        thetas_offset = np.random.uniform(low=0., high=0.5, size=var_thetas_matrix.shape) # Random theta offset (so that thetas between runs are nearly identical).\n",
    "        param_dict = {\n",
    "            **{symbol: (self.var_thetas_values + thetas_offset).flatten()[i] for i, symbol in enumerate(var_thetas_matrix.flatten())},\n",
    "        }\n",
    "        return param_dict"
   ]
  },
  {
   "cell_type": "code",
   "execution_count": 163,
   "metadata": {},
   "outputs": [
    {
     "data": {
      "image/svg+xml": [
       "<svg xmlns=\"http://www.w3.org/2000/svg\" width=\"966.7517968750001\" height=\"340.0\"><line x1=\"30.0\" x2=\"936.7517968750001\" y1=\"45.0\" y2=\"45.0\" stroke=\"#1967d2\" stroke-width=\"1\" /><line x1=\"30.0\" x2=\"936.7517968750001\" y1=\"95.0\" y2=\"95.0\" stroke=\"#1967d2\" stroke-width=\"1\" /><line x1=\"30.0\" x2=\"936.7517968750001\" y1=\"145.0\" y2=\"145.0\" stroke=\"#1967d2\" stroke-width=\"1\" /><line x1=\"30.0\" x2=\"936.7517968750001\" y1=\"195.0\" y2=\"195.0\" stroke=\"#1967d2\" stroke-width=\"1\" /><line x1=\"30.0\" x2=\"936.7517968750001\" y1=\"245.0\" y2=\"245.0\" stroke=\"#1967d2\" stroke-width=\"1\" /><line x1=\"30.0\" x2=\"936.7517968750001\" y1=\"295.0\" y2=\"295.0\" stroke=\"#1967d2\" stroke-width=\"1\" /><line x1=\"120.0\" x2=\"250.0\" y1=\"5.0\" y2=\"5.0\" stroke=\"black\" stroke-width=\"1\" /><line x1=\"120.0\" x2=\"250.0\" y1=\"335.0\" y2=\"335.0\" stroke=\"black\" stroke-width=\"1\" /><line x1=\"140.0\" x2=\"140.0\" y1=\"45.0\" y2=\"195.0\" stroke=\"black\" stroke-width=\"3\" /><line x1=\"180.0\" x2=\"180.0\" y1=\"95.0\" y2=\"245.0\" stroke=\"black\" stroke-width=\"3\" /><line x1=\"220.0\" x2=\"220.0\" y1=\"145.0\" y2=\"295.0\" stroke=\"black\" stroke-width=\"3\" /><line x1=\"670.3504296875001\" x2=\"670.3504296875001\" y1=\"45.0\" y2=\"95.0\" stroke=\"black\" stroke-width=\"3\" /><line x1=\"670.3504296875001\" x2=\"670.3504296875001\" y1=\"195.0\" y2=\"245.0\" stroke=\"black\" stroke-width=\"3\" /><line x1=\"730.3504296875001\" x2=\"730.3504296875001\" y1=\"95.0\" y2=\"145.0\" stroke=\"black\" stroke-width=\"3\" /><line x1=\"730.3504296875001\" x2=\"730.3504296875001\" y1=\"245.0\" y2=\"295.0\" stroke=\"black\" stroke-width=\"3\" /><line x1=\"809.1541406250001\" x2=\"809.1541406250001\" y1=\"45.0\" y2=\"145.0\" stroke=\"black\" stroke-width=\"3\" /><line x1=\"809.1541406250001\" x2=\"809.1541406250001\" y1=\"195.0\" y2=\"295.0\" stroke=\"black\" stroke-width=\"3\" /><line x1=\"892.3548242187501\" x2=\"892.3548242187501\" y1=\"45.0\" y2=\"295.0\" stroke=\"black\" stroke-width=\"3\" /><line x1=\"120.0\" x2=\"120.0\" y1=\"5.0\" y2=\"15.0\" stroke=\"black\" stroke-width=\"3\" /><line x1=\"250.0\" x2=\"250.0\" y1=\"5.0\" y2=\"15.0\" stroke=\"black\" stroke-width=\"3\" /><line x1=\"120.0\" x2=\"120.0\" y1=\"325.0\" y2=\"335.0\" stroke=\"black\" stroke-width=\"3\" /><line x1=\"250.0\" x2=\"250.0\" y1=\"325.0\" y2=\"335.0\" stroke=\"black\" stroke-width=\"3\" /><rect x=\"10.0\" y=\"25.0\" width=\"40\" height=\"40\" stroke=\"black\" fill=\"white\" stroke-width=\"0\" /><text x=\"30.0\" y=\"45.0\" dominant-baseline=\"middle\" text-anchor=\"middle\" font-size=\"14px\" font-family=\"Arial\">0: </text><rect x=\"10.0\" y=\"75.0\" width=\"40\" height=\"40\" stroke=\"black\" fill=\"white\" stroke-width=\"0\" /><text x=\"30.0\" y=\"95.0\" dominant-baseline=\"middle\" text-anchor=\"middle\" font-size=\"14px\" font-family=\"Arial\">1: </text><rect x=\"10.0\" y=\"125.0\" width=\"40\" height=\"40\" stroke=\"black\" fill=\"white\" stroke-width=\"0\" /><text x=\"30.0\" y=\"145.0\" dominant-baseline=\"middle\" text-anchor=\"middle\" font-size=\"14px\" font-family=\"Arial\">2: </text><rect x=\"10.0\" y=\"175.0\" width=\"40\" height=\"40\" stroke=\"black\" fill=\"white\" stroke-width=\"0\" /><text x=\"30.0\" y=\"195.0\" dominant-baseline=\"middle\" text-anchor=\"middle\" font-size=\"14px\" font-family=\"Arial\">3: </text><rect x=\"10.0\" y=\"225.0\" width=\"40\" height=\"40\" stroke=\"black\" fill=\"white\" stroke-width=\"0\" /><text x=\"30.0\" y=\"245.0\" dominant-baseline=\"middle\" text-anchor=\"middle\" font-size=\"14px\" font-family=\"Arial\">4: </text><rect x=\"10.0\" y=\"275.0\" width=\"40\" height=\"40\" stroke=\"black\" fill=\"white\" stroke-width=\"0\" /><text x=\"30.0\" y=\"295.0\" dominant-baseline=\"middle\" text-anchor=\"middle\" font-size=\"14px\" font-family=\"Arial\">5: </text><rect x=\"70.0\" y=\"25.0\" width=\"40\" height=\"40\" stroke=\"black\" fill=\"white\" stroke-width=\"1\" /><text x=\"90.0\" y=\"45.0\" dominant-baseline=\"middle\" text-anchor=\"middle\" font-size=\"18px\" font-family=\"Arial\">H</text><rect x=\"70.0\" y=\"75.0\" width=\"40\" height=\"40\" stroke=\"black\" fill=\"white\" stroke-width=\"1\" /><text x=\"90.0\" y=\"95.0\" dominant-baseline=\"middle\" text-anchor=\"middle\" font-size=\"18px\" font-family=\"Arial\">H</text><rect x=\"70.0\" y=\"125.0\" width=\"40\" height=\"40\" stroke=\"black\" fill=\"white\" stroke-width=\"1\" /><text x=\"90.0\" y=\"145.0\" dominant-baseline=\"middle\" text-anchor=\"middle\" font-size=\"18px\" font-family=\"Arial\">H</text><circle cx=\"140.0\" cy=\"45.0\" r=\"10.0\" /><rect x=\"120.0\" y=\"175.0\" width=\"40\" height=\"40\" stroke=\"black\" fill=\"white\" stroke-width=\"1\" /><text x=\"140.0\" y=\"195.0\" dominant-baseline=\"middle\" text-anchor=\"middle\" font-size=\"18px\" font-family=\"Arial\">X</text><circle cx=\"180.0\" cy=\"95.0\" r=\"10.0\" /><rect x=\"160.0\" y=\"225.0\" width=\"40\" height=\"40\" stroke=\"black\" fill=\"white\" stroke-width=\"1\" /><text x=\"180.0\" y=\"245.0\" dominant-baseline=\"middle\" text-anchor=\"middle\" font-size=\"18px\" font-family=\"Arial\">X</text><circle cx=\"220.0\" cy=\"145.0\" r=\"10.0\" /><rect x=\"200.0\" y=\"275.0\" width=\"40\" height=\"40\" stroke=\"black\" fill=\"white\" stroke-width=\"1\" /><text x=\"220.0\" y=\"295.0\" dominant-baseline=\"middle\" text-anchor=\"middle\" font-size=\"18px\" font-family=\"Arial\">X</text><rect x=\"270.0\" y=\"25.0\" width=\"106.78347656250001\" height=\"40\" stroke=\"black\" fill=\"white\" stroke-width=\"1\" /><text x=\"323.39173828125\" y=\"45.0\" dominant-baseline=\"middle\" text-anchor=\"middle\" font-size=\"14px\" font-family=\"Arial\">Rx(theta^{(0)}0)</text><rect x=\"270.0\" y=\"75.0\" width=\"106.78347656250001\" height=\"40\" stroke=\"black\" fill=\"white\" stroke-width=\"1\" /><text x=\"323.39173828125\" y=\"95.0\" dominant-baseline=\"middle\" text-anchor=\"middle\" font-size=\"14px\" font-family=\"Arial\">Rx(theta^{(0)}3)</text><rect x=\"270.0\" y=\"125.0\" width=\"106.78347656250001\" height=\"40\" stroke=\"black\" fill=\"white\" stroke-width=\"1\" /><text x=\"323.39173828125\" y=\"145.0\" dominant-baseline=\"middle\" text-anchor=\"middle\" font-size=\"14px\" font-family=\"Arial\">Rx(theta^{(0)}6)</text><rect x=\"270.0\" y=\"175.0\" width=\"106.78347656250001\" height=\"40\" stroke=\"black\" fill=\"white\" stroke-width=\"1\" /><text x=\"323.39173828125\" y=\"195.0\" dominant-baseline=\"middle\" text-anchor=\"middle\" font-size=\"14px\" font-family=\"Arial\">Rx(theta^{(1)}0)</text><rect x=\"270.0\" y=\"225.0\" width=\"106.78347656250001\" height=\"40\" stroke=\"black\" fill=\"white\" stroke-width=\"1\" /><text x=\"323.39173828125\" y=\"245.0\" dominant-baseline=\"middle\" text-anchor=\"middle\" font-size=\"14px\" font-family=\"Arial\">Rx(theta^{(1)}3)</text><rect x=\"270.0\" y=\"275.0\" width=\"106.78347656250001\" height=\"40\" stroke=\"black\" fill=\"white\" stroke-width=\"1\" /><text x=\"323.39173828125\" y=\"295.0\" dominant-baseline=\"middle\" text-anchor=\"middle\" font-size=\"14px\" font-family=\"Arial\">Rx(theta^{(1)}6)</text><rect x=\"396.7834765625\" y=\"25.0\" width=\"106.78347656250001\" height=\"40\" stroke=\"black\" fill=\"white\" stroke-width=\"1\" /><text x=\"450.17521484375004\" y=\"45.0\" dominant-baseline=\"middle\" text-anchor=\"middle\" font-size=\"14px\" font-family=\"Arial\">Ry(theta^{(0)}1)</text><rect x=\"396.7834765625\" y=\"75.0\" width=\"106.78347656250001\" height=\"40\" stroke=\"black\" fill=\"white\" stroke-width=\"1\" /><text x=\"450.17521484375004\" y=\"95.0\" dominant-baseline=\"middle\" text-anchor=\"middle\" font-size=\"14px\" font-family=\"Arial\">Ry(theta^{(0)}4)</text><rect x=\"396.7834765625\" y=\"125.0\" width=\"106.78347656250001\" height=\"40\" stroke=\"black\" fill=\"white\" stroke-width=\"1\" /><text x=\"450.17521484375004\" y=\"145.0\" dominant-baseline=\"middle\" text-anchor=\"middle\" font-size=\"14px\" font-family=\"Arial\">Ry(theta^{(0)}7)</text><rect x=\"396.7834765625\" y=\"175.0\" width=\"106.78347656250001\" height=\"40\" stroke=\"black\" fill=\"white\" stroke-width=\"1\" /><text x=\"450.17521484375004\" y=\"195.0\" dominant-baseline=\"middle\" text-anchor=\"middle\" font-size=\"14px\" font-family=\"Arial\">Ry(theta^{(1)}1)</text><rect x=\"396.7834765625\" y=\"225.0\" width=\"106.78347656250001\" height=\"40\" stroke=\"black\" fill=\"white\" stroke-width=\"1\" /><text x=\"450.17521484375004\" y=\"245.0\" dominant-baseline=\"middle\" text-anchor=\"middle\" font-size=\"14px\" font-family=\"Arial\">Ry(theta^{(1)}4)</text><rect x=\"396.7834765625\" y=\"275.0\" width=\"106.78347656250001\" height=\"40\" stroke=\"black\" fill=\"white\" stroke-width=\"1\" /><text x=\"450.17521484375004\" y=\"295.0\" dominant-baseline=\"middle\" text-anchor=\"middle\" font-size=\"14px\" font-family=\"Arial\">Ry(theta^{(1)}7)</text><rect x=\"523.566953125\" y=\"25.0\" width=\"106.78347656250001\" height=\"40\" stroke=\"black\" fill=\"white\" stroke-width=\"1\" /><text x=\"576.9586914062501\" y=\"45.0\" dominant-baseline=\"middle\" text-anchor=\"middle\" font-size=\"14px\" font-family=\"Arial\">Rz(theta^{(0)}2)</text><rect x=\"523.566953125\" y=\"75.0\" width=\"106.78347656250001\" height=\"40\" stroke=\"black\" fill=\"white\" stroke-width=\"1\" /><text x=\"576.9586914062501\" y=\"95.0\" dominant-baseline=\"middle\" text-anchor=\"middle\" font-size=\"14px\" font-family=\"Arial\">Rz(theta^{(0)}5)</text><rect x=\"523.566953125\" y=\"125.0\" width=\"106.78347656250001\" height=\"40\" stroke=\"black\" fill=\"white\" stroke-width=\"1\" /><text x=\"576.9586914062501\" y=\"145.0\" dominant-baseline=\"middle\" text-anchor=\"middle\" font-size=\"14px\" font-family=\"Arial\">Rz(theta^{(0)}8)</text><rect x=\"523.566953125\" y=\"175.0\" width=\"106.78347656250001\" height=\"40\" stroke=\"black\" fill=\"white\" stroke-width=\"1\" /><text x=\"576.9586914062501\" y=\"195.0\" dominant-baseline=\"middle\" text-anchor=\"middle\" font-size=\"14px\" font-family=\"Arial\">Rz(theta^{(1)}2)</text><rect x=\"523.566953125\" y=\"225.0\" width=\"106.78347656250001\" height=\"40\" stroke=\"black\" fill=\"white\" stroke-width=\"1\" /><text x=\"576.9586914062501\" y=\"245.0\" dominant-baseline=\"middle\" text-anchor=\"middle\" font-size=\"14px\" font-family=\"Arial\">Rz(theta^{(1)}5)</text><rect x=\"523.566953125\" y=\"275.0\" width=\"106.78347656250001\" height=\"40\" stroke=\"black\" fill=\"white\" stroke-width=\"1\" /><text x=\"576.9586914062501\" y=\"295.0\" dominant-baseline=\"middle\" text-anchor=\"middle\" font-size=\"14px\" font-family=\"Arial\">Rz(theta^{(1)}8)</text><circle cx=\"670.3504296875001\" cy=\"45.0\" r=\"10.0\" /><rect x=\"650.3504296875001\" y=\"75.0\" width=\"40\" height=\"40\" stroke=\"black\" fill=\"white\" stroke-width=\"1\" /><text x=\"670.3504296875001\" y=\"95.0\" dominant-baseline=\"middle\" text-anchor=\"middle\" font-size=\"18px\" font-family=\"Arial\">X</text><circle cx=\"670.3504296875001\" cy=\"195.0\" r=\"10.0\" /><rect x=\"650.3504296875001\" y=\"225.0\" width=\"40\" height=\"40\" stroke=\"black\" fill=\"white\" stroke-width=\"1\" /><text x=\"670.3504296875001\" y=\"245.0\" dominant-baseline=\"middle\" text-anchor=\"middle\" font-size=\"18px\" font-family=\"Arial\">X</text><circle cx=\"730.3504296875001\" cy=\"95.0\" r=\"10.0\" /><rect x=\"710.3504296875001\" y=\"125.0\" width=\"40\" height=\"40\" stroke=\"black\" fill=\"white\" stroke-width=\"1\" /><text x=\"730.3504296875001\" y=\"145.0\" dominant-baseline=\"middle\" text-anchor=\"middle\" font-size=\"18px\" font-family=\"Arial\">X</text><circle cx=\"730.3504296875001\" cy=\"245.0\" r=\"10.0\" /><rect x=\"710.3504296875001\" y=\"275.0\" width=\"40\" height=\"40\" stroke=\"black\" fill=\"white\" stroke-width=\"1\" /><text x=\"730.3504296875001\" y=\"295.0\" dominant-baseline=\"middle\" text-anchor=\"middle\" font-size=\"18px\" font-family=\"Arial\">X</text><rect x=\"770.3504296875001\" y=\"25.0\" width=\"77.607421875\" height=\"40\" stroke=\"black\" fill=\"white\" stroke-width=\"1\" /><text x=\"809.1541406250001\" y=\"45.0\" dominant-baseline=\"middle\" text-anchor=\"middle\" font-size=\"14px\" font-family=\"Arial\">M('agent0')</text><rect x=\"770.3504296875001\" y=\"75.0\" width=\"77.607421875\" height=\"40\" stroke=\"black\" fill=\"white\" stroke-width=\"1\" /><text x=\"809.1541406250001\" y=\"95.0\" dominant-baseline=\"middle\" text-anchor=\"middle\" font-size=\"18px\" font-family=\"Arial\">M</text><rect x=\"770.3504296875001\" y=\"125.0\" width=\"77.607421875\" height=\"40\" stroke=\"black\" fill=\"white\" stroke-width=\"1\" /><text x=\"809.1541406250001\" y=\"145.0\" dominant-baseline=\"middle\" text-anchor=\"middle\" font-size=\"18px\" font-family=\"Arial\">M</text><rect x=\"770.3504296875001\" y=\"175.0\" width=\"77.607421875\" height=\"40\" stroke=\"black\" fill=\"white\" stroke-width=\"1\" /><text x=\"809.1541406250001\" y=\"195.0\" dominant-baseline=\"middle\" text-anchor=\"middle\" font-size=\"14px\" font-family=\"Arial\">M('agent1')</text><rect x=\"770.3504296875001\" y=\"225.0\" width=\"77.607421875\" height=\"40\" stroke=\"black\" fill=\"white\" stroke-width=\"1\" /><text x=\"809.1541406250001\" y=\"245.0\" dominant-baseline=\"middle\" text-anchor=\"middle\" font-size=\"18px\" font-family=\"Arial\">M</text><rect x=\"770.3504296875001\" y=\"275.0\" width=\"77.607421875\" height=\"40\" stroke=\"black\" fill=\"white\" stroke-width=\"1\" /><text x=\"809.1541406250001\" y=\"295.0\" dominant-baseline=\"middle\" text-anchor=\"middle\" font-size=\"18px\" font-family=\"Arial\">M</text><rect x=\"867.9578515625001\" y=\"25.0\" width=\"48.7939453125\" height=\"40\" stroke=\"black\" fill=\"white\" stroke-width=\"1\" /><text x=\"892.3548242187501\" y=\"45.0\" dominant-baseline=\"middle\" text-anchor=\"middle\" font-size=\"14px\" font-family=\"Arial\">M('all')</text><rect x=\"867.9578515625001\" y=\"75.0\" width=\"48.7939453125\" height=\"40\" stroke=\"black\" fill=\"white\" stroke-width=\"1\" /><text x=\"892.3548242187501\" y=\"95.0\" dominant-baseline=\"middle\" text-anchor=\"middle\" font-size=\"18px\" font-family=\"Arial\">M</text><rect x=\"867.9578515625001\" y=\"125.0\" width=\"48.7939453125\" height=\"40\" stroke=\"black\" fill=\"white\" stroke-width=\"1\" /><text x=\"892.3548242187501\" y=\"145.0\" dominant-baseline=\"middle\" text-anchor=\"middle\" font-size=\"18px\" font-family=\"Arial\">M</text><rect x=\"867.9578515625001\" y=\"175.0\" width=\"48.7939453125\" height=\"40\" stroke=\"black\" fill=\"white\" stroke-width=\"1\" /><text x=\"892.3548242187501\" y=\"195.0\" dominant-baseline=\"middle\" text-anchor=\"middle\" font-size=\"18px\" font-family=\"Arial\">M</text><rect x=\"867.9578515625001\" y=\"225.0\" width=\"48.7939453125\" height=\"40\" stroke=\"black\" fill=\"white\" stroke-width=\"1\" /><text x=\"892.3548242187501\" y=\"245.0\" dominant-baseline=\"middle\" text-anchor=\"middle\" font-size=\"18px\" font-family=\"Arial\">M</text><rect x=\"867.9578515625001\" y=\"275.0\" width=\"48.7939453125\" height=\"40\" stroke=\"black\" fill=\"white\" stroke-width=\"1\" /><text x=\"892.3548242187501\" y=\"295.0\" dominant-baseline=\"middle\" text-anchor=\"middle\" font-size=\"18px\" font-family=\"Arial\">M</text></svg>"
      ],
      "text/plain": [
       "<cirq.contrib.svg.svg.SVGCircuit at 0x14745b3d0>"
      ]
     },
     "execution_count": 163,
     "metadata": {},
     "output_type": "execute_result"
    }
   ],
   "source": [
    "## Show example circuit architecture for the simple single-variational layer parameterized policy.\n",
    "circuit, symbols = build_parameterized_system_circuit(\n",
    "    d=3,\n",
    "    n=2,\n",
    "    policy_fn=lambda qubits, aidx: parameterized_variational_policy_circuit(qubits, n_layers=1, symbol_superscript_index=aidx),\n",
    "    initial_state_prep_fn=lambda qubits: entangle_agents_phi_plus(qubits, d=3, n=2),\n",
    "    meas_key_all='all',\n",
    "    meas_key_prefix_agent='agent',\n",
    ")\n",
    "SVGCircuit(circuit)"
   ]
  },
  {
   "cell_type": "markdown",
   "metadata": {},
   "source": [
    "### More complex parameterized variational + encoding policy\n",
    "\n",
    "Contains variational layers with Rx, Ry, Rz rotations parameterized by $\\theta$, followed by a next-neighbor entanglement layer, followed by an encoding layer to encode the state $s$. The final layer in the circuit is a variational layer."
   ]
  },
  {
   "cell_type": "code",
   "execution_count": 164,
   "metadata": {},
   "outputs": [],
   "source": [
    "def parameterized_variational_encoding_policy_circuit(\n",
    "    qubits: list,\n",
    "    n_layers: int,\n",
    "    n_var_rotations: int = 3, # Number of rotational gates to apply for each qubit in the variational layer (e.g., Rx, Ry, Rz).\n",
    "    variational_layer_fn: Callable[[list[cirq.LineQubit], list[list[float]]], Any] = variational_rotation_layer,\n",
    "    entangling_layer_fn: Callable[[list[cirq.LineQubit]], Any] = lambda qubits: circular_entangling_layer(qubits, gate=cirq.CZ),\n",
    "    encoding_layer_fn: Callable[[list[cirq.LineQubit], list[float]], Any] = lambda qubits, symbols: single_rotation_encoding_layer(qubits, symbols, gate=cirq.rx),\n",
    "    symbol_superscript_index: int = None\n",
    "    ) -> tuple[Callable[[], Iterable[Any]], list[list]]:\n",
    "    d = len(qubits) # Dimension of qubits.\n",
    "    \n",
    "    # Variational parameters.\n",
    "    var_thetas = sympy.symbols(f\"theta{f'^{{({symbol_superscript_index})}}' if symbol_superscript_index is not None else ''}(0:{n_var_rotations*(n_layers+1)*d})\") # Add +1 here because there will be a final variational layer at the end.\n",
    "    var_thetas = np.asarray(var_thetas).reshape((n_layers+1, d, n_var_rotations))\n",
    "    \n",
    "    # Encoding parameters.\n",
    "    enc_inputs = sympy.symbols(f\"x{f'^{{({symbol_superscript_index})}}' if symbol_superscript_index is not None else ''}(0:{n_layers})_(0:{d})\")\n",
    "    enc_inputs = np.asarray(enc_inputs).reshape((n_layers, d))\n",
    "    \n",
    "    # Define generator to build circuit.\n",
    "    # This allows the caller to define circuit parameters.\n",
    "    def gen_circuit() -> Iterable[Any]:\n",
    "        for l in range(n_layers):\n",
    "            # Variational layer.\n",
    "            yield variational_layer_fn(qubits, var_thetas[l])\n",
    "            yield entangling_layer_fn(qubits)\n",
    "            \n",
    "            # Encoding layer.\n",
    "            yield encoding_layer_fn(qubits, enc_inputs[l])\n",
    "            \n",
    "        # Last variational layer at the end.\n",
    "        yield variational_layer_fn(qubits, var_thetas[n_layers])\n",
    "    \n",
    "    return gen_circuit, (var_thetas.flatten().tolist(), enc_inputs.flatten().tolist())\n",
    "\n",
    "## Define parameter resolvers for this variational + encoding policy.\n",
    "\n",
    "class ParamResolverRandomThetaRandomS:\n",
    "    def __call__(self, symbols: list[list[sympy.Symbol]]):\n",
    "        \"\"\"Resolver for random variational thetas and random encoder inputs.\"\"\"\n",
    "        var_thetas_matrix, enc_inputs_matrix = zip(*symbols) # Unpack list of tuples to tuple of lists.\n",
    "        var_thetas_matrix = np.asarray(var_thetas_matrix)\n",
    "        enc_inputs_matrix = np.asarray(enc_inputs_matrix)\n",
    "        var_thetas_values = np.random.uniform(low=0., high=np.pi, size=var_thetas_matrix.shape)\n",
    "        enc_inputs_values = np.random.uniform(low=0., high=np.pi, size=enc_inputs_matrix.shape)\n",
    "        param_dict = {\n",
    "            **{symbol: var_thetas_values.flatten()[i] for i, symbol in enumerate(var_thetas_matrix.flatten())},\n",
    "            **{symbol: enc_inputs_values.flatten()[i] for i, symbol in enumerate(enc_inputs_matrix.flatten())},\n",
    "        }\n",
    "        return param_dict\n",
    "\n",
    "class ParamResolverIdenticalThetaIdenticalS:\n",
    "    \"\"\"Resolver for identical variational thetas and identical encoder inputs.\n",
    "    \n",
    "    This is written as a class that overloads `__call__` to act like a function because the function needs to define the random values based on the shape of the inputs the first time it is called.\n",
    "    \"\"\"\n",
    "    def __init__(self):\n",
    "        self.var_thetas_values = None\n",
    "        self.enc_inputs_values = None\n",
    "\n",
    "    def __call__(self, symbols: list[list[sympy.Symbol]]):\n",
    "        var_thetas_matrix, enc_inputs_matrix = zip(*symbols) # Unpack list of tuples to tuple of lists.\n",
    "        var_thetas_matrix = np.asarray(var_thetas_matrix)\n",
    "        enc_inputs_matrix = np.asarray(enc_inputs_matrix)\n",
    "        if self.var_thetas_values is None:\n",
    "            self.var_thetas_values = np.random.uniform(low=0., high=np.pi, size=var_thetas_matrix.shape)\n",
    "        if self.enc_inputs_values is None:\n",
    "            self.enc_inputs_values = np.random.uniform(low=0., high=np.pi, size=enc_inputs_matrix.shape)\n",
    "        param_dict = {\n",
    "            **{symbol: self.var_thetas_values.flatten()[i] for i, symbol in enumerate(var_thetas_matrix.flatten())},\n",
    "            **{symbol: self.enc_inputs_values.flatten()[i] for i, symbol in enumerate(enc_inputs_matrix.flatten())},\n",
    "        }\n",
    "        return param_dict\n",
    "\n",
    "class ParamResolverNearlyIdenticalThetaIdenticalS:\n",
    "    \"\"\"Resolver for nearly identical variational thetas and identical encoder inputs.\n",
    "    \n",
    "    This is written as a class that overloads `__call__` to act like a function because the function needs to define the random values based on the shape of the inputs the first time it is called.\n",
    "    \"\"\"\n",
    "    def __init__(self):\n",
    "        self.var_thetas_values = None\n",
    "        self.enc_inputs_values = None\n",
    "\n",
    "    def __call__(self, symbols: list[list[sympy.Symbol]]):\n",
    "        var_thetas_matrix, enc_inputs_matrix = zip(*symbols) # Unpack list of tuples to tuple of lists.\n",
    "        var_thetas_matrix = np.asarray(var_thetas_matrix)\n",
    "        enc_inputs_matrix = np.asarray(enc_inputs_matrix)\n",
    "        if self.var_thetas_values is None:\n",
    "            self.var_thetas_values = np.random.uniform(low=0., high=np.pi, size=var_thetas_matrix.shape)\n",
    "        thetas_offset = np.random.uniform(low=0., high=0.5, size=var_thetas_matrix.shape) # Random theta offset (so that thetas between runs are nearly identical).\n",
    "        if self.enc_inputs_values is None:\n",
    "            self.enc_inputs_values = np.random.uniform(low=0., high=np.pi, size=enc_inputs_matrix.shape)\n",
    "        param_dict = {\n",
    "            **{symbol: (self.var_thetas_values + thetas_offset).flatten()[i] for i, symbol in enumerate(var_thetas_matrix.flatten())},\n",
    "            **{symbol: self.enc_inputs_values.flatten()[i] for i, symbol in enumerate(enc_inputs_matrix.flatten())},\n",
    "        }\n",
    "        return param_dict\n",
    "\n",
    "class ParamResolverNearlyIdenticalThetaRandomS:\n",
    "    \"\"\"Resolver for nearly identical variational thetas and random encoder inputs.\n",
    "    \n",
    "    This is written as a class that overloads `__call__` to act like a function because the function needs to define the random values based on the shape of the inputs the first time it is called.\n",
    "    \"\"\"\n",
    "    def __init__(self):\n",
    "        self.var_thetas_values = None\n",
    "        self.enc_inputs_values = None\n",
    "\n",
    "    def __call__(self, symbols: list[list[sympy.Symbol]]):\n",
    "        var_thetas_matrix, enc_inputs_matrix = zip(*symbols) # Unpack list of tuples to tuple of lists.\n",
    "        var_thetas_matrix = np.asarray(var_thetas_matrix)\n",
    "        enc_inputs_matrix = np.asarray(enc_inputs_matrix)\n",
    "        if self.var_thetas_values is None:\n",
    "            self.var_thetas_values = np.random.uniform(low=0., high=np.pi, size=var_thetas_matrix.shape)\n",
    "        thetas_offset = np.random.uniform(low=0., high=0.5, size=var_thetas_matrix.shape) # Random theta offset (so that thetas between runs are nearly identical).\n",
    "        self.enc_inputs_values = np.random.uniform(low=0., high=np.pi, size=enc_inputs_matrix.shape) # Random state encoding values.\n",
    "        param_dict = {\n",
    "            **{symbol: (self.var_thetas_values + thetas_offset).flatten()[i] for i, symbol in enumerate(var_thetas_matrix.flatten())},\n",
    "            **{symbol: self.enc_inputs_values.flatten()[i] for i, symbol in enumerate(enc_inputs_matrix.flatten())},\n",
    "        }\n",
    "        return param_dict"
   ]
  },
  {
   "cell_type": "code",
   "execution_count": 165,
   "metadata": {},
   "outputs": [
    {
     "data": {
      "image/svg+xml": [
       "<svg xmlns=\"http://www.w3.org/2000/svg\" width=\"1663.2482812500002\" height=\"340.0\"><line x1=\"30.0\" x2=\"1633.2482812500002\" y1=\"45.0\" y2=\"45.0\" stroke=\"#1967d2\" stroke-width=\"1\" /><line x1=\"30.0\" x2=\"1633.2482812500002\" y1=\"95.0\" y2=\"95.0\" stroke=\"#1967d2\" stroke-width=\"1\" /><line x1=\"30.0\" x2=\"1633.2482812500002\" y1=\"145.0\" y2=\"145.0\" stroke=\"#1967d2\" stroke-width=\"1\" /><line x1=\"30.0\" x2=\"1633.2482812500002\" y1=\"195.0\" y2=\"195.0\" stroke=\"#1967d2\" stroke-width=\"1\" /><line x1=\"30.0\" x2=\"1633.2482812500002\" y1=\"245.0\" y2=\"245.0\" stroke=\"#1967d2\" stroke-width=\"1\" /><line x1=\"30.0\" x2=\"1633.2482812500002\" y1=\"295.0\" y2=\"295.0\" stroke=\"#1967d2\" stroke-width=\"1\" /><line x1=\"760.3504296875001\" x2=\"908.5684765625001\" y1=\"5.0\" y2=\"5.0\" stroke=\"black\" stroke-width=\"1\" /><line x1=\"760.3504296875001\" x2=\"908.5684765625001\" y1=\"335.0\" y2=\"335.0\" stroke=\"black\" stroke-width=\"1\" /><line x1=\"120.0\" x2=\"250.0\" y1=\"5.0\" y2=\"5.0\" stroke=\"black\" stroke-width=\"1\" /><line x1=\"120.0\" x2=\"250.0\" y1=\"335.0\" y2=\"335.0\" stroke=\"black\" stroke-width=\"1\" /><line x1=\"140.0\" x2=\"140.0\" y1=\"45.0\" y2=\"195.0\" stroke=\"black\" stroke-width=\"3\" /><line x1=\"180.0\" x2=\"180.0\" y1=\"95.0\" y2=\"245.0\" stroke=\"black\" stroke-width=\"3\" /><line x1=\"220.0\" x2=\"220.0\" y1=\"145.0\" y2=\"295.0\" stroke=\"black\" stroke-width=\"3\" /><line x1=\"670.3504296875001\" x2=\"670.3504296875001\" y1=\"45.0\" y2=\"95.0\" stroke=\"black\" stroke-width=\"3\" /><line x1=\"670.3504296875001\" x2=\"670.3504296875001\" y1=\"195.0\" y2=\"245.0\" stroke=\"black\" stroke-width=\"3\" /><line x1=\"730.3504296875001\" x2=\"730.3504296875001\" y1=\"95.0\" y2=\"145.0\" stroke=\"black\" stroke-width=\"3\" /><line x1=\"730.3504296875001\" x2=\"730.3504296875001\" y1=\"245.0\" y2=\"295.0\" stroke=\"black\" stroke-width=\"3\" /><line x1=\"780.3504296875001\" x2=\"780.3504296875001\" y1=\"45.0\" y2=\"145.0\" stroke=\"black\" stroke-width=\"3\" /><line x1=\"780.3504296875001\" x2=\"780.3504296875001\" y1=\"195.0\" y2=\"295.0\" stroke=\"black\" stroke-width=\"3\" /><line x1=\"1505.6506250000002\" x2=\"1505.6506250000002\" y1=\"45.0\" y2=\"145.0\" stroke=\"black\" stroke-width=\"3\" /><line x1=\"1505.6506250000002\" x2=\"1505.6506250000002\" y1=\"195.0\" y2=\"295.0\" stroke=\"black\" stroke-width=\"3\" /><line x1=\"1588.8513085937502\" x2=\"1588.8513085937502\" y1=\"45.0\" y2=\"295.0\" stroke=\"black\" stroke-width=\"3\" /><line x1=\"760.3504296875001\" x2=\"760.3504296875001\" y1=\"5.0\" y2=\"15.0\" stroke=\"black\" stroke-width=\"3\" /><line x1=\"908.5684765625001\" x2=\"908.5684765625001\" y1=\"5.0\" y2=\"15.0\" stroke=\"black\" stroke-width=\"3\" /><line x1=\"760.3504296875001\" x2=\"760.3504296875001\" y1=\"325.0\" y2=\"335.0\" stroke=\"black\" stroke-width=\"3\" /><line x1=\"908.5684765625001\" x2=\"908.5684765625001\" y1=\"325.0\" y2=\"335.0\" stroke=\"black\" stroke-width=\"3\" /><line x1=\"120.0\" x2=\"120.0\" y1=\"5.0\" y2=\"15.0\" stroke=\"black\" stroke-width=\"3\" /><line x1=\"250.0\" x2=\"250.0\" y1=\"5.0\" y2=\"15.0\" stroke=\"black\" stroke-width=\"3\" /><line x1=\"120.0\" x2=\"120.0\" y1=\"325.0\" y2=\"335.0\" stroke=\"black\" stroke-width=\"3\" /><line x1=\"250.0\" x2=\"250.0\" y1=\"325.0\" y2=\"335.0\" stroke=\"black\" stroke-width=\"3\" /><rect x=\"10.0\" y=\"25.0\" width=\"40\" height=\"40\" stroke=\"black\" fill=\"white\" stroke-width=\"0\" /><text x=\"30.0\" y=\"45.0\" dominant-baseline=\"middle\" text-anchor=\"middle\" font-size=\"14px\" font-family=\"Arial\">0: </text><rect x=\"10.0\" y=\"75.0\" width=\"40\" height=\"40\" stroke=\"black\" fill=\"white\" stroke-width=\"0\" /><text x=\"30.0\" y=\"95.0\" dominant-baseline=\"middle\" text-anchor=\"middle\" font-size=\"14px\" font-family=\"Arial\">1: </text><rect x=\"10.0\" y=\"125.0\" width=\"40\" height=\"40\" stroke=\"black\" fill=\"white\" stroke-width=\"0\" /><text x=\"30.0\" y=\"145.0\" dominant-baseline=\"middle\" text-anchor=\"middle\" font-size=\"14px\" font-family=\"Arial\">2: </text><rect x=\"10.0\" y=\"175.0\" width=\"40\" height=\"40\" stroke=\"black\" fill=\"white\" stroke-width=\"0\" /><text x=\"30.0\" y=\"195.0\" dominant-baseline=\"middle\" text-anchor=\"middle\" font-size=\"14px\" font-family=\"Arial\">3: </text><rect x=\"10.0\" y=\"225.0\" width=\"40\" height=\"40\" stroke=\"black\" fill=\"white\" stroke-width=\"0\" /><text x=\"30.0\" y=\"245.0\" dominant-baseline=\"middle\" text-anchor=\"middle\" font-size=\"14px\" font-family=\"Arial\">4: </text><rect x=\"10.0\" y=\"275.0\" width=\"40\" height=\"40\" stroke=\"black\" fill=\"white\" stroke-width=\"0\" /><text x=\"30.0\" y=\"295.0\" dominant-baseline=\"middle\" text-anchor=\"middle\" font-size=\"14px\" font-family=\"Arial\">5: </text><rect x=\"70.0\" y=\"25.0\" width=\"40\" height=\"40\" stroke=\"black\" fill=\"white\" stroke-width=\"1\" /><text x=\"90.0\" y=\"45.0\" dominant-baseline=\"middle\" text-anchor=\"middle\" font-size=\"18px\" font-family=\"Arial\">H</text><rect x=\"70.0\" y=\"75.0\" width=\"40\" height=\"40\" stroke=\"black\" fill=\"white\" stroke-width=\"1\" /><text x=\"90.0\" y=\"95.0\" dominant-baseline=\"middle\" text-anchor=\"middle\" font-size=\"18px\" font-family=\"Arial\">H</text><rect x=\"70.0\" y=\"125.0\" width=\"40\" height=\"40\" stroke=\"black\" fill=\"white\" stroke-width=\"1\" /><text x=\"90.0\" y=\"145.0\" dominant-baseline=\"middle\" text-anchor=\"middle\" font-size=\"18px\" font-family=\"Arial\">H</text><circle cx=\"140.0\" cy=\"45.0\" r=\"10.0\" /><rect x=\"120.0\" y=\"175.0\" width=\"40\" height=\"40\" stroke=\"black\" fill=\"white\" stroke-width=\"1\" /><text x=\"140.0\" y=\"195.0\" dominant-baseline=\"middle\" text-anchor=\"middle\" font-size=\"18px\" font-family=\"Arial\">X</text><circle cx=\"180.0\" cy=\"95.0\" r=\"10.0\" /><rect x=\"160.0\" y=\"225.0\" width=\"40\" height=\"40\" stroke=\"black\" fill=\"white\" stroke-width=\"1\" /><text x=\"180.0\" y=\"245.0\" dominant-baseline=\"middle\" text-anchor=\"middle\" font-size=\"18px\" font-family=\"Arial\">X</text><circle cx=\"220.0\" cy=\"145.0\" r=\"10.0\" /><rect x=\"200.0\" y=\"275.0\" width=\"40\" height=\"40\" stroke=\"black\" fill=\"white\" stroke-width=\"1\" /><text x=\"220.0\" y=\"295.0\" dominant-baseline=\"middle\" text-anchor=\"middle\" font-size=\"18px\" font-family=\"Arial\">X</text><rect x=\"270.0\" y=\"25.0\" width=\"106.78347656250001\" height=\"40\" stroke=\"black\" fill=\"white\" stroke-width=\"1\" /><text x=\"323.39173828125\" y=\"45.0\" dominant-baseline=\"middle\" text-anchor=\"middle\" font-size=\"14px\" font-family=\"Arial\">Rx(theta^{(0)}0)</text><rect x=\"270.0\" y=\"75.0\" width=\"106.78347656250001\" height=\"40\" stroke=\"black\" fill=\"white\" stroke-width=\"1\" /><text x=\"323.39173828125\" y=\"95.0\" dominant-baseline=\"middle\" text-anchor=\"middle\" font-size=\"14px\" font-family=\"Arial\">Rx(theta^{(0)}3)</text><rect x=\"270.0\" y=\"125.0\" width=\"106.78347656250001\" height=\"40\" stroke=\"black\" fill=\"white\" stroke-width=\"1\" /><text x=\"323.39173828125\" y=\"145.0\" dominant-baseline=\"middle\" text-anchor=\"middle\" font-size=\"14px\" font-family=\"Arial\">Rx(theta^{(0)}6)</text><rect x=\"270.0\" y=\"175.0\" width=\"106.78347656250001\" height=\"40\" stroke=\"black\" fill=\"white\" stroke-width=\"1\" /><text x=\"323.39173828125\" y=\"195.0\" dominant-baseline=\"middle\" text-anchor=\"middle\" font-size=\"14px\" font-family=\"Arial\">Rx(theta^{(1)}0)</text><rect x=\"270.0\" y=\"225.0\" width=\"106.78347656250001\" height=\"40\" stroke=\"black\" fill=\"white\" stroke-width=\"1\" /><text x=\"323.39173828125\" y=\"245.0\" dominant-baseline=\"middle\" text-anchor=\"middle\" font-size=\"14px\" font-family=\"Arial\">Rx(theta^{(1)}3)</text><rect x=\"270.0\" y=\"275.0\" width=\"106.78347656250001\" height=\"40\" stroke=\"black\" fill=\"white\" stroke-width=\"1\" /><text x=\"323.39173828125\" y=\"295.0\" dominant-baseline=\"middle\" text-anchor=\"middle\" font-size=\"14px\" font-family=\"Arial\">Rx(theta^{(1)}6)</text><rect x=\"396.7834765625\" y=\"25.0\" width=\"106.78347656250001\" height=\"40\" stroke=\"black\" fill=\"white\" stroke-width=\"1\" /><text x=\"450.17521484375004\" y=\"45.0\" dominant-baseline=\"middle\" text-anchor=\"middle\" font-size=\"14px\" font-family=\"Arial\">Ry(theta^{(0)}1)</text><rect x=\"396.7834765625\" y=\"75.0\" width=\"106.78347656250001\" height=\"40\" stroke=\"black\" fill=\"white\" stroke-width=\"1\" /><text x=\"450.17521484375004\" y=\"95.0\" dominant-baseline=\"middle\" text-anchor=\"middle\" font-size=\"14px\" font-family=\"Arial\">Ry(theta^{(0)}4)</text><rect x=\"396.7834765625\" y=\"125.0\" width=\"106.78347656250001\" height=\"40\" stroke=\"black\" fill=\"white\" stroke-width=\"1\" /><text x=\"450.17521484375004\" y=\"145.0\" dominant-baseline=\"middle\" text-anchor=\"middle\" font-size=\"14px\" font-family=\"Arial\">Ry(theta^{(0)}7)</text><rect x=\"396.7834765625\" y=\"175.0\" width=\"106.78347656250001\" height=\"40\" stroke=\"black\" fill=\"white\" stroke-width=\"1\" /><text x=\"450.17521484375004\" y=\"195.0\" dominant-baseline=\"middle\" text-anchor=\"middle\" font-size=\"14px\" font-family=\"Arial\">Ry(theta^{(1)}1)</text><rect x=\"396.7834765625\" y=\"225.0\" width=\"106.78347656250001\" height=\"40\" stroke=\"black\" fill=\"white\" stroke-width=\"1\" /><text x=\"450.17521484375004\" y=\"245.0\" dominant-baseline=\"middle\" text-anchor=\"middle\" font-size=\"14px\" font-family=\"Arial\">Ry(theta^{(1)}4)</text><rect x=\"396.7834765625\" y=\"275.0\" width=\"106.78347656250001\" height=\"40\" stroke=\"black\" fill=\"white\" stroke-width=\"1\" /><text x=\"450.17521484375004\" y=\"295.0\" dominant-baseline=\"middle\" text-anchor=\"middle\" font-size=\"14px\" font-family=\"Arial\">Ry(theta^{(1)}7)</text><rect x=\"523.566953125\" y=\"25.0\" width=\"106.78347656250001\" height=\"40\" stroke=\"black\" fill=\"white\" stroke-width=\"1\" /><text x=\"576.9586914062501\" y=\"45.0\" dominant-baseline=\"middle\" text-anchor=\"middle\" font-size=\"14px\" font-family=\"Arial\">Rz(theta^{(0)}2)</text><rect x=\"523.566953125\" y=\"75.0\" width=\"106.78347656250001\" height=\"40\" stroke=\"black\" fill=\"white\" stroke-width=\"1\" /><text x=\"576.9586914062501\" y=\"95.0\" dominant-baseline=\"middle\" text-anchor=\"middle\" font-size=\"14px\" font-family=\"Arial\">Rz(theta^{(0)}5)</text><rect x=\"523.566953125\" y=\"125.0\" width=\"106.78347656250001\" height=\"40\" stroke=\"black\" fill=\"white\" stroke-width=\"1\" /><text x=\"576.9586914062501\" y=\"145.0\" dominant-baseline=\"middle\" text-anchor=\"middle\" font-size=\"14px\" font-family=\"Arial\">Rz(theta^{(0)}8)</text><rect x=\"523.566953125\" y=\"175.0\" width=\"106.78347656250001\" height=\"40\" stroke=\"black\" fill=\"white\" stroke-width=\"1\" /><text x=\"576.9586914062501\" y=\"195.0\" dominant-baseline=\"middle\" text-anchor=\"middle\" font-size=\"14px\" font-family=\"Arial\">Rz(theta^{(1)}2)</text><rect x=\"523.566953125\" y=\"225.0\" width=\"106.78347656250001\" height=\"40\" stroke=\"black\" fill=\"white\" stroke-width=\"1\" /><text x=\"576.9586914062501\" y=\"245.0\" dominant-baseline=\"middle\" text-anchor=\"middle\" font-size=\"14px\" font-family=\"Arial\">Rz(theta^{(1)}5)</text><rect x=\"523.566953125\" y=\"275.0\" width=\"106.78347656250001\" height=\"40\" stroke=\"black\" fill=\"white\" stroke-width=\"1\" /><text x=\"576.9586914062501\" y=\"295.0\" dominant-baseline=\"middle\" text-anchor=\"middle\" font-size=\"14px\" font-family=\"Arial\">Rz(theta^{(1)}8)</text><circle cx=\"670.3504296875001\" cy=\"45.0\" r=\"10.0\" /><circle cx=\"670.3504296875001\" cy=\"95.0\" r=\"10.0\" /><circle cx=\"670.3504296875001\" cy=\"195.0\" r=\"10.0\" /><circle cx=\"670.3504296875001\" cy=\"245.0\" r=\"10.0\" /><circle cx=\"730.3504296875001\" cy=\"95.0\" r=\"10.0\" /><circle cx=\"730.3504296875001\" cy=\"145.0\" r=\"10.0\" /><circle cx=\"730.3504296875001\" cy=\"245.0\" r=\"10.0\" /><circle cx=\"730.3504296875001\" cy=\"295.0\" r=\"10.0\" /><circle cx=\"780.3504296875001\" cy=\"45.0\" r=\"10.0\" /><circle cx=\"780.3504296875001\" cy=\"145.0\" r=\"10.0\" /><rect x=\"800.3504296875001\" y=\"75.0\" width=\"98.21804687500001\" height=\"40\" stroke=\"black\" fill=\"white\" stroke-width=\"1\" /><text x=\"849.4594531250001\" y=\"95.0\" dominant-baseline=\"middle\" text-anchor=\"middle\" font-size=\"14px\" font-family=\"Arial\">Rx(x^{(0)}0_1)</text><circle cx=\"780.3504296875001\" cy=\"195.0\" r=\"10.0\" /><circle cx=\"780.3504296875001\" cy=\"295.0\" r=\"10.0\" /><rect x=\"800.3504296875001\" y=\"225.0\" width=\"98.21804687500001\" height=\"40\" stroke=\"black\" fill=\"white\" stroke-width=\"1\" /><text x=\"849.4594531250001\" y=\"245.0\" dominant-baseline=\"middle\" text-anchor=\"middle\" font-size=\"14px\" font-family=\"Arial\">Rx(x^{(1)}0_1)</text><rect x=\"928.5684765625001\" y=\"25.0\" width=\"114.56960937500003\" height=\"40\" stroke=\"black\" fill=\"white\" stroke-width=\"1\" /><text x=\"985.8532812500001\" y=\"45.0\" dominant-baseline=\"middle\" text-anchor=\"middle\" font-size=\"14px\" font-family=\"Arial\">Rx(x^{(0)}0_0)</text><rect x=\"928.5684765625001\" y=\"125.0\" width=\"114.56960937500003\" height=\"40\" stroke=\"black\" fill=\"white\" stroke-width=\"1\" /><text x=\"985.8532812500001\" y=\"145.0\" dominant-baseline=\"middle\" text-anchor=\"middle\" font-size=\"14px\" font-family=\"Arial\">Rx(x^{(0)}0_2)</text><rect x=\"928.5684765625001\" y=\"75.0\" width=\"114.56960937500003\" height=\"40\" stroke=\"black\" fill=\"white\" stroke-width=\"1\" /><text x=\"985.8532812500001\" y=\"95.0\" dominant-baseline=\"middle\" text-anchor=\"middle\" font-size=\"14px\" font-family=\"Arial\">Rx(theta^{(0)}12)</text><rect x=\"928.5684765625001\" y=\"175.0\" width=\"114.56960937500003\" height=\"40\" stroke=\"black\" fill=\"white\" stroke-width=\"1\" /><text x=\"985.8532812500001\" y=\"195.0\" dominant-baseline=\"middle\" text-anchor=\"middle\" font-size=\"14px\" font-family=\"Arial\">Rx(x^{(1)}0_0)</text><rect x=\"928.5684765625001\" y=\"275.0\" width=\"114.56960937500003\" height=\"40\" stroke=\"black\" fill=\"white\" stroke-width=\"1\" /><text x=\"985.8532812500001\" y=\"295.0\" dominant-baseline=\"middle\" text-anchor=\"middle\" font-size=\"14px\" font-family=\"Arial\">Rx(x^{(1)}0_2)</text><rect x=\"928.5684765625001\" y=\"225.0\" width=\"114.56960937500003\" height=\"40\" stroke=\"black\" fill=\"white\" stroke-width=\"1\" /><text x=\"985.8532812500001\" y=\"245.0\" dominant-baseline=\"middle\" text-anchor=\"middle\" font-size=\"14px\" font-family=\"Arial\">Rx(theta^{(1)}12)</text><rect x=\"1063.1380859375\" y=\"25.0\" width=\"114.56960937500003\" height=\"40\" stroke=\"black\" fill=\"white\" stroke-width=\"1\" /><text x=\"1120.422890625\" y=\"45.0\" dominant-baseline=\"middle\" text-anchor=\"middle\" font-size=\"14px\" font-family=\"Arial\">Rx(theta^{(0)}9)</text><rect x=\"1063.1380859375\" y=\"75.0\" width=\"114.56960937500003\" height=\"40\" stroke=\"black\" fill=\"white\" stroke-width=\"1\" /><text x=\"1120.422890625\" y=\"95.0\" dominant-baseline=\"middle\" text-anchor=\"middle\" font-size=\"14px\" font-family=\"Arial\">Ry(theta^{(0)}13)</text><rect x=\"1063.1380859375\" y=\"125.0\" width=\"114.56960937500003\" height=\"40\" stroke=\"black\" fill=\"white\" stroke-width=\"1\" /><text x=\"1120.422890625\" y=\"145.0\" dominant-baseline=\"middle\" text-anchor=\"middle\" font-size=\"14px\" font-family=\"Arial\">Rx(theta^{(0)}15)</text><rect x=\"1063.1380859375\" y=\"175.0\" width=\"114.56960937500003\" height=\"40\" stroke=\"black\" fill=\"white\" stroke-width=\"1\" /><text x=\"1120.422890625\" y=\"195.0\" dominant-baseline=\"middle\" text-anchor=\"middle\" font-size=\"14px\" font-family=\"Arial\">Rx(theta^{(1)}9)</text><rect x=\"1063.1380859375\" y=\"225.0\" width=\"114.56960937500003\" height=\"40\" stroke=\"black\" fill=\"white\" stroke-width=\"1\" /><text x=\"1120.422890625\" y=\"245.0\" dominant-baseline=\"middle\" text-anchor=\"middle\" font-size=\"14px\" font-family=\"Arial\">Ry(theta^{(1)}13)</text><rect x=\"1063.1380859375\" y=\"275.0\" width=\"114.56960937500003\" height=\"40\" stroke=\"black\" fill=\"white\" stroke-width=\"1\" /><text x=\"1120.422890625\" y=\"295.0\" dominant-baseline=\"middle\" text-anchor=\"middle\" font-size=\"14px\" font-family=\"Arial\">Rx(theta^{(1)}15)</text><rect x=\"1197.7076953125002\" y=\"25.0\" width=\"114.56960937500003\" height=\"40\" stroke=\"black\" fill=\"white\" stroke-width=\"1\" /><text x=\"1254.9925000000003\" y=\"45.0\" dominant-baseline=\"middle\" text-anchor=\"middle\" font-size=\"14px\" font-family=\"Arial\">Ry(theta^{(0)}10)</text><rect x=\"1197.7076953125002\" y=\"75.0\" width=\"114.56960937500003\" height=\"40\" stroke=\"black\" fill=\"white\" stroke-width=\"1\" /><text x=\"1254.9925000000003\" y=\"95.0\" dominant-baseline=\"middle\" text-anchor=\"middle\" font-size=\"14px\" font-family=\"Arial\">Rz(theta^{(0)}14)</text><rect x=\"1197.7076953125002\" y=\"125.0\" width=\"114.56960937500003\" height=\"40\" stroke=\"black\" fill=\"white\" stroke-width=\"1\" /><text x=\"1254.9925000000003\" y=\"145.0\" dominant-baseline=\"middle\" text-anchor=\"middle\" font-size=\"14px\" font-family=\"Arial\">Ry(theta^{(0)}16)</text><rect x=\"1197.7076953125002\" y=\"175.0\" width=\"114.56960937500003\" height=\"40\" stroke=\"black\" fill=\"white\" stroke-width=\"1\" /><text x=\"1254.9925000000003\" y=\"195.0\" dominant-baseline=\"middle\" text-anchor=\"middle\" font-size=\"14px\" font-family=\"Arial\">Ry(theta^{(1)}10)</text><rect x=\"1197.7076953125002\" y=\"225.0\" width=\"114.56960937500003\" height=\"40\" stroke=\"black\" fill=\"white\" stroke-width=\"1\" /><text x=\"1254.9925000000003\" y=\"245.0\" dominant-baseline=\"middle\" text-anchor=\"middle\" font-size=\"14px\" font-family=\"Arial\">Rz(theta^{(1)}14)</text><rect x=\"1197.7076953125002\" y=\"275.0\" width=\"114.56960937500003\" height=\"40\" stroke=\"black\" fill=\"white\" stroke-width=\"1\" /><text x=\"1254.9925000000003\" y=\"295.0\" dominant-baseline=\"middle\" text-anchor=\"middle\" font-size=\"14px\" font-family=\"Arial\">Ry(theta^{(1)}16)</text><rect x=\"1332.2773046875\" y=\"25.0\" width=\"114.56960937500003\" height=\"40\" stroke=\"black\" fill=\"white\" stroke-width=\"1\" /><text x=\"1389.562109375\" y=\"45.0\" dominant-baseline=\"middle\" text-anchor=\"middle\" font-size=\"14px\" font-family=\"Arial\">Rz(theta^{(0)}11)</text><rect x=\"1332.2773046875\" y=\"125.0\" width=\"114.56960937500003\" height=\"40\" stroke=\"black\" fill=\"white\" stroke-width=\"1\" /><text x=\"1389.562109375\" y=\"145.0\" dominant-baseline=\"middle\" text-anchor=\"middle\" font-size=\"14px\" font-family=\"Arial\">Rz(theta^{(0)}17)</text><rect x=\"1332.2773046875\" y=\"175.0\" width=\"114.56960937500003\" height=\"40\" stroke=\"black\" fill=\"white\" stroke-width=\"1\" /><text x=\"1389.562109375\" y=\"195.0\" dominant-baseline=\"middle\" text-anchor=\"middle\" font-size=\"14px\" font-family=\"Arial\">Rz(theta^{(1)}11)</text><rect x=\"1332.2773046875\" y=\"275.0\" width=\"114.56960937500003\" height=\"40\" stroke=\"black\" fill=\"white\" stroke-width=\"1\" /><text x=\"1389.562109375\" y=\"295.0\" dominant-baseline=\"middle\" text-anchor=\"middle\" font-size=\"14px\" font-family=\"Arial\">Rz(theta^{(1)}17)</text><rect x=\"1466.8469140625002\" y=\"25.0\" width=\"77.607421875\" height=\"40\" stroke=\"black\" fill=\"white\" stroke-width=\"1\" /><text x=\"1505.6506250000002\" y=\"45.0\" dominant-baseline=\"middle\" text-anchor=\"middle\" font-size=\"14px\" font-family=\"Arial\">M('agent0')</text><rect x=\"1466.8469140625002\" y=\"75.0\" width=\"77.607421875\" height=\"40\" stroke=\"black\" fill=\"white\" stroke-width=\"1\" /><text x=\"1505.6506250000002\" y=\"95.0\" dominant-baseline=\"middle\" text-anchor=\"middle\" font-size=\"18px\" font-family=\"Arial\">M</text><rect x=\"1466.8469140625002\" y=\"125.0\" width=\"77.607421875\" height=\"40\" stroke=\"black\" fill=\"white\" stroke-width=\"1\" /><text x=\"1505.6506250000002\" y=\"145.0\" dominant-baseline=\"middle\" text-anchor=\"middle\" font-size=\"18px\" font-family=\"Arial\">M</text><rect x=\"1466.8469140625002\" y=\"175.0\" width=\"77.607421875\" height=\"40\" stroke=\"black\" fill=\"white\" stroke-width=\"1\" /><text x=\"1505.6506250000002\" y=\"195.0\" dominant-baseline=\"middle\" text-anchor=\"middle\" font-size=\"14px\" font-family=\"Arial\">M('agent1')</text><rect x=\"1466.8469140625002\" y=\"225.0\" width=\"77.607421875\" height=\"40\" stroke=\"black\" fill=\"white\" stroke-width=\"1\" /><text x=\"1505.6506250000002\" y=\"245.0\" dominant-baseline=\"middle\" text-anchor=\"middle\" font-size=\"18px\" font-family=\"Arial\">M</text><rect x=\"1466.8469140625002\" y=\"275.0\" width=\"77.607421875\" height=\"40\" stroke=\"black\" fill=\"white\" stroke-width=\"1\" /><text x=\"1505.6506250000002\" y=\"295.0\" dominant-baseline=\"middle\" text-anchor=\"middle\" font-size=\"18px\" font-family=\"Arial\">M</text><rect x=\"1564.4543359375002\" y=\"25.0\" width=\"48.7939453125\" height=\"40\" stroke=\"black\" fill=\"white\" stroke-width=\"1\" /><text x=\"1588.8513085937502\" y=\"45.0\" dominant-baseline=\"middle\" text-anchor=\"middle\" font-size=\"14px\" font-family=\"Arial\">M('all')</text><rect x=\"1564.4543359375002\" y=\"75.0\" width=\"48.7939453125\" height=\"40\" stroke=\"black\" fill=\"white\" stroke-width=\"1\" /><text x=\"1588.8513085937502\" y=\"95.0\" dominant-baseline=\"middle\" text-anchor=\"middle\" font-size=\"18px\" font-family=\"Arial\">M</text><rect x=\"1564.4543359375002\" y=\"125.0\" width=\"48.7939453125\" height=\"40\" stroke=\"black\" fill=\"white\" stroke-width=\"1\" /><text x=\"1588.8513085937502\" y=\"145.0\" dominant-baseline=\"middle\" text-anchor=\"middle\" font-size=\"18px\" font-family=\"Arial\">M</text><rect x=\"1564.4543359375002\" y=\"175.0\" width=\"48.7939453125\" height=\"40\" stroke=\"black\" fill=\"white\" stroke-width=\"1\" /><text x=\"1588.8513085937502\" y=\"195.0\" dominant-baseline=\"middle\" text-anchor=\"middle\" font-size=\"18px\" font-family=\"Arial\">M</text><rect x=\"1564.4543359375002\" y=\"225.0\" width=\"48.7939453125\" height=\"40\" stroke=\"black\" fill=\"white\" stroke-width=\"1\" /><text x=\"1588.8513085937502\" y=\"245.0\" dominant-baseline=\"middle\" text-anchor=\"middle\" font-size=\"18px\" font-family=\"Arial\">M</text><rect x=\"1564.4543359375002\" y=\"275.0\" width=\"48.7939453125\" height=\"40\" stroke=\"black\" fill=\"white\" stroke-width=\"1\" /><text x=\"1588.8513085937502\" y=\"295.0\" dominant-baseline=\"middle\" text-anchor=\"middle\" font-size=\"18px\" font-family=\"Arial\">M</text></svg>"
      ],
      "text/plain": [
       "<cirq.contrib.svg.svg.SVGCircuit at 0x146fb9d50>"
      ]
     },
     "execution_count": 165,
     "metadata": {},
     "output_type": "execute_result"
    }
   ],
   "source": [
    "## Show example circuit architecture for the more advanced parameterized policy.\n",
    "circuit, symbols = build_parameterized_system_circuit(\n",
    "    d=3,\n",
    "    n=2,\n",
    "    policy_fn=lambda qubits, aidx: parameterized_variational_encoding_policy_circuit(qubits, n_layers=1, symbol_superscript_index=aidx),\n",
    "    initial_state_prep_fn=lambda qubits: entangle_agents_phi_plus(qubits, d=3, n=2),\n",
    "    meas_key_all='all',\n",
    "    meas_key_prefix_agent='agent',\n",
    ")\n",
    "SVGCircuit(circuit)"
   ]
  },
  {
   "cell_type": "markdown",
   "metadata": {},
   "source": [
    "## Experiments"
   ]
  },
  {
   "cell_type": "code",
   "execution_count": 166,
   "metadata": {},
   "outputs": [],
   "source": [
    "d_qubits = 2\n",
    "n_agents = 2\n",
    "n_layers = 1\n",
    "repetitions = 1000\n",
    "nrows, ncols = 3, 3"
   ]
  },
  {
   "cell_type": "markdown",
   "metadata": {},
   "source": [
    "### Simple policy with CNOT variational entanglement\n",
    "\n",
    "No encoding layers, just a single variational layer with next-neighbor qubit entanglement using CNOT gate."
   ]
  },
  {
   "cell_type": "code",
   "execution_count": 167,
   "metadata": {},
   "outputs": [],
   "source": [
    "test_runner(\n",
    "    d=d_qubits, n=n_agents,\n",
    "    repetitions=repetitions,\n",
    "    figure_kwargs=dict(layout='constrained', figsize=(20, 14)),\n",
    "    subfigure_kwargs=dict(nrows=nrows, ncols=ncols, wspace=0.09, hspace=0.09),\n",
    "    figure_title=f'Result State Histogram\\nSimple Policy, {n_agents} agents, {d_qubits} qubits per agent\\ninput state $|0\\\\rangle$, random $\\\\theta$\\n{nrows * ncols} trials, {repetitions} repetitions per trial',\n",
    "    plot_agent_histogram=False,\n",
    "    policy_fn=lambda qubits, aidx: parameterized_variational_policy_circuit(qubits, n_layers=n_layers, symbol_superscript_index=aidx),\n",
    "    symbol_resolver_fn=ParamResolverRandomTheta(),\n",
    "    initial_state_prep_fn=None,\n",
    ")"
   ]
  },
  {
   "cell_type": "code",
   "execution_count": 168,
   "metadata": {},
   "outputs": [],
   "source": [
    "test_runner(\n",
    "    d=d_qubits, n=n_agents,\n",
    "    repetitions=repetitions,\n",
    "    figure_kwargs=dict(layout='constrained', figsize=(20, 14)),\n",
    "    subfigure_kwargs=dict(nrows=nrows, ncols=ncols, wspace=0.09, hspace=0.09),\n",
    "    figure_title=f'Result State Histogram\\nSimple Policy, {n_agents} agents, {d_qubits} qubits per agent\\ninput state $|\\Phi^+\\\\rangle$, random $\\\\theta$\\n{nrows * ncols} trials, {repetitions} repetitions per trial',\n",
    "    plot_agent_histogram=False,\n",
    "    policy_fn=lambda qubits, aidx: parameterized_variational_policy_circuit(qubits, n_layers=n_layers, symbol_superscript_index=aidx),\n",
    "    symbol_resolver_fn=ParamResolverRandomTheta(),\n",
    "    initial_state_prep_fn=entangle_agents_phi_plus,\n",
    ")"
   ]
  },
  {
   "cell_type": "code",
   "execution_count": 169,
   "metadata": {},
   "outputs": [],
   "source": [
    "test_runner(\n",
    "    d=d_qubits, n=n_agents,\n",
    "    repetitions=repetitions,\n",
    "    figure_kwargs=dict(layout='constrained', figsize=(20, 14)),\n",
    "    subfigure_kwargs=dict(nrows=nrows, ncols=ncols, wspace=0.09, hspace=0.09),\n",
    "    figure_title=f'Result State Histogram\\nSimple Policy, {n_agents} agents, {d_qubits} qubits per agent\\ninput state $|\\Psi^+\\\\rangle$, random $\\\\theta$\\n{nrows * ncols} trials, {repetitions} repetitions per trial',\n",
    "    plot_agent_histogram=False,\n",
    "    policy_fn=lambda qubits, aidx: parameterized_variational_policy_circuit(qubits, n_layers=n_layers, symbol_superscript_index=aidx),\n",
    "    symbol_resolver_fn=ParamResolverRandomTheta(),\n",
    "    initial_state_prep_fn=entangle_agents_psi_plus,\n",
    ")"
   ]
  },
  {
   "cell_type": "code",
   "execution_count": 170,
   "metadata": {},
   "outputs": [],
   "source": [
    "test_runner(\n",
    "    d=d_qubits, n=n_agents,\n",
    "    repetitions=repetitions,\n",
    "    figure_kwargs=dict(layout='constrained', figsize=(20, 14)),\n",
    "    subfigure_kwargs=dict(nrows=nrows, ncols=ncols, wspace=0.09, hspace=0.09),\n",
    "    figure_title=f'Result State Histogram\\nSimple Policy, {n_agents} agents, {d_qubits} qubits per agent\\ninput state $|\\Psi^-\\\\rangle$, random $\\\\theta$\\n{nrows * ncols} trials, {repetitions} repetitions per trial',\n",
    "    plot_agent_histogram=False,\n",
    "    policy_fn=lambda qubits, aidx: parameterized_variational_policy_circuit(qubits, n_layers=n_layers, symbol_superscript_index=aidx),\n",
    "    symbol_resolver_fn=ParamResolverRandomTheta(),\n",
    "    initial_state_prep_fn=entangle_agents_psi_minus,\n",
    ")"
   ]
  },
  {
   "cell_type": "code",
   "execution_count": 171,
   "metadata": {},
   "outputs": [],
   "source": [
    "test_runner(\n",
    "    d=d_qubits, n=n_agents,\n",
    "    repetitions=repetitions,\n",
    "    figure_kwargs=dict(layout='constrained', figsize=(20, 14)),\n",
    "    subfigure_kwargs=dict(nrows=nrows, ncols=ncols, wspace=0.09, hspace=0.09),\n",
    "    figure_title=f'Result State Histogram\\nSimple Policy, {n_agents} agents, {d_qubits} qubits per agent\\ninput state $|\\Phi^-\\\\rangle$, random $\\\\theta$\\n{nrows * ncols} trials, {repetitions} repetitions per trial',\n",
    "    plot_agent_histogram=False,\n",
    "    policy_fn=lambda qubits, aidx: parameterized_variational_policy_circuit(qubits, n_layers=n_layers, symbol_superscript_index=aidx),\n",
    "    symbol_resolver_fn=ParamResolverRandomTheta(),\n",
    "    initial_state_prep_fn=entangle_agents_phi_minus,\n",
    ")"
   ]
  },
  {
   "cell_type": "markdown",
   "metadata": {},
   "source": [
    "### Simple policy with CZ variational entanglement\n",
    "\n",
    "No encoding layers, just a single variational layer with next-neighbor qubit entanglement using CZ gate."
   ]
  },
  {
   "cell_type": "code",
   "execution_count": 172,
   "metadata": {},
   "outputs": [],
   "source": [
    "test_runner(\n",
    "    d=d_qubits, n=n_agents,\n",
    "    repetitions=repetitions,\n",
    "    figure_kwargs=dict(layout='constrained', figsize=(20, 14)),\n",
    "    subfigure_kwargs=dict(nrows=nrows, ncols=ncols, wspace=0.09, hspace=0.09),\n",
    "    figure_title=f'Result State Histogram\\nSimple Policy (CZ next-neighbor variational entanglement), {n_agents} agents, {d_qubits} qubits per agent\\ninput state $|\\Phi^+\\\\rangle$, random $\\\\theta$\\n{nrows * ncols} trials, {repetitions} repetitions per trial',\n",
    "    plot_agent_histogram=False,\n",
    "    policy_fn=lambda qubits, aidx: parameterized_variational_policy_circuit(qubits, n_layers=n_layers, symbol_superscript_index=aidx, entangling_layer_fn=lambda qubits: neighbor_entangling_layer(qubits, gate=cirq.CZ)),\n",
    "    symbol_resolver_fn=ParamResolverRandomTheta(),\n",
    "    initial_state_prep_fn=entangle_agents_phi_plus,\n",
    ")"
   ]
  },
  {
   "cell_type": "code",
   "execution_count": 173,
   "metadata": {},
   "outputs": [],
   "source": [
    "test_runner(\n",
    "    d=d_qubits, n=n_agents,\n",
    "    repetitions=repetitions,\n",
    "    figure_kwargs=dict(layout='constrained', figsize=(20, 14)),\n",
    "    subfigure_kwargs=dict(nrows=nrows, ncols=ncols, wspace=0.09, hspace=0.09),\n",
    "    figure_title=f'Result State Histogram\\nSimple Policy (CZ next-neighbor variational entanglement), {n_agents} agents, {d_qubits} qubits per agent\\ninput state $|\\Psi^+\\\\rangle$, random $\\\\theta$\\n{nrows * ncols} trials, {repetitions} repetitions per trial',\n",
    "    plot_agent_histogram=False,\n",
    "    policy_fn=lambda qubits, aidx: parameterized_variational_policy_circuit(qubits, n_layers=n_layers, symbol_superscript_index=aidx, entangling_layer_fn=lambda qubits: neighbor_entangling_layer(qubits, gate=cirq.CZ)),\n",
    "    symbol_resolver_fn=ParamResolverRandomTheta(),\n",
    "    initial_state_prep_fn=entangle_agents_psi_plus,\n",
    ")"
   ]
  },
  {
   "cell_type": "code",
   "execution_count": 174,
   "metadata": {},
   "outputs": [],
   "source": [
    "test_runner(\n",
    "    d=d_qubits, n=n_agents,\n",
    "    repetitions=repetitions,\n",
    "    figure_kwargs=dict(layout='constrained', figsize=(20, 14)),\n",
    "    subfigure_kwargs=dict(nrows=nrows, ncols=ncols, wspace=0.09, hspace=0.09),\n",
    "    figure_title=f'Result State Histogram\\nSimple Policy (CZ next-neighbor variational entanglement), {n_agents} agents, {d_qubits} qubits per agent\\ninput state $|\\Psi^-\\\\rangle$, random $\\\\theta$\\n{nrows * ncols} trials, {repetitions} repetitions per trial',\n",
    "    plot_agent_histogram=False,\n",
    "    policy_fn=lambda qubits, aidx: parameterized_variational_policy_circuit(qubits, n_layers=n_layers, symbol_superscript_index=aidx, entangling_layer_fn=lambda qubits: neighbor_entangling_layer(qubits, gate=cirq.CZ)),\n",
    "    symbol_resolver_fn=ParamResolverRandomTheta(),\n",
    "    initial_state_prep_fn=entangle_agents_psi_minus,\n",
    ")"
   ]
  },
  {
   "cell_type": "code",
   "execution_count": 175,
   "metadata": {},
   "outputs": [],
   "source": [
    "test_runner(\n",
    "    d=d_qubits, n=n_agents,\n",
    "    repetitions=repetitions,\n",
    "    figure_kwargs=dict(layout='constrained', figsize=(20, 14)),\n",
    "    subfigure_kwargs=dict(nrows=nrows, ncols=ncols, wspace=0.09, hspace=0.09),\n",
    "    figure_title=f'Result State Histogram\\nSimple Policy (CZ next-neighbor variational entanglement), {n_agents} agents, {d_qubits} qubits per agent\\ninput state $|\\Phi^-\\\\rangle$, random $\\\\theta$\\n{nrows * ncols} trials, {repetitions} repetitions per trial',\n",
    "    plot_agent_histogram=False,\n",
    "    policy_fn=lambda qubits, aidx: parameterized_variational_policy_circuit(qubits, n_layers=n_layers, symbol_superscript_index=aidx, entangling_layer_fn=lambda qubits: neighbor_entangling_layer(qubits, gate=cirq.CZ)),\n",
    "    symbol_resolver_fn=ParamResolverRandomTheta(),\n",
    "    initial_state_prep_fn=entangle_agents_phi_minus,\n",
    ")"
   ]
  },
  {
   "cell_type": "code",
   "execution_count": 176,
   "metadata": {},
   "outputs": [],
   "source": [
    "test_runner(\n",
    "    d=d_qubits, n=n_agents,\n",
    "    repetitions=repetitions,\n",
    "    figure_kwargs=dict(layout='constrained', figsize=(20, 14)),\n",
    "    subfigure_kwargs=dict(nrows=nrows, ncols=ncols, wspace=0.09, hspace=0.09),\n",
    "    figure_title=f'Result State Histogram\\nSimple Policy (CZ next-neighbor variational entanglement), {n_agents} agents, {d_qubits} qubits per agent\\ninput state $|\\Phi^+\\\\rangle$, nearly identical $\\\\theta$\\n{nrows * ncols} trials, {repetitions} repetitions per trial',\n",
    "    plot_agent_histogram=False,\n",
    "    policy_fn=lambda qubits, aidx: parameterized_variational_policy_circuit(qubits, n_layers=n_layers, symbol_superscript_index=aidx, entangling_layer_fn=lambda qubits: neighbor_entangling_layer(qubits, gate=cirq.CZ)),\n",
    "    symbol_resolver_fn=ParamResolverNearlyIdenticalTheta(),\n",
    "    initial_state_prep_fn=entangle_agents_phi_plus,\n",
    ")"
   ]
  },
  {
   "cell_type": "code",
   "execution_count": 177,
   "metadata": {},
   "outputs": [],
   "source": [
    "test_runner(\n",
    "    d=d_qubits, n=n_agents,\n",
    "    repetitions=repetitions,\n",
    "    figure_kwargs=dict(layout='constrained', figsize=(20, 14)),\n",
    "    subfigure_kwargs=dict(nrows=nrows, ncols=ncols, wspace=0.09, hspace=0.09),\n",
    "    figure_title=f'Result State Histogram\\nSimple Policy (CZ next-neighbor variational entanglement), {n_agents} agents, {d_qubits} qubits per agent\\ninput state $|\\Psi^+\\\\rangle$, nearly identical $\\\\theta$\\n{nrows * ncols} trials, {repetitions} repetitions per trial',\n",
    "    plot_agent_histogram=False,\n",
    "    policy_fn=lambda qubits, aidx: parameterized_variational_policy_circuit(qubits, n_layers=n_layers, symbol_superscript_index=aidx, entangling_layer_fn=lambda qubits: neighbor_entangling_layer(qubits, gate=cirq.CZ)),\n",
    "    symbol_resolver_fn=ParamResolverNearlyIdenticalTheta(),\n",
    "    initial_state_prep_fn=entangle_agents_psi_plus,\n",
    ")"
   ]
  },
  {
   "cell_type": "code",
   "execution_count": 178,
   "metadata": {},
   "outputs": [],
   "source": [
    "test_runner(\n",
    "    d=d_qubits, n=n_agents,\n",
    "    repetitions=repetitions,\n",
    "    figure_kwargs=dict(layout='constrained', figsize=(20, 14)),\n",
    "    subfigure_kwargs=dict(nrows=nrows, ncols=ncols, wspace=0.09, hspace=0.09),\n",
    "    figure_title=f'Result State Histogram\\nSimple Policy (CZ next-neighbor variational entanglement), {n_agents} agents, {d_qubits} qubits per agent\\ninput state $|\\Phi^-\\\\rangle$, nearly identical $\\\\theta$\\n{nrows * ncols} trials, {repetitions} repetitions per trial',\n",
    "    plot_agent_histogram=False,\n",
    "    policy_fn=lambda qubits, aidx: parameterized_variational_policy_circuit(qubits, n_layers=n_layers, symbol_superscript_index=aidx, entangling_layer_fn=lambda qubits: neighbor_entangling_layer(qubits, gate=cirq.CZ)),\n",
    "    symbol_resolver_fn=ParamResolverNearlyIdenticalTheta(),\n",
    "    initial_state_prep_fn=entangle_agents_phi_minus,\n",
    ")"
   ]
  },
  {
   "cell_type": "code",
   "execution_count": 179,
   "metadata": {},
   "outputs": [],
   "source": [
    "test_runner(\n",
    "    d=d_qubits, n=n_agents,\n",
    "    repetitions=repetitions,\n",
    "    figure_kwargs=dict(layout='constrained', figsize=(20, 14)),\n",
    "    subfigure_kwargs=dict(nrows=nrows, ncols=ncols, wspace=0.09, hspace=0.09),\n",
    "    figure_title=f'Result State Histogram\\nSimple Policy (CZ next-neighbor variational entanglement), {n_agents} agents, {d_qubits} qubits per agent\\ninput state $|\\Psi^-\\\\rangle$, nearly identical $\\\\theta$\\n{nrows * ncols} trials, {repetitions} repetitions per trial',\n",
    "    plot_agent_histogram=False,\n",
    "    policy_fn=lambda qubits, aidx: parameterized_variational_policy_circuit(qubits, n_layers=n_layers, symbol_superscript_index=aidx, entangling_layer_fn=lambda qubits: neighbor_entangling_layer(qubits, gate=cirq.CZ)),\n",
    "    symbol_resolver_fn=ParamResolverNearlyIdenticalTheta(),\n",
    "    initial_state_prep_fn=entangle_agents_psi_minus,\n",
    ")"
   ]
  },
  {
   "cell_type": "markdown",
   "metadata": {},
   "source": [
    "### Advanced Parameterized Circuits\n",
    "\n",
    "Includes variational and encoding layers."
   ]
  },
  {
   "cell_type": "markdown",
   "metadata": {},
   "source": [
    "#### Random $\\theta$, Random $s$"
   ]
  },
  {
   "cell_type": "code",
   "execution_count": 180,
   "metadata": {},
   "outputs": [],
   "source": [
    "test_runner(\n",
    "    d=d_qubits, n=n_agents,\n",
    "    repetitions=repetitions,\n",
    "    figure_kwargs=dict(layout='constrained', figsize=(20, 14)),\n",
    "    subfigure_kwargs=dict(nrows=nrows, ncols=ncols, wspace=0.09, hspace=0.09),\n",
    "    figure_title=f'Result State Histogram\\nVariational + Encoding policy (CZ circular entanglement), {n_agents} agents, {d_qubits} qubits per agent\\ninput state $|0\\\\rangle$, random $\\\\theta$, random $s$\\n{nrows * ncols} trials, {repetitions} repetitions per trial',\n",
    "    policy_fn=lambda qubits, aidx: parameterized_variational_encoding_policy_circuit(qubits, n_layers=n_layers, symbol_superscript_index=aidx),\n",
    "    symbol_resolver_fn=ParamResolverRandomThetaRandomS(),\n",
    "    initial_state_prep_fn=None,\n",
    ")"
   ]
  },
  {
   "cell_type": "code",
   "execution_count": 181,
   "metadata": {},
   "outputs": [],
   "source": [
    "test_runner(\n",
    "    d=d_qubits, n=n_agents,\n",
    "    repetitions=repetitions,\n",
    "    figure_kwargs=dict(layout='constrained', figsize=(20, 14)),\n",
    "    subfigure_kwargs=dict(nrows=nrows, ncols=ncols, wspace=0.09, hspace=0.09),\n",
    "    figure_title=f'Result State Histogram\\nVariational + Encoding policy (CZ circular entanglement), {n_agents} agents, {d_qubits} qubits per agent\\ninput state $|\\Phi^+\\\\rangle$, random $\\\\theta$, random $s$\\n{nrows * ncols} trials, {repetitions} repetitions per trial',\n",
    "    policy_fn=lambda qubits, aidx: parameterized_variational_encoding_policy_circuit(qubits, n_layers=n_layers, symbol_superscript_index=aidx),\n",
    "    symbol_resolver_fn=ParamResolverRandomThetaRandomS(),\n",
    "    initial_state_prep_fn=entangle_agents_phi_plus,\n",
    ")"
   ]
  },
  {
   "cell_type": "code",
   "execution_count": 182,
   "metadata": {},
   "outputs": [],
   "source": [
    "test_runner(\n",
    "    d=d_qubits, n=n_agents,\n",
    "    repetitions=repetitions,\n",
    "    figure_kwargs=dict(layout='constrained', figsize=(20, 14)),\n",
    "    subfigure_kwargs=dict(nrows=nrows, ncols=ncols, wspace=0.09, hspace=0.09),\n",
    "    figure_title=f'Result State Histogram\\nVariational + Encoding policy (CZ circular entanglement), {n_agents} agents, {d_qubits} qubits per agent\\ninput state $|\\Psi^+\\\\rangle$, random $\\\\theta$, random $s$\\n{nrows * ncols} trials, {repetitions} repetitions per trial',\n",
    "    policy_fn=lambda qubits, aidx: parameterized_variational_encoding_policy_circuit(qubits, n_layers=n_layers, symbol_superscript_index=aidx),\n",
    "    symbol_resolver_fn=ParamResolverRandomThetaRandomS(),\n",
    "    initial_state_prep_fn=entangle_agents_psi_plus,\n",
    ")"
   ]
  },
  {
   "cell_type": "code",
   "execution_count": 183,
   "metadata": {},
   "outputs": [],
   "source": [
    "test_runner(\n",
    "    d=d_qubits, n=n_agents,\n",
    "    repetitions=repetitions,\n",
    "    figure_kwargs=dict(layout='constrained', figsize=(20, 14)),\n",
    "    subfigure_kwargs=dict(nrows=nrows, ncols=ncols, wspace=0.09, hspace=0.09),\n",
    "    figure_title=f'Result State Histogram\\nVariational + Encoding policy (CZ circular entanglement), {n_agents} agents, {d_qubits} qubits per agent\\ninput state $|\\Psi^-\\\\rangle$, random $\\\\theta$, random $s$\\n{nrows * ncols} trials, {repetitions} repetitions per trial',\n",
    "    policy_fn=lambda qubits, aidx: parameterized_variational_encoding_policy_circuit(qubits, n_layers=n_layers, symbol_superscript_index=aidx),\n",
    "    symbol_resolver_fn=ParamResolverRandomThetaRandomS(),\n",
    "    initial_state_prep_fn=entangle_agents_psi_minus,\n",
    ")"
   ]
  },
  {
   "cell_type": "code",
   "execution_count": 184,
   "metadata": {},
   "outputs": [],
   "source": [
    "test_runner(\n",
    "    d=d_qubits, n=n_agents,\n",
    "    repetitions=repetitions,\n",
    "    figure_kwargs=dict(layout='constrained', figsize=(20, 14)),\n",
    "    subfigure_kwargs=dict(nrows=nrows, ncols=ncols, wspace=0.09, hspace=0.09),\n",
    "    figure_title=f'Result State Histogram\\nVariational + Encoding policy (CZ circular entanglement), {n_agents} agents, {d_qubits} qubits per agent\\ninput state $|\\Phi^-\\\\rangle$, random $\\\\theta$, random $s$\\n{nrows * ncols} trials, {repetitions} repetitions per trial',\n",
    "    policy_fn=lambda qubits, aidx: parameterized_variational_encoding_policy_circuit(qubits, n_layers=n_layers, symbol_superscript_index=aidx),\n",
    "    symbol_resolver_fn=ParamResolverRandomThetaRandomS(),\n",
    "    initial_state_prep_fn=entangle_agents_phi_minus,\n",
    ")"
   ]
  },
  {
   "cell_type": "markdown",
   "metadata": {},
   "source": [
    "#### Identical $\\theta$, Identical $s$"
   ]
  },
  {
   "cell_type": "code",
   "execution_count": 185,
   "metadata": {},
   "outputs": [],
   "source": [
    "test_runner(\n",
    "    d=d_qubits, n=n_agents,\n",
    "    repetitions=repetitions,\n",
    "    figure_kwargs=dict(layout='constrained', figsize=(20, 14)),\n",
    "    subfigure_kwargs=dict(nrows=nrows, ncols=ncols, wspace=0.09, hspace=0.09),\n",
    "    figure_title=f'Result State Histogram\\nVariational + Encoding policy (CZ circular entanglement), {n_agents} agents, {d_qubits} qubits per agent\\ninput state $|\\Phi^+\\\\rangle$, identical $\\\\theta$, identical $s$\\n{nrows * ncols} trials, {repetitions} repetitions per trial',\n",
    "    policy_fn=lambda qubits, aidx: parameterized_variational_encoding_policy_circuit(qubits, n_layers=n_layers, symbol_superscript_index=aidx),\n",
    "    symbol_resolver_fn=ParamResolverIdenticalThetaIdenticalS(),\n",
    "    initial_state_prep_fn=entangle_agents_phi_plus,\n",
    ")"
   ]
  },
  {
   "cell_type": "code",
   "execution_count": 186,
   "metadata": {},
   "outputs": [],
   "source": [
    "test_runner(\n",
    "    d=d_qubits, n=n_agents,\n",
    "    repetitions=repetitions,\n",
    "    figure_kwargs=dict(layout='constrained', figsize=(20, 14)),\n",
    "    subfigure_kwargs=dict(nrows=nrows, ncols=ncols, wspace=0.09, hspace=0.09),\n",
    "    figure_title=f'Result State Histogram\\nVariational + Encoding policy (CZ circular entanglement), {n_agents} agents, {d_qubits} qubits per agent\\ninput state $|\\Psi^+\\\\rangle$, identical $\\\\theta$, identical $s$\\n{nrows * ncols} trials, {repetitions} repetitions per trial',\n",
    "    policy_fn=lambda qubits, aidx: parameterized_variational_encoding_policy_circuit(qubits, n_layers=n_layers, symbol_superscript_index=aidx),\n",
    "    symbol_resolver_fn=ParamResolverIdenticalThetaIdenticalS(),\n",
    "    initial_state_prep_fn=entangle_agents_psi_plus,\n",
    ")"
   ]
  },
  {
   "cell_type": "code",
   "execution_count": 187,
   "metadata": {},
   "outputs": [],
   "source": [
    "test_runner(\n",
    "    d=d_qubits, n=n_agents,\n",
    "    repetitions=repetitions,\n",
    "    figure_kwargs=dict(layout='constrained', figsize=(20, 14)),\n",
    "    subfigure_kwargs=dict(nrows=nrows, ncols=ncols, wspace=0.09, hspace=0.09),\n",
    "    figure_title=f'Result State Histogram\\nVariational + Encoding policy (CZ circular entanglement), {n_agents} agents, {d_qubits} qubits per agent\\ninput state $|\\Psi^-\\\\rangle$, identical $\\\\theta$, identical $s$\\n{nrows * ncols} trials, {repetitions} repetitions per trial',\n",
    "    policy_fn=lambda qubits, aidx: parameterized_variational_encoding_policy_circuit(qubits, n_layers=n_layers, symbol_superscript_index=aidx),\n",
    "    symbol_resolver_fn=ParamResolverIdenticalThetaIdenticalS(),\n",
    "    initial_state_prep_fn=entangle_agents_psi_minus,\n",
    ")"
   ]
  },
  {
   "cell_type": "code",
   "execution_count": 188,
   "metadata": {},
   "outputs": [],
   "source": [
    "test_runner(\n",
    "    d=d_qubits, n=n_agents,\n",
    "    repetitions=repetitions,\n",
    "    figure_kwargs=dict(layout='constrained', figsize=(20, 14)),\n",
    "    subfigure_kwargs=dict(nrows=nrows, ncols=ncols, wspace=0.09, hspace=0.09),\n",
    "    figure_title=f'Result State Histogram\\nVariational + Encoding policy (CZ circular entanglement), {n_agents} agents, {d_qubits} qubits per agent\\ninput state $|\\Phi^-\\\\rangle$, identical $\\\\theta$, identical $s$\\n{nrows * ncols} trials, {repetitions} repetitions per trial',\n",
    "    policy_fn=lambda qubits, aidx: parameterized_variational_encoding_policy_circuit(qubits, n_layers=n_layers, symbol_superscript_index=aidx),\n",
    "    symbol_resolver_fn=ParamResolverIdenticalThetaIdenticalS(),\n",
    "    initial_state_prep_fn=entangle_agents_phi_minus,\n",
    ")"
   ]
  },
  {
   "cell_type": "markdown",
   "metadata": {},
   "source": [
    "#### Nearly Identical $\\theta$, Identical $s$"
   ]
  },
  {
   "cell_type": "code",
   "execution_count": 189,
   "metadata": {},
   "outputs": [],
   "source": [
    "test_runner(\n",
    "    d=d_qubits, n=n_agents,\n",
    "    repetitions=repetitions,\n",
    "    figure_kwargs=dict(layout='constrained', figsize=(20, 14)),\n",
    "    subfigure_kwargs=dict(nrows=nrows, ncols=ncols, wspace=0.09, hspace=0.09),\n",
    "    figure_title=f'Result State Histogram\\nVariational + Encoding policy (CZ circular entanglement), {n_agents} agents, {d_qubits} qubits per agent\\ninput state $|\\Phi^+\\\\rangle$, nearly identical $\\\\theta$, identical $s$\\n{nrows * ncols} trials, {repetitions} repetitions per trial',\n",
    "    policy_fn=lambda qubits, aidx: parameterized_variational_encoding_policy_circuit(qubits, n_layers=n_layers, symbol_superscript_index=aidx),\n",
    "    symbol_resolver_fn=ParamResolverNearlyIdenticalThetaIdenticalS(),\n",
    "    initial_state_prep_fn=entangle_agents_phi_plus,\n",
    ")"
   ]
  },
  {
   "cell_type": "code",
   "execution_count": 190,
   "metadata": {},
   "outputs": [],
   "source": [
    "test_runner(\n",
    "    d=d_qubits, n=n_agents,\n",
    "    repetitions=repetitions,\n",
    "    figure_kwargs=dict(layout='constrained', figsize=(20, 14)),\n",
    "    subfigure_kwargs=dict(nrows=nrows, ncols=ncols, wspace=0.09, hspace=0.09),\n",
    "    figure_title=f'Result State Histogram\\nVariational + Encoding policy (CZ circular entanglement), {n_agents} agents, {d_qubits} qubits per agent\\ninput state $|\\Psi^+\\\\rangle$, nearly identical $\\\\theta$, identical $s$\\n{nrows * ncols} trials, {repetitions} repetitions per trial',\n",
    "    policy_fn=lambda qubits, aidx: parameterized_variational_encoding_policy_circuit(qubits, n_layers=n_layers, symbol_superscript_index=aidx),\n",
    "    symbol_resolver_fn=ParamResolverNearlyIdenticalThetaIdenticalS(),\n",
    "    initial_state_prep_fn=entangle_agents_psi_plus,\n",
    ")"
   ]
  },
  {
   "cell_type": "code",
   "execution_count": 191,
   "metadata": {},
   "outputs": [],
   "source": [
    "test_runner(\n",
    "    d=d_qubits, n=n_agents,\n",
    "    repetitions=repetitions,\n",
    "    figure_kwargs=dict(layout='constrained', figsize=(20, 14)),\n",
    "    subfigure_kwargs=dict(nrows=nrows, ncols=ncols, wspace=0.09, hspace=0.09),\n",
    "    figure_title=f'Result State Histogram\\nVariational + Encoding policy (CZ circular entanglement), {n_agents} agents, {d_qubits} qubits per agent\\ninput state $|\\Psi^-\\\\rangle$, nearly identical $\\\\theta$, identical $s$\\n{nrows * ncols} trials, {repetitions} repetitions per trial',\n",
    "    policy_fn=lambda qubits, aidx: parameterized_variational_encoding_policy_circuit(qubits, n_layers=n_layers, symbol_superscript_index=aidx),\n",
    "    symbol_resolver_fn=ParamResolverNearlyIdenticalThetaIdenticalS(),\n",
    "    initial_state_prep_fn=entangle_agents_psi_minus,\n",
    ")"
   ]
  },
  {
   "cell_type": "code",
   "execution_count": 192,
   "metadata": {},
   "outputs": [],
   "source": [
    "test_runner(\n",
    "    d=d_qubits, n=n_agents,\n",
    "    repetitions=repetitions,\n",
    "    figure_kwargs=dict(layout='constrained', figsize=(20, 14)),\n",
    "    subfigure_kwargs=dict(nrows=nrows, ncols=ncols, wspace=0.09, hspace=0.09),\n",
    "    figure_title=f'Result State Histogram\\nVariational + Encoding policy (CZ circular entanglement), {n_agents} agents, {d_qubits} qubits per agent\\ninput state $|\\Phi^-\\\\rangle$, nearly identical $\\\\theta$, identical $s$\\n{nrows * ncols} trials, {repetitions} repetitions per trial',\n",
    "    policy_fn=lambda qubits, aidx: parameterized_variational_encoding_policy_circuit(qubits, n_layers=n_layers, symbol_superscript_index=aidx),\n",
    "    symbol_resolver_fn=ParamResolverNearlyIdenticalThetaIdenticalS(),\n",
    "    initial_state_prep_fn=entangle_agents_phi_minus,\n",
    ")"
   ]
  },
  {
   "cell_type": "markdown",
   "metadata": {},
   "source": [
    "## Run some experiments and save plot figures as files"
   ]
  },
  {
   "cell_type": "code",
   "execution_count": 193,
   "metadata": {},
   "outputs": [],
   "source": [
    "basepath = Path('./images/')\n",
    "basepath.mkdir(exist_ok=True)"
   ]
  },
  {
   "cell_type": "code",
   "execution_count": 194,
   "metadata": {},
   "outputs": [],
   "source": [
    "plt.close()"
   ]
  },
  {
   "cell_type": "code",
   "execution_count": 195,
   "metadata": {},
   "outputs": [],
   "source": [
    "## No Entanglement\n",
    "\n",
    "fig = test_runner(\n",
    "    d=d_qubits, n=n_agents,\n",
    "    repetitions=repetitions,\n",
    "    figure_kwargs=dict(layout='constrained', figsize=(20, 14)),\n",
    "    subfigure_kwargs=dict(nrows=nrows, ncols=ncols, wspace=0.09, hspace=0.09),\n",
    "    figure_title=f'Result State Histogram\\nVariational + Encoding policy (CZ circular entanglement), {n_agents} agents, {d_qubits} qubits per agent\\ninput state $|0\\\\rangle$, random $\\\\theta$, random $s$\\n{nrows * ncols} trials, {repetitions} repetitions per trial',\n",
    "    policy_fn=lambda qubits, aidx: parameterized_variational_encoding_policy_circuit(qubits, n_layers=n_layers, symbol_superscript_index=aidx),\n",
    "    symbol_resolver_fn=ParamResolverRandomThetaRandomS(),\n",
    "    initial_state_prep_fn=None,\n",
    ")\n",
    "if fig is not None: fig.savefig(basepath/'no_entanglement_random_theta_random_s.png')\n",
    "\n",
    "fig = test_runner(\n",
    "    d=d_qubits, n=n_agents,\n",
    "    repetitions=repetitions,\n",
    "    figure_kwargs=dict(layout='constrained', figsize=(20, 14)),\n",
    "    subfigure_kwargs=dict(nrows=nrows, ncols=ncols, wspace=0.09, hspace=0.09),\n",
    "    figure_title=f'Result State Histogram\\nVariational + Encoding policy (CZ circular entanglement), {n_agents} agents, {d_qubits} qubits per agent\\ninput state $|0\\\\rangle$, identical $\\\\theta$, identical $s$\\n{nrows * ncols} trials, {repetitions} repetitions per trial',\n",
    "    policy_fn=lambda qubits, aidx: parameterized_variational_encoding_policy_circuit(qubits, n_layers=n_layers, symbol_superscript_index=aidx),\n",
    "    symbol_resolver_fn=ParamResolverIdenticalThetaIdenticalS(),\n",
    "    initial_state_prep_fn=None,\n",
    ")\n",
    "if fig is not None: fig.savefig(basepath/'no_entanglement_identical_theta_identical_s.png')\n",
    "\n",
    "fig = test_runner(\n",
    "    d=d_qubits, n=n_agents,\n",
    "    repetitions=repetitions,\n",
    "    figure_kwargs=dict(layout='constrained', figsize=(20, 14)),\n",
    "    subfigure_kwargs=dict(nrows=nrows, ncols=ncols, wspace=0.09, hspace=0.09),\n",
    "    figure_title=f'Result State Histogram\\nVariational + Encoding policy (CZ circular entanglement), {n_agents} agents, {d_qubits} qubits per agent\\ninput state $|0\\\\rangle$, nearly identical $\\\\theta$, identical $s$\\n{nrows * ncols} trials, {repetitions} repetitions per trial',\n",
    "    policy_fn=lambda qubits, aidx: parameterized_variational_encoding_policy_circuit(qubits, n_layers=n_layers, symbol_superscript_index=aidx),\n",
    "    symbol_resolver_fn=ParamResolverNearlyIdenticalThetaIdenticalS(),\n",
    "    initial_state_prep_fn=None,\n",
    ")\n",
    "if fig is not None: fig.savefig(basepath/'no_entanglement_nearly_identical_theta_identical_s.png')\n",
    "\n",
    "fig = test_runner(\n",
    "    d=d_qubits, n=n_agents,\n",
    "    repetitions=repetitions,\n",
    "    figure_kwargs=dict(layout='constrained', figsize=(20, 14)),\n",
    "    subfigure_kwargs=dict(nrows=nrows, ncols=ncols, wspace=0.09, hspace=0.09),\n",
    "    figure_title=f'Result State Histogram\\nVariational + Encoding policy (CZ circular entanglement), {n_agents} agents, {d_qubits} qubits per agent\\ninput state $|0\\\\rangle$, nearly identical $\\\\theta$, random $s$\\n{nrows * ncols} trials, {repetitions} repetitions per trial',\n",
    "    policy_fn=lambda qubits, aidx: parameterized_variational_encoding_policy_circuit(qubits, n_layers=n_layers, symbol_superscript_index=aidx),\n",
    "    symbol_resolver_fn=ParamResolverNearlyIdenticalThetaRandomS(),\n",
    "    initial_state_prep_fn=None,\n",
    ")\n",
    "if fig is not None: fig.savefig(basepath/'no_entanglement_nearly_identical_theta_random_s.png')"
   ]
  },
  {
   "cell_type": "code",
   "execution_count": 196,
   "metadata": {},
   "outputs": [],
   "source": [
    "## Phi+\n",
    "\n",
    "fig = test_runner(\n",
    "    d=d_qubits, n=n_agents,\n",
    "    repetitions=repetitions,\n",
    "    figure_kwargs=dict(layout='constrained', figsize=(20, 14)),\n",
    "    subfigure_kwargs=dict(nrows=nrows, ncols=ncols, wspace=0.09, hspace=0.09),\n",
    "    figure_title=f'Result State Histogram\\nVariational + Encoding policy (CZ circular entanglement), {n_agents} agents, {d_qubits} qubits per agent\\ninput state $|\\Phi^+\\\\rangle$, random $\\\\theta$, random $s$\\n{nrows * ncols} trials, {repetitions} repetitions per trial',\n",
    "    policy_fn=lambda qubits, aidx: parameterized_variational_encoding_policy_circuit(qubits, n_layers=n_layers, symbol_superscript_index=aidx),\n",
    "    symbol_resolver_fn=ParamResolverRandomThetaRandomS(),\n",
    "    initial_state_prep_fn=lambda qubits: entangle_agents_phi_plus(qubits, d=d_qubits, n=n_agents),\n",
    ")\n",
    "if fig is not None: fig.savefig(basepath/'entangled_phi_plus_random_theta_random_s.png')\n",
    "\n",
    "fig = test_runner(\n",
    "    d=d_qubits, n=n_agents,\n",
    "    repetitions=repetitions,\n",
    "    figure_kwargs=dict(layout='constrained', figsize=(20, 14)),\n",
    "    subfigure_kwargs=dict(nrows=nrows, ncols=ncols, wspace=0.09, hspace=0.09),\n",
    "    figure_title=f'Result State Histogram\\nVariational + Encoding policy (CZ circular entanglement), {n_agents} agents, {d_qubits} qubits per agent\\ninput state $|\\Phi^+\\\\rangle$, identical $\\\\theta$, identical $s$\\n{nrows * ncols} trials, {repetitions} repetitions per trial',\n",
    "    policy_fn=lambda qubits, aidx: parameterized_variational_encoding_policy_circuit(qubits, n_layers=n_layers, symbol_superscript_index=aidx),\n",
    "    symbol_resolver_fn=ParamResolverIdenticalThetaIdenticalS(),\n",
    "    initial_state_prep_fn=lambda qubits: entangle_agents_phi_plus(qubits, d=d_qubits, n=n_agents),\n",
    ")\n",
    "if fig is not None: fig.savefig(basepath/'entangled_phi_plus_identical_theta_identical_s.png')\n",
    "\n",
    "fig = test_runner(\n",
    "    d=d_qubits, n=n_agents,\n",
    "    repetitions=repetitions,\n",
    "    figure_kwargs=dict(layout='constrained', figsize=(20, 14)),\n",
    "    subfigure_kwargs=dict(nrows=nrows, ncols=ncols, wspace=0.09, hspace=0.09),\n",
    "    figure_title=f'Result State Histogram\\nVariational + Encoding policy (CZ circular entanglement), {n_agents} agents, {d_qubits} qubits per agent\\ninput state $|\\Phi^+\\\\rangle$, nearly identical $\\\\theta$, identical $s$\\n{nrows * ncols} trials, {repetitions} repetitions per trial',\n",
    "    policy_fn=lambda qubits, aidx: parameterized_variational_encoding_policy_circuit(qubits, n_layers=n_layers, symbol_superscript_index=aidx),\n",
    "    symbol_resolver_fn=ParamResolverNearlyIdenticalThetaIdenticalS(),\n",
    "    initial_state_prep_fn=lambda qubits: entangle_agents_phi_plus(qubits, d=d_qubits, n=n_agents),\n",
    ")\n",
    "if fig is not None: fig.savefig(basepath/'entangled_phi_plus_nearly_identical_theta_identical_s.png')\n",
    "\n",
    "fig = test_runner(\n",
    "    d=d_qubits, n=n_agents,\n",
    "    repetitions=repetitions,\n",
    "    figure_kwargs=dict(layout='constrained', figsize=(20, 14)),\n",
    "    subfigure_kwargs=dict(nrows=nrows, ncols=ncols, wspace=0.09, hspace=0.09),\n",
    "    figure_title=f'Result State Histogram\\nVariational + Encoding policy (CZ circular entanglement), {n_agents} agents, {d_qubits} qubits per agent\\ninput state $|\\Phi^+\\\\rangle$, nearly identical $\\\\theta$, random $s$\\n{nrows * ncols} trials, {repetitions} repetitions per trial',\n",
    "    policy_fn=lambda qubits, aidx: parameterized_variational_encoding_policy_circuit(qubits, n_layers=n_layers, symbol_superscript_index=aidx),\n",
    "    symbol_resolver_fn=ParamResolverNearlyIdenticalThetaRandomS(),\n",
    "    initial_state_prep_fn=lambda qubits: entangle_agents_phi_plus(qubits, d=d_qubits, n=n_agents),\n",
    ")\n",
    "if fig is not None: fig.savefig(basepath/'entangled_phi_plus_nearly_identical_theta_random_s.png')"
   ]
  },
  {
   "cell_type": "code",
   "execution_count": 197,
   "metadata": {},
   "outputs": [],
   "source": [
    "## Psi+\n",
    "\n",
    "fig = test_runner(\n",
    "    d=d_qubits, n=n_agents,\n",
    "    repetitions=repetitions,\n",
    "    figure_kwargs=dict(layout='constrained', figsize=(20, 14)),\n",
    "    subfigure_kwargs=dict(nrows=nrows, ncols=ncols, wspace=0.09, hspace=0.09),\n",
    "    figure_title=f'Result State Histogram\\nVariational + Encoding policy (CZ circular entanglement), {n_agents} agents, {d_qubits} qubits per agent\\ninput state $|\\Psi^+\\\\rangle$, random $\\\\theta$, random $s$\\n{nrows * ncols} trials, {repetitions} repetitions per trial',\n",
    "    policy_fn=lambda qubits, aidx: parameterized_variational_encoding_policy_circuit(qubits, n_layers=n_layers, symbol_superscript_index=aidx),\n",
    "    symbol_resolver_fn=ParamResolverRandomThetaRandomS(),\n",
    "    initial_state_prep_fn=lambda qubits: entangle_agents_psi_plus(qubits, d=d_qubits, n=n_agents),\n",
    ")\n",
    "if fig is not None: fig.savefig(basepath/'entangled_psi_plus_random_theta_random_s.png')\n",
    "\n",
    "fig = test_runner(\n",
    "    d=d_qubits, n=n_agents,\n",
    "    repetitions=repetitions,\n",
    "    figure_kwargs=dict(layout='constrained', figsize=(20, 14)),\n",
    "    subfigure_kwargs=dict(nrows=nrows, ncols=ncols, wspace=0.09, hspace=0.09),\n",
    "    figure_title=f'Result State Histogram\\nVariational + Encoding policy (CZ circular entanglement), {n_agents} agents, {d_qubits} qubits per agent\\ninput state $|\\Psi^+\\\\rangle$, identical $\\\\theta$, identical $s$\\n{nrows * ncols} trials, {repetitions} repetitions per trial',\n",
    "    policy_fn=lambda qubits, aidx: parameterized_variational_encoding_policy_circuit(qubits, n_layers=n_layers, symbol_superscript_index=aidx),\n",
    "    symbol_resolver_fn=ParamResolverIdenticalThetaIdenticalS(),\n",
    "    initial_state_prep_fn=lambda qubits: entangle_agents_psi_plus(qubits, d=d_qubits, n=n_agents),\n",
    ")\n",
    "if fig is not None: fig.savefig(basepath/'entangled_psi_plus_identical_theta_identical_s.png')\n",
    "\n",
    "fig = test_runner(\n",
    "    d=d_qubits, n=n_agents,\n",
    "    repetitions=repetitions,\n",
    "    figure_kwargs=dict(layout='constrained', figsize=(20, 14)),\n",
    "    subfigure_kwargs=dict(nrows=nrows, ncols=ncols, wspace=0.09, hspace=0.09),\n",
    "    figure_title=f'Result State Histogram\\nVariational + Encoding policy (CZ circular entanglement), {n_agents} agents, {d_qubits} qubits per agent\\ninput state $|\\Psi^+\\\\rangle$, nearly identical $\\\\theta$, identical $s$\\n{nrows * ncols} trials, {repetitions} repetitions per trial',\n",
    "    policy_fn=lambda qubits, aidx: parameterized_variational_encoding_policy_circuit(qubits, n_layers=n_layers, symbol_superscript_index=aidx),\n",
    "    symbol_resolver_fn=ParamResolverNearlyIdenticalThetaIdenticalS(),\n",
    "    initial_state_prep_fn=lambda qubits: entangle_agents_psi_plus(qubits, d=d_qubits, n=n_agents),\n",
    ")\n",
    "if fig is not None: fig.savefig(basepath/'entangled_psi_plus_nearly_identical_theta_identical_s.png')\n",
    "\n",
    "fig = test_runner(\n",
    "    d=d_qubits, n=n_agents,\n",
    "    repetitions=repetitions,\n",
    "    figure_kwargs=dict(layout='constrained', figsize=(20, 14)),\n",
    "    subfigure_kwargs=dict(nrows=nrows, ncols=ncols, wspace=0.09, hspace=0.09),\n",
    "    figure_title=f'Result State Histogram\\nVariational + Encoding policy (CZ circular entanglement), {n_agents} agents, {d_qubits} qubits per agent\\ninput state $|\\Psi^+\\\\rangle$, nearly identical $\\\\theta$, random $s$\\n{nrows * ncols} trials, {repetitions} repetitions per trial',\n",
    "    policy_fn=lambda qubits, aidx: parameterized_variational_encoding_policy_circuit(qubits, n_layers=n_layers, symbol_superscript_index=aidx),\n",
    "    symbol_resolver_fn=ParamResolverNearlyIdenticalThetaRandomS(),\n",
    "    initial_state_prep_fn=lambda qubits: entangle_agents_psi_plus(qubits, d=d_qubits, n=n_agents),\n",
    ")\n",
    "if fig is not None: fig.savefig(basepath/'entangled_psi_plus_nearly_identical_theta_random_s.png')"
   ]
  },
  {
   "cell_type": "code",
   "execution_count": 198,
   "metadata": {},
   "outputs": [
    {
     "data": {
      "image/svg+xml": [
       "<svg xmlns=\"http://www.w3.org/2000/svg\" width=\"1219.8600390625002\" height=\"200.0\"><line x1=\"30.0\" x2=\"1189.8600390625002\" y1=\"25.0\" y2=\"25.0\" stroke=\"#1967d2\" stroke-width=\"1\" /><line x1=\"30.0\" x2=\"1189.8600390625002\" y1=\"75.0\" y2=\"75.0\" stroke=\"#1967d2\" stroke-width=\"1\" /><line x1=\"30.0\" x2=\"1189.8600390625002\" y1=\"125.0\" y2=\"125.0\" stroke=\"#1967d2\" stroke-width=\"1\" /><line x1=\"30.0\" x2=\"1189.8600390625002\" y1=\"175.0\" y2=\"175.0\" stroke=\"#1967d2\" stroke-width=\"1\" /><line x1=\"470.3504296875001\" x2=\"470.3504296875001\" y1=\"25.0\" y2=\"75.0\" stroke=\"black\" stroke-width=\"3\" /><line x1=\"470.3504296875001\" x2=\"470.3504296875001\" y1=\"125.0\" y2=\"175.0\" stroke=\"black\" stroke-width=\"3\" /><line x1=\"1062.2623828125002\" x2=\"1062.2623828125002\" y1=\"25.0\" y2=\"75.0\" stroke=\"black\" stroke-width=\"3\" /><line x1=\"1062.2623828125002\" x2=\"1062.2623828125002\" y1=\"125.0\" y2=\"175.0\" stroke=\"black\" stroke-width=\"3\" /><line x1=\"1145.4630664062502\" x2=\"1145.4630664062502\" y1=\"25.0\" y2=\"175.0\" stroke=\"black\" stroke-width=\"3\" /><rect x=\"10.0\" y=\"5.0\" width=\"40\" height=\"40\" stroke=\"black\" fill=\"white\" stroke-width=\"0\" /><text x=\"30.0\" y=\"25.0\" dominant-baseline=\"middle\" text-anchor=\"middle\" font-size=\"14px\" font-family=\"Arial\">0: </text><rect x=\"10.0\" y=\"55.0\" width=\"40\" height=\"40\" stroke=\"black\" fill=\"white\" stroke-width=\"0\" /><text x=\"30.0\" y=\"75.0\" dominant-baseline=\"middle\" text-anchor=\"middle\" font-size=\"14px\" font-family=\"Arial\">1: </text><rect x=\"10.0\" y=\"105.0\" width=\"40\" height=\"40\" stroke=\"black\" fill=\"white\" stroke-width=\"0\" /><text x=\"30.0\" y=\"125.0\" dominant-baseline=\"middle\" text-anchor=\"middle\" font-size=\"14px\" font-family=\"Arial\">2: </text><rect x=\"10.0\" y=\"155.0\" width=\"40\" height=\"40\" stroke=\"black\" fill=\"white\" stroke-width=\"0\" /><text x=\"30.0\" y=\"175.0\" dominant-baseline=\"middle\" text-anchor=\"middle\" font-size=\"14px\" font-family=\"Arial\">3: </text><rect x=\"70.0\" y=\"5.0\" width=\"106.78347656250001\" height=\"40\" stroke=\"black\" fill=\"white\" stroke-width=\"1\" /><text x=\"123.39173828125001\" y=\"25.0\" dominant-baseline=\"middle\" text-anchor=\"middle\" font-size=\"14px\" font-family=\"Arial\">Rx(theta^{(0)}0)</text><rect x=\"70.0\" y=\"55.0\" width=\"106.78347656250001\" height=\"40\" stroke=\"black\" fill=\"white\" stroke-width=\"1\" /><text x=\"123.39173828125001\" y=\"75.0\" dominant-baseline=\"middle\" text-anchor=\"middle\" font-size=\"14px\" font-family=\"Arial\">Rx(theta^{(0)}3)</text><rect x=\"70.0\" y=\"105.0\" width=\"106.78347656250001\" height=\"40\" stroke=\"black\" fill=\"white\" stroke-width=\"1\" /><text x=\"123.39173828125001\" y=\"125.0\" dominant-baseline=\"middle\" text-anchor=\"middle\" font-size=\"14px\" font-family=\"Arial\">Rx(theta^{(1)}0)</text><rect x=\"70.0\" y=\"155.0\" width=\"106.78347656250001\" height=\"40\" stroke=\"black\" fill=\"white\" stroke-width=\"1\" /><text x=\"123.39173828125001\" y=\"175.0\" dominant-baseline=\"middle\" text-anchor=\"middle\" font-size=\"14px\" font-family=\"Arial\">Rx(theta^{(1)}3)</text><rect x=\"196.78347656250003\" y=\"5.0\" width=\"106.78347656250001\" height=\"40\" stroke=\"black\" fill=\"white\" stroke-width=\"1\" /><text x=\"250.17521484375004\" y=\"25.0\" dominant-baseline=\"middle\" text-anchor=\"middle\" font-size=\"14px\" font-family=\"Arial\">Ry(theta^{(0)}1)</text><rect x=\"196.78347656250003\" y=\"55.0\" width=\"106.78347656250001\" height=\"40\" stroke=\"black\" fill=\"white\" stroke-width=\"1\" /><text x=\"250.17521484375004\" y=\"75.0\" dominant-baseline=\"middle\" text-anchor=\"middle\" font-size=\"14px\" font-family=\"Arial\">Ry(theta^{(0)}4)</text><rect x=\"196.78347656250003\" y=\"105.0\" width=\"106.78347656250001\" height=\"40\" stroke=\"black\" fill=\"white\" stroke-width=\"1\" /><text x=\"250.17521484375004\" y=\"125.0\" dominant-baseline=\"middle\" text-anchor=\"middle\" font-size=\"14px\" font-family=\"Arial\">Ry(theta^{(1)}1)</text><rect x=\"196.78347656250003\" y=\"155.0\" width=\"106.78347656250001\" height=\"40\" stroke=\"black\" fill=\"white\" stroke-width=\"1\" /><text x=\"250.17521484375004\" y=\"175.0\" dominant-baseline=\"middle\" text-anchor=\"middle\" font-size=\"14px\" font-family=\"Arial\">Ry(theta^{(1)}4)</text><rect x=\"323.56695312500005\" y=\"5.0\" width=\"106.78347656250001\" height=\"40\" stroke=\"black\" fill=\"white\" stroke-width=\"1\" /><text x=\"376.95869140625007\" y=\"25.0\" dominant-baseline=\"middle\" text-anchor=\"middle\" font-size=\"14px\" font-family=\"Arial\">Rz(theta^{(0)}2)</text><rect x=\"323.56695312500005\" y=\"55.0\" width=\"106.78347656250001\" height=\"40\" stroke=\"black\" fill=\"white\" stroke-width=\"1\" /><text x=\"376.95869140625007\" y=\"75.0\" dominant-baseline=\"middle\" text-anchor=\"middle\" font-size=\"14px\" font-family=\"Arial\">Rz(theta^{(0)}5)</text><rect x=\"323.56695312500005\" y=\"105.0\" width=\"106.78347656250001\" height=\"40\" stroke=\"black\" fill=\"white\" stroke-width=\"1\" /><text x=\"376.95869140625007\" y=\"125.0\" dominant-baseline=\"middle\" text-anchor=\"middle\" font-size=\"14px\" font-family=\"Arial\">Rz(theta^{(1)}2)</text><rect x=\"323.56695312500005\" y=\"155.0\" width=\"106.78347656250001\" height=\"40\" stroke=\"black\" fill=\"white\" stroke-width=\"1\" /><text x=\"376.95869140625007\" y=\"175.0\" dominant-baseline=\"middle\" text-anchor=\"middle\" font-size=\"14px\" font-family=\"Arial\">Rz(theta^{(1)}5)</text><circle cx=\"470.3504296875001\" cy=\"25.0\" r=\"10.0\" /><circle cx=\"470.3504296875001\" cy=\"75.0\" r=\"10.0\" /><circle cx=\"470.3504296875001\" cy=\"125.0\" r=\"10.0\" /><circle cx=\"470.3504296875001\" cy=\"175.0\" r=\"10.0\" /><rect x=\"510.3504296875001\" y=\"5.0\" width=\"98.21804687500001\" height=\"40\" stroke=\"black\" fill=\"white\" stroke-width=\"1\" /><text x=\"559.4594531250001\" y=\"25.0\" dominant-baseline=\"middle\" text-anchor=\"middle\" font-size=\"14px\" font-family=\"Arial\">Rx(x^{(0)}0_0)</text><rect x=\"510.3504296875001\" y=\"55.0\" width=\"98.21804687500001\" height=\"40\" stroke=\"black\" fill=\"white\" stroke-width=\"1\" /><text x=\"559.4594531250001\" y=\"75.0\" dominant-baseline=\"middle\" text-anchor=\"middle\" font-size=\"14px\" font-family=\"Arial\">Rx(x^{(0)}0_1)</text><rect x=\"510.3504296875001\" y=\"105.0\" width=\"98.21804687500001\" height=\"40\" stroke=\"black\" fill=\"white\" stroke-width=\"1\" /><text x=\"559.4594531250001\" y=\"125.0\" dominant-baseline=\"middle\" text-anchor=\"middle\" font-size=\"14px\" font-family=\"Arial\">Rx(x^{(1)}0_0)</text><rect x=\"510.3504296875001\" y=\"155.0\" width=\"98.21804687500001\" height=\"40\" stroke=\"black\" fill=\"white\" stroke-width=\"1\" /><text x=\"559.4594531250001\" y=\"175.0\" dominant-baseline=\"middle\" text-anchor=\"middle\" font-size=\"14px\" font-family=\"Arial\">Rx(x^{(1)}0_1)</text><rect x=\"628.5684765625001\" y=\"5.0\" width=\"106.78347656250001\" height=\"40\" stroke=\"black\" fill=\"white\" stroke-width=\"1\" /><text x=\"681.9602148437501\" y=\"25.0\" dominant-baseline=\"middle\" text-anchor=\"middle\" font-size=\"14px\" font-family=\"Arial\">Rx(theta^{(0)}6)</text><rect x=\"628.5684765625001\" y=\"55.0\" width=\"106.78347656250001\" height=\"40\" stroke=\"black\" fill=\"white\" stroke-width=\"1\" /><text x=\"681.9602148437501\" y=\"75.0\" dominant-baseline=\"middle\" text-anchor=\"middle\" font-size=\"14px\" font-family=\"Arial\">Rx(theta^{(0)}9)</text><rect x=\"628.5684765625001\" y=\"105.0\" width=\"106.78347656250001\" height=\"40\" stroke=\"black\" fill=\"white\" stroke-width=\"1\" /><text x=\"681.9602148437501\" y=\"125.0\" dominant-baseline=\"middle\" text-anchor=\"middle\" font-size=\"14px\" font-family=\"Arial\">Rx(theta^{(1)}6)</text><rect x=\"628.5684765625001\" y=\"155.0\" width=\"106.78347656250001\" height=\"40\" stroke=\"black\" fill=\"white\" stroke-width=\"1\" /><text x=\"681.9602148437501\" y=\"175.0\" dominant-baseline=\"middle\" text-anchor=\"middle\" font-size=\"14px\" font-family=\"Arial\">Rx(theta^{(1)}9)</text><rect x=\"755.3519531250001\" y=\"5.0\" width=\"114.56960937500003\" height=\"40\" stroke=\"black\" fill=\"white\" stroke-width=\"1\" /><text x=\"812.6367578125002\" y=\"25.0\" dominant-baseline=\"middle\" text-anchor=\"middle\" font-size=\"14px\" font-family=\"Arial\">Ry(theta^{(0)}7)</text><rect x=\"755.3519531250001\" y=\"55.0\" width=\"114.56960937500003\" height=\"40\" stroke=\"black\" fill=\"white\" stroke-width=\"1\" /><text x=\"812.6367578125002\" y=\"75.0\" dominant-baseline=\"middle\" text-anchor=\"middle\" font-size=\"14px\" font-family=\"Arial\">Ry(theta^{(0)}10)</text><rect x=\"755.3519531250001\" y=\"105.0\" width=\"114.56960937500003\" height=\"40\" stroke=\"black\" fill=\"white\" stroke-width=\"1\" /><text x=\"812.6367578125002\" y=\"125.0\" dominant-baseline=\"middle\" text-anchor=\"middle\" font-size=\"14px\" font-family=\"Arial\">Ry(theta^{(1)}7)</text><rect x=\"755.3519531250001\" y=\"155.0\" width=\"114.56960937500003\" height=\"40\" stroke=\"black\" fill=\"white\" stroke-width=\"1\" /><text x=\"812.6367578125002\" y=\"175.0\" dominant-baseline=\"middle\" text-anchor=\"middle\" font-size=\"14px\" font-family=\"Arial\">Ry(theta^{(1)}10)</text><rect x=\"889.9215625000002\" y=\"5.0\" width=\"113.537109375\" height=\"40\" stroke=\"black\" fill=\"white\" stroke-width=\"1\" /><text x=\"946.6901171875002\" y=\"25.0\" dominant-baseline=\"middle\" text-anchor=\"middle\" font-size=\"14px\" font-family=\"Arial\">Rz(theta^{(0)}8)</text><rect x=\"889.9215625000002\" y=\"55.0\" width=\"113.537109375\" height=\"40\" stroke=\"black\" fill=\"white\" stroke-width=\"1\" /><text x=\"946.6901171875002\" y=\"75.0\" dominant-baseline=\"middle\" text-anchor=\"middle\" font-size=\"14px\" font-family=\"Arial\">Rz(theta^{(0)}11)</text><rect x=\"889.9215625000002\" y=\"105.0\" width=\"113.537109375\" height=\"40\" stroke=\"black\" fill=\"white\" stroke-width=\"1\" /><text x=\"946.6901171875002\" y=\"125.0\" dominant-baseline=\"middle\" text-anchor=\"middle\" font-size=\"14px\" font-family=\"Arial\">Rz(theta^{(1)}8)</text><rect x=\"889.9215625000002\" y=\"155.0\" width=\"113.537109375\" height=\"40\" stroke=\"black\" fill=\"white\" stroke-width=\"1\" /><text x=\"946.6901171875002\" y=\"175.0\" dominant-baseline=\"middle\" text-anchor=\"middle\" font-size=\"14px\" font-family=\"Arial\">Rz(theta^{(1)}11)</text><rect x=\"1023.4586718750002\" y=\"5.0\" width=\"77.607421875\" height=\"40\" stroke=\"black\" fill=\"white\" stroke-width=\"1\" /><text x=\"1062.2623828125002\" y=\"25.0\" dominant-baseline=\"middle\" text-anchor=\"middle\" font-size=\"14px\" font-family=\"Arial\">M('agent0')</text><rect x=\"1023.4586718750002\" y=\"55.0\" width=\"77.607421875\" height=\"40\" stroke=\"black\" fill=\"white\" stroke-width=\"1\" /><text x=\"1062.2623828125002\" y=\"75.0\" dominant-baseline=\"middle\" text-anchor=\"middle\" font-size=\"18px\" font-family=\"Arial\">M</text><rect x=\"1023.4586718750002\" y=\"105.0\" width=\"77.607421875\" height=\"40\" stroke=\"black\" fill=\"white\" stroke-width=\"1\" /><text x=\"1062.2623828125002\" y=\"125.0\" dominant-baseline=\"middle\" text-anchor=\"middle\" font-size=\"14px\" font-family=\"Arial\">M('agent1')</text><rect x=\"1023.4586718750002\" y=\"155.0\" width=\"77.607421875\" height=\"40\" stroke=\"black\" fill=\"white\" stroke-width=\"1\" /><text x=\"1062.2623828125002\" y=\"175.0\" dominant-baseline=\"middle\" text-anchor=\"middle\" font-size=\"18px\" font-family=\"Arial\">M</text><rect x=\"1121.0660937500002\" y=\"5.0\" width=\"48.7939453125\" height=\"40\" stroke=\"black\" fill=\"white\" stroke-width=\"1\" /><text x=\"1145.4630664062502\" y=\"25.0\" dominant-baseline=\"middle\" text-anchor=\"middle\" font-size=\"14px\" font-family=\"Arial\">M('all')</text><rect x=\"1121.0660937500002\" y=\"55.0\" width=\"48.7939453125\" height=\"40\" stroke=\"black\" fill=\"white\" stroke-width=\"1\" /><text x=\"1145.4630664062502\" y=\"75.0\" dominant-baseline=\"middle\" text-anchor=\"middle\" font-size=\"18px\" font-family=\"Arial\">M</text><rect x=\"1121.0660937500002\" y=\"105.0\" width=\"48.7939453125\" height=\"40\" stroke=\"black\" fill=\"white\" stroke-width=\"1\" /><text x=\"1145.4630664062502\" y=\"125.0\" dominant-baseline=\"middle\" text-anchor=\"middle\" font-size=\"18px\" font-family=\"Arial\">M</text><rect x=\"1121.0660937500002\" y=\"155.0\" width=\"48.7939453125\" height=\"40\" stroke=\"black\" fill=\"white\" stroke-width=\"1\" /><text x=\"1145.4630664062502\" y=\"175.0\" dominant-baseline=\"middle\" text-anchor=\"middle\" font-size=\"18px\" font-family=\"Arial\">M</text></svg>"
      ],
      "text/plain": [
       "<cirq.contrib.svg.svg.SVGCircuit at 0x1475019d0>"
      ]
     },
     "execution_count": 198,
     "metadata": {},
     "output_type": "execute_result"
    }
   ],
   "source": [
    "## Show example circuit.\n",
    "circuit, _ = build_parameterized_system_circuit(\n",
    "    d=d_qubits,\n",
    "    n=n_agents,\n",
    "    policy_fn=lambda qubits, aidx: parameterized_variational_encoding_policy_circuit(qubits, n_layers=n_layers, symbol_superscript_index=aidx),\n",
    "    initial_state_prep_fn=None,\n",
    "    meas_key_all='all',\n",
    "    meas_key_prefix_agent='agent',\n",
    ")\n",
    "svg = circuit_to_svg(circuit)\n",
    "with open(basepath/f\"pqc_{n_agents}_agents_{d_qubits}_qubits_{n_layers}_layers_no_entanglement.svg\", '+w') as f:\n",
    "    f.write(svg)\n",
    "SVGCircuit(circuit)"
   ]
  },
  {
   "cell_type": "code",
   "execution_count": 199,
   "metadata": {},
   "outputs": [
    {
     "data": {
      "image/svg+xml": [
       "<svg xmlns=\"http://www.w3.org/2000/svg\" width=\"1379.8600390625002\" height=\"240.0\"><line x1=\"30.0\" x2=\"1349.8600390625002\" y1=\"45.0\" y2=\"45.0\" stroke=\"#1967d2\" stroke-width=\"1\" /><line x1=\"30.0\" x2=\"1349.8600390625002\" y1=\"95.0\" y2=\"95.0\" stroke=\"#1967d2\" stroke-width=\"1\" /><line x1=\"30.0\" x2=\"1349.8600390625002\" y1=\"145.0\" y2=\"145.0\" stroke=\"#1967d2\" stroke-width=\"1\" /><line x1=\"30.0\" x2=\"1349.8600390625002\" y1=\"195.0\" y2=\"195.0\" stroke=\"#1967d2\" stroke-width=\"1\" /><line x1=\"120.0\" x2=\"210.0\" y1=\"5.0\" y2=\"5.0\" stroke=\"black\" stroke-width=\"1\" /><line x1=\"120.0\" x2=\"210.0\" y1=\"235.0\" y2=\"235.0\" stroke=\"black\" stroke-width=\"1\" /><line x1=\"140.0\" x2=\"140.0\" y1=\"45.0\" y2=\"145.0\" stroke=\"black\" stroke-width=\"3\" /><line x1=\"180.0\" x2=\"180.0\" y1=\"95.0\" y2=\"195.0\" stroke=\"black\" stroke-width=\"3\" /><line x1=\"630.3504296875001\" x2=\"630.3504296875001\" y1=\"45.0\" y2=\"95.0\" stroke=\"black\" stroke-width=\"3\" /><line x1=\"630.3504296875001\" x2=\"630.3504296875001\" y1=\"145.0\" y2=\"195.0\" stroke=\"black\" stroke-width=\"3\" /><line x1=\"1222.2623828125002\" x2=\"1222.2623828125002\" y1=\"45.0\" y2=\"95.0\" stroke=\"black\" stroke-width=\"3\" /><line x1=\"1222.2623828125002\" x2=\"1222.2623828125002\" y1=\"145.0\" y2=\"195.0\" stroke=\"black\" stroke-width=\"3\" /><line x1=\"1305.4630664062502\" x2=\"1305.4630664062502\" y1=\"45.0\" y2=\"195.0\" stroke=\"black\" stroke-width=\"3\" /><line x1=\"120.0\" x2=\"120.0\" y1=\"5.0\" y2=\"15.0\" stroke=\"black\" stroke-width=\"3\" /><line x1=\"210.0\" x2=\"210.0\" y1=\"5.0\" y2=\"15.0\" stroke=\"black\" stroke-width=\"3\" /><line x1=\"120.0\" x2=\"120.0\" y1=\"225.0\" y2=\"235.0\" stroke=\"black\" stroke-width=\"3\" /><line x1=\"210.0\" x2=\"210.0\" y1=\"225.0\" y2=\"235.0\" stroke=\"black\" stroke-width=\"3\" /><rect x=\"10.0\" y=\"25.0\" width=\"40\" height=\"40\" stroke=\"black\" fill=\"white\" stroke-width=\"0\" /><text x=\"30.0\" y=\"45.0\" dominant-baseline=\"middle\" text-anchor=\"middle\" font-size=\"14px\" font-family=\"Arial\">0: </text><rect x=\"10.0\" y=\"75.0\" width=\"40\" height=\"40\" stroke=\"black\" fill=\"white\" stroke-width=\"0\" /><text x=\"30.0\" y=\"95.0\" dominant-baseline=\"middle\" text-anchor=\"middle\" font-size=\"14px\" font-family=\"Arial\">1: </text><rect x=\"10.0\" y=\"125.0\" width=\"40\" height=\"40\" stroke=\"black\" fill=\"white\" stroke-width=\"0\" /><text x=\"30.0\" y=\"145.0\" dominant-baseline=\"middle\" text-anchor=\"middle\" font-size=\"14px\" font-family=\"Arial\">2: </text><rect x=\"10.0\" y=\"175.0\" width=\"40\" height=\"40\" stroke=\"black\" fill=\"white\" stroke-width=\"0\" /><text x=\"30.0\" y=\"195.0\" dominant-baseline=\"middle\" text-anchor=\"middle\" font-size=\"14px\" font-family=\"Arial\">3: </text><rect x=\"70.0\" y=\"25.0\" width=\"40\" height=\"40\" stroke=\"black\" fill=\"white\" stroke-width=\"1\" /><text x=\"90.0\" y=\"45.0\" dominant-baseline=\"middle\" text-anchor=\"middle\" font-size=\"18px\" font-family=\"Arial\">H</text><rect x=\"70.0\" y=\"75.0\" width=\"40\" height=\"40\" stroke=\"black\" fill=\"white\" stroke-width=\"1\" /><text x=\"90.0\" y=\"95.0\" dominant-baseline=\"middle\" text-anchor=\"middle\" font-size=\"18px\" font-family=\"Arial\">H</text><circle cx=\"140.0\" cy=\"45.0\" r=\"10.0\" /><rect x=\"120.0\" y=\"125.0\" width=\"40\" height=\"40\" stroke=\"black\" fill=\"white\" stroke-width=\"1\" /><text x=\"140.0\" y=\"145.0\" dominant-baseline=\"middle\" text-anchor=\"middle\" font-size=\"18px\" font-family=\"Arial\">X</text><circle cx=\"180.0\" cy=\"95.0\" r=\"10.0\" /><rect x=\"160.0\" y=\"175.0\" width=\"40\" height=\"40\" stroke=\"black\" fill=\"white\" stroke-width=\"1\" /><text x=\"180.0\" y=\"195.0\" dominant-baseline=\"middle\" text-anchor=\"middle\" font-size=\"18px\" font-family=\"Arial\">X</text><rect x=\"230.0\" y=\"25.0\" width=\"106.78347656250001\" height=\"40\" stroke=\"black\" fill=\"white\" stroke-width=\"1\" /><text x=\"283.39173828125\" y=\"45.0\" dominant-baseline=\"middle\" text-anchor=\"middle\" font-size=\"14px\" font-family=\"Arial\">Rx(theta^{(0)}0)</text><rect x=\"230.0\" y=\"75.0\" width=\"106.78347656250001\" height=\"40\" stroke=\"black\" fill=\"white\" stroke-width=\"1\" /><text x=\"283.39173828125\" y=\"95.0\" dominant-baseline=\"middle\" text-anchor=\"middle\" font-size=\"14px\" font-family=\"Arial\">Rx(theta^{(0)}3)</text><rect x=\"230.0\" y=\"125.0\" width=\"106.78347656250001\" height=\"40\" stroke=\"black\" fill=\"white\" stroke-width=\"1\" /><text x=\"283.39173828125\" y=\"145.0\" dominant-baseline=\"middle\" text-anchor=\"middle\" font-size=\"14px\" font-family=\"Arial\">Rx(theta^{(1)}0)</text><rect x=\"230.0\" y=\"175.0\" width=\"106.78347656250001\" height=\"40\" stroke=\"black\" fill=\"white\" stroke-width=\"1\" /><text x=\"283.39173828125\" y=\"195.0\" dominant-baseline=\"middle\" text-anchor=\"middle\" font-size=\"14px\" font-family=\"Arial\">Rx(theta^{(1)}3)</text><rect x=\"356.7834765625\" y=\"25.0\" width=\"106.78347656250001\" height=\"40\" stroke=\"black\" fill=\"white\" stroke-width=\"1\" /><text x=\"410.17521484375004\" y=\"45.0\" dominant-baseline=\"middle\" text-anchor=\"middle\" font-size=\"14px\" font-family=\"Arial\">Ry(theta^{(0)}1)</text><rect x=\"356.7834765625\" y=\"75.0\" width=\"106.78347656250001\" height=\"40\" stroke=\"black\" fill=\"white\" stroke-width=\"1\" /><text x=\"410.17521484375004\" y=\"95.0\" dominant-baseline=\"middle\" text-anchor=\"middle\" font-size=\"14px\" font-family=\"Arial\">Ry(theta^{(0)}4)</text><rect x=\"356.7834765625\" y=\"125.0\" width=\"106.78347656250001\" height=\"40\" stroke=\"black\" fill=\"white\" stroke-width=\"1\" /><text x=\"410.17521484375004\" y=\"145.0\" dominant-baseline=\"middle\" text-anchor=\"middle\" font-size=\"14px\" font-family=\"Arial\">Ry(theta^{(1)}1)</text><rect x=\"356.7834765625\" y=\"175.0\" width=\"106.78347656250001\" height=\"40\" stroke=\"black\" fill=\"white\" stroke-width=\"1\" /><text x=\"410.17521484375004\" y=\"195.0\" dominant-baseline=\"middle\" text-anchor=\"middle\" font-size=\"14px\" font-family=\"Arial\">Ry(theta^{(1)}4)</text><rect x=\"483.56695312500005\" y=\"25.0\" width=\"106.78347656250001\" height=\"40\" stroke=\"black\" fill=\"white\" stroke-width=\"1\" /><text x=\"536.9586914062501\" y=\"45.0\" dominant-baseline=\"middle\" text-anchor=\"middle\" font-size=\"14px\" font-family=\"Arial\">Rz(theta^{(0)}2)</text><rect x=\"483.56695312500005\" y=\"75.0\" width=\"106.78347656250001\" height=\"40\" stroke=\"black\" fill=\"white\" stroke-width=\"1\" /><text x=\"536.9586914062501\" y=\"95.0\" dominant-baseline=\"middle\" text-anchor=\"middle\" font-size=\"14px\" font-family=\"Arial\">Rz(theta^{(0)}5)</text><rect x=\"483.56695312500005\" y=\"125.0\" width=\"106.78347656250001\" height=\"40\" stroke=\"black\" fill=\"white\" stroke-width=\"1\" /><text x=\"536.9586914062501\" y=\"145.0\" dominant-baseline=\"middle\" text-anchor=\"middle\" font-size=\"14px\" font-family=\"Arial\">Rz(theta^{(1)}2)</text><rect x=\"483.56695312500005\" y=\"175.0\" width=\"106.78347656250001\" height=\"40\" stroke=\"black\" fill=\"white\" stroke-width=\"1\" /><text x=\"536.9586914062501\" y=\"195.0\" dominant-baseline=\"middle\" text-anchor=\"middle\" font-size=\"14px\" font-family=\"Arial\">Rz(theta^{(1)}5)</text><circle cx=\"630.3504296875001\" cy=\"45.0\" r=\"10.0\" /><circle cx=\"630.3504296875001\" cy=\"95.0\" r=\"10.0\" /><circle cx=\"630.3504296875001\" cy=\"145.0\" r=\"10.0\" /><circle cx=\"630.3504296875001\" cy=\"195.0\" r=\"10.0\" /><rect x=\"670.3504296875001\" y=\"25.0\" width=\"98.21804687500001\" height=\"40\" stroke=\"black\" fill=\"white\" stroke-width=\"1\" /><text x=\"719.4594531250001\" y=\"45.0\" dominant-baseline=\"middle\" text-anchor=\"middle\" font-size=\"14px\" font-family=\"Arial\">Rx(x^{(0)}0_0)</text><rect x=\"670.3504296875001\" y=\"75.0\" width=\"98.21804687500001\" height=\"40\" stroke=\"black\" fill=\"white\" stroke-width=\"1\" /><text x=\"719.4594531250001\" y=\"95.0\" dominant-baseline=\"middle\" text-anchor=\"middle\" font-size=\"14px\" font-family=\"Arial\">Rx(x^{(0)}0_1)</text><rect x=\"670.3504296875001\" y=\"125.0\" width=\"98.21804687500001\" height=\"40\" stroke=\"black\" fill=\"white\" stroke-width=\"1\" /><text x=\"719.4594531250001\" y=\"145.0\" dominant-baseline=\"middle\" text-anchor=\"middle\" font-size=\"14px\" font-family=\"Arial\">Rx(x^{(1)}0_0)</text><rect x=\"670.3504296875001\" y=\"175.0\" width=\"98.21804687500001\" height=\"40\" stroke=\"black\" fill=\"white\" stroke-width=\"1\" /><text x=\"719.4594531250001\" y=\"195.0\" dominant-baseline=\"middle\" text-anchor=\"middle\" font-size=\"14px\" font-family=\"Arial\">Rx(x^{(1)}0_1)</text><rect x=\"788.5684765625001\" y=\"25.0\" width=\"106.78347656250001\" height=\"40\" stroke=\"black\" fill=\"white\" stroke-width=\"1\" /><text x=\"841.9602148437501\" y=\"45.0\" dominant-baseline=\"middle\" text-anchor=\"middle\" font-size=\"14px\" font-family=\"Arial\">Rx(theta^{(0)}6)</text><rect x=\"788.5684765625001\" y=\"75.0\" width=\"106.78347656250001\" height=\"40\" stroke=\"black\" fill=\"white\" stroke-width=\"1\" /><text x=\"841.9602148437501\" y=\"95.0\" dominant-baseline=\"middle\" text-anchor=\"middle\" font-size=\"14px\" font-family=\"Arial\">Rx(theta^{(0)}9)</text><rect x=\"788.5684765625001\" y=\"125.0\" width=\"106.78347656250001\" height=\"40\" stroke=\"black\" fill=\"white\" stroke-width=\"1\" /><text x=\"841.9602148437501\" y=\"145.0\" dominant-baseline=\"middle\" text-anchor=\"middle\" font-size=\"14px\" font-family=\"Arial\">Rx(theta^{(1)}6)</text><rect x=\"788.5684765625001\" y=\"175.0\" width=\"106.78347656250001\" height=\"40\" stroke=\"black\" fill=\"white\" stroke-width=\"1\" /><text x=\"841.9602148437501\" y=\"195.0\" dominant-baseline=\"middle\" text-anchor=\"middle\" font-size=\"14px\" font-family=\"Arial\">Rx(theta^{(1)}9)</text><rect x=\"915.3519531250001\" y=\"25.0\" width=\"114.56960937500003\" height=\"40\" stroke=\"black\" fill=\"white\" stroke-width=\"1\" /><text x=\"972.6367578125002\" y=\"45.0\" dominant-baseline=\"middle\" text-anchor=\"middle\" font-size=\"14px\" font-family=\"Arial\">Ry(theta^{(0)}7)</text><rect x=\"915.3519531250001\" y=\"75.0\" width=\"114.56960937500003\" height=\"40\" stroke=\"black\" fill=\"white\" stroke-width=\"1\" /><text x=\"972.6367578125002\" y=\"95.0\" dominant-baseline=\"middle\" text-anchor=\"middle\" font-size=\"14px\" font-family=\"Arial\">Ry(theta^{(0)}10)</text><rect x=\"915.3519531250001\" y=\"125.0\" width=\"114.56960937500003\" height=\"40\" stroke=\"black\" fill=\"white\" stroke-width=\"1\" /><text x=\"972.6367578125002\" y=\"145.0\" dominant-baseline=\"middle\" text-anchor=\"middle\" font-size=\"14px\" font-family=\"Arial\">Ry(theta^{(1)}7)</text><rect x=\"915.3519531250001\" y=\"175.0\" width=\"114.56960937500003\" height=\"40\" stroke=\"black\" fill=\"white\" stroke-width=\"1\" /><text x=\"972.6367578125002\" y=\"195.0\" dominant-baseline=\"middle\" text-anchor=\"middle\" font-size=\"14px\" font-family=\"Arial\">Ry(theta^{(1)}10)</text><rect x=\"1049.9215625000002\" y=\"25.0\" width=\"113.537109375\" height=\"40\" stroke=\"black\" fill=\"white\" stroke-width=\"1\" /><text x=\"1106.6901171875002\" y=\"45.0\" dominant-baseline=\"middle\" text-anchor=\"middle\" font-size=\"14px\" font-family=\"Arial\">Rz(theta^{(0)}8)</text><rect x=\"1049.9215625000002\" y=\"75.0\" width=\"113.537109375\" height=\"40\" stroke=\"black\" fill=\"white\" stroke-width=\"1\" /><text x=\"1106.6901171875002\" y=\"95.0\" dominant-baseline=\"middle\" text-anchor=\"middle\" font-size=\"14px\" font-family=\"Arial\">Rz(theta^{(0)}11)</text><rect x=\"1049.9215625000002\" y=\"125.0\" width=\"113.537109375\" height=\"40\" stroke=\"black\" fill=\"white\" stroke-width=\"1\" /><text x=\"1106.6901171875002\" y=\"145.0\" dominant-baseline=\"middle\" text-anchor=\"middle\" font-size=\"14px\" font-family=\"Arial\">Rz(theta^{(1)}8)</text><rect x=\"1049.9215625000002\" y=\"175.0\" width=\"113.537109375\" height=\"40\" stroke=\"black\" fill=\"white\" stroke-width=\"1\" /><text x=\"1106.6901171875002\" y=\"195.0\" dominant-baseline=\"middle\" text-anchor=\"middle\" font-size=\"14px\" font-family=\"Arial\">Rz(theta^{(1)}11)</text><rect x=\"1183.4586718750002\" y=\"25.0\" width=\"77.607421875\" height=\"40\" stroke=\"black\" fill=\"white\" stroke-width=\"1\" /><text x=\"1222.2623828125002\" y=\"45.0\" dominant-baseline=\"middle\" text-anchor=\"middle\" font-size=\"14px\" font-family=\"Arial\">M('agent0')</text><rect x=\"1183.4586718750002\" y=\"75.0\" width=\"77.607421875\" height=\"40\" stroke=\"black\" fill=\"white\" stroke-width=\"1\" /><text x=\"1222.2623828125002\" y=\"95.0\" dominant-baseline=\"middle\" text-anchor=\"middle\" font-size=\"18px\" font-family=\"Arial\">M</text><rect x=\"1183.4586718750002\" y=\"125.0\" width=\"77.607421875\" height=\"40\" stroke=\"black\" fill=\"white\" stroke-width=\"1\" /><text x=\"1222.2623828125002\" y=\"145.0\" dominant-baseline=\"middle\" text-anchor=\"middle\" font-size=\"14px\" font-family=\"Arial\">M('agent1')</text><rect x=\"1183.4586718750002\" y=\"175.0\" width=\"77.607421875\" height=\"40\" stroke=\"black\" fill=\"white\" stroke-width=\"1\" /><text x=\"1222.2623828125002\" y=\"195.0\" dominant-baseline=\"middle\" text-anchor=\"middle\" font-size=\"18px\" font-family=\"Arial\">M</text><rect x=\"1281.0660937500002\" y=\"25.0\" width=\"48.7939453125\" height=\"40\" stroke=\"black\" fill=\"white\" stroke-width=\"1\" /><text x=\"1305.4630664062502\" y=\"45.0\" dominant-baseline=\"middle\" text-anchor=\"middle\" font-size=\"14px\" font-family=\"Arial\">M('all')</text><rect x=\"1281.0660937500002\" y=\"75.0\" width=\"48.7939453125\" height=\"40\" stroke=\"black\" fill=\"white\" stroke-width=\"1\" /><text x=\"1305.4630664062502\" y=\"95.0\" dominant-baseline=\"middle\" text-anchor=\"middle\" font-size=\"18px\" font-family=\"Arial\">M</text><rect x=\"1281.0660937500002\" y=\"125.0\" width=\"48.7939453125\" height=\"40\" stroke=\"black\" fill=\"white\" stroke-width=\"1\" /><text x=\"1305.4630664062502\" y=\"145.0\" dominant-baseline=\"middle\" text-anchor=\"middle\" font-size=\"18px\" font-family=\"Arial\">M</text><rect x=\"1281.0660937500002\" y=\"175.0\" width=\"48.7939453125\" height=\"40\" stroke=\"black\" fill=\"white\" stroke-width=\"1\" /><text x=\"1305.4630664062502\" y=\"195.0\" dominant-baseline=\"middle\" text-anchor=\"middle\" font-size=\"18px\" font-family=\"Arial\">M</text></svg>"
      ],
      "text/plain": [
       "<cirq.contrib.svg.svg.SVGCircuit at 0x14745ca10>"
      ]
     },
     "execution_count": 199,
     "metadata": {},
     "output_type": "execute_result"
    }
   ],
   "source": [
    "## Show example circuit.\n",
    "circuit, _ = build_parameterized_system_circuit(\n",
    "    d=d_qubits,\n",
    "    n=n_agents,\n",
    "    policy_fn=lambda qubits, aidx: parameterized_variational_encoding_policy_circuit(qubits, n_layers=n_layers, symbol_superscript_index=aidx),\n",
    "    initial_state_prep_fn=lambda qubits: entangle_agents_phi_plus(qubits, d=d_qubits, n=n_agents),\n",
    "    meas_key_all='all',\n",
    "    meas_key_prefix_agent='agent',\n",
    ")\n",
    "svg = circuit_to_svg(circuit)\n",
    "with open(basepath/f\"pqc_{n_agents}_agents_{d_qubits}_qubits_{n_layers}_layers_entangled_phi_plus.svg\", '+w') as f:\n",
    "    f.write(svg)\n",
    "SVGCircuit(circuit)"
   ]
  },
  {
   "cell_type": "code",
   "execution_count": 200,
   "metadata": {},
   "outputs": [
    {
     "data": {
      "image/svg+xml": [
       "<svg xmlns=\"http://www.w3.org/2000/svg\" width=\"1379.8600390625002\" height=\"240.0\"><line x1=\"30.0\" x2=\"1349.8600390625002\" y1=\"45.0\" y2=\"45.0\" stroke=\"#1967d2\" stroke-width=\"1\" /><line x1=\"30.0\" x2=\"1349.8600390625002\" y1=\"95.0\" y2=\"95.0\" stroke=\"#1967d2\" stroke-width=\"1\" /><line x1=\"30.0\" x2=\"1349.8600390625002\" y1=\"145.0\" y2=\"145.0\" stroke=\"#1967d2\" stroke-width=\"1\" /><line x1=\"30.0\" x2=\"1349.8600390625002\" y1=\"195.0\" y2=\"195.0\" stroke=\"#1967d2\" stroke-width=\"1\" /><line x1=\"120.0\" x2=\"210.0\" y1=\"5.0\" y2=\"5.0\" stroke=\"black\" stroke-width=\"1\" /><line x1=\"120.0\" x2=\"210.0\" y1=\"235.0\" y2=\"235.0\" stroke=\"black\" stroke-width=\"1\" /><line x1=\"140.0\" x2=\"140.0\" y1=\"45.0\" y2=\"145.0\" stroke=\"black\" stroke-width=\"3\" /><line x1=\"180.0\" x2=\"180.0\" y1=\"95.0\" y2=\"195.0\" stroke=\"black\" stroke-width=\"3\" /><line x1=\"630.3504296875001\" x2=\"630.3504296875001\" y1=\"45.0\" y2=\"95.0\" stroke=\"black\" stroke-width=\"3\" /><line x1=\"630.3504296875001\" x2=\"630.3504296875001\" y1=\"145.0\" y2=\"195.0\" stroke=\"black\" stroke-width=\"3\" /><line x1=\"1222.2623828125002\" x2=\"1222.2623828125002\" y1=\"45.0\" y2=\"95.0\" stroke=\"black\" stroke-width=\"3\" /><line x1=\"1222.2623828125002\" x2=\"1222.2623828125002\" y1=\"145.0\" y2=\"195.0\" stroke=\"black\" stroke-width=\"3\" /><line x1=\"1305.4630664062502\" x2=\"1305.4630664062502\" y1=\"45.0\" y2=\"195.0\" stroke=\"black\" stroke-width=\"3\" /><line x1=\"120.0\" x2=\"120.0\" y1=\"5.0\" y2=\"15.0\" stroke=\"black\" stroke-width=\"3\" /><line x1=\"210.0\" x2=\"210.0\" y1=\"5.0\" y2=\"15.0\" stroke=\"black\" stroke-width=\"3\" /><line x1=\"120.0\" x2=\"120.0\" y1=\"225.0\" y2=\"235.0\" stroke=\"black\" stroke-width=\"3\" /><line x1=\"210.0\" x2=\"210.0\" y1=\"225.0\" y2=\"235.0\" stroke=\"black\" stroke-width=\"3\" /><rect x=\"10.0\" y=\"25.0\" width=\"40\" height=\"40\" stroke=\"black\" fill=\"white\" stroke-width=\"0\" /><text x=\"30.0\" y=\"45.0\" dominant-baseline=\"middle\" text-anchor=\"middle\" font-size=\"14px\" font-family=\"Arial\">0: </text><rect x=\"10.0\" y=\"75.0\" width=\"40\" height=\"40\" stroke=\"black\" fill=\"white\" stroke-width=\"0\" /><text x=\"30.0\" y=\"95.0\" dominant-baseline=\"middle\" text-anchor=\"middle\" font-size=\"14px\" font-family=\"Arial\">1: </text><rect x=\"10.0\" y=\"125.0\" width=\"40\" height=\"40\" stroke=\"black\" fill=\"white\" stroke-width=\"0\" /><text x=\"30.0\" y=\"145.0\" dominant-baseline=\"middle\" text-anchor=\"middle\" font-size=\"14px\" font-family=\"Arial\">2: </text><rect x=\"10.0\" y=\"175.0\" width=\"40\" height=\"40\" stroke=\"black\" fill=\"white\" stroke-width=\"0\" /><text x=\"30.0\" y=\"195.0\" dominant-baseline=\"middle\" text-anchor=\"middle\" font-size=\"14px\" font-family=\"Arial\">3: </text><rect x=\"70.0\" y=\"25.0\" width=\"40\" height=\"40\" stroke=\"black\" fill=\"white\" stroke-width=\"1\" /><text x=\"90.0\" y=\"45.0\" dominant-baseline=\"middle\" text-anchor=\"middle\" font-size=\"18px\" font-family=\"Arial\">H</text><rect x=\"70.0\" y=\"125.0\" width=\"40\" height=\"40\" stroke=\"black\" fill=\"white\" stroke-width=\"1\" /><text x=\"90.0\" y=\"145.0\" dominant-baseline=\"middle\" text-anchor=\"middle\" font-size=\"18px\" font-family=\"Arial\">X</text><rect x=\"70.0\" y=\"75.0\" width=\"40\" height=\"40\" stroke=\"black\" fill=\"white\" stroke-width=\"1\" /><text x=\"90.0\" y=\"95.0\" dominant-baseline=\"middle\" text-anchor=\"middle\" font-size=\"18px\" font-family=\"Arial\">H</text><rect x=\"70.0\" y=\"175.0\" width=\"40\" height=\"40\" stroke=\"black\" fill=\"white\" stroke-width=\"1\" /><text x=\"90.0\" y=\"195.0\" dominant-baseline=\"middle\" text-anchor=\"middle\" font-size=\"18px\" font-family=\"Arial\">X</text><circle cx=\"140.0\" cy=\"45.0\" r=\"10.0\" /><rect x=\"120.0\" y=\"125.0\" width=\"40\" height=\"40\" stroke=\"black\" fill=\"white\" stroke-width=\"1\" /><text x=\"140.0\" y=\"145.0\" dominant-baseline=\"middle\" text-anchor=\"middle\" font-size=\"18px\" font-family=\"Arial\">X</text><circle cx=\"180.0\" cy=\"95.0\" r=\"10.0\" /><rect x=\"160.0\" y=\"175.0\" width=\"40\" height=\"40\" stroke=\"black\" fill=\"white\" stroke-width=\"1\" /><text x=\"180.0\" y=\"195.0\" dominant-baseline=\"middle\" text-anchor=\"middle\" font-size=\"18px\" font-family=\"Arial\">X</text><rect x=\"230.0\" y=\"25.0\" width=\"106.78347656250001\" height=\"40\" stroke=\"black\" fill=\"white\" stroke-width=\"1\" /><text x=\"283.39173828125\" y=\"45.0\" dominant-baseline=\"middle\" text-anchor=\"middle\" font-size=\"14px\" font-family=\"Arial\">Rx(theta^{(0)}0)</text><rect x=\"230.0\" y=\"75.0\" width=\"106.78347656250001\" height=\"40\" stroke=\"black\" fill=\"white\" stroke-width=\"1\" /><text x=\"283.39173828125\" y=\"95.0\" dominant-baseline=\"middle\" text-anchor=\"middle\" font-size=\"14px\" font-family=\"Arial\">Rx(theta^{(0)}3)</text><rect x=\"230.0\" y=\"125.0\" width=\"106.78347656250001\" height=\"40\" stroke=\"black\" fill=\"white\" stroke-width=\"1\" /><text x=\"283.39173828125\" y=\"145.0\" dominant-baseline=\"middle\" text-anchor=\"middle\" font-size=\"14px\" font-family=\"Arial\">Rx(theta^{(1)}0)</text><rect x=\"230.0\" y=\"175.0\" width=\"106.78347656250001\" height=\"40\" stroke=\"black\" fill=\"white\" stroke-width=\"1\" /><text x=\"283.39173828125\" y=\"195.0\" dominant-baseline=\"middle\" text-anchor=\"middle\" font-size=\"14px\" font-family=\"Arial\">Rx(theta^{(1)}3)</text><rect x=\"356.7834765625\" y=\"25.0\" width=\"106.78347656250001\" height=\"40\" stroke=\"black\" fill=\"white\" stroke-width=\"1\" /><text x=\"410.17521484375004\" y=\"45.0\" dominant-baseline=\"middle\" text-anchor=\"middle\" font-size=\"14px\" font-family=\"Arial\">Ry(theta^{(0)}1)</text><rect x=\"356.7834765625\" y=\"75.0\" width=\"106.78347656250001\" height=\"40\" stroke=\"black\" fill=\"white\" stroke-width=\"1\" /><text x=\"410.17521484375004\" y=\"95.0\" dominant-baseline=\"middle\" text-anchor=\"middle\" font-size=\"14px\" font-family=\"Arial\">Ry(theta^{(0)}4)</text><rect x=\"356.7834765625\" y=\"125.0\" width=\"106.78347656250001\" height=\"40\" stroke=\"black\" fill=\"white\" stroke-width=\"1\" /><text x=\"410.17521484375004\" y=\"145.0\" dominant-baseline=\"middle\" text-anchor=\"middle\" font-size=\"14px\" font-family=\"Arial\">Ry(theta^{(1)}1)</text><rect x=\"356.7834765625\" y=\"175.0\" width=\"106.78347656250001\" height=\"40\" stroke=\"black\" fill=\"white\" stroke-width=\"1\" /><text x=\"410.17521484375004\" y=\"195.0\" dominant-baseline=\"middle\" text-anchor=\"middle\" font-size=\"14px\" font-family=\"Arial\">Ry(theta^{(1)}4)</text><rect x=\"483.56695312500005\" y=\"25.0\" width=\"106.78347656250001\" height=\"40\" stroke=\"black\" fill=\"white\" stroke-width=\"1\" /><text x=\"536.9586914062501\" y=\"45.0\" dominant-baseline=\"middle\" text-anchor=\"middle\" font-size=\"14px\" font-family=\"Arial\">Rz(theta^{(0)}2)</text><rect x=\"483.56695312500005\" y=\"75.0\" width=\"106.78347656250001\" height=\"40\" stroke=\"black\" fill=\"white\" stroke-width=\"1\" /><text x=\"536.9586914062501\" y=\"95.0\" dominant-baseline=\"middle\" text-anchor=\"middle\" font-size=\"14px\" font-family=\"Arial\">Rz(theta^{(0)}5)</text><rect x=\"483.56695312500005\" y=\"125.0\" width=\"106.78347656250001\" height=\"40\" stroke=\"black\" fill=\"white\" stroke-width=\"1\" /><text x=\"536.9586914062501\" y=\"145.0\" dominant-baseline=\"middle\" text-anchor=\"middle\" font-size=\"14px\" font-family=\"Arial\">Rz(theta^{(1)}2)</text><rect x=\"483.56695312500005\" y=\"175.0\" width=\"106.78347656250001\" height=\"40\" stroke=\"black\" fill=\"white\" stroke-width=\"1\" /><text x=\"536.9586914062501\" y=\"195.0\" dominant-baseline=\"middle\" text-anchor=\"middle\" font-size=\"14px\" font-family=\"Arial\">Rz(theta^{(1)}5)</text><circle cx=\"630.3504296875001\" cy=\"45.0\" r=\"10.0\" /><circle cx=\"630.3504296875001\" cy=\"95.0\" r=\"10.0\" /><circle cx=\"630.3504296875001\" cy=\"145.0\" r=\"10.0\" /><circle cx=\"630.3504296875001\" cy=\"195.0\" r=\"10.0\" /><rect x=\"670.3504296875001\" y=\"25.0\" width=\"98.21804687500001\" height=\"40\" stroke=\"black\" fill=\"white\" stroke-width=\"1\" /><text x=\"719.4594531250001\" y=\"45.0\" dominant-baseline=\"middle\" text-anchor=\"middle\" font-size=\"14px\" font-family=\"Arial\">Rx(x^{(0)}0_0)</text><rect x=\"670.3504296875001\" y=\"75.0\" width=\"98.21804687500001\" height=\"40\" stroke=\"black\" fill=\"white\" stroke-width=\"1\" /><text x=\"719.4594531250001\" y=\"95.0\" dominant-baseline=\"middle\" text-anchor=\"middle\" font-size=\"14px\" font-family=\"Arial\">Rx(x^{(0)}0_1)</text><rect x=\"670.3504296875001\" y=\"125.0\" width=\"98.21804687500001\" height=\"40\" stroke=\"black\" fill=\"white\" stroke-width=\"1\" /><text x=\"719.4594531250001\" y=\"145.0\" dominant-baseline=\"middle\" text-anchor=\"middle\" font-size=\"14px\" font-family=\"Arial\">Rx(x^{(1)}0_0)</text><rect x=\"670.3504296875001\" y=\"175.0\" width=\"98.21804687500001\" height=\"40\" stroke=\"black\" fill=\"white\" stroke-width=\"1\" /><text x=\"719.4594531250001\" y=\"195.0\" dominant-baseline=\"middle\" text-anchor=\"middle\" font-size=\"14px\" font-family=\"Arial\">Rx(x^{(1)}0_1)</text><rect x=\"788.5684765625001\" y=\"25.0\" width=\"106.78347656250001\" height=\"40\" stroke=\"black\" fill=\"white\" stroke-width=\"1\" /><text x=\"841.9602148437501\" y=\"45.0\" dominant-baseline=\"middle\" text-anchor=\"middle\" font-size=\"14px\" font-family=\"Arial\">Rx(theta^{(0)}6)</text><rect x=\"788.5684765625001\" y=\"75.0\" width=\"106.78347656250001\" height=\"40\" stroke=\"black\" fill=\"white\" stroke-width=\"1\" /><text x=\"841.9602148437501\" y=\"95.0\" dominant-baseline=\"middle\" text-anchor=\"middle\" font-size=\"14px\" font-family=\"Arial\">Rx(theta^{(0)}9)</text><rect x=\"788.5684765625001\" y=\"125.0\" width=\"106.78347656250001\" height=\"40\" stroke=\"black\" fill=\"white\" stroke-width=\"1\" /><text x=\"841.9602148437501\" y=\"145.0\" dominant-baseline=\"middle\" text-anchor=\"middle\" font-size=\"14px\" font-family=\"Arial\">Rx(theta^{(1)}6)</text><rect x=\"788.5684765625001\" y=\"175.0\" width=\"106.78347656250001\" height=\"40\" stroke=\"black\" fill=\"white\" stroke-width=\"1\" /><text x=\"841.9602148437501\" y=\"195.0\" dominant-baseline=\"middle\" text-anchor=\"middle\" font-size=\"14px\" font-family=\"Arial\">Rx(theta^{(1)}9)</text><rect x=\"915.3519531250001\" y=\"25.0\" width=\"114.56960937500003\" height=\"40\" stroke=\"black\" fill=\"white\" stroke-width=\"1\" /><text x=\"972.6367578125002\" y=\"45.0\" dominant-baseline=\"middle\" text-anchor=\"middle\" font-size=\"14px\" font-family=\"Arial\">Ry(theta^{(0)}7)</text><rect x=\"915.3519531250001\" y=\"75.0\" width=\"114.56960937500003\" height=\"40\" stroke=\"black\" fill=\"white\" stroke-width=\"1\" /><text x=\"972.6367578125002\" y=\"95.0\" dominant-baseline=\"middle\" text-anchor=\"middle\" font-size=\"14px\" font-family=\"Arial\">Ry(theta^{(0)}10)</text><rect x=\"915.3519531250001\" y=\"125.0\" width=\"114.56960937500003\" height=\"40\" stroke=\"black\" fill=\"white\" stroke-width=\"1\" /><text x=\"972.6367578125002\" y=\"145.0\" dominant-baseline=\"middle\" text-anchor=\"middle\" font-size=\"14px\" font-family=\"Arial\">Ry(theta^{(1)}7)</text><rect x=\"915.3519531250001\" y=\"175.0\" width=\"114.56960937500003\" height=\"40\" stroke=\"black\" fill=\"white\" stroke-width=\"1\" /><text x=\"972.6367578125002\" y=\"195.0\" dominant-baseline=\"middle\" text-anchor=\"middle\" font-size=\"14px\" font-family=\"Arial\">Ry(theta^{(1)}10)</text><rect x=\"1049.9215625000002\" y=\"25.0\" width=\"113.537109375\" height=\"40\" stroke=\"black\" fill=\"white\" stroke-width=\"1\" /><text x=\"1106.6901171875002\" y=\"45.0\" dominant-baseline=\"middle\" text-anchor=\"middle\" font-size=\"14px\" font-family=\"Arial\">Rz(theta^{(0)}8)</text><rect x=\"1049.9215625000002\" y=\"75.0\" width=\"113.537109375\" height=\"40\" stroke=\"black\" fill=\"white\" stroke-width=\"1\" /><text x=\"1106.6901171875002\" y=\"95.0\" dominant-baseline=\"middle\" text-anchor=\"middle\" font-size=\"14px\" font-family=\"Arial\">Rz(theta^{(0)}11)</text><rect x=\"1049.9215625000002\" y=\"125.0\" width=\"113.537109375\" height=\"40\" stroke=\"black\" fill=\"white\" stroke-width=\"1\" /><text x=\"1106.6901171875002\" y=\"145.0\" dominant-baseline=\"middle\" text-anchor=\"middle\" font-size=\"14px\" font-family=\"Arial\">Rz(theta^{(1)}8)</text><rect x=\"1049.9215625000002\" y=\"175.0\" width=\"113.537109375\" height=\"40\" stroke=\"black\" fill=\"white\" stroke-width=\"1\" /><text x=\"1106.6901171875002\" y=\"195.0\" dominant-baseline=\"middle\" text-anchor=\"middle\" font-size=\"14px\" font-family=\"Arial\">Rz(theta^{(1)}11)</text><rect x=\"1183.4586718750002\" y=\"25.0\" width=\"77.607421875\" height=\"40\" stroke=\"black\" fill=\"white\" stroke-width=\"1\" /><text x=\"1222.2623828125002\" y=\"45.0\" dominant-baseline=\"middle\" text-anchor=\"middle\" font-size=\"14px\" font-family=\"Arial\">M('agent0')</text><rect x=\"1183.4586718750002\" y=\"75.0\" width=\"77.607421875\" height=\"40\" stroke=\"black\" fill=\"white\" stroke-width=\"1\" /><text x=\"1222.2623828125002\" y=\"95.0\" dominant-baseline=\"middle\" text-anchor=\"middle\" font-size=\"18px\" font-family=\"Arial\">M</text><rect x=\"1183.4586718750002\" y=\"125.0\" width=\"77.607421875\" height=\"40\" stroke=\"black\" fill=\"white\" stroke-width=\"1\" /><text x=\"1222.2623828125002\" y=\"145.0\" dominant-baseline=\"middle\" text-anchor=\"middle\" font-size=\"14px\" font-family=\"Arial\">M('agent1')</text><rect x=\"1183.4586718750002\" y=\"175.0\" width=\"77.607421875\" height=\"40\" stroke=\"black\" fill=\"white\" stroke-width=\"1\" /><text x=\"1222.2623828125002\" y=\"195.0\" dominant-baseline=\"middle\" text-anchor=\"middle\" font-size=\"18px\" font-family=\"Arial\">M</text><rect x=\"1281.0660937500002\" y=\"25.0\" width=\"48.7939453125\" height=\"40\" stroke=\"black\" fill=\"white\" stroke-width=\"1\" /><text x=\"1305.4630664062502\" y=\"45.0\" dominant-baseline=\"middle\" text-anchor=\"middle\" font-size=\"14px\" font-family=\"Arial\">M('all')</text><rect x=\"1281.0660937500002\" y=\"75.0\" width=\"48.7939453125\" height=\"40\" stroke=\"black\" fill=\"white\" stroke-width=\"1\" /><text x=\"1305.4630664062502\" y=\"95.0\" dominant-baseline=\"middle\" text-anchor=\"middle\" font-size=\"18px\" font-family=\"Arial\">M</text><rect x=\"1281.0660937500002\" y=\"125.0\" width=\"48.7939453125\" height=\"40\" stroke=\"black\" fill=\"white\" stroke-width=\"1\" /><text x=\"1305.4630664062502\" y=\"145.0\" dominant-baseline=\"middle\" text-anchor=\"middle\" font-size=\"18px\" font-family=\"Arial\">M</text><rect x=\"1281.0660937500002\" y=\"175.0\" width=\"48.7939453125\" height=\"40\" stroke=\"black\" fill=\"white\" stroke-width=\"1\" /><text x=\"1305.4630664062502\" y=\"195.0\" dominant-baseline=\"middle\" text-anchor=\"middle\" font-size=\"18px\" font-family=\"Arial\">M</text></svg>"
      ],
      "text/plain": [
       "<cirq.contrib.svg.svg.SVGCircuit at 0x146f98690>"
      ]
     },
     "execution_count": 200,
     "metadata": {},
     "output_type": "execute_result"
    }
   ],
   "source": [
    "## Show example circuit.\n",
    "circuit, _ = build_parameterized_system_circuit(\n",
    "    d=d_qubits,\n",
    "    n=n_agents,\n",
    "    policy_fn=lambda qubits, aidx: parameterized_variational_encoding_policy_circuit(qubits, n_layers=n_layers, symbol_superscript_index=aidx),\n",
    "    initial_state_prep_fn=lambda qubits: entangle_agents_psi_plus(qubits, d=d_qubits, n=n_agents),\n",
    "    meas_key_all='all',\n",
    "    meas_key_prefix_agent='agent',\n",
    ")\n",
    "svg = circuit_to_svg(circuit)\n",
    "with open(basepath/f\"pqc_{n_agents}_agents_{d_qubits}_qubits_{n_layers}_layers_entangled_psi_plus.svg\", '+w') as f:\n",
    "    f.write(svg)\n",
    "SVGCircuit(circuit)"
   ]
  },
  {
   "cell_type": "markdown",
   "metadata": {},
   "source": [
    "Entanglement Type | Random $\\theta$, Random $s$ | Identical $\\theta$, Identical $s$ | Nearly Identical $\\theta$, Identical $s$ | Nearly Identical $\\theta$, Random $s$\n",
    "------------------| ----------------------------| --------------------------------- | ---------------------------------------- | -------------------------------------\n",
    "None | ![](images/no_entanglement_random_theta_random_s.png?raw=true) | ![](images/no_entanglement_identical_theta_identical_s.png?raw=true) | ![](images/no_entanglement_nearly_identical_theta_identical_s.png?raw=true) | ![](images/no_entanglement_nearly_identical_theta_random_s.png?raw=true)\n",
    "$\\ket{\\Phi^{+}}$ | ![](images/entangled_phi_plus_random_theta_random_s.png?raw=true) | ![](images/entangled_phi_plus_identical_theta_identical_s.png?raw=true) | ![](images/entangled_phi_plus_nearly_identical_theta_identical_s.png?raw=true) | ![](images/entangled_phi_plus_nearly_identical_theta_random_s.png?raw=true)\n",
    "$\\ket{\\Psi^{+}}$ | ![](images/entangled_psi_plus_random_theta_random_s.png?raw=true) | ![](images/entangled_psi_plus_identical_theta_identical_s.png?raw=true) | ![](images/entangled_psi_plus_nearly_identical_theta_identical_s.png?raw=true) | ![](images/entangled_psi_plus_nearly_identical_theta_random_s.png?raw=true)"
   ]
  },
  {
   "cell_type": "markdown",
   "metadata": {},
   "source": []
  },
  {
   "cell_type": "markdown",
   "metadata": {},
   "source": [
    "## Various entanglement states"
   ]
  },
  {
   "cell_type": "markdown",
   "metadata": {},
   "source": [
    "### Eigenvectors of the policy unitary"
   ]
  },
  {
   "cell_type": "code",
   "execution_count": 201,
   "metadata": {},
   "outputs": [
    {
     "data": {
      "image/svg+xml": [
       "<svg xmlns=\"http://www.w3.org/2000/svg\" width=\"1053.4586718750002\" height=\"200.0\"><line x1=\"30.0\" x2=\"1023.4586718750002\" y1=\"25.0\" y2=\"25.0\" stroke=\"#1967d2\" stroke-width=\"1\" /><line x1=\"30.0\" x2=\"1023.4586718750002\" y1=\"75.0\" y2=\"75.0\" stroke=\"#1967d2\" stroke-width=\"1\" /><line x1=\"30.0\" x2=\"1023.4586718750002\" y1=\"125.0\" y2=\"125.0\" stroke=\"#1967d2\" stroke-width=\"1\" /><line x1=\"30.0\" x2=\"1023.4586718750002\" y1=\"175.0\" y2=\"175.0\" stroke=\"#1967d2\" stroke-width=\"1\" /><line x1=\"470.3504296875001\" x2=\"470.3504296875001\" y1=\"25.0\" y2=\"75.0\" stroke=\"black\" stroke-width=\"3\" /><line x1=\"470.3504296875001\" x2=\"470.3504296875001\" y1=\"125.0\" y2=\"175.0\" stroke=\"black\" stroke-width=\"3\" /><rect x=\"10.0\" y=\"5.0\" width=\"40\" height=\"40\" stroke=\"black\" fill=\"white\" stroke-width=\"0\" /><text x=\"30.0\" y=\"25.0\" dominant-baseline=\"middle\" text-anchor=\"middle\" font-size=\"14px\" font-family=\"Arial\">0: </text><rect x=\"10.0\" y=\"55.0\" width=\"40\" height=\"40\" stroke=\"black\" fill=\"white\" stroke-width=\"0\" /><text x=\"30.0\" y=\"75.0\" dominant-baseline=\"middle\" text-anchor=\"middle\" font-size=\"14px\" font-family=\"Arial\">1: </text><rect x=\"10.0\" y=\"105.0\" width=\"40\" height=\"40\" stroke=\"black\" fill=\"white\" stroke-width=\"0\" /><text x=\"30.0\" y=\"125.0\" dominant-baseline=\"middle\" text-anchor=\"middle\" font-size=\"14px\" font-family=\"Arial\">2: </text><rect x=\"10.0\" y=\"155.0\" width=\"40\" height=\"40\" stroke=\"black\" fill=\"white\" stroke-width=\"0\" /><text x=\"30.0\" y=\"175.0\" dominant-baseline=\"middle\" text-anchor=\"middle\" font-size=\"14px\" font-family=\"Arial\">3: </text><rect x=\"70.0\" y=\"5.0\" width=\"106.78347656250001\" height=\"40\" stroke=\"black\" fill=\"white\" stroke-width=\"1\" /><text x=\"123.39173828125001\" y=\"25.0\" dominant-baseline=\"middle\" text-anchor=\"middle\" font-size=\"14px\" font-family=\"Arial\">Rx(theta^{(0)}0)</text><rect x=\"70.0\" y=\"55.0\" width=\"106.78347656250001\" height=\"40\" stroke=\"black\" fill=\"white\" stroke-width=\"1\" /><text x=\"123.39173828125001\" y=\"75.0\" dominant-baseline=\"middle\" text-anchor=\"middle\" font-size=\"14px\" font-family=\"Arial\">Rx(theta^{(0)}3)</text><rect x=\"70.0\" y=\"105.0\" width=\"106.78347656250001\" height=\"40\" stroke=\"black\" fill=\"white\" stroke-width=\"1\" /><text x=\"123.39173828125001\" y=\"125.0\" dominant-baseline=\"middle\" text-anchor=\"middle\" font-size=\"14px\" font-family=\"Arial\">Rx(theta^{(1)}0)</text><rect x=\"70.0\" y=\"155.0\" width=\"106.78347656250001\" height=\"40\" stroke=\"black\" fill=\"white\" stroke-width=\"1\" /><text x=\"123.39173828125001\" y=\"175.0\" dominant-baseline=\"middle\" text-anchor=\"middle\" font-size=\"14px\" font-family=\"Arial\">Rx(theta^{(1)}3)</text><rect x=\"196.78347656250003\" y=\"5.0\" width=\"106.78347656250001\" height=\"40\" stroke=\"black\" fill=\"white\" stroke-width=\"1\" /><text x=\"250.17521484375004\" y=\"25.0\" dominant-baseline=\"middle\" text-anchor=\"middle\" font-size=\"14px\" font-family=\"Arial\">Ry(theta^{(0)}1)</text><rect x=\"196.78347656250003\" y=\"55.0\" width=\"106.78347656250001\" height=\"40\" stroke=\"black\" fill=\"white\" stroke-width=\"1\" /><text x=\"250.17521484375004\" y=\"75.0\" dominant-baseline=\"middle\" text-anchor=\"middle\" font-size=\"14px\" font-family=\"Arial\">Ry(theta^{(0)}4)</text><rect x=\"196.78347656250003\" y=\"105.0\" width=\"106.78347656250001\" height=\"40\" stroke=\"black\" fill=\"white\" stroke-width=\"1\" /><text x=\"250.17521484375004\" y=\"125.0\" dominant-baseline=\"middle\" text-anchor=\"middle\" font-size=\"14px\" font-family=\"Arial\">Ry(theta^{(1)}1)</text><rect x=\"196.78347656250003\" y=\"155.0\" width=\"106.78347656250001\" height=\"40\" stroke=\"black\" fill=\"white\" stroke-width=\"1\" /><text x=\"250.17521484375004\" y=\"175.0\" dominant-baseline=\"middle\" text-anchor=\"middle\" font-size=\"14px\" font-family=\"Arial\">Ry(theta^{(1)}4)</text><rect x=\"323.56695312500005\" y=\"5.0\" width=\"106.78347656250001\" height=\"40\" stroke=\"black\" fill=\"white\" stroke-width=\"1\" /><text x=\"376.95869140625007\" y=\"25.0\" dominant-baseline=\"middle\" text-anchor=\"middle\" font-size=\"14px\" font-family=\"Arial\">Rz(theta^{(0)}2)</text><rect x=\"323.56695312500005\" y=\"55.0\" width=\"106.78347656250001\" height=\"40\" stroke=\"black\" fill=\"white\" stroke-width=\"1\" /><text x=\"376.95869140625007\" y=\"75.0\" dominant-baseline=\"middle\" text-anchor=\"middle\" font-size=\"14px\" font-family=\"Arial\">Rz(theta^{(0)}5)</text><rect x=\"323.56695312500005\" y=\"105.0\" width=\"106.78347656250001\" height=\"40\" stroke=\"black\" fill=\"white\" stroke-width=\"1\" /><text x=\"376.95869140625007\" y=\"125.0\" dominant-baseline=\"middle\" text-anchor=\"middle\" font-size=\"14px\" font-family=\"Arial\">Rz(theta^{(1)}2)</text><rect x=\"323.56695312500005\" y=\"155.0\" width=\"106.78347656250001\" height=\"40\" stroke=\"black\" fill=\"white\" stroke-width=\"1\" /><text x=\"376.95869140625007\" y=\"175.0\" dominant-baseline=\"middle\" text-anchor=\"middle\" font-size=\"14px\" font-family=\"Arial\">Rz(theta^{(1)}5)</text><circle cx=\"470.3504296875001\" cy=\"25.0\" r=\"10.0\" /><circle cx=\"470.3504296875001\" cy=\"75.0\" r=\"10.0\" /><circle cx=\"470.3504296875001\" cy=\"125.0\" r=\"10.0\" /><circle cx=\"470.3504296875001\" cy=\"175.0\" r=\"10.0\" /><rect x=\"510.3504296875001\" y=\"5.0\" width=\"98.21804687500001\" height=\"40\" stroke=\"black\" fill=\"white\" stroke-width=\"1\" /><text x=\"559.4594531250001\" y=\"25.0\" dominant-baseline=\"middle\" text-anchor=\"middle\" font-size=\"14px\" font-family=\"Arial\">Rx(x^{(0)}0_0)</text><rect x=\"510.3504296875001\" y=\"55.0\" width=\"98.21804687500001\" height=\"40\" stroke=\"black\" fill=\"white\" stroke-width=\"1\" /><text x=\"559.4594531250001\" y=\"75.0\" dominant-baseline=\"middle\" text-anchor=\"middle\" font-size=\"14px\" font-family=\"Arial\">Rx(x^{(0)}0_1)</text><rect x=\"510.3504296875001\" y=\"105.0\" width=\"98.21804687500001\" height=\"40\" stroke=\"black\" fill=\"white\" stroke-width=\"1\" /><text x=\"559.4594531250001\" y=\"125.0\" dominant-baseline=\"middle\" text-anchor=\"middle\" font-size=\"14px\" font-family=\"Arial\">Rx(x^{(1)}0_0)</text><rect x=\"510.3504296875001\" y=\"155.0\" width=\"98.21804687500001\" height=\"40\" stroke=\"black\" fill=\"white\" stroke-width=\"1\" /><text x=\"559.4594531250001\" y=\"175.0\" dominant-baseline=\"middle\" text-anchor=\"middle\" font-size=\"14px\" font-family=\"Arial\">Rx(x^{(1)}0_1)</text><rect x=\"628.5684765625001\" y=\"5.0\" width=\"106.78347656250001\" height=\"40\" stroke=\"black\" fill=\"white\" stroke-width=\"1\" /><text x=\"681.9602148437501\" y=\"25.0\" dominant-baseline=\"middle\" text-anchor=\"middle\" font-size=\"14px\" font-family=\"Arial\">Rx(theta^{(0)}6)</text><rect x=\"628.5684765625001\" y=\"55.0\" width=\"106.78347656250001\" height=\"40\" stroke=\"black\" fill=\"white\" stroke-width=\"1\" /><text x=\"681.9602148437501\" y=\"75.0\" dominant-baseline=\"middle\" text-anchor=\"middle\" font-size=\"14px\" font-family=\"Arial\">Rx(theta^{(0)}9)</text><rect x=\"628.5684765625001\" y=\"105.0\" width=\"106.78347656250001\" height=\"40\" stroke=\"black\" fill=\"white\" stroke-width=\"1\" /><text x=\"681.9602148437501\" y=\"125.0\" dominant-baseline=\"middle\" text-anchor=\"middle\" font-size=\"14px\" font-family=\"Arial\">Rx(theta^{(1)}6)</text><rect x=\"628.5684765625001\" y=\"155.0\" width=\"106.78347656250001\" height=\"40\" stroke=\"black\" fill=\"white\" stroke-width=\"1\" /><text x=\"681.9602148437501\" y=\"175.0\" dominant-baseline=\"middle\" text-anchor=\"middle\" font-size=\"14px\" font-family=\"Arial\">Rx(theta^{(1)}9)</text><rect x=\"755.3519531250001\" y=\"5.0\" width=\"114.56960937500003\" height=\"40\" stroke=\"black\" fill=\"white\" stroke-width=\"1\" /><text x=\"812.6367578125002\" y=\"25.0\" dominant-baseline=\"middle\" text-anchor=\"middle\" font-size=\"14px\" font-family=\"Arial\">Ry(theta^{(0)}7)</text><rect x=\"755.3519531250001\" y=\"55.0\" width=\"114.56960937500003\" height=\"40\" stroke=\"black\" fill=\"white\" stroke-width=\"1\" /><text x=\"812.6367578125002\" y=\"75.0\" dominant-baseline=\"middle\" text-anchor=\"middle\" font-size=\"14px\" font-family=\"Arial\">Ry(theta^{(0)}10)</text><rect x=\"755.3519531250001\" y=\"105.0\" width=\"114.56960937500003\" height=\"40\" stroke=\"black\" fill=\"white\" stroke-width=\"1\" /><text x=\"812.6367578125002\" y=\"125.0\" dominant-baseline=\"middle\" text-anchor=\"middle\" font-size=\"14px\" font-family=\"Arial\">Ry(theta^{(1)}7)</text><rect x=\"755.3519531250001\" y=\"155.0\" width=\"114.56960937500003\" height=\"40\" stroke=\"black\" fill=\"white\" stroke-width=\"1\" /><text x=\"812.6367578125002\" y=\"175.0\" dominant-baseline=\"middle\" text-anchor=\"middle\" font-size=\"14px\" font-family=\"Arial\">Ry(theta^{(1)}10)</text><rect x=\"889.9215625000002\" y=\"5.0\" width=\"113.537109375\" height=\"40\" stroke=\"black\" fill=\"white\" stroke-width=\"1\" /><text x=\"946.6901171875002\" y=\"25.0\" dominant-baseline=\"middle\" text-anchor=\"middle\" font-size=\"14px\" font-family=\"Arial\">Rz(theta^{(0)}8)</text><rect x=\"889.9215625000002\" y=\"55.0\" width=\"113.537109375\" height=\"40\" stroke=\"black\" fill=\"white\" stroke-width=\"1\" /><text x=\"946.6901171875002\" y=\"75.0\" dominant-baseline=\"middle\" text-anchor=\"middle\" font-size=\"14px\" font-family=\"Arial\">Rz(theta^{(0)}11)</text><rect x=\"889.9215625000002\" y=\"105.0\" width=\"113.537109375\" height=\"40\" stroke=\"black\" fill=\"white\" stroke-width=\"1\" /><text x=\"946.6901171875002\" y=\"125.0\" dominant-baseline=\"middle\" text-anchor=\"middle\" font-size=\"14px\" font-family=\"Arial\">Rz(theta^{(1)}8)</text><rect x=\"889.9215625000002\" y=\"155.0\" width=\"113.537109375\" height=\"40\" stroke=\"black\" fill=\"white\" stroke-width=\"1\" /><text x=\"946.6901171875002\" y=\"175.0\" dominant-baseline=\"middle\" text-anchor=\"middle\" font-size=\"14px\" font-family=\"Arial\">Rz(theta^{(1)}11)</text></svg>"
      ],
      "text/plain": [
       "<cirq.contrib.svg.svg.SVGCircuit at 0x146f378d0>"
      ]
     },
     "execution_count": 201,
     "metadata": {},
     "output_type": "execute_result"
    }
   ],
   "source": [
    "# Create parameterized circuit.\n",
    "circuit, symbols = build_parameterized_system_circuit(\n",
    "    d=2,\n",
    "    n=2,\n",
    "    policy_fn=lambda qubits, aidx: parameterized_variational_encoding_policy_circuit(qubits, n_layers=1, symbol_superscript_index=aidx),\n",
    "    initial_state_prep_fn=None,\n",
    "    meas_flag=False, # Do not measure.\n",
    ")\n",
    "SVGCircuit(circuit)"
   ]
  },
  {
   "cell_type": "code",
   "execution_count": 202,
   "metadata": {},
   "outputs": [
    {
     "data": {
      "image/svg+xml": [
       "<svg xmlns=\"http://www.w3.org/2000/svg\" width=\"856.6523046875001\" height=\"200.0\"><line x1=\"30.0\" x2=\"826.6523046875001\" y1=\"25.0\" y2=\"25.0\" stroke=\"#1967d2\" stroke-width=\"1\" /><line x1=\"30.0\" x2=\"826.6523046875001\" y1=\"75.0\" y2=\"75.0\" stroke=\"#1967d2\" stroke-width=\"1\" /><line x1=\"30.0\" x2=\"826.6523046875001\" y1=\"125.0\" y2=\"125.0\" stroke=\"#1967d2\" stroke-width=\"1\" /><line x1=\"30.0\" x2=\"826.6523046875001\" y1=\"175.0\" y2=\"175.0\" stroke=\"#1967d2\" stroke-width=\"1\" /><line x1=\"388.56527343749997\" x2=\"388.56527343749997\" y1=\"25.0\" y2=\"75.0\" stroke=\"black\" stroke-width=\"3\" /><line x1=\"388.56527343749997\" x2=\"388.56527343749997\" y1=\"125.0\" y2=\"175.0\" stroke=\"black\" stroke-width=\"3\" /><rect x=\"10.0\" y=\"5.0\" width=\"40\" height=\"40\" stroke=\"black\" fill=\"white\" stroke-width=\"0\" /><text x=\"30.0\" y=\"25.0\" dominant-baseline=\"middle\" text-anchor=\"middle\" font-size=\"14px\" font-family=\"Arial\">0: </text><rect x=\"10.0\" y=\"55.0\" width=\"40\" height=\"40\" stroke=\"black\" fill=\"white\" stroke-width=\"0\" /><text x=\"30.0\" y=\"75.0\" dominant-baseline=\"middle\" text-anchor=\"middle\" font-size=\"14px\" font-family=\"Arial\">1: </text><rect x=\"10.0\" y=\"105.0\" width=\"40\" height=\"40\" stroke=\"black\" fill=\"white\" stroke-width=\"0\" /><text x=\"30.0\" y=\"125.0\" dominant-baseline=\"middle\" text-anchor=\"middle\" font-size=\"14px\" font-family=\"Arial\">2: </text><rect x=\"10.0\" y=\"155.0\" width=\"40\" height=\"40\" stroke=\"black\" fill=\"white\" stroke-width=\"0\" /><text x=\"30.0\" y=\"175.0\" dominant-baseline=\"middle\" text-anchor=\"middle\" font-size=\"14px\" font-family=\"Arial\">3: </text><rect x=\"70.0\" y=\"5.0\" width=\"79.5217578125\" height=\"40\" stroke=\"black\" fill=\"white\" stroke-width=\"1\" /><text x=\"109.76087890625\" y=\"25.0\" dominant-baseline=\"middle\" text-anchor=\"middle\" font-size=\"14px\" font-family=\"Arial\">Rx(0.173π)</text><rect x=\"70.0\" y=\"55.0\" width=\"79.5217578125\" height=\"40\" stroke=\"black\" fill=\"white\" stroke-width=\"1\" /><text x=\"109.76087890625\" y=\"75.0\" dominant-baseline=\"middle\" text-anchor=\"middle\" font-size=\"14px\" font-family=\"Arial\">Rx(0.51π)</text><rect x=\"70.0\" y=\"105.0\" width=\"79.5217578125\" height=\"40\" stroke=\"black\" fill=\"white\" stroke-width=\"1\" /><text x=\"109.76087890625\" y=\"125.0\" dominant-baseline=\"middle\" text-anchor=\"middle\" font-size=\"14px\" font-family=\"Arial\">Rx(0.673π)</text><rect x=\"70.0\" y=\"155.0\" width=\"79.5217578125\" height=\"40\" stroke=\"black\" fill=\"white\" stroke-width=\"1\" /><text x=\"109.76087890625\" y=\"175.0\" dominant-baseline=\"middle\" text-anchor=\"middle\" font-size=\"14px\" font-family=\"Arial\">Rx(0.517π)</text><rect x=\"169.52175781249997\" y=\"5.0\" width=\"79.5217578125\" height=\"40\" stroke=\"black\" fill=\"white\" stroke-width=\"1\" /><text x=\"209.28263671874998\" y=\"25.0\" dominant-baseline=\"middle\" text-anchor=\"middle\" font-size=\"14px\" font-family=\"Arial\">Ry(0.602π)</text><rect x=\"169.52175781249997\" y=\"55.0\" width=\"79.5217578125\" height=\"40\" stroke=\"black\" fill=\"white\" stroke-width=\"1\" /><text x=\"209.28263671874998\" y=\"75.0\" dominant-baseline=\"middle\" text-anchor=\"middle\" font-size=\"14px\" font-family=\"Arial\">Ry(0.122π)</text><rect x=\"169.52175781249997\" y=\"105.0\" width=\"79.5217578125\" height=\"40\" stroke=\"black\" fill=\"white\" stroke-width=\"1\" /><text x=\"209.28263671874998\" y=\"125.0\" dominant-baseline=\"middle\" text-anchor=\"middle\" font-size=\"14px\" font-family=\"Arial\">Ry(0.443π)</text><rect x=\"169.52175781249997\" y=\"155.0\" width=\"79.5217578125\" height=\"40\" stroke=\"black\" fill=\"white\" stroke-width=\"1\" /><text x=\"209.28263671874998\" y=\"175.0\" dominant-baseline=\"middle\" text-anchor=\"middle\" font-size=\"14px\" font-family=\"Arial\">Ry(0.383π)</text><rect x=\"269.043515625\" y=\"5.0\" width=\"79.5217578125\" height=\"40\" stroke=\"black\" fill=\"white\" stroke-width=\"1\" /><text x=\"308.80439453125\" y=\"25.0\" dominant-baseline=\"middle\" text-anchor=\"middle\" font-size=\"14px\" font-family=\"Arial\">Rz(0.659π)</text><rect x=\"269.043515625\" y=\"55.0\" width=\"79.5217578125\" height=\"40\" stroke=\"black\" fill=\"white\" stroke-width=\"1\" /><text x=\"308.80439453125\" y=\"75.0\" dominant-baseline=\"middle\" text-anchor=\"middle\" font-size=\"14px\" font-family=\"Arial\">Rz(0.455π)</text><rect x=\"269.043515625\" y=\"105.0\" width=\"79.5217578125\" height=\"40\" stroke=\"black\" fill=\"white\" stroke-width=\"1\" /><text x=\"308.80439453125\" y=\"125.0\" dominant-baseline=\"middle\" text-anchor=\"middle\" font-size=\"14px\" font-family=\"Arial\">Rz(0.34π)</text><rect x=\"269.043515625\" y=\"155.0\" width=\"79.5217578125\" height=\"40\" stroke=\"black\" fill=\"white\" stroke-width=\"1\" /><text x=\"308.80439453125\" y=\"175.0\" dominant-baseline=\"middle\" text-anchor=\"middle\" font-size=\"14px\" font-family=\"Arial\">Rz(0.611π)</text><circle cx=\"388.56527343749997\" cy=\"25.0\" r=\"10.0\" /><circle cx=\"388.56527343749997\" cy=\"75.0\" r=\"10.0\" /><circle cx=\"388.56527343749997\" cy=\"125.0\" r=\"10.0\" /><circle cx=\"388.56527343749997\" cy=\"175.0\" r=\"10.0\" /><rect x=\"428.56527343749997\" y=\"5.0\" width=\"79.5217578125\" height=\"40\" stroke=\"black\" fill=\"white\" stroke-width=\"1\" /><text x=\"468.32615234375\" y=\"25.0\" dominant-baseline=\"middle\" text-anchor=\"middle\" font-size=\"14px\" font-family=\"Arial\">Rx(0.448π)</text><rect x=\"428.56527343749997\" y=\"55.0\" width=\"79.5217578125\" height=\"40\" stroke=\"black\" fill=\"white\" stroke-width=\"1\" /><text x=\"468.32615234375\" y=\"75.0\" dominant-baseline=\"middle\" text-anchor=\"middle\" font-size=\"14px\" font-family=\"Arial\">Rx(0.604π)</text><rect x=\"428.56527343749997\" y=\"105.0\" width=\"79.5217578125\" height=\"40\" stroke=\"black\" fill=\"white\" stroke-width=\"1\" /><text x=\"468.32615234375\" y=\"125.0\" dominant-baseline=\"middle\" text-anchor=\"middle\" font-size=\"14px\" font-family=\"Arial\">Rx(0.303π)</text><rect x=\"428.56527343749997\" y=\"155.0\" width=\"79.5217578125\" height=\"40\" stroke=\"black\" fill=\"white\" stroke-width=\"1\" /><text x=\"468.32615234375\" y=\"175.0\" dominant-baseline=\"middle\" text-anchor=\"middle\" font-size=\"14px\" font-family=\"Arial\">Rx(0.894π)</text><rect x=\"528.08703125\" y=\"5.0\" width=\"79.5217578125\" height=\"40\" stroke=\"black\" fill=\"white\" stroke-width=\"1\" /><text x=\"567.84791015625\" y=\"25.0\" dominant-baseline=\"middle\" text-anchor=\"middle\" font-size=\"14px\" font-family=\"Arial\">Rx(0.223π)</text><rect x=\"528.08703125\" y=\"55.0\" width=\"79.5217578125\" height=\"40\" stroke=\"black\" fill=\"white\" stroke-width=\"1\" /><text x=\"567.84791015625\" y=\"75.0\" dominant-baseline=\"middle\" text-anchor=\"middle\" font-size=\"14px\" font-family=\"Arial\">Rx(0.927π)</text><rect x=\"528.08703125\" y=\"105.0\" width=\"79.5217578125\" height=\"40\" stroke=\"black\" fill=\"white\" stroke-width=\"1\" /><text x=\"567.84791015625\" y=\"125.0\" dominant-baseline=\"middle\" text-anchor=\"middle\" font-size=\"14px\" font-family=\"Arial\">Rx(0.753π)</text><rect x=\"528.08703125\" y=\"155.0\" width=\"79.5217578125\" height=\"40\" stroke=\"black\" fill=\"white\" stroke-width=\"1\" /><text x=\"567.84791015625\" y=\"175.0\" dominant-baseline=\"middle\" text-anchor=\"middle\" font-size=\"14px\" font-family=\"Arial\">Rx(0.457π)</text><rect x=\"627.6087890625\" y=\"5.0\" width=\"79.5217578125\" height=\"40\" stroke=\"black\" fill=\"white\" stroke-width=\"1\" /><text x=\"667.36966796875\" y=\"25.0\" dominant-baseline=\"middle\" text-anchor=\"middle\" font-size=\"14px\" font-family=\"Arial\">Ry(0.542π)</text><rect x=\"627.6087890625\" y=\"55.0\" width=\"79.5217578125\" height=\"40\" stroke=\"black\" fill=\"white\" stroke-width=\"1\" /><text x=\"667.36966796875\" y=\"75.0\" dominant-baseline=\"middle\" text-anchor=\"middle\" font-size=\"14px\" font-family=\"Arial\">Ry(0.01π)</text><rect x=\"627.6087890625\" y=\"105.0\" width=\"79.5217578125\" height=\"40\" stroke=\"black\" fill=\"white\" stroke-width=\"1\" /><text x=\"667.36966796875\" y=\"125.0\" dominant-baseline=\"middle\" text-anchor=\"middle\" font-size=\"14px\" font-family=\"Arial\">Ry(0.957π)</text><rect x=\"627.6087890625\" y=\"155.0\" width=\"79.5217578125\" height=\"40\" stroke=\"black\" fill=\"white\" stroke-width=\"1\" /><text x=\"667.36966796875\" y=\"175.0\" dominant-baseline=\"middle\" text-anchor=\"middle\" font-size=\"14px\" font-family=\"Arial\">Ry(0.372π)</text><rect x=\"727.130546875\" y=\"5.0\" width=\"79.5217578125\" height=\"40\" stroke=\"black\" fill=\"white\" stroke-width=\"1\" /><text x=\"766.8914257812501\" y=\"25.0\" dominant-baseline=\"middle\" text-anchor=\"middle\" font-size=\"14px\" font-family=\"Arial\">Rz(0.651π)</text><rect x=\"727.130546875\" y=\"55.0\" width=\"79.5217578125\" height=\"40\" stroke=\"black\" fill=\"white\" stroke-width=\"1\" /><text x=\"766.8914257812501\" y=\"75.0\" dominant-baseline=\"middle\" text-anchor=\"middle\" font-size=\"14px\" font-family=\"Arial\">Rz(0.692π)</text><rect x=\"727.130546875\" y=\"105.0\" width=\"79.5217578125\" height=\"40\" stroke=\"black\" fill=\"white\" stroke-width=\"1\" /><text x=\"766.8914257812501\" y=\"125.0\" dominant-baseline=\"middle\" text-anchor=\"middle\" font-size=\"14px\" font-family=\"Arial\">Rz(0.534π)</text><rect x=\"727.130546875\" y=\"155.0\" width=\"79.5217578125\" height=\"40\" stroke=\"black\" fill=\"white\" stroke-width=\"1\" /><text x=\"766.8914257812501\" y=\"175.0\" dominant-baseline=\"middle\" text-anchor=\"middle\" font-size=\"14px\" font-family=\"Arial\">Rz(0.028π)</text></svg>"
      ],
      "text/plain": [
       "<cirq.contrib.svg.svg.SVGCircuit at 0x1479f5f90>"
      ]
     },
     "execution_count": 202,
     "metadata": {},
     "output_type": "execute_result"
    }
   ],
   "source": [
    "# Resolve symbols to concrete values.\n",
    "symbol_resolver_fn = ParamResolverRandomThetaRandomS()\n",
    "circuit_resolved = cirq.resolve_parameters(circuit, param_resolver=cirq.ParamResolver(symbol_resolver_fn(symbols)))\n",
    "SVGCircuit(circuit_resolved)"
   ]
  },
  {
   "cell_type": "code",
   "execution_count": 203,
   "metadata": {},
   "outputs": [
    {
     "data": {
      "text/plain": [
       "(16, 16)"
      ]
     },
     "execution_count": 203,
     "metadata": {},
     "output_type": "execute_result"
    }
   ],
   "source": [
    "U = cirq.unitary(circuit_resolved)\n",
    "U.shape"
   ]
  },
  {
   "cell_type": "code",
   "execution_count": 204,
   "metadata": {},
   "outputs": [],
   "source": [
    "eig_vals, eig_vects = cirq.unitary_eig(U) # eig_vects is a matrix with eigenvectors as columns."
   ]
  },
  {
   "cell_type": "code",
   "execution_count": 205,
   "metadata": {},
   "outputs": [
    {
     "data": {
      "text/plain": [
       "array([-0.31149538-0.19568805j,  0.4058426 -0.02733348j,\n",
       "        0.10793796+0.17172348j, -0.21279282-0.00540432j,\n",
       "       -0.15435039-0.08860626j,  0.19566849-0.0210235j ,\n",
       "        0.05548447+0.08093834j, -0.10297338+0.00148228j,\n",
       "       -0.20448501+0.31492081j, -0.02168897-0.41462347j,\n",
       "        0.17691303-0.10753545j, -0.00877055+0.21709496j,\n",
       "        0.07759131-0.18830407j,  0.05294127+0.21888825j,\n",
       "       -0.08358791+0.07498686j, -0.01698939-0.11661748j])"
      ]
     },
     "execution_count": 205,
     "metadata": {},
     "output_type": "execute_result"
    }
   ],
   "source": [
    "eig_vects[:,0]"
   ]
  },
  {
   "cell_type": "code",
   "execution_count": 206,
   "metadata": {},
   "outputs": [
    {
     "data": {
      "text/plain": [
       "(16,)"
      ]
     },
     "execution_count": 206,
     "metadata": {},
     "output_type": "execute_result"
    }
   ],
   "source": [
    "# Superposition of first and last eigenvector.\n",
    "psi = 1/np.sqrt(2) * eig_vects[:,0] + 1/np.sqrt(2) * eig_vects[:,-1]\n",
    "psi.shape"
   ]
  },
  {
   "cell_type": "code",
   "execution_count": 207,
   "metadata": {},
   "outputs": [
    {
     "data": {
      "text/plain": [
       "0.9999999999999999"
      ]
     },
     "execution_count": 207,
     "metadata": {},
     "output_type": "execute_result"
    }
   ],
   "source": [
    "np.linalg.norm(psi) # Check normalization."
   ]
  },
  {
   "cell_type": "code",
   "execution_count": 208,
   "metadata": {},
   "outputs": [
    {
     "data": {
      "text/plain": [
       "(16, 16)"
      ]
     },
     "execution_count": 208,
     "metadata": {},
     "output_type": "execute_result"
    }
   ],
   "source": [
    "rho = cirq.density_matrix_from_state_vector(psi) # Build density matrix for entangled state.\n",
    "rho.shape"
   ]
  },
  {
   "cell_type": "code",
   "execution_count": 209,
   "metadata": {},
   "outputs": [
    {
     "name": "stdout",
     "output_type": "stream",
     "text": [
      "4\n"
     ]
    },
    {
     "data": {
      "image/svg+xml": [
       "<svg xmlns=\"http://www.w3.org/2000/svg\" width=\"249.095703125\" height=\"200.0\"><line x1=\"30.0\" x2=\"219.095703125\" y1=\"25.0\" y2=\"25.0\" stroke=\"#1967d2\" stroke-width=\"1\" /><line x1=\"30.0\" x2=\"219.095703125\" y1=\"75.0\" y2=\"75.0\" stroke=\"#1967d2\" stroke-width=\"1\" /><line x1=\"30.0\" x2=\"219.095703125\" y1=\"125.0\" y2=\"125.0\" stroke=\"#1967d2\" stroke-width=\"1\" /><line x1=\"30.0\" x2=\"219.095703125\" y1=\"175.0\" y2=\"175.0\" stroke=\"#1967d2\" stroke-width=\"1\" /><line x1=\"134.5478515625\" x2=\"134.5478515625\" y1=\"25.0\" y2=\"175.0\" stroke=\"black\" stroke-width=\"3\" /><rect x=\"10.0\" y=\"5.0\" width=\"40\" height=\"40\" stroke=\"black\" fill=\"white\" stroke-width=\"0\" /><text x=\"30.0\" y=\"25.0\" dominant-baseline=\"middle\" text-anchor=\"middle\" font-size=\"14px\" font-family=\"Arial\">0: </text><rect x=\"10.0\" y=\"55.0\" width=\"40\" height=\"40\" stroke=\"black\" fill=\"white\" stroke-width=\"0\" /><text x=\"30.0\" y=\"75.0\" dominant-baseline=\"middle\" text-anchor=\"middle\" font-size=\"14px\" font-family=\"Arial\">1: </text><rect x=\"10.0\" y=\"105.0\" width=\"40\" height=\"40\" stroke=\"black\" fill=\"white\" stroke-width=\"0\" /><text x=\"30.0\" y=\"125.0\" dominant-baseline=\"middle\" text-anchor=\"middle\" font-size=\"14px\" font-family=\"Arial\">2: </text><rect x=\"10.0\" y=\"155.0\" width=\"40\" height=\"40\" stroke=\"black\" fill=\"white\" stroke-width=\"0\" /><text x=\"30.0\" y=\"175.0\" dominant-baseline=\"middle\" text-anchor=\"middle\" font-size=\"14px\" font-family=\"Arial\">3: </text><rect x=\"70.0\" y=\"5.0\" width=\"129.095703125\" height=\"40\" stroke=\"black\" fill=\"white\" stroke-width=\"1\" /><text x=\"134.5478515625\" y=\"25.0\" dominant-baseline=\"middle\" text-anchor=\"middle\" font-size=\"14px\" font-family=\"Arial\">StatePreparation[1]</text><rect x=\"70.0\" y=\"55.0\" width=\"129.095703125\" height=\"40\" stroke=\"black\" fill=\"white\" stroke-width=\"1\" /><text x=\"134.5478515625\" y=\"75.0\" dominant-baseline=\"middle\" text-anchor=\"middle\" font-size=\"14px\" font-family=\"Arial\">StatePreparation[2]</text><rect x=\"70.0\" y=\"105.0\" width=\"129.095703125\" height=\"40\" stroke=\"black\" fill=\"white\" stroke-width=\"1\" /><text x=\"134.5478515625\" y=\"125.0\" dominant-baseline=\"middle\" text-anchor=\"middle\" font-size=\"14px\" font-family=\"Arial\">StatePreparation[3]</text><rect x=\"70.0\" y=\"155.0\" width=\"129.095703125\" height=\"40\" stroke=\"black\" fill=\"white\" stroke-width=\"1\" /><text x=\"134.5478515625\" y=\"175.0\" dominant-baseline=\"middle\" text-anchor=\"middle\" font-size=\"14px\" font-family=\"Arial\">StatePreparation[4]</text></svg>"
      ],
      "text/plain": [
       "<cirq.contrib.svg.svg.SVGCircuit at 0x147a695d0>"
      ]
     },
     "execution_count": 209,
     "metadata": {},
     "output_type": "execute_result"
    }
   ],
   "source": [
    "qubits = cirq.LineQubit.range(n_agents * d_qubits)\n",
    "print(len(qubits))\n",
    "circuit_prep = cirq.Circuit()\n",
    "circuit_prep.append(cirq.StatePreparationChannel(target_state=psi)(*qubits))\n",
    "\n",
    "SVGCircuit(circuit_prep)"
   ]
  },
  {
   "cell_type": "code",
   "execution_count": 210,
   "metadata": {},
   "outputs": [
    {
     "data": {
      "text/plain": [
       "(16, 16)"
      ]
     },
     "execution_count": 210,
     "metadata": {},
     "output_type": "execute_result"
    }
   ],
   "source": [
    "rho_prep = cirq.final_density_matrix(circuit_prep)\n",
    "rho_prep.shape"
   ]
  },
  {
   "cell_type": "code",
   "execution_count": 211,
   "metadata": {},
   "outputs": [
    {
     "data": {
      "text/plain": [
       "True"
      ]
     },
     "execution_count": 211,
     "metadata": {},
     "output_type": "execute_result"
    }
   ],
   "source": [
    "np.allclose(rho_prep, rho)"
   ]
  },
  {
   "cell_type": "code",
   "execution_count": 212,
   "metadata": {},
   "outputs": [],
   "source": [
    "def extract_unitary_from_parameterized_circuit(\n",
    "    circuit: cirq.Circuit,\n",
    "    symbol_list: list[list[list[sympy.Symbol]]] = None,\n",
    "    symbol_resolver_fn: Callable[..., dict] = None,\n",
    "    ) -> np.ndarray:\n",
    "    \"\"\"Constructs a unitary matrix that represents the given circuit.\n",
    "    \n",
    "    Provided circuit can either be parameterized or static (i.e., no symbols). If parameterized, then a symbol list and symbol resolver function is required.\n",
    "    \"\"\"\n",
    "\n",
    "    # Default resolver returns empty dictionary.\n",
    "    if symbol_resolver_fn is None:\n",
    "        symbol_resolver_fn = lambda *args, **kwargs: {}\n",
    "\n",
    "    # Resolve symbols to concrete values.\n",
    "    symbol_dict = symbol_resolver_fn(symbol_list)\n",
    "\n",
    "    # Create a new circuit with concrete parameter values.\n",
    "    circuit_resolved = cirq.resolve_parameters(circuit, param_resolver=cirq.ParamResolver(symbol_dict))\n",
    "\n",
    "    # Extract unitary from resolved circuit.\n",
    "    U = cirq.unitary(circuit_resolved)\n",
    "    return U"
   ]
  },
  {
   "cell_type": "code",
   "execution_count": 213,
   "metadata": {},
   "outputs": [],
   "source": [
    "# Extract unitary from parameterized circuit.\n",
    "U_new = extract_unitary_from_parameterized_circuit(circuit, symbols, symbol_resolver_fn=ParamResolverRandomThetaRandomS())"
   ]
  },
  {
   "cell_type": "code",
   "execution_count": 214,
   "metadata": {},
   "outputs": [],
   "source": [
    "# Extract unitary from static circuit (no symbols).\n",
    "U_new = extract_unitary_from_parameterized_circuit(circuit_resolved)"
   ]
  },
  {
   "cell_type": "code",
   "execution_count": 215,
   "metadata": {},
   "outputs": [
    {
     "data": {
      "text/plain": [
       "True"
      ]
     },
     "execution_count": 215,
     "metadata": {},
     "output_type": "execute_result"
    }
   ],
   "source": [
    "np.allclose(U_new, U)"
   ]
  },
  {
   "cell_type": "code",
   "execution_count": null,
   "metadata": {},
   "outputs": [],
   "source": []
  }
 ],
 "metadata": {
  "kernelspec": {
   "display_name": "quantum",
   "language": "python",
   "name": "python3"
  },
  "language_info": {
   "codemirror_mode": {
    "name": "ipython",
    "version": 3
   },
   "file_extension": ".py",
   "mimetype": "text/x-python",
   "name": "python",
   "nbconvert_exporter": "python",
   "pygments_lexer": "ipython3",
   "version": "3.11.0"
  }
 },
 "nbformat": 4,
 "nbformat_minor": 2
}
