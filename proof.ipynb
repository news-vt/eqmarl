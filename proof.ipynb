{
 "cells": [
  {
   "cell_type": "code",
   "execution_count": 11,
   "metadata": {},
   "outputs": [
    {
     "name": "stdout",
     "output_type": "stream",
     "text": [
      "The autoreload extension is already loaded. To reload it, use:\n",
      "  %reload_ext autoreload\n"
     ]
    }
   ],
   "source": [
    "%load_ext autoreload\n",
    "%autoreload 2"
   ]
  },
  {
   "cell_type": "code",
   "execution_count": 47,
   "metadata": {},
   "outputs": [],
   "source": [
    "from eqmarl import *\n",
    "import pennylane as qml\n",
    "import numpy as np\n",
    "import functools as ft\n",
    "import collections as cl\n",
    "import matplotlib.pyplot as plt\n",
    "from pprint import pprint\n",
    "from scipy.optimize import minimize"
   ]
  },
  {
   "cell_type": "code",
   "execution_count": 13,
   "metadata": {},
   "outputs": [],
   "source": [
    "def expectedValueOfObservable(psi, obs):\n",
    "    return np.transpose(np.conjugate(psi)) @ obs @ psi\n",
    "\n",
    "def kron(*args):\n",
    "    \"\"\"Kronecker product of a list of elements.\"\"\"\n",
    "    return ft.reduce(np.kron, args)"
   ]
  },
  {
   "cell_type": "code",
   "execution_count": 14,
   "metadata": {},
   "outputs": [],
   "source": [
    "def dagger(x):\n",
    "    \"\"\"Conjugate transpose.\"\"\"\n",
    "    return (x.conjugate()).transpose()\n",
    "\n",
    "def ket(*x):\n",
    "    \"\"\"|x0, x1, ...>\"\"\"\n",
    "    assert all(i in (0, 1) for i in x), 'ket only accepts binary 0 or 1'\n",
    "    x = [np.array([[0], [1]]) if i else np.array([[1], [0]]) for i in x]\n",
    "    x = kron(*x)\n",
    "    return x\n",
    "\n",
    "def bra(*x):\n",
    "    \"\"\"<x0, x1, ...|\"\"\"\n",
    "    assert all(i in (0, 1) for i in x), 'bra only accepts binary 0 or 1'\n",
    "    x = ket(*x)\n",
    "    return dagger(x)"
   ]
  },
  {
   "cell_type": "code",
   "execution_count": 15,
   "metadata": {},
   "outputs": [],
   "source": [
    "def bell(src=0, tgt=1, bellstate: Literal[0,1,2,3] = 0, nwires=2, op=qml.CNOT):\n",
    "    \"\"\"Matrix representation for circuit that creates a Bell state on the designated source and target qubits.\n",
    "    \n",
    "    Supply the `bellstate` argument to prepare a specific Bell state:\n",
    "    - 0 == Phi+\n",
    "    - 1 == Psi+\n",
    "    - 2 == Phi-\n",
    "    - 3 == Psi-\n",
    "    \n",
    "    The Bell state vector can be recovered by applying the dot product with the |0> state as follows:\n",
    "    >>> U = bell(0, 1, bellstate=0, nwires=2) # Creates matrix which generates Phi+\n",
    "    >>> U @ np.array([[1], [0], [0], [0]]) # Dot product with |00>\n",
    "    array([[0.70710678],\n",
    "       [0.        ],\n",
    "       [0.        ],\n",
    "       [0.70710678]])\n",
    "    \"\"\"\n",
    "    def circuit():\n",
    "        match bellstate:\n",
    "            case 1: # 01\n",
    "                qml.PauliX(wires=tgt)\n",
    "            case 2: # 10\n",
    "                qml.PauliX(wires=src)\n",
    "            case 3: # 11\n",
    "                qml.PauliX(wires=tgt)\n",
    "                qml.PauliX(wires=src)\n",
    "            case _: # 00\n",
    "                pass\n",
    "        qml.Hadamard(wires=src)\n",
    "        op(wires=[src, tgt])\n",
    "    return qml.matrix(circuit, wire_order=range(nwires))()\n",
    "\n",
    "\n",
    "def ghz(src: int = 0, tgt: list[int] = 1, bellstate: Literal[0,1,2,3] = 0, nwires=2, op=qml.CNOT):\n",
    "    \n",
    "    if isinstance(tgt, int):\n",
    "        tgt = [tgt]\n",
    "    \n",
    "    def circuit():\n",
    "        if bellstate in (2, 3):\n",
    "            qml.PauliX(wires=src)\n",
    "        qml.Hadamard(wires=src)\n",
    "        for t in tgt:\n",
    "            if bellstate in (1, 3):\n",
    "                qml.PauliX(wires=t)\n",
    "            op(wires=[src, t])\n",
    "    return qml.matrix(circuit, wire_order=range(nwires))()\n"
   ]
  },
  {
   "cell_type": "code",
   "execution_count": 16,
   "metadata": {},
   "outputs": [],
   "source": [
    "# Get matrix representations of Pauli operators and other common gates.\n",
    "X = qml.matrix(qml.PauliX(wires=0))\n",
    "Y = qml.matrix(qml.PauliY(wires=0))\n",
    "Z = qml.matrix(qml.PauliZ(wires=0))\n",
    "H = qml.matrix(qml.Hadamard(wires=0))\n",
    "I = qml.matrix(qml.Identity(wires=0))\n",
    "CNOT = lambda src=0, tgt=1, nwires=2: qml.matrix(qml.CNOT(wires=[src, tgt]), wire_order=range(nwires)) # CNOT(source, target, number_of_wires)\n",
    "CZ = lambda src=0, tgt=1, nwires=2: qml.matrix(qml.CZ(wires=[src, tgt]), wire_order=range(nwires)) # CZ(source, target, number_of_wires)"
   ]
  },
  {
   "cell_type": "code",
   "execution_count": 17,
   "metadata": {},
   "outputs": [],
   "source": [
    "# Matrices that create specific bell states on 2 qubits next-neighbor style (source is qubit 0, target is qubit 1).\n",
    "bell_phi_plus = bell(src=0, tgt=1, bellstate=0, nwires=2)\n",
    "bell_psi_plus = bell(src=0, tgt=1, bellstate=1, nwires=2)\n",
    "bell_phi_minus = bell(src=0, tgt=1, bellstate=2, nwires=2)\n",
    "bell_psi_minus = bell(src=0, tgt=1, bellstate=3, nwires=2)"
   ]
  },
  {
   "cell_type": "code",
   "execution_count": 18,
   "metadata": {},
   "outputs": [
    {
     "data": {
      "text/plain": [
       "array([[1.]])"
      ]
     },
     "execution_count": 18,
     "metadata": {},
     "output_type": "execute_result"
    }
   ],
   "source": [
    "# O = kron(Z, I)\n",
    "# O = kron(I, Z)\n",
    "O = kron(Z, Z)\n",
    "s = bell_phi_plus@ket(0,0)\n",
    "\n",
    "expectedValueOfObservable(s, O)"
   ]
  },
  {
   "cell_type": "code",
   "execution_count": 19,
   "metadata": {},
   "outputs": [
    {
     "data": {
      "text/plain": [
       "array([[-1]])"
      ]
     },
     "execution_count": 19,
     "metadata": {},
     "output_type": "execute_result"
    }
   ],
   "source": [
    "O = Z\n",
    "\n",
    "# s = H @ ket(0)\n",
    "s = ket(1)\n",
    "\n",
    "expectedValueOfObservable(s, O)"
   ]
  },
  {
   "cell_type": "markdown",
   "metadata": {},
   "source": [
    "## Circuit Tests"
   ]
  },
  {
   "cell_type": "markdown",
   "metadata": {},
   "source": [
    "### 2 Agents"
   ]
  },
  {
   "cell_type": "code",
   "execution_count": 20,
   "metadata": {},
   "outputs": [
    {
     "name": "stdout",
     "output_type": "stream",
     "text": [
      "0: ─╭VariationalEncodingPQC─┤  \n",
      "1: ─╰VariationalEncodingPQC─┤  \n",
      "2: ─╭VariationalEncodingPQC─┤  \n",
      "3: ─╰VariationalEncodingPQC─┤  \n"
     ]
    }
   ],
   "source": [
    "n_agents = 2\n",
    "d_qubits = 2\n",
    "n_layers = 1\n",
    "\n",
    "circuit = MARLCircuit(\n",
    "    n_agents=n_agents,\n",
    "    d_qubits=d_qubits,\n",
    "    n_layers=n_layers,\n",
    "    )\n",
    "\n",
    "weight_shapes = circuit.weight_shapes\n",
    "\n",
    "agents_var_thetas = np.random.uniform(0, 2*np.pi, size=weight_shapes['agents_var_thetas'])\n",
    "agents_enc_inputs = np.random.uniform(0, 2*np.pi, size=weight_shapes['agents_enc_inputs'])\n",
    "\n",
    "print(qml.draw(circuit, wire_order=circuit.wires)(agents_var_thetas, agents_enc_inputs))\n",
    "\n",
    "\n",
    "# System unitary (all agents).\n",
    "U = qml.matrix(circuit, wire_order=circuit.wires)(agents_var_thetas, agents_enc_inputs)"
   ]
  },
  {
   "cell_type": "code",
   "execution_count": 29,
   "metadata": {},
   "outputs": [],
   "source": [
    "obs = [\n",
    "    kron(Z, I, I, I),\n",
    "    kron(I, Z, I, I),\n",
    "    kron(Z, Z, I, I),\n",
    "    \n",
    "    # kron(Z, I, Z, I),\n",
    "    # kron(I, Z, I, Z),\n",
    "    # kron(Z, Z, Z, Z),\n",
    "    #\n",
    "    kron(I, I, Z, I),\n",
    "    kron(I, I, I, Z),\n",
    "    kron(I, I, Z, Z),\n",
    "    \n",
    "    # kron(Z, I, Z, I),\n",
    "    # kron(I, Z, I, Z),\n",
    "    # kron(Z, Z, Z, Z),\n",
    "    ]\n",
    "n_obs = len(obs)\n",
    "n_obs_per_agent = int(n_obs / 2)"
   ]
  },
  {
   "cell_type": "markdown",
   "metadata": {},
   "source": [
    "#### Minimization using Scipy"
   ]
  },
  {
   "cell_type": "code",
   "execution_count": 55,
   "metadata": {},
   "outputs": [
    {
     "name": "stderr",
     "output_type": "stream",
     "text": [
      "/usr/local/Caskroom/miniforge/base/envs/qml/lib/python3.11/site-packages/scipy/optimize/_hessian_update_strategy.py:182: UserWarning: delta_grad == 0.0. Check if the approximated function is linear. If the function is linear better results can be obtained by defining the Hessian as zero instead of using quasi-Newton approximations.\n",
      "  warn('delta_grad == 0.0. Check if the approximated '\n"
     ]
    },
    {
     "data": {
      "text/plain": [
       "          message: `xtol` termination condition is satisfied.\n",
       "          success: True\n",
       "           status: 2\n",
       "              fun: 1.3167849018114186e-07\n",
       "                x: [ 6.770e-01 -9.340e-02 ... -1.227e-01  7.748e-02]\n",
       "              nit: 173\n",
       "             nfev: 4624\n",
       "             njev: 272\n",
       "             nhev: 0\n",
       "         cg_niter: 273\n",
       "     cg_stop_cond: 2\n",
       "             grad: [ 1.697e-01 -2.270e-01 ...  9.890e-02 -1.143e-01]\n",
       "  lagrangian_grad: [-1.379e-01 -1.846e-01 ...  1.546e-01 -1.495e-01]\n",
       "           constr: [array([-1.452e-13])]\n",
       "              jac: [array([[-1.354e+00,  1.868e-01, ...,  2.454e-01,\n",
       "                           -1.550e-01]])]\n",
       "      constr_nfev: [4624]\n",
       "      constr_njev: [0]\n",
       "      constr_nhev: [0]\n",
       "                v: [array([ 2.272e-01])]\n",
       "           method: equality_constrained_sqp\n",
       "       optimality: 0.785293463612101\n",
       " constr_violation: 1.4521717162097048e-13\n",
       "   execution_time: 36.392040967941284\n",
       "        tr_radius: 5.5878917959741595e-09\n",
       "   constr_penalty: 1.0\n",
       "            niter: 173"
      ]
     },
     "execution_count": 55,
     "metadata": {},
     "output_type": "execute_result"
    }
   ],
   "source": [
    "def min_func(psi, agents_var_thetas, agents_enc_inputs):\n",
    "    # minimize the sum of absolute differences between expected values of observables.\n",
    "\n",
    "    U = qml.matrix(circuit, wire_order=circuit.wires)(agents_var_thetas, agents_enc_inputs)\n",
    "    \n",
    "    state = U @ psi.reshape((16,1))\n",
    "    \n",
    "    E = expectedValueOfObservable(state, obs)\n",
    "    diffs = np.array([np.abs(E[i]-E[i+n_obs_per_agent]) for i in range(n_obs_per_agent)])\n",
    "    sum_diffs = np.sum(diffs)\n",
    "    return sum_diffs\n",
    "\n",
    "def norm_constraint(psi):\n",
    "    # return 1. - np.abs(psi)**2.\n",
    "    return 1. - np.linalg.norm(psi)\n",
    "\n",
    "\n",
    "\n",
    "agents_var_thetas = np.random.uniform(0, 2*np.pi, size=weight_shapes['agents_var_thetas'])\n",
    "agents_enc_inputs = np.random.uniform(0, 2*np.pi, size=weight_shapes['agents_enc_inputs'])\n",
    "\n",
    "psi_0 = ket(0,0,0,0).flatten()\n",
    "\n",
    "cons = {'type': 'eq', 'fun': norm_constraint}\n",
    "\n",
    "res = minimize(\n",
    "    fun=lambda psi: min_func(psi, agents_var_thetas, agents_enc_inputs),\n",
    "    x0=psi_0,\n",
    "    method='trust-constr',\n",
    "    constraints=cons,\n",
    "    )\n",
    "res"
   ]
  },
  {
   "cell_type": "code",
   "execution_count": 74,
   "metadata": {},
   "outputs": [
    {
     "data": {
      "text/plain": [
       "array([[[-0.12185514+0.j]],\n",
       "\n",
       "       [[ 0.56710934+0.j]],\n",
       "\n",
       "       [[-0.49663275+0.j]],\n",
       "\n",
       "       [[-0.12185506+0.j]],\n",
       "\n",
       "       [[ 0.56710934+0.j]],\n",
       "\n",
       "       [[-0.4966328 +0.j]]])"
      ]
     },
     "execution_count": 74,
     "metadata": {},
     "output_type": "execute_result"
    }
   ],
   "source": [
    "U = qml.matrix(circuit, wire_order=circuit.wires)(agents_var_thetas, agents_enc_inputs)\n",
    "state = U @ res.x.reshape((16,1))\n",
    "expectedValueOfObservable(state, obs)"
   ]
  },
  {
   "cell_type": "code",
   "execution_count": 75,
   "metadata": {},
   "outputs": [
    {
     "data": {
      "text/plain": [
       "1.3167849018114186e-07"
      ]
     },
     "execution_count": 75,
     "metadata": {},
     "output_type": "execute_result"
    }
   ],
   "source": [
    "min_func(res.x, agents_var_thetas, agents_enc_inputs)"
   ]
  },
  {
   "cell_type": "code",
   "execution_count": 85,
   "metadata": {},
   "outputs": [
    {
     "data": {
      "text/plain": [
       "2.4671554787637007"
      ]
     },
     "execution_count": 85,
     "metadata": {},
     "output_type": "execute_result"
    }
   ],
   "source": [
    "# Now try using random encoder inputs (simulates a random environment state).\n",
    "min_func(res.x, agents_var_thetas, np.random.uniform(0, 2*np.pi, size=weight_shapes['agents_enc_inputs']))"
   ]
  },
  {
   "cell_type": "code",
   "execution_count": 51,
   "metadata": {},
   "outputs": [
    {
     "data": {
      "text/plain": [
       "(16, 1)"
      ]
     },
     "execution_count": 51,
     "metadata": {},
     "output_type": "execute_result"
    }
   ],
   "source": [
    "psi_0.shape"
   ]
  },
  {
   "cell_type": "markdown",
   "metadata": {},
   "source": [
    "#### Resume before minimization"
   ]
  },
  {
   "cell_type": "code",
   "execution_count": null,
   "metadata": {},
   "outputs": [],
   "source": [
    "###############\n",
    "# Make a guess for the system unitary.\n",
    "agents_var_thetas = np.random.uniform(0, 2*np.pi, size=weight_shapes['agents_var_thetas'])\n",
    "agents_enc_inputs = np.random.uniform(0, 2*np.pi, size=weight_shapes['agents_enc_inputs'])\n",
    "U = qml.matrix(circuit, wire_order=circuit.wires)(agents_var_thetas, agents_enc_inputs)\n",
    "\n",
    "\n",
    "\n",
    "###############"
   ]
  },
  {
   "cell_type": "code",
   "execution_count": 22,
   "metadata": {},
   "outputs": [
    {
     "data": {
      "text/plain": [
       "(array([[[ 0.57591135+0.j]],\n",
       " \n",
       "        [[-0.23505438+0.j]],\n",
       " \n",
       "        [[-0.23967556+0.j]],\n",
       " \n",
       "        [[-0.81992053+0.j]],\n",
       " \n",
       "        [[-0.28459579+0.j]],\n",
       " \n",
       "        [[ 0.17702326+0.j]]]),\n",
       " array([[[ 1.39583188+0.j]],\n",
       " \n",
       "        [[ 0.04954141+0.j]],\n",
       " \n",
       "        [[-0.41669882+0.j]]]))"
      ]
     },
     "execution_count": 22,
     "metadata": {},
     "output_type": "execute_result"
    }
   ],
   "source": [
    "M = U @ ket(0,0,0,0) # |0> initial state\n",
    "\n",
    "# Expected value of observables w.r.t combined unitary M.\n",
    "E = expectedValueOfObservable(M, obs)\n",
    "\n",
    "# Difference between agent observables.\n",
    "diffs = np.array([E[i]-E[i+n_obs_per_agent] for i in range(n_obs_per_agent)])\n",
    "\n",
    "E, diffs"
   ]
  },
  {
   "cell_type": "code",
   "execution_count": 23,
   "metadata": {},
   "outputs": [
    {
     "data": {
      "text/plain": [
       "(array([[[-0.2319347 +0.j]],\n",
       " \n",
       "        [[ 0.34450437+0.j]],\n",
       " \n",
       "        [[ 0.14770661+0.j]],\n",
       " \n",
       "        [[ 0.13816775+0.j]],\n",
       " \n",
       "        [[-0.15996256+0.j]],\n",
       " \n",
       "        [[ 0.30900636+0.j]]]),\n",
       " array([[[-0.37010246+0.j]],\n",
       " \n",
       "        [[ 0.50446694+0.j]],\n",
       " \n",
       "        [[-0.16129975+0.j]]]))"
      ]
     },
     "execution_count": 23,
     "metadata": {},
     "output_type": "execute_result"
    }
   ],
   "source": [
    "B = kron(bell_phi_plus, bell_phi_plus) # Phi+ on [0,1] and [2,3]\n",
    "M = (U @ B) @ ket(0,0,0,0)\n",
    "\n",
    "# Expected value of observables w.r.t combined unitary M.\n",
    "E = expectedValueOfObservable(M, obs)\n",
    "\n",
    "# Difference between agent observables.\n",
    "diffs = np.array([E[i]-E[i+n_obs_per_agent] for i in range(n_obs_per_agent)])\n",
    "\n",
    "E, diffs"
   ]
  },
  {
   "cell_type": "code",
   "execution_count": 28,
   "metadata": {},
   "outputs": [
    {
     "data": {
      "text/plain": [
       "(array([[[-1.11022302e-16+0.j]],\n",
       " \n",
       "        [[-5.55111512e-17+0.j]],\n",
       " \n",
       "        [[ 1.11022302e-16+0.j]],\n",
       " \n",
       "        [[-5.96091429e-01+0.j]],\n",
       " \n",
       "        [[-5.08412773e-01+0.j]],\n",
       " \n",
       "        [[ 6.44779736e-01+0.j]],\n",
       " \n",
       "        [[-1.38777878e-17+0.j]],\n",
       " \n",
       "        [[ 1.66533454e-16+0.j]],\n",
       " \n",
       "        [[ 5.55111512e-17+0.j]],\n",
       " \n",
       "        [[-5.96091429e-01+0.j]],\n",
       " \n",
       "        [[-5.08412773e-01+0.j]],\n",
       " \n",
       "        [[ 6.44779736e-01+0.j]]]),\n",
       " array([[[-9.71445147e-17+0.j]],\n",
       " \n",
       "        [[-2.22044605e-16+0.j]],\n",
       " \n",
       "        [[ 5.55111512e-17+0.j]],\n",
       " \n",
       "        [[ 0.00000000e+00+0.j]],\n",
       " \n",
       "        [[ 0.00000000e+00+0.j]],\n",
       " \n",
       "        [[ 0.00000000e+00+0.j]]]))"
      ]
     },
     "execution_count": 28,
     "metadata": {},
     "output_type": "execute_result"
    }
   ],
   "source": [
    "B = bell(src=0, tgt=2, bellstate=0, nwires=4) @ bell(src=1, tgt=3, bellstate=0, nwires=4) # Phi+ on [0,2] and [1,3]\n",
    "\n",
    "M = (U @ B) @ ket(0,0,0,0)\n",
    "\n",
    "# Expected value of observables w.r.t combined unitary M.\n",
    "E = expectedValueOfObservable(M, obs)\n",
    "\n",
    "# Difference between agent observables.\n",
    "diffs = np.array([E[i]-E[i+n_obs_per_agent] for i in range(n_obs_per_agent)])\n",
    "\n",
    "E, diffs"
   ]
  },
  {
   "cell_type": "code",
   "execution_count": 16,
   "metadata": {},
   "outputs": [
    {
     "data": {
      "text/plain": [
       "(array([[[ 0.53960235+0.j]],\n",
       " \n",
       "        [[-0.02420637+0.j]],\n",
       " \n",
       "        [[-0.07486687+0.j]],\n",
       " \n",
       "        [[-0.05662746+0.j]],\n",
       " \n",
       "        [[-0.02072685+0.j]],\n",
       " \n",
       "        [[-0.05986937+0.j]]]),\n",
       " array([[[ 0.59622981+0.j]],\n",
       " \n",
       "        [[-0.00347952+0.j]],\n",
       " \n",
       "        [[-0.0149975 +0.j]]]))"
      ]
     },
     "execution_count": 16,
     "metadata": {},
     "output_type": "execute_result"
    }
   ],
   "source": [
    "B = ghz(src=0, tgt=[1,2,3], bellstate=0, nwires=4)\n",
    "M = (U @ B) @ ket(0,0,0,0)\n",
    "\n",
    "# Expected value of observables w.r.t combined unitary M.\n",
    "E = expectedValueOfObservable(M, obs)\n",
    "\n",
    "# Difference between agent observables.\n",
    "diffs = np.array([E[i]-E[i+n_obs_per_agent] for i in range(n_obs_per_agent)])\n",
    "\n",
    "E, diffs"
   ]
  },
  {
   "cell_type": "code",
   "execution_count": 17,
   "metadata": {},
   "outputs": [
    {
     "data": {
      "text/plain": [
       "(array([[[ 0.53960235+0.j]],\n",
       " \n",
       "        [[-0.02420637+0.j]],\n",
       " \n",
       "        [[-0.07486687+0.j]],\n",
       " \n",
       "        [[ 0.05662746+0.j]],\n",
       " \n",
       "        [[ 0.02072685+0.j]],\n",
       " \n",
       "        [[ 0.05986937+0.j]]]),\n",
       " array([[[ 0.48297489+0.j]],\n",
       " \n",
       "        [[-0.04493323+0.j]],\n",
       " \n",
       "        [[-0.13473624+0.j]]]))"
      ]
     },
     "execution_count": 17,
     "metadata": {},
     "output_type": "execute_result"
    }
   ],
   "source": [
    "B = ghz(src=2, tgt=[0,1,3], bellstate=3, nwires=4)\n",
    "M = (U @ B) @ ket(0,0,0,0)\n",
    "\n",
    "# Expected value of observables w.r.t combined unitary M.\n",
    "E = expectedValueOfObservable(M, obs)\n",
    "\n",
    "# Difference between agent observables.\n",
    "diffs = np.array([E[i]-E[i+n_obs_per_agent] for i in range(n_obs_per_agent)])\n",
    "\n",
    "E, diffs"
   ]
  },
  {
   "cell_type": "code",
   "execution_count": 18,
   "metadata": {},
   "outputs": [
    {
     "data": {
      "text/plain": [
       "(array([[[ 0.02868017+0.j]],\n",
       " \n",
       "        [[ 0.16849661+0.j]],\n",
       " \n",
       "        [[-0.00969959+0.j]],\n",
       " \n",
       "        [[-0.41763158+0.j]],\n",
       " \n",
       "        [[ 0.81833352+0.j]],\n",
       " \n",
       "        [[-0.29108864+0.j]]]),\n",
       " array([[[ 0.44631175+0.j]],\n",
       " \n",
       "        [[-0.6498369 +0.j]],\n",
       " \n",
       "        [[ 0.28138905+0.j]]]))"
      ]
     },
     "execution_count": 18,
     "metadata": {},
     "output_type": "execute_result"
    }
   ],
   "source": [
    "B = kron(bell(src=0, tgt=1, bellstate=0, nwires=2, op=qml.CZ), bell(src=0, tgt=1, bellstate=0, nwires=2, op=qml.CZ)) # Bell0 using CZ on [0,1] and [2,3]\n",
    "\n",
    "M = (U @ B) @ ket(0,0,0,0)\n",
    "\n",
    "# Expected value of observables w.r.t combined unitary M.\n",
    "E = expectedValueOfObservable(M, obs)\n",
    "\n",
    "# Difference between agent observables.\n",
    "diffs = np.array([E[i]-E[i+n_obs_per_agent] for i in range(n_obs_per_agent)])\n",
    "\n",
    "E, diffs"
   ]
  },
  {
   "cell_type": "code",
   "execution_count": 19,
   "metadata": {},
   "outputs": [
    {
     "data": {
      "text/plain": [
       "(array([[[ 0.02066119+0.j]],\n",
       " \n",
       "        [[ 0.98416679+0.j]],\n",
       " \n",
       "        [[ 0.02249712+0.j]],\n",
       " \n",
       "        [[-0.04611884+0.j]],\n",
       " \n",
       "        [[-0.01410682+0.j]],\n",
       " \n",
       "        [[-0.57803446+0.j]]]),\n",
       " array([[[0.06678003+0.j]],\n",
       " \n",
       "        [[0.9982736 +0.j]],\n",
       " \n",
       "        [[0.60053158+0.j]]]))"
      ]
     },
     "execution_count": 19,
     "metadata": {},
     "output_type": "execute_result"
    }
   ],
   "source": [
    "B = bell(src=0, tgt=2, bellstate=0, nwires=4, op=qml.CZ) @ bell(src=1, tgt=3, bellstate=0, nwires=4, op=qml.CZ) # Bell0 using CZ on [0,2] and [1,3]\n",
    "\n",
    "M = (U @ B) @ ket(0,0,0,0)\n",
    "\n",
    "# Expected value of observables w.r.t combined unitary M.\n",
    "E = expectedValueOfObservable(M, obs)\n",
    "\n",
    "# Difference between agent observables.\n",
    "diffs = np.array([E[i]-E[i+n_obs_per_agent] for i in range(n_obs_per_agent)])\n",
    "\n",
    "E, diffs"
   ]
  },
  {
   "cell_type": "code",
   "execution_count": 20,
   "metadata": {},
   "outputs": [],
   "source": [
    "eig_vals, eig_vects = cirq.unitary_eig(U)"
   ]
  },
  {
   "cell_type": "code",
   "execution_count": 21,
   "metadata": {},
   "outputs": [
    {
     "data": {
      "text/plain": [
       "(array([ 0.15320055+0.j,  0.73044966+0.j,  0.0634686 +0.j,  0.14960812+0.j,\n",
       "        -0.10223067+0.j,  0.29911848+0.j]),\n",
       " array([ 0.00359243+0.j,  0.83268033+0.j, -0.23564988+0.j]))"
      ]
     },
     "execution_count": 21,
     "metadata": {},
     "output_type": "execute_result"
    }
   ],
   "source": [
    "B = eig_vects[:,0]\n",
    "\n",
    "M = (U @ B)\n",
    "\n",
    "# Expected value of observables w.r.t combined unitary M.\n",
    "E = expectedValueOfObservable(M, obs)\n",
    "\n",
    "# Difference between agent observables.\n",
    "diffs = np.array([E[i]-E[i+n_obs_per_agent] for i in range(n_obs_per_agent)])\n",
    "\n",
    "E, diffs"
   ]
  },
  {
   "cell_type": "code",
   "execution_count": 22,
   "metadata": {},
   "outputs": [
    {
     "data": {
      "text/plain": [
       "(array([ 0.00754004+0.j,  0.3281781 +0.j, -0.05460231+0.j,  0.02643524+0.j,\n",
       "        -0.08119637+0.j, -0.22663555+0.j]),\n",
       " array([-0.0188952 +0.j,  0.40937447+0.j,  0.17203323+0.j]))"
      ]
     },
     "execution_count": 22,
     "metadata": {},
     "output_type": "execute_result"
    }
   ],
   "source": [
    "B = 1/np.sqrt(2) * eig_vects[:,0] + 1/np.sqrt(2) * eig_vects[:,-1]\n",
    "\n",
    "M = (U @ B)\n",
    "\n",
    "# Expected value of observables w.r.t combined unitary M.\n",
    "E = expectedValueOfObservable(M, obs)\n",
    "\n",
    "# Difference between agent observables.\n",
    "diffs = np.array([E[i]-E[i+n_obs_per_agent] for i in range(n_obs_per_agent)])\n",
    "\n",
    "E, diffs"
   ]
  },
  {
   "cell_type": "code",
   "execution_count": 23,
   "metadata": {},
   "outputs": [
    {
     "data": {
      "text/plain": [
       "(array([-0.06081745+0.j, -0.05733865+0.j,  0.09233038+0.j, -0.14839405+0.j,\n",
       "        -0.17701397+0.j,  0.41412872+0.j]),\n",
       " array([ 0.0875766 +0.j,  0.11967532+0.j, -0.32179834+0.j]))"
      ]
     },
     "execution_count": 23,
     "metadata": {},
     "output_type": "execute_result"
    }
   ],
   "source": [
    "B = 1/np.sqrt(eig_vects.shape[-1]) * np.sum(eig_vects, axis=-1)\n",
    "\n",
    "M = (U @ B)\n",
    "\n",
    "# Expected value of observables w.r.t combined unitary M.\n",
    "E = expectedValueOfObservable(M, obs)\n",
    "\n",
    "# Difference between agent observables.\n",
    "diffs = np.array([E[i]-E[i+n_obs_per_agent] for i in range(n_obs_per_agent)])\n",
    "\n",
    "E, diffs"
   ]
  },
  {
   "cell_type": "markdown",
   "metadata": {},
   "source": [
    "#### Try more than 1 layer using more complex observations."
   ]
  },
  {
   "cell_type": "code",
   "execution_count": 62,
   "metadata": {},
   "outputs": [
    {
     "name": "stdout",
     "output_type": "stream",
     "text": [
      "0: ─╭VariationalEncodingPQC─┤  \n",
      "1: ─╰VariationalEncodingPQC─┤  \n",
      "2: ─╭VariationalEncodingPQC─┤  \n",
      "3: ─╰VariationalEncodingPQC─┤  \n",
      "np.all(np.abs(E) < 1e-10)=True\n",
      "np.all(np.isclose(E, E[0]))=True\n",
      "np.count_nonzero(np.abs(E) < 1e-10)=30\n",
      "np.allclose(E_agent0, E_agent1)=True\n",
      "np.allclose(np.sign(np.abs(E_agent0)), np.sign(np.abs(E_agent1)))=True\n",
      "[(6.938893903907228e-18, 4.163336342344337e-17),\n",
      " (2.7755575615628914e-17, 3.885780586188048e-16),\n",
      " (4.440892098500626e-16, 3.885780586188048e-16),\n",
      " (5.553824967135427e-17, 8.326672684688674e-17),\n",
      " (2.0816681711721685e-16, 8.326672684688674e-17),\n",
      " (2.2898349882893854e-16, 2.0816681711721685e-16),\n",
      " (9.022155737465232e-17, 2.7755575615628914e-17),\n",
      " (1.6653345369377348e-16, 1.1102230246251565e-16),\n",
      " (9.71445146547012e-17, 1.249000902703301e-16),\n",
      " (4.163336342344337e-17, 1.6653345369377348e-16),\n",
      " (1.1102230246251565e-16, 2.393918396847994e-16),\n",
      " (1.3877787807814457e-16, 1.734723475976807e-16),\n",
      " (1.942890293094024e-16, 5.551115123125783e-17),\n",
      " (2.220717083251841e-16, 2.7755575615628914e-17),\n",
      " (3.5147361163297095e-17, 2.7755575615628914e-17)]\n",
      "Z @ I @ I @ I:\t(6.938893903907228e-18+0j)\n",
      "I @ Z @ I @ I:\t(-2.7755575615628914e-17+0j)\n",
      "Z @ Z @ I @ I:\t(4.440892098500626e-16+0j)\n",
      "X @ I @ I @ I:\t(5.551115123125783e-17-1.734723475976807e-18j)\n",
      "I @ X @ I @ I:\t(2.0816681711721685e-16+0j)\n",
      "X @ X @ I @ I:\t(2.2898349882893854e-16+0j)\n",
      "Y @ I @ I @ I:\t(-9.020562075079397e-17-1.695700466358851e-18j)\n",
      "I @ Y @ I @ I:\t(1.6653345369377348e-16+0j)\n",
      "Y @ Y @ I @ I:\t(9.71445146547012e-17+0j)\n",
      "Z @ X @ I @ I:\t(4.163336342344337e-17+0j)\n",
      "Z @ Y @ I @ I:\t(1.1102230246251565e-16+0j)\n",
      "X @ Y @ I @ I:\t(1.3877787807814457e-16+0j)\n",
      "X @ Z @ I @ I:\t(1.942890293094024e-16+0j)\n",
      "Y @ X @ I @ I:\t(2.220446049250313e-16+3.469446951953614e-18j)\n",
      "Y @ Z @ I @ I:\t(3.469446951953614e-17+5.624124954268238e-18j)\n",
      "I @ I @ Z @ I:\t(-4.163336342344337e-17+0j)\n",
      "I @ I @ I @ Z:\t(3.885780586188048e-16+0j)\n",
      "I @ I @ Z @ Z:\t(-3.885780586188048e-16+0j)\n",
      "I @ I @ X @ I:\t(8.326672684688674e-17+0j)\n",
      "I @ I @ I @ X:\t(8.326672684688674e-17+0j)\n",
      "I @ I @ X @ X:\t(2.0816681711721685e-16+0j)\n",
      "I @ I @ Y @ I:\t(-2.7755575615628914e-17+0j)\n",
      "I @ I @ I @ Y:\t(-1.1102230246251565e-16+0j)\n",
      "I @ I @ Y @ Y:\t(-1.249000902703301e-16+0j)\n",
      "I @ I @ Z @ X:\t(-1.6653345369377348e-16+0j)\n",
      "I @ I @ Z @ Y:\t(-2.393918396847994e-16+0j)\n",
      "I @ I @ X @ Y:\t(-1.734723475976807e-16+0j)\n",
      "I @ I @ X @ Z:\t(-5.551115123125783e-17+0j)\n",
      "I @ I @ Y @ X:\t(2.7755575615628914e-17+0j)\n",
      "I @ I @ Y @ Z:\t(2.7755575615628914e-17+0j)\n"
     ]
    }
   ],
   "source": [
    "names, obs = zip(*[\n",
    "    # Agent 1 observations\n",
    "    ## Z\n",
    "    ('Z @ I @ I @ I', kron(Z, I, I, I)),\n",
    "    ('I @ Z @ I @ I', kron(I, Z, I, I)),\n",
    "    ('Z @ Z @ I @ I', kron(Z, Z, I, I)),\n",
    "    ## X\n",
    "    ('X @ I @ I @ I', kron(X, I, I, I)),\n",
    "    ('I @ X @ I @ I', kron(I, X, I, I)),\n",
    "    ('X @ X @ I @ I', kron(X, X, I, I)),\n",
    "    ## Y\n",
    "    ('Y @ I @ I @ I', kron(Y, I, I, I)),\n",
    "    ('I @ Y @ I @ I', kron(I, Y, I, I)),\n",
    "    ('Y @ Y @ I @ I', kron(Y, Y, I, I)),\n",
    "    ## Z*\n",
    "    ('Z @ X @ I @ I', kron(Z, X, I, I)),\n",
    "    ('Z @ Y @ I @ I', kron(Z, Y, I, I)),\n",
    "    ## X*\n",
    "    ('X @ Y @ I @ I', kron(X, Y, I, I)),\n",
    "    ('X @ Z @ I @ I', kron(X, Z, I, I)),\n",
    "    ## Y*\n",
    "    ('Y @ X @ I @ I', kron(Y, X, I, I)),\n",
    "    ('Y @ Z @ I @ I', kron(Y, Z, I, I)),\n",
    "    # ----\n",
    "    # Agent 2 observations\n",
    "    ## Z\n",
    "    ('I @ I @ Z @ I', kron(I, I, Z, I)),\n",
    "    ('I @ I @ I @ Z', kron(I, I, I, Z)),\n",
    "    ('I @ I @ Z @ Z', kron(I, I, Z, Z)),\n",
    "    ## X\n",
    "    ('I @ I @ X @ I', kron(I, I, X, I)),\n",
    "    ('I @ I @ I @ X', kron(I, I, I, X)),\n",
    "    ('I @ I @ X @ X', kron(I, I, X, X)),\n",
    "    ## Y\n",
    "    ('I @ I @ Y @ I', kron(I, I, Y, I)),\n",
    "    ('I @ I @ I @ Y', kron(I, I, I, Y)),\n",
    "    ('I @ I @ Y @ Y', kron(I, I, Y, Y)),\n",
    "    ## Z*\n",
    "    ('I @ I @ Z @ X', kron(I, I, Z, X)),\n",
    "    ('I @ I @ Z @ Y', kron(I, I, Z, Y)),\n",
    "    ## X*\n",
    "    ('I @ I @ X @ Y', kron(I, I, X, Y)),\n",
    "    ('I @ I @ X @ Z', kron(I, I, X, Z)),\n",
    "    ## Y*\n",
    "    ('I @ I @ Y @ X', kron(I, I, Y, X)),\n",
    "    ('I @ I @ Y @ Z', kron(I, I, Y, Z)),\n",
    "])\n",
    "n_obs = len(obs)\n",
    "n_obs_per_agent = int(n_obs / 2)\n",
    "\n",
    "n_agents = 2\n",
    "d_qubits = 2\n",
    "n_layers = 5\n",
    "\n",
    "circuit = MARLCircuit(\n",
    "    n_agents=n_agents,\n",
    "    d_qubits=d_qubits,\n",
    "    n_layers=n_layers,\n",
    "    )\n",
    "\n",
    "weight_shapes = circuit.weight_shapes\n",
    "\n",
    "agents_var_thetas = np.random.uniform(0, 2*np.pi, size=weight_shapes['agents_var_thetas'])\n",
    "agents_enc_inputs = np.random.uniform(0, 2*np.pi, size=weight_shapes['agents_enc_inputs'])\n",
    "\n",
    "print(qml.draw(circuit, wire_order=circuit.wires)(agents_var_thetas, agents_enc_inputs))\n",
    "\n",
    "\n",
    "# System unitary (all agents).\n",
    "U = qml.matrix(circuit, wire_order=circuit.wires)(agents_var_thetas, agents_enc_inputs)\n",
    "\n",
    "\n",
    "B = bell(src=0, tgt=2, bellstate=0, nwires=4) @ bell(src=1, tgt=3, bellstate=0, nwires=4) # Phi+ on [0,2] and [1,3]\n",
    "\n",
    "M = (U @ B) @ ket(0,0,0,0)\n",
    "\n",
    "# Expected value of observables w.r.t combined unitary M.\n",
    "E = expectedValueOfObservable(M, obs)\n",
    "E = E.flatten()\n",
    "\n",
    "# Difference between agent observables.\n",
    "diffs = np.array([E[i]-E[i+n_obs_per_agent] for i in range(n_obs_per_agent)])\n",
    "\n",
    "# Check if all expected values are near zero.\n",
    "print(f\"{np.all(np.abs(E) < 1e-10)=}\")\n",
    "\n",
    "# Check if all expected values are close to each other.\n",
    "print(f\"{np.all(np.isclose(E, E[0]))=}\")\n",
    "\n",
    "# Count number of expected values that are near zero.\n",
    "print(f\"{np.count_nonzero(np.abs(E) < 1e-10)=}\")\n",
    "\n",
    "# Compute each agent's observables.\n",
    "E_agent0 = E[:n_obs_per_agent]\n",
    "E_agent1 = E[n_obs_per_agent:]\n",
    "print(f\"{np.allclose(E_agent0, E_agent1)=}\")\n",
    "print(f\"{np.allclose(np.sign(np.abs(E_agent0)), np.sign(np.abs(E_agent1)))=}\")\n",
    "pprint(list(zip(np.abs(E_agent0), np.abs(E_agent1))))\n",
    "\n",
    "for i in range(len(names)):\n",
    "    print(f\"{names[i]}:\\t{E[i]}\")"
   ]
  },
  {
   "cell_type": "code",
   "execution_count": 57,
   "metadata": {},
   "outputs": [
    {
     "data": {
      "text/plain": [
       "(array([ 1.+0.j,  1.+0.j, -1.+0.j, -1.+0.j,  0.+0.j,  1.+0.j, -1.+0.j,\n",
       "         1.+0.j,  1.+0.j, -1.+0.j,  1.+0.j,  1.+0.j,  1.+0.j, -1.+0.j,\n",
       "        -1.+0.j]),\n",
       " (2+0j))"
      ]
     },
     "execution_count": 57,
     "metadata": {},
     "output_type": "execute_result"
    }
   ],
   "source": [
    "np.sign(E_agent0), np.sum(np.sign(E_agent0))\n",
    "# g0 = np.random.default_rng(seed=int(np.abs(np.sum(np.sign(E_agent0)))))\n",
    "# g0 = np.random\n",
    "\n",
    "# np.abs(E_agent0), np.abs(E_agent1)\n",
    "# np.sum(np.sign(E_agent0)), np.sum(np.sign(E_agent1))"
   ]
  },
  {
   "cell_type": "code",
   "execution_count": 63,
   "metadata": {},
   "outputs": [
    {
     "data": {
      "text/plain": [
       "array([6.93889390e-18, 2.77555756e-17, 4.44089210e-16, 5.55382497e-17,\n",
       "       2.08166817e-16, 2.28983499e-16, 9.02215574e-17, 1.66533454e-16,\n",
       "       9.71445147e-17, 4.16333634e-17, 1.11022302e-16, 1.38777878e-16,\n",
       "       1.94289029e-16, 2.22071708e-16, 3.51473612e-17])"
      ]
     },
     "execution_count": 63,
     "metadata": {},
     "output_type": "execute_result"
    }
   ],
   "source": [
    "np.abs(E_agent0)"
   ]
  },
  {
   "cell_type": "code",
   "execution_count": 64,
   "metadata": {},
   "outputs": [
    {
     "data": {
      "text/plain": [
       "array([4.16333634e-17, 3.88578059e-16, 3.88578059e-16, 8.32667268e-17,\n",
       "       8.32667268e-17, 2.08166817e-16, 2.77555756e-17, 1.11022302e-16,\n",
       "       1.24900090e-16, 1.66533454e-16, 2.39391840e-16, 1.73472348e-16,\n",
       "       5.55111512e-17, 2.77555756e-17, 2.77555756e-17])"
      ]
     },
     "execution_count": 64,
     "metadata": {},
     "output_type": "execute_result"
    }
   ],
   "source": [
    "np.abs(E_agent1)"
   ]
  },
  {
   "cell_type": "code",
   "execution_count": 84,
   "metadata": {},
   "outputs": [
    {
     "name": "stdout",
     "output_type": "stream",
     "text": [
      "0: ─╭VariationalEncodingPQC─┤  \n",
      "1: ─╰VariationalEncodingPQC─┤  \n",
      "2: ─╭VariationalEncodingPQC─┤  \n",
      "3: ─╰VariationalEncodingPQC─┤  \n",
      "np.all(np.abs(E) < 1e-10)=False\n",
      "np.all(np.isclose(E, E[0]))=False\n",
      "np.count_nonzero(np.abs(E) < 1e-10)=0\n",
      "np.allclose(E_agent0, E_agent1)=False\n",
      "np.allclose(np.sign(E_agent0), np.sign(E_agent1))=False\n",
      "Z @ I @ I @ I:\t(0.0430812176575156+0j)\n",
      "I @ Z @ I @ I:\t(-0.4347501432943999+0j)\n",
      "Z @ Z @ I @ I:\t(0.23323601120503115+0j)\n",
      "X @ I @ I @ I:\t(0.01590329278760294+0j)\n",
      "I @ X @ I @ I:\t(-0.5099065849201094+0j)\n",
      "X @ X @ I @ I:\t(0.01845596908575564+0j)\n",
      "Y @ I @ I @ I:\t(0.8243103332920383+5.240932188599463e-19j)\n",
      "I @ Y @ I @ I:\t(-0.4822696539996931+0j)\n",
      "Y @ Y @ I @ I:\t(-0.5877862194139776+0j)\n",
      "Z @ X @ I @ I:\t(-0.47440047562516996+0j)\n",
      "Z @ Y @ I @ I:\t(0.20200176115632384+0j)\n",
      "X @ Y @ I @ I:\t(-0.40582044837264397+0j)\n",
      "X @ Z @ I @ I:\t(0.3919510479649764+0j)\n",
      "Y @ X @ I @ I:\t(-0.5941480115831661-2.0816681711721685e-17j)\n",
      "Y @ Z @ I @ I:\t(-0.5471623109850017+2.4524201465507922e-20j)\n",
      "I @ I @ Z @ I:\t(-0.47118337680999967+0j)\n",
      "I @ I @ I @ Z:\t(0.437078206850843+0j)\n",
      "I @ I @ Z @ Z:\t(-0.8748734925692666+0j)\n",
      "I @ I @ X @ I:\t(-0.22763596840124717+0j)\n",
      "I @ I @ I @ X:\t(-0.19655978950022204+0j)\n",
      "I @ I @ X @ X:\t(0.8738654228165585+0j)\n",
      "I @ I @ Y @ I:\t(-0.011299440662706856+0j)\n",
      "I @ I @ I @ Y:\t(0.2104435228250513+0j)\n",
      "I @ I @ Y @ Y:\t(0.7626656996957117+0j)\n",
      "I @ I @ Z @ X:\t(-0.0057750247286122505+0j)\n",
      "I @ I @ Z @ Y:\t(-0.42733734873021645+0j)\n",
      "I @ I @ X @ Y:\t(-0.07778631714869039+0j)\n",
      "I @ I @ X @ Z:\t(-0.0903717861321418+0j)\n",
      "I @ I @ Y @ X:\t(0.031654963150383714+0j)\n",
      "I @ I @ Y @ Z:\t(-0.37882329010179305+0j)\n"
     ]
    }
   ],
   "source": [
    "names, obs = zip(*[\n",
    "    # Agent 1 observations\n",
    "    ## Z\n",
    "    ('Z @ I @ I @ I', kron(Z, I, I, I)),\n",
    "    ('I @ Z @ I @ I', kron(I, Z, I, I)),\n",
    "    ('Z @ Z @ I @ I', kron(Z, Z, I, I)),\n",
    "    ## X\n",
    "    ('X @ I @ I @ I', kron(X, I, I, I)),\n",
    "    ('I @ X @ I @ I', kron(I, X, I, I)),\n",
    "    ('X @ X @ I @ I', kron(X, X, I, I)),\n",
    "    ## Y\n",
    "    ('Y @ I @ I @ I', kron(Y, I, I, I)),\n",
    "    ('I @ Y @ I @ I', kron(I, Y, I, I)),\n",
    "    ('Y @ Y @ I @ I', kron(Y, Y, I, I)),\n",
    "    ## Z*\n",
    "    ('Z @ X @ I @ I', kron(Z, X, I, I)),\n",
    "    ('Z @ Y @ I @ I', kron(Z, Y, I, I)),\n",
    "    ## X*\n",
    "    ('X @ Y @ I @ I', kron(X, Y, I, I)),\n",
    "    ('X @ Z @ I @ I', kron(X, Z, I, I)),\n",
    "    ## Y*\n",
    "    ('Y @ X @ I @ I', kron(Y, X, I, I)),\n",
    "    ('Y @ Z @ I @ I', kron(Y, Z, I, I)),\n",
    "    # ----\n",
    "    # Agent 2 observations\n",
    "    ## Z\n",
    "    ('I @ I @ Z @ I', kron(I, I, Z, I)),\n",
    "    ('I @ I @ I @ Z', kron(I, I, I, Z)),\n",
    "    ('I @ I @ Z @ Z', kron(I, I, Z, Z)),\n",
    "    ## X\n",
    "    ('I @ I @ X @ I', kron(I, I, X, I)),\n",
    "    ('I @ I @ I @ X', kron(I, I, I, X)),\n",
    "    ('I @ I @ X @ X', kron(I, I, X, X)),\n",
    "    ## Y\n",
    "    ('I @ I @ Y @ I', kron(I, I, Y, I)),\n",
    "    ('I @ I @ I @ Y', kron(I, I, I, Y)),\n",
    "    ('I @ I @ Y @ Y', kron(I, I, Y, Y)),\n",
    "    ## Z*\n",
    "    ('I @ I @ Z @ X', kron(I, I, Z, X)),\n",
    "    ('I @ I @ Z @ Y', kron(I, I, Z, Y)),\n",
    "    ## X*\n",
    "    ('I @ I @ X @ Y', kron(I, I, X, Y)),\n",
    "    ('I @ I @ X @ Z', kron(I, I, X, Z)),\n",
    "    ## Y*\n",
    "    ('I @ I @ Y @ X', kron(I, I, Y, X)),\n",
    "    ('I @ I @ Y @ Z', kron(I, I, Y, Z)),\n",
    "])\n",
    "n_obs = len(obs)\n",
    "n_obs_per_agent = int(n_obs / 2)\n",
    "\n",
    "n_agents = 2\n",
    "d_qubits = 2\n",
    "n_layers = 5\n",
    "\n",
    "circuit = MARLCircuit(\n",
    "    n_agents=n_agents,\n",
    "    d_qubits=d_qubits,\n",
    "    n_layers=n_layers,\n",
    "    )\n",
    "\n",
    "weight_shapes = circuit.weight_shapes\n",
    "\n",
    "agents_var_thetas = np.random.uniform(0, 2*np.pi, size=weight_shapes['agents_var_thetas'])\n",
    "agents_enc_inputs = np.random.uniform(0, 2*np.pi, size=weight_shapes['agents_enc_inputs'])\n",
    "\n",
    "print(qml.draw(circuit, wire_order=circuit.wires)(agents_var_thetas, agents_enc_inputs))\n",
    "\n",
    "\n",
    "# System unitary (all agents).\n",
    "U = qml.matrix(circuit, wire_order=circuit.wires)(agents_var_thetas, agents_enc_inputs)\n",
    "\n",
    "\n",
    "# B = bell(src=0, tgt=2, bellstate=0, nwires=4) @ bell(src=1, tgt=3, bellstate=0, nwires=4) # Phi+ on [0,2] and [1,3]\n",
    "\n",
    "M = U @ ket(0,0,0,0)\n",
    "\n",
    "# Expected value of observables w.r.t combined unitary M.\n",
    "E = expectedValueOfObservable(M, obs)\n",
    "E = E.flatten()\n",
    "\n",
    "# Difference between agent observables.\n",
    "diffs = np.array([E[i]-E[i+n_obs_per_agent] for i in range(n_obs_per_agent)])\n",
    "\n",
    "# Check if all expected values are near zero.\n",
    "print(f\"{np.all(np.abs(E) < 1e-10)=}\")\n",
    "\n",
    "# Check if all expected values are close to each other.\n",
    "print(f\"{np.all(np.isclose(E, E[0]))=}\")\n",
    "\n",
    "# Count number of expected values that are near zero.\n",
    "print(f\"{np.count_nonzero(np.abs(E) < 1e-10)=}\")\n",
    "\n",
    "# Compute each agent's observables.\n",
    "E_agent0 = E[:n_obs_per_agent]\n",
    "E_agent1 = E[n_obs_per_agent:]\n",
    "print(f\"{np.allclose(E_agent0, E_agent1)=}\")\n",
    "print(f\"{np.allclose(np.sign(E_agent0), np.sign(E_agent1))=}\")\n",
    "\n",
    "for i in range(len(names)):\n",
    "    print(f\"{names[i]}:\\t{E[i]}\")"
   ]
  },
  {
   "cell_type": "code",
   "execution_count": 107,
   "metadata": {},
   "outputs": [
    {
     "data": {
      "text/plain": [
       "Text(0, 0.5, 'Count')"
      ]
     },
     "execution_count": 107,
     "metadata": {},
     "output_type": "execute_result"
    },
    {
     "data": {
      "image/png": "[encoded data removed]",
      "text/plain": [
       "<Figure size 640x480 with 1 Axes>"
      ]
     },
     "metadata": {},
     "output_type": "display_data"
    }
   ],
   "source": [
    "###\n",
    "### Plot the number of times the expected values of any of the observables are near zero using various initial states.\n",
    "### This is to show how often a near-zero expected value occurs.\n",
    "###\n",
    "\n",
    "names, obs = zip(*[\n",
    "    # Agent 1 observations\n",
    "    ## Z\n",
    "    ('Z @ I @ I @ I', kron(Z, I, I, I)),\n",
    "    ('I @ Z @ I @ I', kron(I, Z, I, I)),\n",
    "    ('Z @ Z @ I @ I', kron(Z, Z, I, I)),\n",
    "    ## X\n",
    "    ('X @ I @ I @ I', kron(X, I, I, I)),\n",
    "    ('I @ X @ I @ I', kron(I, X, I, I)),\n",
    "    ('X @ X @ I @ I', kron(X, X, I, I)),\n",
    "    ## Y\n",
    "    ('Y @ I @ I @ I', kron(Y, I, I, I)),\n",
    "    ('I @ Y @ I @ I', kron(I, Y, I, I)),\n",
    "    ('Y @ Y @ I @ I', kron(Y, Y, I, I)),\n",
    "    ## Z*\n",
    "    ('Z @ X @ I @ I', kron(Z, X, I, I)),\n",
    "    ('Z @ Y @ I @ I', kron(Z, Y, I, I)),\n",
    "    ## X*\n",
    "    ('X @ Y @ I @ I', kron(X, Y, I, I)),\n",
    "    ('X @ Z @ I @ I', kron(X, Z, I, I)),\n",
    "    ## Y*\n",
    "    ('Y @ X @ I @ I', kron(Y, X, I, I)),\n",
    "    ('Y @ Z @ I @ I', kron(Y, Z, I, I)),\n",
    "    # ----\n",
    "    # Agent 2 observations\n",
    "    ## Z\n",
    "    ('I @ I @ Z @ I', kron(I, I, Z, I)),\n",
    "    ('I @ I @ I @ Z', kron(I, I, I, Z)),\n",
    "    ('I @ I @ Z @ Z', kron(I, I, Z, Z)),\n",
    "    ## X\n",
    "    ('I @ I @ X @ I', kron(I, I, X, I)),\n",
    "    ('I @ I @ I @ X', kron(I, I, I, X)),\n",
    "    ('I @ I @ X @ X', kron(I, I, X, X)),\n",
    "    ## Y\n",
    "    ('I @ I @ Y @ I', kron(I, I, Y, I)),\n",
    "    ('I @ I @ I @ Y', kron(I, I, I, Y)),\n",
    "    ('I @ I @ Y @ Y', kron(I, I, Y, Y)),\n",
    "    ## Z*\n",
    "    ('I @ I @ Z @ X', kron(I, I, Z, X)),\n",
    "    ('I @ I @ Z @ Y', kron(I, I, Z, Y)),\n",
    "    ## X*\n",
    "    ('I @ I @ X @ Y', kron(I, I, X, Y)),\n",
    "    ('I @ I @ X @ Z', kron(I, I, X, Z)),\n",
    "    ## Y*\n",
    "    ('I @ I @ Y @ X', kron(I, I, Y, X)),\n",
    "    ('I @ I @ Y @ Z', kron(I, I, Y, Z)),\n",
    "])\n",
    "n_obs = len(obs)\n",
    "n_obs_per_agent = int(n_obs / 2)\n",
    "\n",
    "n_agents = 2\n",
    "d_qubits = 2\n",
    "n_layers = 5\n",
    "\n",
    "circuit = MARLCircuit(\n",
    "    n_agents=n_agents,\n",
    "    d_qubits=d_qubits,\n",
    "    n_layers=n_layers,\n",
    "    )\n",
    "\n",
    "weight_shapes = circuit.weight_shapes\n",
    "\n",
    "\n",
    "history = cl.defaultdict(list)\n",
    "for i in range(100):\n",
    "\n",
    "    agents_var_thetas = np.random.uniform(0, 2*np.pi, size=weight_shapes['agents_var_thetas'])\n",
    "    agents_enc_inputs = np.random.uniform(0, 2*np.pi, size=weight_shapes['agents_enc_inputs'])\n",
    "\n",
    "    # print(qml.draw(circuit, wire_order=circuit.wires)(agents_var_thetas, agents_enc_inputs))\n",
    "\n",
    "\n",
    "    # System unitary (all agents).\n",
    "    U = qml.matrix(circuit, wire_order=circuit.wires)(agents_var_thetas, agents_enc_inputs)\n",
    "\n",
    "\n",
    "    # GHZ initial state.\n",
    "    B = bell(src=0, tgt=2, bellstate=0, nwires=4) @ bell(src=1, tgt=3, bellstate=0, nwires=4) # Phi+ on [0,2] and [1,3]\n",
    "    M = (U @ B) @ ket(0,0,0,0)\n",
    "\n",
    "    # # Zero initial state.\n",
    "    # M = U @ ket(0,0,0,0)\n",
    "\n",
    "    # Expected value of observables w.r.t combined unitary M.\n",
    "    E = expectedValueOfObservable(M, obs)\n",
    "    E = E.flatten()\n",
    "\n",
    "    n_near_zero = np.count_nonzero(np.abs(E) < 1e-10)\n",
    "    \n",
    "    history['n_near_zero'].append(n_near_zero)\n",
    "\n",
    "plt.plot(history['n_near_zero'])\n",
    "plt.title('Number of expected values near zero using GHZ initial state\\n$|E| < 1e^{-10}$')\n",
    "plt.xlabel('Experiment Number')\n",
    "plt.ylabel('Count')"
   ]
  },
  {
   "cell_type": "markdown",
   "metadata": {},
   "source": [
    "### 3 Agents"
   ]
  },
  {
   "cell_type": "code",
   "execution_count": 240,
   "metadata": {},
   "outputs": [
    {
     "name": "stdout",
     "output_type": "stream",
     "text": [
      "0: ─╭VariationalEncodingPQC─┤  \n",
      "1: ─╰VariationalEncodingPQC─┤  \n",
      "2: ─╭VariationalEncodingPQC─┤  \n",
      "3: ─╰VariationalEncodingPQC─┤  \n",
      "4: ─╭VariationalEncodingPQC─┤  \n",
      "5: ─╰VariationalEncodingPQC─┤  \n"
     ]
    }
   ],
   "source": [
    "n_agents = 3\n",
    "d_qubits = 2\n",
    "n_layers = 1\n",
    "\n",
    "circuit = MARLCircuit(\n",
    "    n_agents=n_agents,\n",
    "    d_qubits=d_qubits,\n",
    "    n_layers=n_layers,\n",
    "    )\n",
    "\n",
    "weight_shapes = circuit.weight_shapes\n",
    "\n",
    "agents_var_thetas = np.random.uniform(0, 2*np.pi, size=weight_shapes['agents_var_thetas'])\n",
    "agents_enc_inputs = np.random.uniform(0, 2*np.pi, size=weight_shapes['agents_enc_inputs'])\n",
    "\n",
    "print(qml.draw(circuit, wire_order=circuit.wires)(agents_var_thetas, agents_enc_inputs))\n",
    "\n",
    "\n",
    "# System unitary (all agents).\n",
    "U = qml.matrix(circuit, wire_order=circuit.wires)(agents_var_thetas, agents_enc_inputs)"
   ]
  },
  {
   "cell_type": "code",
   "execution_count": 241,
   "metadata": {},
   "outputs": [],
   "source": [
    "obs = [\n",
    "    kron(Z, I, I, I, I, I),\n",
    "    kron(I, Z, I, I, I, I),\n",
    "    kron(Z, Z, I, I, I, I),\n",
    "    kron(I, I, Z, I, I, I),\n",
    "    kron(I, I, I, Z, I, I),\n",
    "    kron(I, I, Z, Z, I, I),\n",
    "    kron(I, I, I, I, Z, I),\n",
    "    kron(I, I, I, I, I, Z),\n",
    "    kron(I, I, I, I, Z, Z),\n",
    "    ]\n",
    "n_obs = len(obs)\n",
    "n_obs_per_agent = int(n_obs / 3)"
   ]
  },
  {
   "cell_type": "code",
   "execution_count": 243,
   "metadata": {},
   "outputs": [
    {
     "data": {
      "text/plain": [
       "(array([[[ 6.93889390e-17+0.j]],\n",
       " \n",
       "        [[-5.55111512e-17+0.j]],\n",
       " \n",
       "        [[-5.55111512e-17+0.j]],\n",
       " \n",
       "        [[-1.38777878e-17+0.j]],\n",
       " \n",
       "        [[-6.93889390e-17+0.j]],\n",
       " \n",
       "        [[-1.38777878e-17+0.j]],\n",
       " \n",
       "        [[-4.16333634e-17+0.j]],\n",
       " \n",
       "        [[-5.55111512e-17+0.j]],\n",
       " \n",
       "        [[ 1.04083409e-17+0.j]]]),\n",
       " array([[[ 1.11022302e-16+0.j]],\n",
       " \n",
       "        [[ 1.38777878e-17+0.j]],\n",
       " \n",
       "        [[-4.16333634e-17+0.j]]]))"
      ]
     },
     "execution_count": 243,
     "metadata": {},
     "output_type": "execute_result"
    }
   ],
   "source": [
    "B = ghz(src=0, tgt=[2,4], bellstate=3, nwires=6) @ ghz(src=1, tgt=[3,5], bellstate=3, nwires=6)\n",
    "\n",
    "M = (U @ B) @ ket(0,0,0,0,0,0)\n",
    "\n",
    "# Expected value of observables w.r.t combined unitary M.\n",
    "E = expectedValueOfObservable(M, obs)\n",
    "\n",
    "# Difference between agent observables (maximum difference between agents 0,1 and 0,2).\n",
    "diffs = np.array([max(E[i]-E[i+n_obs_per_agent], E[i]-E[i+2*n_obs_per_agent]) for i in range(n_obs_per_agent)])\n",
    "\n",
    "E, diffs"
   ]
  },
  {
   "cell_type": "markdown",
   "metadata": {},
   "source": [
    "## Simulations"
   ]
  },
  {
   "cell_type": "code",
   "execution_count": 92,
   "metadata": {},
   "outputs": [],
   "source": [
    "n_actions = 3\n",
    "n_agents = 3\n",
    "d_qubits = 2\n",
    "n_layers = 5\n",
    "shape_obs = (n_agents, n_actions,)\n",
    "\n",
    "observables = lambda wires: GroupedObservables(wires=wires, n_groups=n_agents, d_qubits=d_qubits, func=lambda wires: TensorObservables3(PauliObservables(wires=wires)))\n",
    "\n",
    "initial_state = lambda wires: entangle_agents_phi_plus(wires=wires, d=d_qubits, n=n_agents)\n",
    "# initial_state = None\n",
    "circuit = MARLCircuit(\n",
    "    n_agents=n_agents,\n",
    "    d_qubits=d_qubits,\n",
    "    n_layers=n_layers,\n",
    "    observables=observables,\n",
    "    initial_state=initial_state,\n",
    "    )\n",
    "\n",
    "qnode = circuit.qnode(device='default.qubit')\n",
    "\n",
    "weight_shapes = circuit.weight_shapes\n",
    "\n",
    "def run_batch(chunk_size):\n",
    "    agents_var_thetas = np.random.uniform(0, np.pi, size=(chunk_size, *weight_shapes['agents_var_thetas']))\n",
    "    agents_enc_inputs = np.random.uniform(0, np.pi, size=(chunk_size, *weight_shapes['agents_enc_inputs']))\n",
    "\n",
    "    meas = qnode(\n",
    "        agents_var_thetas=agents_var_thetas,\n",
    "        agents_enc_inputs=agents_enc_inputs,\n",
    "    )\n",
    "    meas = np.asarray(meas).T # Reshape so batch dimension is first.\n",
    "    meas = meas.reshape((-1, *shape_obs)) # Reshape to batched version of observation shape.\n",
    "    return meas\n",
    "\n",
    "func = lambda chunk_size: run_batch(chunk_size)\n",
    "\n",
    "x = batched_experiment(\n",
    "    func=func,\n",
    "    repetitions=100,\n",
    "    batch_size=32,\n",
    "    )"
   ]
  },
  {
   "cell_type": "code",
   "execution_count": 93,
   "metadata": {},
   "outputs": [
    {
     "name": "stdout",
     "output_type": "stream",
     "text": [
      "np.all(np.abs(x) < 1e-6)=True\n",
      "np.all(np.isclose(x, x[0][0]))=True\n",
      "np.count_nonzero(np.abs(x) < 1e-10)=900\n"
     ]
    }
   ],
   "source": [
    "# Check if all expected values are near zero.\n",
    "print(f\"{np.all(np.abs(x) < 1e-6)=}\")\n",
    "\n",
    "# Check if all expected values are close to each other.\n",
    "print(f\"{np.all(np.isclose(x, x[0][0]))=}\")\n",
    "\n",
    "# Count number of expected values that are near zero.\n",
    "print(f\"{np.count_nonzero(np.abs(x) < 1e-10)=}\")"
   ]
  },
  {
   "cell_type": "code",
   "execution_count": 94,
   "metadata": {},
   "outputs": [
    {
     "data": {
      "text/plain": [
       "array([[ 8.32667268e-16,  1.94289029e-16,  4.44089210e-16],\n",
       "       [ 3.33066907e-16,  1.11022302e-16, -5.55111512e-17],\n",
       "       [-5.55111512e-17,  3.33066907e-16,  2.77555756e-16]])"
      ]
     },
     "execution_count": 94,
     "metadata": {},
     "output_type": "execute_result"
    }
   ],
   "source": [
    "x[0]"
   ]
  },
  {
   "cell_type": "code",
   "execution_count": null,
   "metadata": {},
   "outputs": [],
   "source": []
  }
 ],
 "metadata": {
  "kernelspec": {
   "display_name": "qml",
   "language": "python",
   "name": "python3"
  },
  "language_info": {
   "codemirror_mode": {
    "name": "ipython",
    "version": 3
   },
   "file_extension": ".py",
   "mimetype": "text/x-python",
   "name": "python",
   "nbconvert_exporter": "python",
   "pygments_lexer": "ipython3",
   "version": "3.11.6"
  }
 },
 "nbformat": 4,
 "nbformat_minor": 2
}
