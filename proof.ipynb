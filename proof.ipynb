{
 "cells": [
  {
   "cell_type": "code",
   "execution_count": 1,
   "metadata": {},
   "outputs": [],
   "source": [
    "%load_ext autoreload\n",
    "%autoreload 2"
   ]
  },
  {
   "cell_type": "code",
   "execution_count": 63,
   "metadata": {},
   "outputs": [],
   "source": [
    "from eqmarl import *\n",
    "import pennylane as qml\n",
    "import numpy as np\n",
    "import functools as ft"
   ]
  },
  {
   "cell_type": "code",
   "execution_count": 64,
   "metadata": {},
   "outputs": [],
   "source": [
    "def expectedValueOfObservable(psi, obs):\n",
    "    return np.transpose(np.conjugate(psi)) @ obs @ psi\n",
    "\n",
    "def kron(*args):\n",
    "    \"\"\"Kronecker product of a list of elements.\"\"\"\n",
    "    return ft.reduce(np.kron, args)"
   ]
  },
  {
   "cell_type": "code",
   "execution_count": 104,
   "metadata": {},
   "outputs": [],
   "source": [
    "def dagger(x):\n",
    "    \"\"\"Conjugate transpose.\"\"\"\n",
    "    return (x.conjugate()).transpose()\n",
    "\n",
    "def ket(*x):\n",
    "    \"\"\"|x0, x1, ...>\"\"\"\n",
    "    assert all(i in (0, 1) for i in x), 'ket only accepts binary 0 or 1'\n",
    "    x = [np.array([[0], [1]]) if i else np.array([[1], [0]]) for i in x]\n",
    "    x = kron(*x)\n",
    "    return x\n",
    "\n",
    "def bra(*x):\n",
    "    \"\"\"<x0, x1, ...|\"\"\"\n",
    "    assert all(i in (0, 1) for i in x), 'bra only accepts binary 0 or 1'\n",
    "    x = ket(*x)\n",
    "    return dagger(x)"
   ]
  },
  {
   "cell_type": "code",
   "execution_count": 195,
   "metadata": {},
   "outputs": [],
   "source": [
    "def bell(src=0, tgt=1, bellstate: Literal[0,1,2,3] = 0, nwires=2, op=qml.CNOT):\n",
    "    \"\"\"Matrix representation for circuit that creates a Bell state on the designated source and target qubits.\n",
    "    \n",
    "    Supply the `bellstate` argument to prepare a specific Bell state:\n",
    "    - 0 == Phi+\n",
    "    - 1 == Psi+\n",
    "    - 2 == Phi-\n",
    "    - 3 == Psi-\n",
    "    \n",
    "    The Bell state vector can be recovered by applying the dot product with the |0> state as follows:\n",
    "    >>> U = bell(0, 1, bellstate=0, nwires=2) # Creates matrix which generates Phi+\n",
    "    >>> U @ np.array([[1], [0], [0], [0]]) # Dot product with |00>\n",
    "    array([[0.70710678],\n",
    "       [0.        ],\n",
    "       [0.        ],\n",
    "       [0.70710678]])\n",
    "    \"\"\"\n",
    "    def circuit():\n",
    "        match bellstate:\n",
    "            case 1: # 01\n",
    "                qml.PauliX(wires=tgt)\n",
    "            case 2: # 10\n",
    "                qml.PauliX(wires=src)\n",
    "            case 3: # 11\n",
    "                qml.PauliX(wires=tgt)\n",
    "                qml.PauliX(wires=src)\n",
    "            case _: # 00\n",
    "                pass\n",
    "        qml.Hadamard(wires=src)\n",
    "        op(wires=[src, tgt])\n",
    "    return qml.matrix(circuit, wire_order=range(nwires))()\n",
    "\n",
    "\n",
    "def ghz(src: int = 0, tgt: list[int] = 1, bellstate: Literal[0,1,2,3] = 0, nwires=2, op=qml.CNOT):\n",
    "    \n",
    "    if isinstance(tgt, int):\n",
    "        tgt = [tgt]\n",
    "    \n",
    "    def circuit():\n",
    "        if bellstate in (2, 3):\n",
    "            qml.PauliX(wires=src)\n",
    "        qml.Hadamard(wires=src)\n",
    "        for t in tgt:\n",
    "            if bellstate in (1, 3):\n",
    "                qml.PauliX(wires=t)\n",
    "            op(wires=[src, t])\n",
    "    return qml.matrix(circuit, wire_order=range(nwires))()\n"
   ]
  },
  {
   "cell_type": "code",
   "execution_count": 143,
   "metadata": {},
   "outputs": [],
   "source": [
    "# Get matrix representations of Pauli operators and other common gates.\n",
    "X = qml.matrix(qml.PauliX(wires=0))\n",
    "Y = qml.matrix(qml.PauliY(wires=0))\n",
    "Z = qml.matrix(qml.PauliZ(wires=0))\n",
    "H = qml.matrix(qml.Hadamard(wires=0))\n",
    "I = qml.matrix(qml.Identity(wires=0))\n",
    "CNOT = lambda src=0, tgt=1, nwires=2: qml.matrix(qml.CNOT(wires=[src, tgt]), wire_order=range(nwires)) # CNOT(source, target, number_of_wires)\n",
    "CZ = lambda src=0, tgt=1, nwires=2: qml.matrix(qml.CZ(wires=[src, tgt]), wire_order=range(nwires)) # CZ(source, target, number_of_wires)"
   ]
  },
  {
   "cell_type": "code",
   "execution_count": 196,
   "metadata": {},
   "outputs": [],
   "source": [
    "# Matrices that create specific bell states on 2 qubits next-neighbor style (source is qubit 0, target is qubit 1).\n",
    "bell_phi_plus = bell(src=0, tgt=1, bellstate=0, nwires=2)\n",
    "bell_psi_plus = bell(src=0, tgt=1, bellstate=1, nwires=2)\n",
    "bell_phi_minus = bell(src=0, tgt=1, bellstate=2, nwires=2)\n",
    "bell_psi_minus = bell(src=0, tgt=1, bellstate=3, nwires=2)"
   ]
  },
  {
   "cell_type": "code",
   "execution_count": 182,
   "metadata": {},
   "outputs": [
    {
     "name": "stdout",
     "output_type": "stream",
     "text": [
      "0: ─╭VariationalEncodingPQC─┤  \n",
      "1: ─╰VariationalEncodingPQC─┤  \n",
      "2: ─╭VariationalEncodingPQC─┤  \n",
      "3: ─╰VariationalEncodingPQC─┤  \n"
     ]
    }
   ],
   "source": [
    "n_agents = 2\n",
    "d_qubits = 2\n",
    "n_layers = 1\n",
    "\n",
    "circuit = MARLCircuit(\n",
    "    n_agents=n_agents,\n",
    "    d_qubits=d_qubits,\n",
    "    n_layers=n_layers,\n",
    "    )\n",
    "\n",
    "weight_shapes = circuit.weight_shapes\n",
    "\n",
    "agents_var_thetas = np.random.uniform(0, 2*np.pi, size=weight_shapes['agents_var_thetas'])\n",
    "agents_enc_inputs = np.random.uniform(0, 2*np.pi, size=weight_shapes['agents_enc_inputs'])\n",
    "\n",
    "print(qml.draw(circuit, wire_order=circuit.wires)(agents_var_thetas, agents_enc_inputs))\n",
    "\n",
    "\n",
    "# System unitary (all agents).\n",
    "U = qml.matrix(circuit, wire_order=circuit.wires)(agents_var_thetas, agents_enc_inputs)"
   ]
  },
  {
   "cell_type": "code",
   "execution_count": 203,
   "metadata": {},
   "outputs": [],
   "source": [
    "obs = [\n",
    "    kron(Z, I, I, I),\n",
    "    kron(I, Z, I, I),\n",
    "    kron(Z, Z, I, I),\n",
    "    kron(I, I, Z, I),\n",
    "    kron(I, I, I, Z),\n",
    "    kron(I, I, Z, Z),\n",
    "    ]\n",
    "n_obs = len(obs)\n",
    "n_obs_per_agent = int(n_obs / 2)"
   ]
  },
  {
   "cell_type": "code",
   "execution_count": 218,
   "metadata": {},
   "outputs": [
    {
     "data": {
      "text/plain": [
       "(array([[[-0.18761012+0.j]],\n",
       " \n",
       "        [[ 0.15938534+0.j]],\n",
       " \n",
       "        [[-0.11824798+0.j]],\n",
       " \n",
       "        [[-0.22005712+0.j]],\n",
       " \n",
       "        [[ 0.03948987+0.j]],\n",
       " \n",
       "        [[-0.03002138+0.j]]]),\n",
       " array([[[ 0.032447  +0.j]],\n",
       " \n",
       "        [[ 0.11989547+0.j]],\n",
       " \n",
       "        [[-0.0882266 +0.j]]]))"
      ]
     },
     "execution_count": 218,
     "metadata": {},
     "output_type": "execute_result"
    }
   ],
   "source": [
    "M = U @ ket(0,0,0,0) # |0> initial state\n",
    "\n",
    "# Expected value of observables w.r.t combined unitary M.\n",
    "E = expectedValueOfObservable(M, obs)\n",
    "\n",
    "# Difference between agent observables.\n",
    "diffs = np.array([E[i]-E[i+n_obs_per_agent] for i in range(n_obs_per_agent)])\n",
    "\n",
    "E, diffs"
   ]
  },
  {
   "cell_type": "code",
   "execution_count": 219,
   "metadata": {},
   "outputs": [
    {
     "data": {
      "text/plain": [
       "(array([[[-0.70911625+0.j]],\n",
       " \n",
       "        [[ 0.07179181+0.j]],\n",
       " \n",
       "        [[-0.12724351+0.j]],\n",
       " \n",
       "        [[ 0.45386768+0.j]],\n",
       " \n",
       "        [[ 0.15901161+0.j]],\n",
       " \n",
       "        [[-0.00454907+0.j]]]),\n",
       " array([[[-1.16298392+0.j]],\n",
       " \n",
       "        [[-0.08721981+0.j]],\n",
       " \n",
       "        [[-0.12269444+0.j]]]))"
      ]
     },
     "execution_count": 219,
     "metadata": {},
     "output_type": "execute_result"
    }
   ],
   "source": [
    "B = kron(bell_phi_plus, bell_phi_plus) # Phi+ on [0,1] and [2,3]\n",
    "M = (U @ B) @ ket(0,0,0,0)\n",
    "\n",
    "# Expected value of observables w.r.t combined unitary M.\n",
    "E = expectedValueOfObservable(M, obs)\n",
    "\n",
    "# Difference between agent observables.\n",
    "diffs = np.array([E[i]-E[i+n_obs_per_agent] for i in range(n_obs_per_agent)])\n",
    "\n",
    "E, diffs"
   ]
  },
  {
   "cell_type": "code",
   "execution_count": 220,
   "metadata": {},
   "outputs": [
    {
     "data": {
      "text/plain": [
       "(array([[[-1.52655666e-16+0.j]],\n",
       " \n",
       "        [[ 2.77555756e-17+0.j]],\n",
       " \n",
       "        [[ 5.55111512e-17+0.j]],\n",
       " \n",
       "        [[-1.66533454e-16+0.j]],\n",
       " \n",
       "        [[-8.32667268e-17+0.j]],\n",
       " \n",
       "        [[-5.55111512e-17+0.j]]]),\n",
       " array([[[1.38777878e-17+0.j]],\n",
       " \n",
       "        [[1.11022302e-16+0.j]],\n",
       " \n",
       "        [[1.11022302e-16+0.j]]]))"
      ]
     },
     "execution_count": 220,
     "metadata": {},
     "output_type": "execute_result"
    }
   ],
   "source": [
    "B = bell(src=0, tgt=2, bellstate=0, nwires=4) @ bell(src=1, tgt=3, bellstate=0, nwires=4) # Phi+ on [0,2] and [1,3]\n",
    "\n",
    "M = (U @ B) @ ket(0,0,0,0)\n",
    "\n",
    "# Expected value of observables w.r.t combined unitary M.\n",
    "E = expectedValueOfObservable(M, obs)\n",
    "\n",
    "# Difference between agent observables.\n",
    "diffs = np.array([E[i]-E[i+n_obs_per_agent] for i in range(n_obs_per_agent)])\n",
    "\n",
    "E, diffs"
   ]
  },
  {
   "cell_type": "code",
   "execution_count": 221,
   "metadata": {},
   "outputs": [
    {
     "data": {
      "text/plain": [
       "(array([[[ 0.06245469+0.j]],\n",
       " \n",
       "        [[ 0.39410024+0.j]],\n",
       " \n",
       "        [[ 0.2657979 +0.j]],\n",
       " \n",
       "        [[-0.2183963 +0.j]],\n",
       " \n",
       "        [[ 0.01837139+0.j]],\n",
       " \n",
       "        [[ 0.02608205+0.j]]]),\n",
       " array([[[0.28085099+0.j]],\n",
       " \n",
       "        [[0.37572885+0.j]],\n",
       " \n",
       "        [[0.23971586+0.j]]]))"
      ]
     },
     "execution_count": 221,
     "metadata": {},
     "output_type": "execute_result"
    }
   ],
   "source": [
    "B = ghz(src=0, tgt=[1,2,3], bellstate=0, nwires=4)\n",
    "M = (U @ B) @ ket(0,0,0,0)\n",
    "\n",
    "# Expected value of observables w.r.t combined unitary M.\n",
    "E = expectedValueOfObservable(M, obs)\n",
    "\n",
    "# Difference between agent observables.\n",
    "diffs = np.array([E[i]-E[i+n_obs_per_agent] for i in range(n_obs_per_agent)])\n",
    "\n",
    "E, diffs"
   ]
  },
  {
   "cell_type": "code",
   "execution_count": 222,
   "metadata": {},
   "outputs": [
    {
     "data": {
      "text/plain": [
       "(array([[[ 0.06245469+0.j]],\n",
       " \n",
       "        [[ 0.39410024+0.j]],\n",
       " \n",
       "        [[ 0.2657979 +0.j]],\n",
       " \n",
       "        [[ 0.2183963 +0.j]],\n",
       " \n",
       "        [[-0.01837139+0.j]],\n",
       " \n",
       "        [[-0.02608205+0.j]]]),\n",
       " array([[[-0.15594161+0.j]],\n",
       " \n",
       "        [[ 0.41247163+0.j]],\n",
       " \n",
       "        [[ 0.29187995+0.j]]]))"
      ]
     },
     "execution_count": 222,
     "metadata": {},
     "output_type": "execute_result"
    }
   ],
   "source": [
    "B = ghz(src=2, tgt=[0,1,3], bellstate=3, nwires=4)\n",
    "M = (U @ B) @ ket(0,0,0,0)\n",
    "\n",
    "# Expected value of observables w.r.t combined unitary M.\n",
    "E = expectedValueOfObservable(M, obs)\n",
    "\n",
    "# Difference between agent observables.\n",
    "diffs = np.array([E[i]-E[i+n_obs_per_agent] for i in range(n_obs_per_agent)])\n",
    "\n",
    "E, diffs"
   ]
  },
  {
   "cell_type": "code",
   "execution_count": 223,
   "metadata": {},
   "outputs": [
    {
     "data": {
      "text/plain": [
       "(array([[[-0.53881275+0.j]],\n",
       " \n",
       "        [[ 0.3194031 +0.j]],\n",
       " \n",
       "        [[-0.1619899 +0.j]],\n",
       " \n",
       "        [[-0.14426168+0.j]],\n",
       " \n",
       "        [[ 0.73252616+0.j]],\n",
       " \n",
       "        [[-0.05320409+0.j]]]),\n",
       " array([[[-0.39455107+0.j]],\n",
       " \n",
       "        [[-0.41312306+0.j]],\n",
       " \n",
       "        [[-0.10878582+0.j]]]))"
      ]
     },
     "execution_count": 223,
     "metadata": {},
     "output_type": "execute_result"
    }
   ],
   "source": [
    "B = kron(bell(src=0, tgt=1, bellstate=0, nwires=2, op=qml.CZ), bell(src=0, tgt=1, bellstate=0, nwires=2, op=qml.CZ)) # Bell0 using CZ on [0,1] and [2,3]\n",
    "\n",
    "M = (U @ B) @ ket(0,0,0,0)\n",
    "\n",
    "# Expected value of observables w.r.t combined unitary M.\n",
    "E = expectedValueOfObservable(M, obs)\n",
    "\n",
    "# Difference between agent observables.\n",
    "diffs = np.array([E[i]-E[i+n_obs_per_agent] for i in range(n_obs_per_agent)])\n",
    "\n",
    "E, diffs"
   ]
  },
  {
   "cell_type": "code",
   "execution_count": 224,
   "metadata": {},
   "outputs": [
    {
     "data": {
      "text/plain": [
       "(array([[[-0.52618419+0.j]],\n",
       " \n",
       "        [[-0.59077723+0.j]],\n",
       " \n",
       "        [[ 0.23428383+0.j]],\n",
       " \n",
       "        [[-0.22005712+0.j]],\n",
       " \n",
       "        [[ 0.03948987+0.j]],\n",
       " \n",
       "        [[-0.03002138+0.j]]]),\n",
       " array([[[-0.30612707+0.j]],\n",
       " \n",
       "        [[-0.6302671 +0.j]],\n",
       " \n",
       "        [[ 0.26430521+0.j]]]))"
      ]
     },
     "execution_count": 224,
     "metadata": {},
     "output_type": "execute_result"
    }
   ],
   "source": [
    "B = bell(src=0, tgt=2, bellstate=0, nwires=4, op=qml.CZ) @ bell(src=1, tgt=3, bellstate=0, nwires=4, op=qml.CZ) # Bell0 using CZ on [0,2] and [1,3]\n",
    "\n",
    "M = (U @ B) @ ket(0,0,0,0)\n",
    "\n",
    "# Expected value of observables w.r.t combined unitary M.\n",
    "E = expectedValueOfObservable(M, obs)\n",
    "\n",
    "# Difference between agent observables.\n",
    "diffs = np.array([E[i]-E[i+n_obs_per_agent] for i in range(n_obs_per_agent)])\n",
    "\n",
    "E, diffs"
   ]
  },
  {
   "cell_type": "code",
   "execution_count": 225,
   "metadata": {},
   "outputs": [],
   "source": [
    "eig_vals, eig_vects = cirq.unitary_eig(U)"
   ]
  },
  {
   "cell_type": "code",
   "execution_count": 231,
   "metadata": {},
   "outputs": [
    {
     "data": {
      "text/plain": [
       "(array([0.45806   +0.j, 0.21493029+0.j, 0.74224179+0.j, 0.45951492+0.j,\n",
       "        0.77555546+0.j, 0.44991555+0.j]),\n",
       " array([-0.00145492+0.j, -0.56062517+0.j,  0.29232624+0.j]))"
      ]
     },
     "execution_count": 231,
     "metadata": {},
     "output_type": "execute_result"
    }
   ],
   "source": [
    "B = eig_vects[:,0]\n",
    "\n",
    "M = (U @ B)\n",
    "\n",
    "# Expected value of observables w.r.t combined unitary M.\n",
    "E = expectedValueOfObservable(M, obs)\n",
    "\n",
    "# Difference between agent observables.\n",
    "diffs = np.array([E[i]-E[i+n_obs_per_agent] for i in range(n_obs_per_agent)])\n",
    "\n",
    "E, diffs"
   ]
  },
  {
   "cell_type": "code",
   "execution_count": 238,
   "metadata": {},
   "outputs": [
    {
     "data": {
      "text/plain": [
       "(array([ 0.02529203+0.j,  0.0308524 +0.j,  0.50321821+0.j,  0.52017234+0.j,\n",
       "         0.2707908 +0.j, -0.09157733+0.j]),\n",
       " array([-0.49488031+0.j, -0.2399384 +0.j,  0.59479553+0.j]))"
      ]
     },
     "execution_count": 238,
     "metadata": {},
     "output_type": "execute_result"
    }
   ],
   "source": [
    "B = 1/np.sqrt(2) * eig_vects[:,0] + 1/np.sqrt(2) * eig_vects[:,-1]\n",
    "\n",
    "M = (U @ B)\n",
    "\n",
    "# Expected value of observables w.r.t combined unitary M.\n",
    "E = expectedValueOfObservable(M, obs)\n",
    "\n",
    "# Difference between agent observables.\n",
    "diffs = np.array([E[i]-E[i+n_obs_per_agent] for i in range(n_obs_per_agent)])\n",
    "\n",
    "E, diffs"
   ]
  },
  {
   "cell_type": "code",
   "execution_count": 236,
   "metadata": {},
   "outputs": [
    {
     "data": {
      "text/plain": [
       "(array([-0.05078311+0.j, -0.23662673+0.j,  0.12823168+0.j,  0.17400391+0.j,\n",
       "        -0.0772174 +0.j,  0.16059303+0.j]),\n",
       " array([-0.22478702+0.j, -0.15940933+0.j, -0.03236136+0.j]))"
      ]
     },
     "execution_count": 236,
     "metadata": {},
     "output_type": "execute_result"
    }
   ],
   "source": [
    "B = 1/np.sqrt(eig_vects.shape[-1]) * np.sum(eig_vects, axis=-1)\n",
    "\n",
    "M = (U @ B)\n",
    "\n",
    "# Expected value of observables w.r.t combined unitary M.\n",
    "E = expectedValueOfObservable(M, obs)\n",
    "\n",
    "# Difference between agent observables.\n",
    "diffs = np.array([E[i]-E[i+n_obs_per_agent] for i in range(n_obs_per_agent)])\n",
    "\n",
    "E, diffs"
   ]
  },
  {
   "cell_type": "markdown",
   "metadata": {},
   "source": [
    "---\n",
    "\n",
    "Now try 3 agents"
   ]
  },
  {
   "cell_type": "code",
   "execution_count": 240,
   "metadata": {},
   "outputs": [
    {
     "name": "stdout",
     "output_type": "stream",
     "text": [
      "0: ─╭VariationalEncodingPQC─┤  \n",
      "1: ─╰VariationalEncodingPQC─┤  \n",
      "2: ─╭VariationalEncodingPQC─┤  \n",
      "3: ─╰VariationalEncodingPQC─┤  \n",
      "4: ─╭VariationalEncodingPQC─┤  \n",
      "5: ─╰VariationalEncodingPQC─┤  \n"
     ]
    }
   ],
   "source": [
    "n_agents = 3\n",
    "d_qubits = 2\n",
    "n_layers = 1\n",
    "\n",
    "circuit = MARLCircuit(\n",
    "    n_agents=n_agents,\n",
    "    d_qubits=d_qubits,\n",
    "    n_layers=n_layers,\n",
    "    )\n",
    "\n",
    "weight_shapes = circuit.weight_shapes\n",
    "\n",
    "agents_var_thetas = np.random.uniform(0, 2*np.pi, size=weight_shapes['agents_var_thetas'])\n",
    "agents_enc_inputs = np.random.uniform(0, 2*np.pi, size=weight_shapes['agents_enc_inputs'])\n",
    "\n",
    "print(qml.draw(circuit, wire_order=circuit.wires)(agents_var_thetas, agents_enc_inputs))\n",
    "\n",
    "\n",
    "# System unitary (all agents).\n",
    "U = qml.matrix(circuit, wire_order=circuit.wires)(agents_var_thetas, agents_enc_inputs)"
   ]
  },
  {
   "cell_type": "code",
   "execution_count": 241,
   "metadata": {},
   "outputs": [],
   "source": [
    "obs = [\n",
    "    kron(Z, I, I, I, I, I),\n",
    "    kron(I, Z, I, I, I, I),\n",
    "    kron(Z, Z, I, I, I, I),\n",
    "    kron(I, I, Z, I, I, I),\n",
    "    kron(I, I, I, Z, I, I),\n",
    "    kron(I, I, Z, Z, I, I),\n",
    "    kron(I, I, I, I, Z, I),\n",
    "    kron(I, I, I, I, I, Z),\n",
    "    kron(I, I, I, I, Z, Z),\n",
    "    ]\n",
    "n_obs = len(obs)\n",
    "n_obs_per_agent = int(n_obs / 3)"
   ]
  },
  {
   "cell_type": "code",
   "execution_count": 243,
   "metadata": {},
   "outputs": [
    {
     "data": {
      "text/plain": [
       "(array([[[ 6.93889390e-17+0.j]],\n",
       " \n",
       "        [[-5.55111512e-17+0.j]],\n",
       " \n",
       "        [[-5.55111512e-17+0.j]],\n",
       " \n",
       "        [[-1.38777878e-17+0.j]],\n",
       " \n",
       "        [[-6.93889390e-17+0.j]],\n",
       " \n",
       "        [[-1.38777878e-17+0.j]],\n",
       " \n",
       "        [[-4.16333634e-17+0.j]],\n",
       " \n",
       "        [[-5.55111512e-17+0.j]],\n",
       " \n",
       "        [[ 1.04083409e-17+0.j]]]),\n",
       " array([[[ 1.11022302e-16+0.j]],\n",
       " \n",
       "        [[ 1.38777878e-17+0.j]],\n",
       " \n",
       "        [[-4.16333634e-17+0.j]]]))"
      ]
     },
     "execution_count": 243,
     "metadata": {},
     "output_type": "execute_result"
    }
   ],
   "source": [
    "B = ghz(src=0, tgt=[2,4], bellstate=3, nwires=6) @ ghz(src=1, tgt=[3,5], bellstate=3, nwires=6)\n",
    "\n",
    "M = (U @ B) @ ket(0,0,0,0,0,0)\n",
    "\n",
    "# Expected value of observables w.r.t combined unitary M.\n",
    "E = expectedValueOfObservable(M, obs)\n",
    "\n",
    "# Difference between agent observables (maximum difference between agents 0,1 and 0,2).\n",
    "diffs = np.array([max(E[i]-E[i+n_obs_per_agent], E[i]-E[i+2*n_obs_per_agent]) for i in range(n_obs_per_agent)])\n",
    "\n",
    "E, diffs"
   ]
  },
  {
   "cell_type": "code",
   "execution_count": null,
   "metadata": {},
   "outputs": [],
   "source": []
  }
 ],
 "metadata": {
  "kernelspec": {
   "display_name": "qml",
   "language": "python",
   "name": "python3"
  },
  "language_info": {
   "codemirror_mode": {
    "name": "ipython",
    "version": 3
   },
   "file_extension": ".py",
   "mimetype": "text/x-python",
   "name": "python",
   "nbconvert_exporter": "python",
   "pygments_lexer": "ipython3",
   "version": "3.11.6"
  }
 },
 "nbformat": 4,
 "nbformat_minor": 2
}
