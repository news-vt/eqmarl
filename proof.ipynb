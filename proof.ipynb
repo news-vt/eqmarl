{
 "cells": [
  {
   "cell_type": "code",
   "execution_count": 1,
   "metadata": {},
   "outputs": [],
   "source": [
    "%load_ext autoreload\n",
    "%autoreload 2"
   ]
  },
  {
   "cell_type": "code",
   "execution_count": 2,
   "metadata": {},
   "outputs": [
    {
     "name": "stderr",
     "output_type": "stream",
     "text": [
      "2023-12-05 10:58:32.927175: I tensorflow/core/platform/cpu_feature_guard.cc:182] This TensorFlow binary is optimized to use available CPU instructions in performance-critical operations.\n",
      "To enable the following instructions: AVX2 FMA, in other operations, rebuild TensorFlow with the appropriate compiler flags.\n"
     ]
    }
   ],
   "source": [
    "from eqmarl import *\n",
    "import pennylane as qml\n",
    "import numpy as np\n",
    "import functools as ft"
   ]
  },
  {
   "cell_type": "code",
   "execution_count": 3,
   "metadata": {},
   "outputs": [],
   "source": [
    "def expectedValueOfObservable(psi, obs):\n",
    "    return np.transpose(np.conjugate(psi)) @ obs @ psi\n",
    "\n",
    "def kron(*args):\n",
    "    \"\"\"Kronecker product of a list of elements.\"\"\"\n",
    "    return ft.reduce(np.kron, args)"
   ]
  },
  {
   "cell_type": "code",
   "execution_count": 4,
   "metadata": {},
   "outputs": [],
   "source": [
    "def dagger(x):\n",
    "    \"\"\"Conjugate transpose.\"\"\"\n",
    "    return (x.conjugate()).transpose()\n",
    "\n",
    "def ket(*x):\n",
    "    \"\"\"|x0, x1, ...>\"\"\"\n",
    "    assert all(i in (0, 1) for i in x), 'ket only accepts binary 0 or 1'\n",
    "    x = [np.array([[0], [1]]) if i else np.array([[1], [0]]) for i in x]\n",
    "    x = kron(*x)\n",
    "    return x\n",
    "\n",
    "def bra(*x):\n",
    "    \"\"\"<x0, x1, ...|\"\"\"\n",
    "    assert all(i in (0, 1) for i in x), 'bra only accepts binary 0 or 1'\n",
    "    x = ket(*x)\n",
    "    return dagger(x)"
   ]
  },
  {
   "cell_type": "code",
   "execution_count": 5,
   "metadata": {},
   "outputs": [],
   "source": [
    "def bell(src=0, tgt=1, bellstate: Literal[0,1,2,3] = 0, nwires=2, op=qml.CNOT):\n",
    "    \"\"\"Matrix representation for circuit that creates a Bell state on the designated source and target qubits.\n",
    "    \n",
    "    Supply the `bellstate` argument to prepare a specific Bell state:\n",
    "    - 0 == Phi+\n",
    "    - 1 == Psi+\n",
    "    - 2 == Phi-\n",
    "    - 3 == Psi-\n",
    "    \n",
    "    The Bell state vector can be recovered by applying the dot product with the |0> state as follows:\n",
    "    >>> U = bell(0, 1, bellstate=0, nwires=2) # Creates matrix which generates Phi+\n",
    "    >>> U @ np.array([[1], [0], [0], [0]]) # Dot product with |00>\n",
    "    array([[0.70710678],\n",
    "       [0.        ],\n",
    "       [0.        ],\n",
    "       [0.70710678]])\n",
    "    \"\"\"\n",
    "    def circuit():\n",
    "        match bellstate:\n",
    "            case 1: # 01\n",
    "                qml.PauliX(wires=tgt)\n",
    "            case 2: # 10\n",
    "                qml.PauliX(wires=src)\n",
    "            case 3: # 11\n",
    "                qml.PauliX(wires=tgt)\n",
    "                qml.PauliX(wires=src)\n",
    "            case _: # 00\n",
    "                pass\n",
    "        qml.Hadamard(wires=src)\n",
    "        op(wires=[src, tgt])\n",
    "    return qml.matrix(circuit, wire_order=range(nwires))()\n",
    "\n",
    "\n",
    "def ghz(src: int = 0, tgt: list[int] = 1, bellstate: Literal[0,1,2,3] = 0, nwires=2, op=qml.CNOT):\n",
    "    \n",
    "    if isinstance(tgt, int):\n",
    "        tgt = [tgt]\n",
    "    \n",
    "    def circuit():\n",
    "        if bellstate in (2, 3):\n",
    "            qml.PauliX(wires=src)\n",
    "        qml.Hadamard(wires=src)\n",
    "        for t in tgt:\n",
    "            if bellstate in (1, 3):\n",
    "                qml.PauliX(wires=t)\n",
    "            op(wires=[src, t])\n",
    "    return qml.matrix(circuit, wire_order=range(nwires))()\n"
   ]
  },
  {
   "cell_type": "code",
   "execution_count": 6,
   "metadata": {},
   "outputs": [],
   "source": [
    "# Get matrix representations of Pauli operators and other common gates.\n",
    "X = qml.matrix(qml.PauliX(wires=0))\n",
    "Y = qml.matrix(qml.PauliY(wires=0))\n",
    "Z = qml.matrix(qml.PauliZ(wires=0))\n",
    "H = qml.matrix(qml.Hadamard(wires=0))\n",
    "I = qml.matrix(qml.Identity(wires=0))\n",
    "CNOT = lambda src=0, tgt=1, nwires=2: qml.matrix(qml.CNOT(wires=[src, tgt]), wire_order=range(nwires)) # CNOT(source, target, number_of_wires)\n",
    "CZ = lambda src=0, tgt=1, nwires=2: qml.matrix(qml.CZ(wires=[src, tgt]), wire_order=range(nwires)) # CZ(source, target, number_of_wires)"
   ]
  },
  {
   "cell_type": "code",
   "execution_count": 7,
   "metadata": {},
   "outputs": [],
   "source": [
    "# Matrices that create specific bell states on 2 qubits next-neighbor style (source is qubit 0, target is qubit 1).\n",
    "bell_phi_plus = bell(src=0, tgt=1, bellstate=0, nwires=2)\n",
    "bell_psi_plus = bell(src=0, tgt=1, bellstate=1, nwires=2)\n",
    "bell_phi_minus = bell(src=0, tgt=1, bellstate=2, nwires=2)\n",
    "bell_psi_minus = bell(src=0, tgt=1, bellstate=3, nwires=2)"
   ]
  },
  {
   "cell_type": "code",
   "execution_count": 19,
   "metadata": {},
   "outputs": [
    {
     "data": {
      "text/plain": [
       "array([[1.]])"
      ]
     },
     "execution_count": 19,
     "metadata": {},
     "output_type": "execute_result"
    }
   ],
   "source": [
    "# O = kron(Z, I)\n",
    "# O = kron(I, Z)\n",
    "O = kron(Z, Z)\n",
    "s = bell_phi_plus@ket(0,0)\n",
    "\n",
    "expectedValueOfObservable(s, O)"
   ]
  },
  {
   "cell_type": "code",
   "execution_count": 23,
   "metadata": {},
   "outputs": [
    {
     "data": {
      "text/plain": [
       "array([[-1]])"
      ]
     },
     "execution_count": 23,
     "metadata": {},
     "output_type": "execute_result"
    }
   ],
   "source": [
    "O = Z\n",
    "\n",
    "# s = H @ ket(0)\n",
    "s = ket(1)\n",
    "\n",
    "expectedValueOfObservable(s, O)"
   ]
  },
  {
   "cell_type": "markdown",
   "metadata": {},
   "source": [
    "## Circuit Tests"
   ]
  },
  {
   "cell_type": "markdown",
   "metadata": {},
   "source": [
    "### 2 Agents"
   ]
  },
  {
   "cell_type": "code",
   "execution_count": 182,
   "metadata": {},
   "outputs": [
    {
     "name": "stdout",
     "output_type": "stream",
     "text": [
      "0: ─╭VariationalEncodingPQC─┤  \n",
      "1: ─╰VariationalEncodingPQC─┤  \n",
      "2: ─╭VariationalEncodingPQC─┤  \n",
      "3: ─╰VariationalEncodingPQC─┤  \n"
     ]
    }
   ],
   "source": [
    "n_agents = 2\n",
    "d_qubits = 2\n",
    "n_layers = 1\n",
    "\n",
    "circuit = MARLCircuit(\n",
    "    n_agents=n_agents,\n",
    "    d_qubits=d_qubits,\n",
    "    n_layers=n_layers,\n",
    "    )\n",
    "\n",
    "weight_shapes = circuit.weight_shapes\n",
    "\n",
    "agents_var_thetas = np.random.uniform(0, 2*np.pi, size=weight_shapes['agents_var_thetas'])\n",
    "agents_enc_inputs = np.random.uniform(0, 2*np.pi, size=weight_shapes['agents_enc_inputs'])\n",
    "\n",
    "print(qml.draw(circuit, wire_order=circuit.wires)(agents_var_thetas, agents_enc_inputs))\n",
    "\n",
    "\n",
    "# System unitary (all agents).\n",
    "U = qml.matrix(circuit, wire_order=circuit.wires)(agents_var_thetas, agents_enc_inputs)"
   ]
  },
  {
   "cell_type": "code",
   "execution_count": 25,
   "metadata": {},
   "outputs": [],
   "source": [
    "obs = [\n",
    "    kron(Z, I, I, I),\n",
    "    kron(I, Z, I, I),\n",
    "    kron(Z, Z, I, I),\n",
    "    kron(I, I, Z, I),\n",
    "    kron(I, I, I, Z),\n",
    "    kron(I, I, Z, Z),\n",
    "    ]\n",
    "n_obs = len(obs)\n",
    "n_obs_per_agent = int(n_obs / 2)"
   ]
  },
  {
   "cell_type": "code",
   "execution_count": 218,
   "metadata": {},
   "outputs": [
    {
     "data": {
      "text/plain": [
       "(array([[[-0.18761012+0.j]],\n",
       " \n",
       "        [[ 0.15938534+0.j]],\n",
       " \n",
       "        [[-0.11824798+0.j]],\n",
       " \n",
       "        [[-0.22005712+0.j]],\n",
       " \n",
       "        [[ 0.03948987+0.j]],\n",
       " \n",
       "        [[-0.03002138+0.j]]]),\n",
       " array([[[ 0.032447  +0.j]],\n",
       " \n",
       "        [[ 0.11989547+0.j]],\n",
       " \n",
       "        [[-0.0882266 +0.j]]]))"
      ]
     },
     "execution_count": 218,
     "metadata": {},
     "output_type": "execute_result"
    }
   ],
   "source": [
    "M = U @ ket(0,0,0,0) # |0> initial state\n",
    "\n",
    "# Expected value of observables w.r.t combined unitary M.\n",
    "E = expectedValueOfObservable(M, obs)\n",
    "\n",
    "# Difference between agent observables.\n",
    "diffs = np.array([E[i]-E[i+n_obs_per_agent] for i in range(n_obs_per_agent)])\n",
    "\n",
    "E, diffs"
   ]
  },
  {
   "cell_type": "code",
   "execution_count": 219,
   "metadata": {},
   "outputs": [
    {
     "data": {
      "text/plain": [
       "(array([[[-0.70911625+0.j]],\n",
       " \n",
       "        [[ 0.07179181+0.j]],\n",
       " \n",
       "        [[-0.12724351+0.j]],\n",
       " \n",
       "        [[ 0.45386768+0.j]],\n",
       " \n",
       "        [[ 0.15901161+0.j]],\n",
       " \n",
       "        [[-0.00454907+0.j]]]),\n",
       " array([[[-1.16298392+0.j]],\n",
       " \n",
       "        [[-0.08721981+0.j]],\n",
       " \n",
       "        [[-0.12269444+0.j]]]))"
      ]
     },
     "execution_count": 219,
     "metadata": {},
     "output_type": "execute_result"
    }
   ],
   "source": [
    "B = kron(bell_phi_plus, bell_phi_plus) # Phi+ on [0,1] and [2,3]\n",
    "M = (U @ B) @ ket(0,0,0,0)\n",
    "\n",
    "# Expected value of observables w.r.t combined unitary M.\n",
    "E = expectedValueOfObservable(M, obs)\n",
    "\n",
    "# Difference between agent observables.\n",
    "diffs = np.array([E[i]-E[i+n_obs_per_agent] for i in range(n_obs_per_agent)])\n",
    "\n",
    "E, diffs"
   ]
  },
  {
   "cell_type": "code",
   "execution_count": 220,
   "metadata": {},
   "outputs": [
    {
     "data": {
      "text/plain": [
       "(array([[[-1.52655666e-16+0.j]],\n",
       " \n",
       "        [[ 2.77555756e-17+0.j]],\n",
       " \n",
       "        [[ 5.55111512e-17+0.j]],\n",
       " \n",
       "        [[-1.66533454e-16+0.j]],\n",
       " \n",
       "        [[-8.32667268e-17+0.j]],\n",
       " \n",
       "        [[-5.55111512e-17+0.j]]]),\n",
       " array([[[1.38777878e-17+0.j]],\n",
       " \n",
       "        [[1.11022302e-16+0.j]],\n",
       " \n",
       "        [[1.11022302e-16+0.j]]]))"
      ]
     },
     "execution_count": 220,
     "metadata": {},
     "output_type": "execute_result"
    }
   ],
   "source": [
    "B = bell(src=0, tgt=2, bellstate=0, nwires=4) @ bell(src=1, tgt=3, bellstate=0, nwires=4) # Phi+ on [0,2] and [1,3]\n",
    "\n",
    "M = (U @ B) @ ket(0,0,0,0)\n",
    "\n",
    "# Expected value of observables w.r.t combined unitary M.\n",
    "E = expectedValueOfObservable(M, obs)\n",
    "\n",
    "# Difference between agent observables.\n",
    "diffs = np.array([E[i]-E[i+n_obs_per_agent] for i in range(n_obs_per_agent)])\n",
    "\n",
    "E, diffs"
   ]
  },
  {
   "cell_type": "code",
   "execution_count": 221,
   "metadata": {},
   "outputs": [
    {
     "data": {
      "text/plain": [
       "(array([[[ 0.06245469+0.j]],\n",
       " \n",
       "        [[ 0.39410024+0.j]],\n",
       " \n",
       "        [[ 0.2657979 +0.j]],\n",
       " \n",
       "        [[-0.2183963 +0.j]],\n",
       " \n",
       "        [[ 0.01837139+0.j]],\n",
       " \n",
       "        [[ 0.02608205+0.j]]]),\n",
       " array([[[0.28085099+0.j]],\n",
       " \n",
       "        [[0.37572885+0.j]],\n",
       " \n",
       "        [[0.23971586+0.j]]]))"
      ]
     },
     "execution_count": 221,
     "metadata": {},
     "output_type": "execute_result"
    }
   ],
   "source": [
    "B = ghz(src=0, tgt=[1,2,3], bellstate=0, nwires=4)\n",
    "M = (U @ B) @ ket(0,0,0,0)\n",
    "\n",
    "# Expected value of observables w.r.t combined unitary M.\n",
    "E = expectedValueOfObservable(M, obs)\n",
    "\n",
    "# Difference between agent observables.\n",
    "diffs = np.array([E[i]-E[i+n_obs_per_agent] for i in range(n_obs_per_agent)])\n",
    "\n",
    "E, diffs"
   ]
  },
  {
   "cell_type": "code",
   "execution_count": 222,
   "metadata": {},
   "outputs": [
    {
     "data": {
      "text/plain": [
       "(array([[[ 0.06245469+0.j]],\n",
       " \n",
       "        [[ 0.39410024+0.j]],\n",
       " \n",
       "        [[ 0.2657979 +0.j]],\n",
       " \n",
       "        [[ 0.2183963 +0.j]],\n",
       " \n",
       "        [[-0.01837139+0.j]],\n",
       " \n",
       "        [[-0.02608205+0.j]]]),\n",
       " array([[[-0.15594161+0.j]],\n",
       " \n",
       "        [[ 0.41247163+0.j]],\n",
       " \n",
       "        [[ 0.29187995+0.j]]]))"
      ]
     },
     "execution_count": 222,
     "metadata": {},
     "output_type": "execute_result"
    }
   ],
   "source": [
    "B = ghz(src=2, tgt=[0,1,3], bellstate=3, nwires=4)\n",
    "M = (U @ B) @ ket(0,0,0,0)\n",
    "\n",
    "# Expected value of observables w.r.t combined unitary M.\n",
    "E = expectedValueOfObservable(M, obs)\n",
    "\n",
    "# Difference between agent observables.\n",
    "diffs = np.array([E[i]-E[i+n_obs_per_agent] for i in range(n_obs_per_agent)])\n",
    "\n",
    "E, diffs"
   ]
  },
  {
   "cell_type": "code",
   "execution_count": 223,
   "metadata": {},
   "outputs": [
    {
     "data": {
      "text/plain": [
       "(array([[[-0.53881275+0.j]],\n",
       " \n",
       "        [[ 0.3194031 +0.j]],\n",
       " \n",
       "        [[-0.1619899 +0.j]],\n",
       " \n",
       "        [[-0.14426168+0.j]],\n",
       " \n",
       "        [[ 0.73252616+0.j]],\n",
       " \n",
       "        [[-0.05320409+0.j]]]),\n",
       " array([[[-0.39455107+0.j]],\n",
       " \n",
       "        [[-0.41312306+0.j]],\n",
       " \n",
       "        [[-0.10878582+0.j]]]))"
      ]
     },
     "execution_count": 223,
     "metadata": {},
     "output_type": "execute_result"
    }
   ],
   "source": [
    "B = kron(bell(src=0, tgt=1, bellstate=0, nwires=2, op=qml.CZ), bell(src=0, tgt=1, bellstate=0, nwires=2, op=qml.CZ)) # Bell0 using CZ on [0,1] and [2,3]\n",
    "\n",
    "M = (U @ B) @ ket(0,0,0,0)\n",
    "\n",
    "# Expected value of observables w.r.t combined unitary M.\n",
    "E = expectedValueOfObservable(M, obs)\n",
    "\n",
    "# Difference between agent observables.\n",
    "diffs = np.array([E[i]-E[i+n_obs_per_agent] for i in range(n_obs_per_agent)])\n",
    "\n",
    "E, diffs"
   ]
  },
  {
   "cell_type": "code",
   "execution_count": 224,
   "metadata": {},
   "outputs": [
    {
     "data": {
      "text/plain": [
       "(array([[[-0.52618419+0.j]],\n",
       " \n",
       "        [[-0.59077723+0.j]],\n",
       " \n",
       "        [[ 0.23428383+0.j]],\n",
       " \n",
       "        [[-0.22005712+0.j]],\n",
       " \n",
       "        [[ 0.03948987+0.j]],\n",
       " \n",
       "        [[-0.03002138+0.j]]]),\n",
       " array([[[-0.30612707+0.j]],\n",
       " \n",
       "        [[-0.6302671 +0.j]],\n",
       " \n",
       "        [[ 0.26430521+0.j]]]))"
      ]
     },
     "execution_count": 224,
     "metadata": {},
     "output_type": "execute_result"
    }
   ],
   "source": [
    "B = bell(src=0, tgt=2, bellstate=0, nwires=4, op=qml.CZ) @ bell(src=1, tgt=3, bellstate=0, nwires=4, op=qml.CZ) # Bell0 using CZ on [0,2] and [1,3]\n",
    "\n",
    "M = (U @ B) @ ket(0,0,0,0)\n",
    "\n",
    "# Expected value of observables w.r.t combined unitary M.\n",
    "E = expectedValueOfObservable(M, obs)\n",
    "\n",
    "# Difference between agent observables.\n",
    "diffs = np.array([E[i]-E[i+n_obs_per_agent] for i in range(n_obs_per_agent)])\n",
    "\n",
    "E, diffs"
   ]
  },
  {
   "cell_type": "code",
   "execution_count": 225,
   "metadata": {},
   "outputs": [],
   "source": [
    "eig_vals, eig_vects = cirq.unitary_eig(U)"
   ]
  },
  {
   "cell_type": "code",
   "execution_count": 231,
   "metadata": {},
   "outputs": [
    {
     "data": {
      "text/plain": [
       "(array([0.45806   +0.j, 0.21493029+0.j, 0.74224179+0.j, 0.45951492+0.j,\n",
       "        0.77555546+0.j, 0.44991555+0.j]),\n",
       " array([-0.00145492+0.j, -0.56062517+0.j,  0.29232624+0.j]))"
      ]
     },
     "execution_count": 231,
     "metadata": {},
     "output_type": "execute_result"
    }
   ],
   "source": [
    "B = eig_vects[:,0]\n",
    "\n",
    "M = (U @ B)\n",
    "\n",
    "# Expected value of observables w.r.t combined unitary M.\n",
    "E = expectedValueOfObservable(M, obs)\n",
    "\n",
    "# Difference between agent observables.\n",
    "diffs = np.array([E[i]-E[i+n_obs_per_agent] for i in range(n_obs_per_agent)])\n",
    "\n",
    "E, diffs"
   ]
  },
  {
   "cell_type": "code",
   "execution_count": 238,
   "metadata": {},
   "outputs": [
    {
     "data": {
      "text/plain": [
       "(array([ 0.02529203+0.j,  0.0308524 +0.j,  0.50321821+0.j,  0.52017234+0.j,\n",
       "         0.2707908 +0.j, -0.09157733+0.j]),\n",
       " array([-0.49488031+0.j, -0.2399384 +0.j,  0.59479553+0.j]))"
      ]
     },
     "execution_count": 238,
     "metadata": {},
     "output_type": "execute_result"
    }
   ],
   "source": [
    "B = 1/np.sqrt(2) * eig_vects[:,0] + 1/np.sqrt(2) * eig_vects[:,-1]\n",
    "\n",
    "M = (U @ B)\n",
    "\n",
    "# Expected value of observables w.r.t combined unitary M.\n",
    "E = expectedValueOfObservable(M, obs)\n",
    "\n",
    "# Difference between agent observables.\n",
    "diffs = np.array([E[i]-E[i+n_obs_per_agent] for i in range(n_obs_per_agent)])\n",
    "\n",
    "E, diffs"
   ]
  },
  {
   "cell_type": "code",
   "execution_count": 236,
   "metadata": {},
   "outputs": [
    {
     "data": {
      "text/plain": [
       "(array([-0.05078311+0.j, -0.23662673+0.j,  0.12823168+0.j,  0.17400391+0.j,\n",
       "        -0.0772174 +0.j,  0.16059303+0.j]),\n",
       " array([-0.22478702+0.j, -0.15940933+0.j, -0.03236136+0.j]))"
      ]
     },
     "execution_count": 236,
     "metadata": {},
     "output_type": "execute_result"
    }
   ],
   "source": [
    "B = 1/np.sqrt(eig_vects.shape[-1]) * np.sum(eig_vects, axis=-1)\n",
    "\n",
    "M = (U @ B)\n",
    "\n",
    "# Expected value of observables w.r.t combined unitary M.\n",
    "E = expectedValueOfObservable(M, obs)\n",
    "\n",
    "# Difference between agent observables.\n",
    "diffs = np.array([E[i]-E[i+n_obs_per_agent] for i in range(n_obs_per_agent)])\n",
    "\n",
    "E, diffs"
   ]
  },
  {
   "cell_type": "markdown",
   "metadata": {},
   "source": [
    "#### Try more than 1 layer using more complex observations."
   ]
  },
  {
   "cell_type": "code",
   "execution_count": 50,
   "metadata": {},
   "outputs": [
    {
     "name": "stdout",
     "output_type": "stream",
     "text": [
      "0: ─╭VariationalEncodingPQC─┤  \n",
      "1: ─╰VariationalEncodingPQC─┤  \n",
      "2: ─╭VariationalEncodingPQC─┤  \n",
      "3: ─╰VariationalEncodingPQC─┤  \n",
      "np.all(np.abs(E) < 1e-10)=True\n",
      "np.all(np.isclose(E, E[0]))=True\n",
      "Z @ I @ I @ I:\t(-3.0531133177191805e-16+0j)\n",
      "I @ Z @ I @ I:\t(-3.885780586188048e-16+0j)\n",
      "Z @ Z @ I @ I:\t(1.3530843112619095e-16+0j)\n",
      "X @ I @ I @ I:\t(5.551115123125783e-17-1.0408340855860843e-17j)\n",
      "I @ X @ I @ I:\t(4.85722573273506e-17+0j)\n",
      "X @ X @ I @ I:\t(4.649058915617843e-16+0j)\n",
      "Y @ I @ I @ I:\t(-9.71445146547012e-17-2.8376923163697078e-18j)\n",
      "I @ Y @ I @ I:\t(1.942890293094024e-16+0j)\n",
      "Y @ Y @ I @ I:\t(5.551115123125783e-17-2.7755575615628914e-17j)\n",
      "Z @ X @ I @ I:\t(-3.5388358909926865e-16+0j)\n",
      "Z @ Y @ I @ I:\t(-5.551115123125783e-17+0j)\n",
      "X @ Y @ I @ I:\t(-1.6653345369377348e-16+1.3877787807814457e-17j)\n",
      "X @ Z @ I @ I:\t(-3.469446951953614e-17-6.938893903907228e-18j)\n",
      "Y @ X @ I @ I:\t(2.983724378680108e-16+6.938893903907228e-18j)\n",
      "Y @ Z @ I @ I:\t(9.71445146547012e-17-5.807524697896793e-18j)\n",
      "I @ I @ Z @ I:\t0j\n",
      "I @ I @ I @ Z:\t(-1.1102230246251565e-16+0j)\n",
      "I @ I @ Z @ Z:\t(4.163336342344337e-17+0j)\n",
      "I @ I @ X @ I:\t(-1.3877787807814457e-17+0j)\n",
      "I @ I @ I @ X:\t(3.3306690738754696e-16+0j)\n",
      "I @ I @ X @ X:\t(2.740863092043355e-16+0j)\n",
      "I @ I @ Y @ I:\t(1.3877787807814457e-16+0j)\n",
      "I @ I @ I @ Y:\t(2.220446049250313e-16+0j)\n",
      "I @ I @ Y @ Y:\t(5.551115123125783e-17+0j)\n",
      "I @ I @ Z @ X:\t(-4.163336342344337e-17+0j)\n",
      "I @ I @ Z @ Y:\t(1.942890293094024e-16+0j)\n",
      "I @ I @ X @ Y:\t(-2.220446049250313e-16+0j)\n",
      "I @ I @ X @ Z:\t(5.689893001203927e-16+0j)\n",
      "I @ I @ Y @ X:\t(5.551115123125783e-17+0j)\n",
      "I @ I @ Y @ Z:\t(2.220446049250313e-16+0j)\n"
     ]
    }
   ],
   "source": [
    "names, obs = zip(*[\n",
    "    # Agent 1 observations\n",
    "    ## Z\n",
    "    ('Z @ I @ I @ I', kron(Z, I, I, I)),\n",
    "    ('I @ Z @ I @ I', kron(I, Z, I, I)),\n",
    "    ('Z @ Z @ I @ I', kron(Z, Z, I, I)),\n",
    "    ('X @ I @ I @ I', kron(X, I, I, I)),\n",
    "    ## X\n",
    "    ('I @ X @ I @ I', kron(I, X, I, I)),\n",
    "    ('X @ X @ I @ I', kron(X, X, I, I)),\n",
    "    ## Y\n",
    "    ('Y @ I @ I @ I', kron(Y, I, I, I)),\n",
    "    ('I @ Y @ I @ I', kron(I, Y, I, I)),\n",
    "    ('Y @ Y @ I @ I', kron(Y, Y, I, I)),\n",
    "    ## Z*\n",
    "    ('Z @ X @ I @ I', kron(Z, X, I, I)),\n",
    "    ('Z @ Y @ I @ I', kron(Z, Y, I, I)),\n",
    "    ## X*\n",
    "    ('X @ Y @ I @ I', kron(X, Y, I, I)),\n",
    "    ('X @ Z @ I @ I', kron(X, Z, I, I)),\n",
    "    ## Y*\n",
    "    ('Y @ X @ I @ I', kron(Y, X, I, I)),\n",
    "    ('Y @ Z @ I @ I', kron(Y, Z, I, I)),\n",
    "    # ----\n",
    "    # Agent 2 observations\n",
    "    ## Z\n",
    "    ('I @ I @ Z @ I', kron(I, I, Z, I)),\n",
    "    ('I @ I @ I @ Z', kron(I, I, I, Z)),\n",
    "    ('I @ I @ Z @ Z', kron(I, I, Z, Z)),\n",
    "    ## X\n",
    "    ('I @ I @ X @ I', kron(I, I, X, I)),\n",
    "    ('I @ I @ I @ X', kron(I, I, I, X)),\n",
    "    ('I @ I @ X @ X', kron(I, I, X, X)),\n",
    "    ## Y\n",
    "    ('I @ I @ Y @ I', kron(I, I, Y, I)),\n",
    "    ('I @ I @ I @ Y', kron(I, I, I, Y)),\n",
    "    ('I @ I @ Y @ Y', kron(I, I, Y, Y)),\n",
    "    ## Z*\n",
    "    ('I @ I @ Z @ X', kron(I, I, Z, X)),\n",
    "    ('I @ I @ Z @ Y', kron(I, I, Z, Y)),\n",
    "    ## X*\n",
    "    ('I @ I @ X @ Y', kron(I, I, X, Y)),\n",
    "    ('I @ I @ X @ Z', kron(I, I, X, Z)),\n",
    "    ## Y*\n",
    "    ('I @ I @ Y @ X', kron(I, I, Y, X)),\n",
    "    ('I @ I @ Y @ Z', kron(I, I, Y, Z)),\n",
    "])\n",
    "n_obs = len(obs)\n",
    "n_obs_per_agent = int(n_obs / 2)\n",
    "\n",
    "n_agents = 2\n",
    "d_qubits = 2\n",
    "n_layers = 5\n",
    "\n",
    "circuit = MARLCircuit(\n",
    "    n_agents=n_agents,\n",
    "    d_qubits=d_qubits,\n",
    "    n_layers=n_layers,\n",
    "    )\n",
    "\n",
    "weight_shapes = circuit.weight_shapes\n",
    "\n",
    "agents_var_thetas = np.random.uniform(0, 2*np.pi, size=weight_shapes['agents_var_thetas'])\n",
    "agents_enc_inputs = np.random.uniform(0, 2*np.pi, size=weight_shapes['agents_enc_inputs'])\n",
    "\n",
    "print(qml.draw(circuit, wire_order=circuit.wires)(agents_var_thetas, agents_enc_inputs))\n",
    "\n",
    "\n",
    "# System unitary (all agents).\n",
    "U = qml.matrix(circuit, wire_order=circuit.wires)(agents_var_thetas, agents_enc_inputs)\n",
    "\n",
    "\n",
    "B = bell(src=0, tgt=2, bellstate=0, nwires=4) @ bell(src=1, tgt=3, bellstate=0, nwires=4) # Phi+ on [0,2] and [1,3]\n",
    "\n",
    "M = (U @ B) @ ket(0,0,0,0)\n",
    "\n",
    "# Expected value of observables w.r.t combined unitary M.\n",
    "E = expectedValueOfObservable(M, obs)\n",
    "E = E.flatten()\n",
    "\n",
    "# Difference between agent observables.\n",
    "diffs = np.array([E[i]-E[i+n_obs_per_agent] for i in range(n_obs_per_agent)])\n",
    "\n",
    "# Check if all expected values are near zero.\n",
    "print(f\"{np.all(np.abs(E) < 1e-10)=}\")\n",
    "\n",
    "# Check if all expected values are close to each other.\n",
    "print(f\"{np.all(np.isclose(E, E[0]))=}\")\n",
    "\n",
    "for i in range(len(names)):\n",
    "    print(f\"{names[i]}:\\t{E[i]}\")"
   ]
  },
  {
   "cell_type": "markdown",
   "metadata": {},
   "source": [
    "### 3 Agents"
   ]
  },
  {
   "cell_type": "code",
   "execution_count": 240,
   "metadata": {},
   "outputs": [
    {
     "name": "stdout",
     "output_type": "stream",
     "text": [
      "0: ─╭VariationalEncodingPQC─┤  \n",
      "1: ─╰VariationalEncodingPQC─┤  \n",
      "2: ─╭VariationalEncodingPQC─┤  \n",
      "3: ─╰VariationalEncodingPQC─┤  \n",
      "4: ─╭VariationalEncodingPQC─┤  \n",
      "5: ─╰VariationalEncodingPQC─┤  \n"
     ]
    }
   ],
   "source": [
    "n_agents = 3\n",
    "d_qubits = 2\n",
    "n_layers = 1\n",
    "\n",
    "circuit = MARLCircuit(\n",
    "    n_agents=n_agents,\n",
    "    d_qubits=d_qubits,\n",
    "    n_layers=n_layers,\n",
    "    )\n",
    "\n",
    "weight_shapes = circuit.weight_shapes\n",
    "\n",
    "agents_var_thetas = np.random.uniform(0, 2*np.pi, size=weight_shapes['agents_var_thetas'])\n",
    "agents_enc_inputs = np.random.uniform(0, 2*np.pi, size=weight_shapes['agents_enc_inputs'])\n",
    "\n",
    "print(qml.draw(circuit, wire_order=circuit.wires)(agents_var_thetas, agents_enc_inputs))\n",
    "\n",
    "\n",
    "# System unitary (all agents).\n",
    "U = qml.matrix(circuit, wire_order=circuit.wires)(agents_var_thetas, agents_enc_inputs)"
   ]
  },
  {
   "cell_type": "code",
   "execution_count": 241,
   "metadata": {},
   "outputs": [],
   "source": [
    "obs = [\n",
    "    kron(Z, I, I, I, I, I),\n",
    "    kron(I, Z, I, I, I, I),\n",
    "    kron(Z, Z, I, I, I, I),\n",
    "    kron(I, I, Z, I, I, I),\n",
    "    kron(I, I, I, Z, I, I),\n",
    "    kron(I, I, Z, Z, I, I),\n",
    "    kron(I, I, I, I, Z, I),\n",
    "    kron(I, I, I, I, I, Z),\n",
    "    kron(I, I, I, I, Z, Z),\n",
    "    ]\n",
    "n_obs = len(obs)\n",
    "n_obs_per_agent = int(n_obs / 3)"
   ]
  },
  {
   "cell_type": "code",
   "execution_count": 243,
   "metadata": {},
   "outputs": [
    {
     "data": {
      "text/plain": [
       "(array([[[ 6.93889390e-17+0.j]],\n",
       " \n",
       "        [[-5.55111512e-17+0.j]],\n",
       " \n",
       "        [[-5.55111512e-17+0.j]],\n",
       " \n",
       "        [[-1.38777878e-17+0.j]],\n",
       " \n",
       "        [[-6.93889390e-17+0.j]],\n",
       " \n",
       "        [[-1.38777878e-17+0.j]],\n",
       " \n",
       "        [[-4.16333634e-17+0.j]],\n",
       " \n",
       "        [[-5.55111512e-17+0.j]],\n",
       " \n",
       "        [[ 1.04083409e-17+0.j]]]),\n",
       " array([[[ 1.11022302e-16+0.j]],\n",
       " \n",
       "        [[ 1.38777878e-17+0.j]],\n",
       " \n",
       "        [[-4.16333634e-17+0.j]]]))"
      ]
     },
     "execution_count": 243,
     "metadata": {},
     "output_type": "execute_result"
    }
   ],
   "source": [
    "B = ghz(src=0, tgt=[2,4], bellstate=3, nwires=6) @ ghz(src=1, tgt=[3,5], bellstate=3, nwires=6)\n",
    "\n",
    "M = (U @ B) @ ket(0,0,0,0,0,0)\n",
    "\n",
    "# Expected value of observables w.r.t combined unitary M.\n",
    "E = expectedValueOfObservable(M, obs)\n",
    "\n",
    "# Difference between agent observables (maximum difference between agents 0,1 and 0,2).\n",
    "diffs = np.array([max(E[i]-E[i+n_obs_per_agent], E[i]-E[i+2*n_obs_per_agent]) for i in range(n_obs_per_agent)])\n",
    "\n",
    "E, diffs"
   ]
  },
  {
   "cell_type": "code",
   "execution_count": null,
   "metadata": {},
   "outputs": [],
   "source": []
  }
 ],
 "metadata": {
  "kernelspec": {
   "display_name": "qml",
   "language": "python",
   "name": "python3"
  },
  "language_info": {
   "codemirror_mode": {
    "name": "ipython",
    "version": 3
   },
   "file_extension": ".py",
   "mimetype": "text/x-python",
   "name": "python",
   "nbconvert_exporter": "python",
   "pygments_lexer": "ipython3",
   "version": "3.11.6"
  }
 },
 "nbformat": 4,
 "nbformat_minor": 2
}
