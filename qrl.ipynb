{
 "cells": [
  {
   "cell_type": "code",
   "execution_count": 48,
   "metadata": {},
   "outputs": [
    {
     "name": "stdout",
     "output_type": "stream",
     "text": [
      "The autoreload extension is already loaded. To reload it, use:\n",
      "  %reload_ext autoreload\n"
     ]
    }
   ],
   "source": [
    "%load_ext autoreload\n",
    "%autoreload 2"
   ]
  },
  {
   "cell_type": "code",
   "execution_count": 49,
   "metadata": {},
   "outputs": [],
   "source": [
    "from eqmarl import *\n",
    "import gymnasium as gym\n",
    "from functools import reduce\n",
    "import tensorflow_quantum as tfq\n",
    "import tensorflow as tf\n",
    "import tensorflow.keras as keras\n",
    "import cirq"
   ]
  },
  {
   "cell_type": "code",
   "execution_count": 50,
   "metadata": {},
   "outputs": [
    {
     "data": {
      "text/plain": [
       "(Box([-4.8000002e+00 -3.4028235e+38 -4.1887903e-01 -3.4028235e+38], [4.8000002e+00 3.4028235e+38 4.1887903e-01 3.4028235e+38], (4,), float32),\n",
       " Discrete(2))"
      ]
     },
     "execution_count": 50,
     "metadata": {},
     "output_type": "execute_result"
    }
   ],
   "source": [
    "# env_name = \"FrozenLake-v1\"\n",
    "env_name = \"CartPole-v1\"\n",
    "# env_name = \"MountainCar-v0\"\n",
    "env = gym.make(env_name)\n",
    "env.observation_space, env.action_space"
   ]
  },
  {
   "cell_type": "code",
   "execution_count": 51,
   "metadata": {},
   "outputs": [],
   "source": [
    "# Actor Critic in TensorFlow.\n",
    "# https://www.tensorflow.org/tutorials/reinforcement_learning/actor_critic"
   ]
  },
  {
   "cell_type": "code",
   "execution_count": 52,
   "metadata": {},
   "outputs": [],
   "source": [
    "def run_episode(\n",
    "    env: gym.Env,\n",
    "    max_steps: int,\n",
    "    actor: keras.Model,\n",
    "    critic: keras.Model,\n",
    "    ):\n",
    "    \n",
    "    state, _ = env.reset()\n",
    "    \n",
    "    for t in tf.range(max_steps):\n",
    "        \n",
    "        # Convert state to batched tensor (batch size = 1).\n",
    "        state = tf.expand_dims(state, 0)\n",
    "        \n",
    "        # Get action probabilities.\n",
    "        probs = actor(state)"
   ]
  },
  {
   "cell_type": "code",
   "execution_count": 53,
   "metadata": {},
   "outputs": [
    {
     "name": "stdout",
     "output_type": "stream",
     "text": [
      "Model: \"actor\"\n",
      "_________________________________________________________________\n",
      " Layer (type)                Output Shape              Param #   \n",
      "=================================================================\n",
      " input (InputLayer)          [(None, 4)]               0         \n",
      "                                                                 \n",
      " pqc (VariationalEncodingPQC  (None, 1)                28        \n",
      " )                                                               \n",
      "                                                                 \n",
      " policy (WeightedAlternating  (None, 2)                2         \n",
      " SoftmaxPolicy)                                                  \n",
      "                                                                 \n",
      "=================================================================\n",
      "Total params: 30\n",
      "Trainable params: 30\n",
      "Non-trainable params: 0\n",
      "_________________________________________________________________\n",
      "Model: \"critic\"\n",
      "_________________________________________________________________\n",
      " Layer (type)                Output Shape              Param #   \n",
      "=================================================================\n",
      " dense_12 (Dense)            (None, 5)                 20        \n",
      "                                                                 \n",
      " dense_13 (Dense)            (None, 10)                60        \n",
      "                                                                 \n",
      " dense_14 (Dense)            (None, 15)                165       \n",
      "                                                                 \n",
      " v (Dense)                   (None, 1)                 16        \n",
      "                                                                 \n",
      "=================================================================\n",
      "Total params: 261\n",
      "Trainable params: 261\n",
      "Non-trainable params: 0\n",
      "_________________________________________________________________\n"
     ]
    }
   ],
   "source": [
    "env_name = \"CartPole-v1\"\n",
    "env = gym.make(env_name)\n",
    "env.observation_space, env.action_space\n",
    "\n",
    "n_qubits = 4 # Dimension of observation space in environment.\n",
    "n_actions = 2 # Number of actions in environment.\n",
    "\n",
    "n_layers = 1\n",
    "beta = 1.0 # Inverse temperature parameter for softmax policy.\n",
    "\n",
    "qubits = cirq.LineQubit.range(n_qubits)\n",
    "ops = [cirq.Z(q) for q in qubits]\n",
    "observables = [reduce((lambda x, y: x*y), ops)]\n",
    "\n",
    "actor = QuantumActorVariationalEncoding(\n",
    "    qubits=qubits,\n",
    "    n_actions=n_actions,\n",
    "    n_layers=n_layers,\n",
    "    beta=beta,\n",
    "    name='actor',\n",
    ")\n",
    "actor.summary()\n",
    "\n",
    "critic = ClassicalCriticDense(units=[5, 10, 15], name='critic')\n",
    "critic.build((None, 3))\n",
    "critic.summary()\n",
    "\n",
    "# model.build(input_shape=(None, n_qubits,))\n",
    "\n",
    "# input_tensor = tf.keras.Input(shape=(n_qubits,), dtype='float32', name='input')\n",
    "# x = input_tensor\n",
    "# x = VariationalEncodingPQC(observables, qubits, n_layers, name='pqc')([x])\n",
    "# # observables\n",
    "# x = WeightedAlternatingSoftmaxPolicy(beta=beta, n_actions=n_actions, name='policy')(x)\n",
    "# model = tf.keras.Model(inputs=[input_tensor], outputs=x)\n",
    "# # pqc([input_tensor])\n",
    "# tf.keras.utils.plot_model(model, show_shapes=True, dpi=70)\n",
    "# model.summary()\n",
    "# tf.keras.utils.plot_model(model, show_shapes=True, dpi=70)"
   ]
  },
  {
   "cell_type": "code",
   "execution_count": 54,
   "metadata": {},
   "outputs": [
    {
     "data": {
      "text/html": [
       "<pre style=\"overflow: auto; white-space: pre;\">0: ───Rx(theta0)───Ry(theta1)────Rz(theta2)────@───Rx(x0_0)───Rx(theta12)───Ry(theta13)───Rz(theta14)───────────────────────────────\n",
       "                                               │\n",
       "1: ───Rx(theta3)───Ry(theta4)────Rz(theta5)────X───@──────────Rx(x0_1)──────Rx(theta15)───Ry(theta16)───Rz(theta17)─────────────────\n",
       "                                                   │\n",
       "2: ───Rx(theta6)───Ry(theta7)────Rz(theta8)────────X──────────@─────────────Rx(x0_2)──────Rx(theta18)───Ry(theta19)───Rz(theta20)───\n",
       "                                                              │\n",
       "3: ───Rx(theta9)───Ry(theta10)───Rz(theta11)──────────────────X─────────────Rx(x0_3)──────Rx(theta21)───Ry(theta22)───Rz(theta23)───</pre>"
      ],
      "text/plain": [
       "0: ───Rx(theta0)───Ry(theta1)────Rz(theta2)────@───Rx(x0_0)───Rx(theta12)───Ry(theta13)───Rz(theta14)───────────────────────────────\n",
       "                                               │\n",
       "1: ───Rx(theta3)───Ry(theta4)────Rz(theta5)────X───@──────────Rx(x0_1)──────Rx(theta15)───Ry(theta16)───Rz(theta17)─────────────────\n",
       "                                                   │\n",
       "2: ───Rx(theta6)───Ry(theta7)────Rz(theta8)────────X──────────@─────────────Rx(x0_2)──────Rx(theta18)───Ry(theta19)───Rz(theta20)───\n",
       "                                                              │\n",
       "3: ───Rx(theta9)───Ry(theta10)───Rz(theta11)──────────────────X─────────────Rx(x0_3)──────Rx(theta21)───Ry(theta22)───Rz(theta23)───"
      ]
     },
     "execution_count": 54,
     "metadata": {},
     "output_type": "execute_result"
    }
   ],
   "source": [
    "actor.layers[1].circuit"
   ]
  },
  {
   "cell_type": "code",
   "execution_count": 55,
   "metadata": {},
   "outputs": [
    {
     "data": {
      "text/plain": [
       "<tf.Tensor: shape=(2,), dtype=string, numpy=\n",
       "array([b'\\n\\x0e\\n\\x0ctfq_gate_set\\x12\\x02\\x08\\x01',\n",
       "       b'\\n\\x0e\\n\\x0ctfq_gate_set\\x12\\x02\\x08\\x01'], dtype=object)>"
      ]
     },
     "execution_count": 55,
     "metadata": {},
     "output_type": "execute_result"
    }
   ],
   "source": [
    "tmp = tfq.convert_to_tensor([cirq.Circuit(), cirq.Circuit()])\n",
    "tf.repeat(tmp, repeats=1)"
   ]
  },
  {
   "cell_type": "code",
   "execution_count": 65,
   "metadata": {},
   "outputs": [
    {
     "data": {
      "text/plain": [
       "<tf.Tensor: shape=(1, 2), dtype=float32, numpy=array([[0.4158523, 0.5841477]], dtype=float32)>"
      ]
     },
     "execution_count": 65,
     "metadata": {},
     "output_type": "execute_result"
    }
   ],
   "source": [
    "state, _ = env.reset()\n",
    "\n",
    "# Convert state to batched tensor (batch size = 1).\n",
    "state = tf.expand_dims(state, 0)\n",
    "\n",
    "# Get action probabilities.\n",
    "actor.layers[1].theta.shape, actor.layers[1].lmbd.shape\n",
    "probs = actor([state])\n",
    "# probs\n",
    "# state\n",
    "# actor.layers[1].circuit\n",
    "# actor.layers[1].pqc.input_spec\n",
    "probs"
   ]
  },
  {
   "cell_type": "markdown",
   "metadata": {},
   "source": [
    "---"
   ]
  },
  {
   "cell_type": "code",
   "execution_count": 40,
   "metadata": {},
   "outputs": [
    {
     "name": "stdout",
     "output_type": "stream",
     "text": [
      "<class 'cirq.devices.line_qubit.LineQubit'>\n",
      "dirac notation: 0.71|01⟩ + 0.71|10⟩\n",
      "measurements: Counter({0: 51, 1: 49})\n",
      "0: ───H───M(Z)('m')───\n",
      "          │\n",
      "1: ───H───M(Z)────────\n"
     ]
    }
   ],
   "source": [
    "sim = cirq.Simulator()\n",
    "\n",
    "qubits = cirq.LineQubit.range(2)\n",
    "obs = reduce(lambda a, b: a * b, [cirq.Z(q) for q in qubits]) # Z0 * Z1 * ...\n",
    "# obs = obs + [cirq.Z(q) for q in qubits] # Z0, Z1, ...\n",
    "print(type(qubits[0]))\n",
    "circuit = cirq.Circuit(\n",
    "    [cirq.H(q) for q in qubits],\n",
    "    # obs,\n",
    "    cirq.measure_single_paulistring(obs, key='m'),\n",
    "    # cirq.measure(*qubits, key='m'),\n",
    ")\n",
    "print(f\"dirac notation: {sim.simulate(circuit).dirac_notation()}\")\n",
    "print(f\"measurements: {sim.run(circuit, repetitions=100).histogram(key='m')}\")\n",
    "# print(f\"measurements: {sim.run(circuit, repetitions=100).histogram(key='m0')}\")\n",
    "# print(f\"measurements: {sim.run(circuit, repetitions=100).histogram(key='m1')}\")\n",
    "# print(f\"measurements: {sim.run(circuit, repetitions=100).histogram(key='m2')}\")\n",
    "print(circuit)"
   ]
  },
  {
   "cell_type": "code",
   "execution_count": 77,
   "metadata": {},
   "outputs": [
    {
     "name": "stdout",
     "output_type": "stream",
     "text": [
      "tf.Tensor([[-0.789022]], shape=(1, 1), dtype=float32)\n"
     ]
    }
   ],
   "source": [
    "qubits = cirq.LineQubit.range(2)\n",
    "obs = reduce(lambda a, b: a * b, [cirq.Z(q) for q in qubits]) # Z0 * Z1 * ...\n",
    "# obs = [cirq.Z(q) for q in qubits] # Z0, Z1, ...\n",
    "circuit = cirq.Circuit(\n",
    "    # [cirq.H(q) for q in qubits],\n",
    "    [cirq.rx(sympy.Symbol(f'theta{i}'))(q) for i, q in enumerate(qubits)]\n",
    ")\n",
    "# tfq.convert_to_tensor([circuit])\n",
    "# circuit\n",
    "\n",
    "# # l = tfq.layers.AddCircuit(circuit)\n",
    "# l = tfq.layers.PQC(circuit, obs)\n",
    "l = tfq.layers.Sample()\n",
    "quantum_data = tfq.convert_to_tensor([\n",
    "    cirq.Circuit(),\n",
    "    # cirq.Circuit([cirq.X(q) for q in qubits]),\n",
    "])\n",
    "# print(quantum_data.shape)\n",
    "# quantum_data = tf.zeros(shape=(2,))\n",
    "# quantum_data = keras.layers.Input(shape=(1,))\n",
    "# policy = WeightedAlternatingSoftmaxPolicy(beta=1., n_actions=2)\n",
    "# policy = AlternatingObservables(n_actions=4)\n",
    "\n",
    "# x = l(quantum_data)\n",
    "x = l(circuit, symbol_names=)\n",
    "print(x)\n",
    "# x = policy(x)\n",
    "# print(x)"
   ]
  },
  {
   "cell_type": "code",
   "execution_count": 3,
   "metadata": {},
   "outputs": [
    {
     "data": {
      "text/plain": [
       "(array([-0.00238119, -0.02606253, -0.02181742,  0.03740089], dtype=float32),\n",
       " {})"
      ]
     },
     "execution_count": 3,
     "metadata": {},
     "output_type": "execute_result"
    }
   ],
   "source": [
    "env_name = \"CartPole-v1\"\n",
    "env = gym.make(env_name)\n",
    "env.reset()"
   ]
  },
  {
   "cell_type": "code",
   "execution_count": 4,
   "metadata": {},
   "outputs": [
    {
     "data": {
      "text/plain": [
       "(0, {'prob': 1})"
      ]
     },
     "execution_count": 4,
     "metadata": {},
     "output_type": "execute_result"
    }
   ],
   "source": [
    "env_name = \"FrozenLake-v1\"\n",
    "env = gym.make(env_name)\n",
    "env.reset()"
   ]
  },
  {
   "cell_type": "code",
   "execution_count": 5,
   "metadata": {},
   "outputs": [
    {
     "data": {
      "text/plain": [
       "<tf.Variable 'observables-weights:0' shape=(1, 4) dtype=float32, numpy=array([[ 1., -1.,  1., -1.]], dtype=float32)>"
      ]
     },
     "execution_count": 5,
     "metadata": {},
     "output_type": "execute_result"
    }
   ],
   "source": [
    "tf.Variable(\n",
    "        initial_value=tf.constant([[(-1.)**i for i in range(4)]]),\n",
    "        dtype='float32',\n",
    "        trainable=True,\n",
    "        name='observables-weights',\n",
    "    )"
   ]
  },
  {
   "cell_type": "code",
   "execution_count": 9,
   "metadata": {},
   "outputs": [
    {
     "data": {
      "image/png": "[encoded data removed]",
      "text/plain": [
       "<IPython.core.display.Image object>"
      ]
     },
     "execution_count": 9,
     "metadata": {},
     "output_type": "execute_result"
    }
   ],
   "source": [
    "n_qubits = 4\n",
    "n_layers = 5\n",
    "n_actions = 2\n",
    "beta = 1.0 # Inverse temperature parameter for softmax policy.\n",
    "qubits = cirq.LineQubit.range(n_qubits)\n",
    "ops = [cirq.Z(q) for q in qubits]\n",
    "observables = [reduce((lambda x, y: x*y), ops)]\n",
    "\n",
    "input_tensor = tf.keras.Input(shape=(n_qubits,), dtype='float32', name='input')\n",
    "x = input_tensor\n",
    "x = VariationalEncodingPQC(observables, qubits, n_layers, name='pqc')([x])\n",
    "# observables\n",
    "x = WeightedAlternatingSoftmaxPolicy(beta=beta, n_actions=n_actions, name='policy')(x)\n",
    "model = tf.keras.Model(inputs=[input_tensor], outputs=x)\n",
    "# pqc([input_tensor])\n",
    "tf.keras.utils.plot_model(model, show_shapes=True, dpi=70)"
   ]
  },
  {
   "cell_type": "code",
   "execution_count": 11,
   "metadata": {},
   "outputs": [
    {
     "data": {
      "text/plain": [
       "<KerasTensor: shape=(None, 1) dtype=float32 (created by layer 'pqc')>"
      ]
     },
     "execution_count": 11,
     "metadata": {},
     "output_type": "execute_result"
    }
   ],
   "source": [
    "qubits = cirq.LineQubit.range(n_qubits)\n",
    "input_tensor = tf.keras.Input(shape=(n_qubits,), dtype='float32', name='input')\n",
    "x = input_tensor\n",
    "outputs = VariationalEncodingPQC(observables, qubits, n_layers, name='pqc')([x])\n",
    "outputs"
   ]
  },
  {
   "cell_type": "code",
   "execution_count": 26,
   "metadata": {},
   "outputs": [],
   "source": [
    "batch_dim = 12\n",
    "inputs = np.zeros(shape=(batch_dim, 4))"
   ]
  },
  {
   "cell_type": "code",
   "execution_count": 29,
   "metadata": {},
   "outputs": [
    {
     "data": {
      "text/plain": [
       "<tf.Tensor: shape=(12, 20), dtype=float64, numpy=\n",
       "array([[0., 0., 0., 0., 0., 0., 0., 0., 0., 0., 0., 0., 0., 0., 0., 0.,\n",
       "        0., 0., 0., 0.],\n",
       "       [0., 0., 0., 0., 0., 0., 0., 0., 0., 0., 0., 0., 0., 0., 0., 0.,\n",
       "        0., 0., 0., 0.],\n",
       "       [0., 0., 0., 0., 0., 0., 0., 0., 0., 0., 0., 0., 0., 0., 0., 0.,\n",
       "        0., 0., 0., 0.],\n",
       "       [0., 0., 0., 0., 0., 0., 0., 0., 0., 0., 0., 0., 0., 0., 0., 0.,\n",
       "        0., 0., 0., 0.],\n",
       "       [0., 0., 0., 0., 0., 0., 0., 0., 0., 0., 0., 0., 0., 0., 0., 0.,\n",
       "        0., 0., 0., 0.],\n",
       "       [0., 0., 0., 0., 0., 0., 0., 0., 0., 0., 0., 0., 0., 0., 0., 0.,\n",
       "        0., 0., 0., 0.],\n",
       "       [0., 0., 0., 0., 0., 0., 0., 0., 0., 0., 0., 0., 0., 0., 0., 0.,\n",
       "        0., 0., 0., 0.],\n",
       "       [0., 0., 0., 0., 0., 0., 0., 0., 0., 0., 0., 0., 0., 0., 0., 0.,\n",
       "        0., 0., 0., 0.],\n",
       "       [0., 0., 0., 0., 0., 0., 0., 0., 0., 0., 0., 0., 0., 0., 0., 0.,\n",
       "        0., 0., 0., 0.],\n",
       "       [0., 0., 0., 0., 0., 0., 0., 0., 0., 0., 0., 0., 0., 0., 0., 0.,\n",
       "        0., 0., 0., 0.],\n",
       "       [0., 0., 0., 0., 0., 0., 0., 0., 0., 0., 0., 0., 0., 0., 0., 0.,\n",
       "        0., 0., 0., 0.],\n",
       "       [0., 0., 0., 0., 0., 0., 0., 0., 0., 0., 0., 0., 0., 0., 0., 0.,\n",
       "        0., 0., 0., 0.]])>"
      ]
     },
     "execution_count": 29,
     "metadata": {},
     "output_type": "execute_result"
    }
   ],
   "source": [
    "# tf.gather(tf.shape(inputs[0]), 0)\n",
    "batch_dim = tf.gather(tf.shape([inputs][0]), 0)\n",
    "tiled_up_inputs = tf.tile([inputs][0], multiples=[1, n_layers])\n",
    "tiled_up_inputs"
   ]
  }
 ],
 "metadata": {
  "kernelspec": {
   "display_name": "quantum",
   "language": "python",
   "name": "python3"
  },
  "language_info": {
   "codemirror_mode": {
    "name": "ipython",
    "version": 3
   },
   "file_extension": ".py",
   "mimetype": "text/x-python",
   "name": "python",
   "nbconvert_exporter": "python",
   "pygments_lexer": "ipython3",
   "version": "3.9.18"
  }
 },
 "nbformat": 4,
 "nbformat_minor": 2
}
