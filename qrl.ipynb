{
 "cells": [
  {
   "cell_type": "code",
   "execution_count": 1,
   "metadata": {},
   "outputs": [],
   "source": [
    "%load_ext autoreload\n",
    "%autoreload 2"
   ]
  },
  {
   "cell_type": "code",
   "execution_count": 2,
   "metadata": {},
   "outputs": [
    {
     "name": "stderr",
     "output_type": "stream",
     "text": [
      "2023-11-06 10:48:13.442693: I tensorflow/core/platform/cpu_feature_guard.cc:151] This TensorFlow binary is optimized with oneAPI Deep Neural Network Library (oneDNN) to use the following CPU instructions in performance-critical operations:  AVX2 FMA\n",
      "To enable them in other operations, rebuild TensorFlow with the appropriate compiler flags.\n"
     ]
    }
   ],
   "source": [
    "from eqmarl import *\n",
    "import gymnasium as gym\n",
    "from functools import reduce\n",
    "import tensorflow_quantum as tfq\n",
    "import tensorflow as tf\n",
    "import tensorflow.keras as keras\n",
    "import cirq"
   ]
  },
  {
   "cell_type": "code",
   "execution_count": 3,
   "metadata": {},
   "outputs": [
    {
     "data": {
      "text/plain": [
       "(Box([-4.8000002e+00 -3.4028235e+38 -4.1887903e-01 -3.4028235e+38], [4.8000002e+00 3.4028235e+38 4.1887903e-01 3.4028235e+38], (4,), float32),\n",
       " Discrete(2))"
      ]
     },
     "execution_count": 3,
     "metadata": {},
     "output_type": "execute_result"
    }
   ],
   "source": [
    "# env_name = \"FrozenLake-v1\"\n",
    "env_name = \"CartPole-v1\"\n",
    "# env_name = \"MountainCar-v0\"\n",
    "env = gym.make(env_name)\n",
    "env.observation_space, env.action_space"
   ]
  },
  {
   "cell_type": "code",
   "execution_count": 4,
   "metadata": {},
   "outputs": [],
   "source": [
    "# Actor Critic in TensorFlow.\n",
    "# https://www.tensorflow.org/tutorials/reinforcement_learning/actor_critic"
   ]
  },
  {
   "cell_type": "code",
   "execution_count": 52,
   "metadata": {},
   "outputs": [],
   "source": [
    "def interact_env(\n",
    "    env: gym.Env,\n",
    "    actor: keras.Model,\n",
    "    critic: keras.Model,\n",
    "    state: Any,\n",
    "    action_selection_fn: Callable[[tf.Tensor], int],\n",
    "    ) -> dict[str, Any]:\n",
    "    \n",
    "    # Convert state to batched tensor (batch size = 1).\n",
    "    state = tf.expand_dims(state, 0)\n",
    "\n",
    "    # Get action probabilities at current state.\n",
    "    probs = actor(state)\n",
    "\n",
    "    # Select action.\n",
    "    # action = int(action_selection_fn(probs).numpy()[0])\n",
    "    action = action_selection_fn(probs)\n",
    "\n",
    "    # Get value from critic at current state.\n",
    "    value = critic(state)\n",
    "\n",
    "    # Apply action in the environment, receive reward and next state.\n",
    "    next_state, reward, done, _, _ = env.step(action)\n",
    "\n",
    "    # Build dictionary denoting interaction.\n",
    "    interaction = {\n",
    "        'state': state,\n",
    "        'action': action,\n",
    "        'action_probs': probs,\n",
    "        'value': value,\n",
    "        'reward': reward,\n",
    "        'done': done,\n",
    "        'next_state': next_state.copy(),\n",
    "    }\n",
    "    return interaction\n",
    "\n",
    "\n",
    "def run_episode(\n",
    "    env: gym.Env,\n",
    "    max_steps: int,\n",
    "    actor: keras.Model,\n",
    "    critic: keras.Model,\n",
    "    action_selection_fn: Callable[[tf.Tensor], int] = lambda probs: int(tf.argmax(probs, axis=1).numpy()[0]), # Greedy, always take action with highest probability.\n",
    "    ):\n",
    "    \n",
    "    history: list[dict] = [] # dict(state, action, reward, next_state)\n",
    "    \n",
    "    state, _ = env.reset()\n",
    "    for t in tf.range(max_steps):\n",
    "\n",
    "        interaction = interact_env(\n",
    "            env=env,\n",
    "            actor=actor,\n",
    "            critic=critic,\n",
    "            state=state,\n",
    "            action_selection_fn=action_selection_fn,\n",
    "        )\n",
    "        history.append(interaction)\n",
    "        \n",
    "        # Terminate episode if environment terminates.\n",
    "        if tf.cast(interaction['done'], tf.bool):\n",
    "            print(f\"DONE: {t=}\")\n",
    "            break\n",
    "        \n",
    "    return history"
   ]
  },
  {
   "cell_type": "code",
   "execution_count": 11,
   "metadata": {},
   "outputs": [
    {
     "name": "stdout",
     "output_type": "stream",
     "text": [
      "Model: \"actor\"\n",
      "_________________________________________________________________\n",
      " Layer (type)                Output Shape              Param #   \n",
      "=================================================================\n",
      " input (InputLayer)          [(None, 4)]               0         \n",
      "                                                                 \n",
      " pqc (VariationalEncodingPQC  (None, 1)                28        \n",
      " )                                                               \n",
      "                                                                 \n",
      " policy (WeightedAlternating  (None, 2)                2         \n",
      " SoftmaxPolicy)                                                  \n",
      "                                                                 \n",
      "=================================================================\n",
      "Total params: 30\n",
      "Trainable params: 30\n",
      "Non-trainable params: 0\n",
      "_________________________________________________________________\n",
      "Model: \"critic\"\n",
      "_________________________________________________________________\n",
      " Layer (type)                Output Shape              Param #   \n",
      "=================================================================\n",
      " dense_3 (Dense)             (None, 5)                 25        \n",
      "                                                                 \n",
      " dense_4 (Dense)             (None, 10)                60        \n",
      "                                                                 \n",
      " dense_5 (Dense)             (None, 15)                165       \n",
      "                                                                 \n",
      " v (Dense)                   (None, 1)                 16        \n",
      "                                                                 \n",
      "=================================================================\n",
      "Total params: 266\n",
      "Trainable params: 266\n",
      "Non-trainable params: 0\n",
      "_________________________________________________________________\n"
     ]
    }
   ],
   "source": [
    "env_name = \"CartPole-v1\"\n",
    "env = gym.make(env_name)\n",
    "env.observation_space, env.action_space\n",
    "\n",
    "n_qubits = 4 # Dimension of observation space in environment.\n",
    "n_actions = 2 # Number of actions in environment.\n",
    "\n",
    "n_layers = 1\n",
    "beta = 1.0 # Inverse temperature parameter for softmax policy.\n",
    "\n",
    "qubits = cirq.LineQubit.range(n_qubits)\n",
    "ops = [cirq.Z(q) for q in qubits]\n",
    "observables = [reduce((lambda x, y: x*y), ops)]\n",
    "\n",
    "actor = QuantumActorVariationalEncoding(\n",
    "    qubits=qubits,\n",
    "    n_actions=n_actions,\n",
    "    n_layers=n_layers,\n",
    "    beta=beta,\n",
    "    name='actor',\n",
    ")\n",
    "actor.summary()\n",
    "\n",
    "critic = ClassicalCriticDense(units=[5, 10, 15], name='critic')\n",
    "critic.build((None, *env.observation_space.shape))\n",
    "critic.summary()\n",
    "\n",
    "# model.build(input_shape=(None, n_qubits,))\n",
    "\n",
    "# input_tensor = tf.keras.Input(shape=(n_qubits,), dtype='float32', name='input')\n",
    "# x = input_tensor\n",
    "# x = VariationalEncodingPQC(observables, qubits, n_layers, name='pqc')([x])\n",
    "# # observables\n",
    "# x = WeightedAlternatingSoftmaxPolicy(beta=beta, n_actions=n_actions, name='policy')(x)\n",
    "# model = tf.keras.Model(inputs=[input_tensor], outputs=x)\n",
    "# # pqc([input_tensor])\n",
    "# tf.keras.utils.plot_model(model, show_shapes=True, dpi=70)\n",
    "# model.summary()\n",
    "# tf.keras.utils.plot_model(model, show_shapes=True, dpi=70)"
   ]
  },
  {
   "cell_type": "code",
   "execution_count": 50,
   "metadata": {},
   "outputs": [
    {
     "data": {
      "text/plain": [
       "1"
      ]
     },
     "execution_count": 50,
     "metadata": {},
     "output_type": "execute_result"
    }
   ],
   "source": [
    "t = tf.convert_to_tensor([[0.4815702 , 0.51842976], [0.51842976, 0.4815702]])\n",
    "tf.argmax(t, 1)\n",
    "np.random.choice(2, p=t[0].numpy())"
   ]
  },
  {
   "cell_type": "code",
   "execution_count": 68,
   "metadata": {},
   "outputs": [
    {
     "name": "stdout",
     "output_type": "stream",
     "text": [
      "DONE: t=<tf.Tensor: shape=(), dtype=int32, numpy=33>\n"
     ]
    },
    {
     "data": {
      "text/plain": [
       "34"
      ]
     },
     "execution_count": 68,
     "metadata": {},
     "output_type": "execute_result"
    }
   ],
   "source": [
    "history = run_episode(\n",
    "    env=env,\n",
    "    max_steps=100,\n",
    "    actor=actor,\n",
    "    critic=critic,\n",
    "    action_selection_fn=lambda probs: np.random.choice(n_actions, p=t[0].numpy())\n",
    ")\n",
    "len(history)"
   ]
  },
  {
   "cell_type": "code",
   "execution_count": 55,
   "metadata": {},
   "outputs": [
    {
     "data": {
      "text/html": [
       "<div>\n",
       "<style scoped>\n",
       "    .dataframe tbody tr th:only-of-type {\n",
       "        vertical-align: middle;\n",
       "    }\n",
       "\n",
       "    .dataframe tbody tr th {\n",
       "        vertical-align: top;\n",
       "    }\n",
       "\n",
       "    .dataframe thead th {\n",
       "        text-align: right;\n",
       "    }\n",
       "</style>\n",
       "<table border=\"1\" class=\"dataframe\">\n",
       "  <thead>\n",
       "    <tr style=\"text-align: right;\">\n",
       "      <th></th>\n",
       "      <th>state</th>\n",
       "      <th>action</th>\n",
       "      <th>action_probs</th>\n",
       "      <th>value</th>\n",
       "      <th>reward</th>\n",
       "      <th>done</th>\n",
       "      <th>next_state</th>\n",
       "    </tr>\n",
       "  </thead>\n",
       "  <tbody>\n",
       "    <tr>\n",
       "      <th>0</th>\n",
       "      <td>((tf.Tensor(-0.04225798, shape=(), dtype=float...</td>\n",
       "      <td>1</td>\n",
       "      <td>((tf.Tensor(0.47797477, shape=(), dtype=float3...</td>\n",
       "      <td>((tf.Tensor(0.0038186135, shape=(), dtype=floa...</td>\n",
       "      <td>1.0</td>\n",
       "      <td>False</td>\n",
       "      <td>[-0.043123055, 0.1522679, -0.027747763, -0.253...</td>\n",
       "    </tr>\n",
       "    <tr>\n",
       "      <th>1</th>\n",
       "      <td>((tf.Tensor(-0.04225798, shape=(), dtype=float...</td>\n",
       "      <td>0</td>\n",
       "      <td>((tf.Tensor(0.47797477, shape=(), dtype=float3...</td>\n",
       "      <td>((tf.Tensor(0.0038186135, shape=(), dtype=floa...</td>\n",
       "      <td>1.0</td>\n",
       "      <td>False</td>\n",
       "      <td>[-0.040077697, -0.042447075, -0.032813948, 0.0...</td>\n",
       "    </tr>\n",
       "    <tr>\n",
       "      <th>2</th>\n",
       "      <td>((tf.Tensor(-0.04225798, shape=(), dtype=float...</td>\n",
       "      <td>0</td>\n",
       "      <td>((tf.Tensor(0.47797477, shape=(), dtype=float3...</td>\n",
       "      <td>((tf.Tensor(0.0038186135, shape=(), dtype=floa...</td>\n",
       "      <td>1.0</td>\n",
       "      <td>False</td>\n",
       "      <td>[-0.04092664, -0.23708346, -0.032204065, 0.312...</td>\n",
       "    </tr>\n",
       "    <tr>\n",
       "      <th>3</th>\n",
       "      <td>((tf.Tensor(-0.04225798, shape=(), dtype=float...</td>\n",
       "      <td>0</td>\n",
       "      <td>((tf.Tensor(0.47797477, shape=(), dtype=float3...</td>\n",
       "      <td>((tf.Tensor(0.0038186135, shape=(), dtype=floa...</td>\n",
       "      <td>1.0</td>\n",
       "      <td>False</td>\n",
       "      <td>[-0.045668308, -0.43173218, -0.025951145, 0.59...</td>\n",
       "    </tr>\n",
       "    <tr>\n",
       "      <th>4</th>\n",
       "      <td>((tf.Tensor(-0.04225798, shape=(), dtype=float...</td>\n",
       "      <td>1</td>\n",
       "      <td>((tf.Tensor(0.47797477, shape=(), dtype=float3...</td>\n",
       "      <td>((tf.Tensor(0.0038186135, shape=(), dtype=floa...</td>\n",
       "      <td>1.0</td>\n",
       "      <td>False</td>\n",
       "      <td>[-0.054302953, -0.23625682, -0.01405112, 0.294...</td>\n",
       "    </tr>\n",
       "    <tr>\n",
       "      <th>5</th>\n",
       "      <td>((tf.Tensor(-0.04225798, shape=(), dtype=float...</td>\n",
       "      <td>1</td>\n",
       "      <td>((tf.Tensor(0.47797477, shape=(), dtype=float3...</td>\n",
       "      <td>((tf.Tensor(0.0038186135, shape=(), dtype=floa...</td>\n",
       "      <td>1.0</td>\n",
       "      <td>False</td>\n",
       "      <td>[-0.05902809, -0.040937386, -0.0081659565, -0....</td>\n",
       "    </tr>\n",
       "    <tr>\n",
       "      <th>6</th>\n",
       "      <td>((tf.Tensor(-0.04225798, shape=(), dtype=float...</td>\n",
       "      <td>1</td>\n",
       "      <td>((tf.Tensor(0.47797477, shape=(), dtype=float3...</td>\n",
       "      <td>((tf.Tensor(0.0038186135, shape=(), dtype=floa...</td>\n",
       "      <td>1.0</td>\n",
       "      <td>False</td>\n",
       "      <td>[-0.059846837, 0.15430072, -0.008222416, -0.29...</td>\n",
       "    </tr>\n",
       "    <tr>\n",
       "      <th>7</th>\n",
       "      <td>((tf.Tensor(-0.04225798, shape=(), dtype=float...</td>\n",
       "      <td>1</td>\n",
       "      <td>((tf.Tensor(0.47797477, shape=(), dtype=float3...</td>\n",
       "      <td>((tf.Tensor(0.0038186135, shape=(), dtype=floa...</td>\n",
       "      <td>1.0</td>\n",
       "      <td>False</td>\n",
       "      <td>[-0.05676082, 0.3495389, -0.014183838, -0.5933...</td>\n",
       "    </tr>\n",
       "    <tr>\n",
       "      <th>8</th>\n",
       "      <td>((tf.Tensor(-0.04225798, shape=(), dtype=float...</td>\n",
       "      <td>1</td>\n",
       "      <td>((tf.Tensor(0.47797477, shape=(), dtype=float3...</td>\n",
       "      <td>((tf.Tensor(0.0038186135, shape=(), dtype=floa...</td>\n",
       "      <td>1.0</td>\n",
       "      <td>False</td>\n",
       "      <td>[-0.049770042, 0.5448565, -0.026050555, -0.890...</td>\n",
       "    </tr>\n",
       "    <tr>\n",
       "      <th>9</th>\n",
       "      <td>((tf.Tensor(-0.04225798, shape=(), dtype=float...</td>\n",
       "      <td>1</td>\n",
       "      <td>((tf.Tensor(0.47797477, shape=(), dtype=float3...</td>\n",
       "      <td>((tf.Tensor(0.0038186135, shape=(), dtype=floa...</td>\n",
       "      <td>1.0</td>\n",
       "      <td>False</td>\n",
       "      <td>[-0.038872913, 0.74032205, -0.04385961, -1.191...</td>\n",
       "    </tr>\n",
       "    <tr>\n",
       "      <th>10</th>\n",
       "      <td>((tf.Tensor(-0.04225798, shape=(), dtype=float...</td>\n",
       "      <td>1</td>\n",
       "      <td>((tf.Tensor(0.47797477, shape=(), dtype=float3...</td>\n",
       "      <td>((tf.Tensor(0.0038186135, shape=(), dtype=floa...</td>\n",
       "      <td>1.0</td>\n",
       "      <td>False</td>\n",
       "      <td>[-0.024066472, 0.93598396, -0.0676838, -1.4973...</td>\n",
       "    </tr>\n",
       "    <tr>\n",
       "      <th>11</th>\n",
       "      <td>((tf.Tensor(-0.04225798, shape=(), dtype=float...</td>\n",
       "      <td>0</td>\n",
       "      <td>((tf.Tensor(0.47797477, shape=(), dtype=float3...</td>\n",
       "      <td>((tf.Tensor(0.0038186135, shape=(), dtype=floa...</td>\n",
       "      <td>1.0</td>\n",
       "      <td>False</td>\n",
       "      <td>[-0.0053467937, 0.74174684, -0.09763002, -1.22...</td>\n",
       "    </tr>\n",
       "    <tr>\n",
       "      <th>12</th>\n",
       "      <td>((tf.Tensor(-0.04225798, shape=(), dtype=float...</td>\n",
       "      <td>1</td>\n",
       "      <td>((tf.Tensor(0.47797477, shape=(), dtype=float3...</td>\n",
       "      <td>((tf.Tensor(0.0038186135, shape=(), dtype=floa...</td>\n",
       "      <td>1.0</td>\n",
       "      <td>False</td>\n",
       "      <td>[0.009488142, 0.9379806, -0.12216014, -1.5481125]</td>\n",
       "    </tr>\n",
       "    <tr>\n",
       "      <th>13</th>\n",
       "      <td>((tf.Tensor(-0.04225798, shape=(), dtype=float...</td>\n",
       "      <td>1</td>\n",
       "      <td>((tf.Tensor(0.47797477, shape=(), dtype=float3...</td>\n",
       "      <td>((tf.Tensor(0.0038186135, shape=(), dtype=floa...</td>\n",
       "      <td>1.0</td>\n",
       "      <td>False</td>\n",
       "      <td>[0.028247753, 1.1343389, -0.15312238, -1.8762808]</td>\n",
       "    </tr>\n",
       "    <tr>\n",
       "      <th>14</th>\n",
       "      <td>((tf.Tensor(-0.04225798, shape=(), dtype=float...</td>\n",
       "      <td>0</td>\n",
       "      <td>((tf.Tensor(0.47797477, shape=(), dtype=float3...</td>\n",
       "      <td>((tf.Tensor(0.0038186135, shape=(), dtype=floa...</td>\n",
       "      <td>1.0</td>\n",
       "      <td>False</td>\n",
       "      <td>[0.05093453, 0.9411836, -0.190648, -1.6347803]</td>\n",
       "    </tr>\n",
       "    <tr>\n",
       "      <th>15</th>\n",
       "      <td>((tf.Tensor(-0.04225798, shape=(), dtype=float...</td>\n",
       "      <td>0</td>\n",
       "      <td>((tf.Tensor(0.47797477, shape=(), dtype=float3...</td>\n",
       "      <td>((tf.Tensor(0.0038186135, shape=(), dtype=floa...</td>\n",
       "      <td>1.0</td>\n",
       "      <td>True</td>\n",
       "      <td>[0.06975821, 0.7487416, -0.22334361, -1.407059]</td>\n",
       "    </tr>\n",
       "  </tbody>\n",
       "</table>\n",
       "</div>"
      ],
      "text/plain": [
       "                                                state  action  \\\n",
       "0   ((tf.Tensor(-0.04225798, shape=(), dtype=float...       1   \n",
       "1   ((tf.Tensor(-0.04225798, shape=(), dtype=float...       0   \n",
       "2   ((tf.Tensor(-0.04225798, shape=(), dtype=float...       0   \n",
       "3   ((tf.Tensor(-0.04225798, shape=(), dtype=float...       0   \n",
       "4   ((tf.Tensor(-0.04225798, shape=(), dtype=float...       1   \n",
       "5   ((tf.Tensor(-0.04225798, shape=(), dtype=float...       1   \n",
       "6   ((tf.Tensor(-0.04225798, shape=(), dtype=float...       1   \n",
       "7   ((tf.Tensor(-0.04225798, shape=(), dtype=float...       1   \n",
       "8   ((tf.Tensor(-0.04225798, shape=(), dtype=float...       1   \n",
       "9   ((tf.Tensor(-0.04225798, shape=(), dtype=float...       1   \n",
       "10  ((tf.Tensor(-0.04225798, shape=(), dtype=float...       1   \n",
       "11  ((tf.Tensor(-0.04225798, shape=(), dtype=float...       0   \n",
       "12  ((tf.Tensor(-0.04225798, shape=(), dtype=float...       1   \n",
       "13  ((tf.Tensor(-0.04225798, shape=(), dtype=float...       1   \n",
       "14  ((tf.Tensor(-0.04225798, shape=(), dtype=float...       0   \n",
       "15  ((tf.Tensor(-0.04225798, shape=(), dtype=float...       0   \n",
       "\n",
       "                                         action_probs  \\\n",
       "0   ((tf.Tensor(0.47797477, shape=(), dtype=float3...   \n",
       "1   ((tf.Tensor(0.47797477, shape=(), dtype=float3...   \n",
       "2   ((tf.Tensor(0.47797477, shape=(), dtype=float3...   \n",
       "3   ((tf.Tensor(0.47797477, shape=(), dtype=float3...   \n",
       "4   ((tf.Tensor(0.47797477, shape=(), dtype=float3...   \n",
       "5   ((tf.Tensor(0.47797477, shape=(), dtype=float3...   \n",
       "6   ((tf.Tensor(0.47797477, shape=(), dtype=float3...   \n",
       "7   ((tf.Tensor(0.47797477, shape=(), dtype=float3...   \n",
       "8   ((tf.Tensor(0.47797477, shape=(), dtype=float3...   \n",
       "9   ((tf.Tensor(0.47797477, shape=(), dtype=float3...   \n",
       "10  ((tf.Tensor(0.47797477, shape=(), dtype=float3...   \n",
       "11  ((tf.Tensor(0.47797477, shape=(), dtype=float3...   \n",
       "12  ((tf.Tensor(0.47797477, shape=(), dtype=float3...   \n",
       "13  ((tf.Tensor(0.47797477, shape=(), dtype=float3...   \n",
       "14  ((tf.Tensor(0.47797477, shape=(), dtype=float3...   \n",
       "15  ((tf.Tensor(0.47797477, shape=(), dtype=float3...   \n",
       "\n",
       "                                                value  reward   done  \\\n",
       "0   ((tf.Tensor(0.0038186135, shape=(), dtype=floa...     1.0  False   \n",
       "1   ((tf.Tensor(0.0038186135, shape=(), dtype=floa...     1.0  False   \n",
       "2   ((tf.Tensor(0.0038186135, shape=(), dtype=floa...     1.0  False   \n",
       "3   ((tf.Tensor(0.0038186135, shape=(), dtype=floa...     1.0  False   \n",
       "4   ((tf.Tensor(0.0038186135, shape=(), dtype=floa...     1.0  False   \n",
       "5   ((tf.Tensor(0.0038186135, shape=(), dtype=floa...     1.0  False   \n",
       "6   ((tf.Tensor(0.0038186135, shape=(), dtype=floa...     1.0  False   \n",
       "7   ((tf.Tensor(0.0038186135, shape=(), dtype=floa...     1.0  False   \n",
       "8   ((tf.Tensor(0.0038186135, shape=(), dtype=floa...     1.0  False   \n",
       "9   ((tf.Tensor(0.0038186135, shape=(), dtype=floa...     1.0  False   \n",
       "10  ((tf.Tensor(0.0038186135, shape=(), dtype=floa...     1.0  False   \n",
       "11  ((tf.Tensor(0.0038186135, shape=(), dtype=floa...     1.0  False   \n",
       "12  ((tf.Tensor(0.0038186135, shape=(), dtype=floa...     1.0  False   \n",
       "13  ((tf.Tensor(0.0038186135, shape=(), dtype=floa...     1.0  False   \n",
       "14  ((tf.Tensor(0.0038186135, shape=(), dtype=floa...     1.0  False   \n",
       "15  ((tf.Tensor(0.0038186135, shape=(), dtype=floa...     1.0   True   \n",
       "\n",
       "                                           next_state  \n",
       "0   [-0.043123055, 0.1522679, -0.027747763, -0.253...  \n",
       "1   [-0.040077697, -0.042447075, -0.032813948, 0.0...  \n",
       "2   [-0.04092664, -0.23708346, -0.032204065, 0.312...  \n",
       "3   [-0.045668308, -0.43173218, -0.025951145, 0.59...  \n",
       "4   [-0.054302953, -0.23625682, -0.01405112, 0.294...  \n",
       "5   [-0.05902809, -0.040937386, -0.0081659565, -0....  \n",
       "6   [-0.059846837, 0.15430072, -0.008222416, -0.29...  \n",
       "7   [-0.05676082, 0.3495389, -0.014183838, -0.5933...  \n",
       "8   [-0.049770042, 0.5448565, -0.026050555, -0.890...  \n",
       "9   [-0.038872913, 0.74032205, -0.04385961, -1.191...  \n",
       "10  [-0.024066472, 0.93598396, -0.0676838, -1.4973...  \n",
       "11  [-0.0053467937, 0.74174684, -0.09763002, -1.22...  \n",
       "12  [0.009488142, 0.9379806, -0.12216014, -1.5481125]  \n",
       "13  [0.028247753, 1.1343389, -0.15312238, -1.8762808]  \n",
       "14     [0.05093453, 0.9411836, -0.190648, -1.6347803]  \n",
       "15    [0.06975821, 0.7487416, -0.22334361, -1.407059]  "
      ]
     },
     "execution_count": 55,
     "metadata": {},
     "output_type": "execute_result"
    }
   ],
   "source": [
    "pd.DataFrame(history)"
   ]
  },
  {
   "cell_type": "code",
   "execution_count": 69,
   "metadata": {},
   "outputs": [],
   "source": [
    "from PIL import Image\n",
    "from pathlib import Path\n",
    "\n",
    "def save_frames_as_gif(frames: list[Image.Image], path: Path, **kwargs):\n",
    "    frames[1].save(\n",
    "        path,\n",
    "        save_all=True,\n",
    "        append_images=frames[2:],\n",
    "        optimize=False,\n",
    "        duration=40,\n",
    "        loop=0,\n",
    "        **kwargs,\n",
    "    )\n",
    "\n",
    "\n",
    "def render_interactions_as_frames(\n",
    "    env_name: str,\n",
    "    interactions: list[dict[str, Any]],\n",
    "    ) -> list[Image.Image]:\n",
    "    env = gym.make(env_name, render_mode='rgb_array')\n",
    "    state = env.reset()\n",
    "    frames = []\n",
    "    for interaction in interactions:\n",
    "        im = Image.fromarray(env.render())\n",
    "        frames.append(im)\n",
    "        state, _, done, _, _ = env.step(interaction['action'])\n",
    "        if done: \n",
    "            break\n",
    "    env.close()\n",
    "    return frames"
   ]
  },
  {
   "cell_type": "code",
   "execution_count": 61,
   "metadata": {},
   "outputs": [],
   "source": [
    "import IPython.display\n",
    "def display_gif(path: Path) -> IPython.display.DisplayHandle:\n",
    "    return display(\n",
    "        IPython.display.Image(\n",
    "            data=open(path,'rb').read(), format='png'),\n",
    "        )"
   ]
  },
  {
   "cell_type": "code",
   "execution_count": 70,
   "metadata": {},
   "outputs": [],
   "source": [
    "gif_path = './images/gym_CartPole.gif'\n",
    "frames = render_interactions_as_frames(env_name, history)\n",
    "save_frames_as_gif(frames, path=gif_path)"
   ]
  },
  {
   "cell_type": "code",
   "execution_count": 71,
   "metadata": {},
   "outputs": [
    {
     "data": {
      "image/png": "[encoded data removed]",
      "text/plain": [
       "<IPython.core.display.Image object>"
      ]
     },
     "metadata": {},
     "output_type": "display_data"
    }
   ],
   "source": [
    "display_gif(gif_path)"
   ]
  },
  {
   "cell_type": "code",
   "execution_count": 54,
   "metadata": {},
   "outputs": [
    {
     "data": {
      "text/html": [
       "<pre style=\"overflow: auto; white-space: pre;\">0: ───Rx(theta0)───Ry(theta1)────Rz(theta2)────@───Rx(x0_0)───Rx(theta12)───Ry(theta13)───Rz(theta14)───────────────────────────────\n",
       "                                               │\n",
       "1: ───Rx(theta3)───Ry(theta4)────Rz(theta5)────X───@──────────Rx(x0_1)──────Rx(theta15)───Ry(theta16)───Rz(theta17)─────────────────\n",
       "                                                   │\n",
       "2: ───Rx(theta6)───Ry(theta7)────Rz(theta8)────────X──────────@─────────────Rx(x0_2)──────Rx(theta18)───Ry(theta19)───Rz(theta20)───\n",
       "                                                              │\n",
       "3: ───Rx(theta9)───Ry(theta10)───Rz(theta11)──────────────────X─────────────Rx(x0_3)──────Rx(theta21)───Ry(theta22)───Rz(theta23)───</pre>"
      ],
      "text/plain": [
       "0: ───Rx(theta0)───Ry(theta1)────Rz(theta2)────@───Rx(x0_0)───Rx(theta12)───Ry(theta13)───Rz(theta14)───────────────────────────────\n",
       "                                               │\n",
       "1: ───Rx(theta3)───Ry(theta4)────Rz(theta5)────X───@──────────Rx(x0_1)──────Rx(theta15)───Ry(theta16)───Rz(theta17)─────────────────\n",
       "                                                   │\n",
       "2: ───Rx(theta6)───Ry(theta7)────Rz(theta8)────────X──────────@─────────────Rx(x0_2)──────Rx(theta18)───Ry(theta19)───Rz(theta20)───\n",
       "                                                              │\n",
       "3: ───Rx(theta9)───Ry(theta10)───Rz(theta11)──────────────────X─────────────Rx(x0_3)──────Rx(theta21)───Ry(theta22)───Rz(theta23)───"
      ]
     },
     "execution_count": 54,
     "metadata": {},
     "output_type": "execute_result"
    }
   ],
   "source": [
    "actor.layers[1].circuit"
   ]
  },
  {
   "cell_type": "code",
   "execution_count": 55,
   "metadata": {},
   "outputs": [
    {
     "data": {
      "text/plain": [
       "<tf.Tensor: shape=(2,), dtype=string, numpy=\n",
       "array([b'\\n\\x0e\\n\\x0ctfq_gate_set\\x12\\x02\\x08\\x01',\n",
       "       b'\\n\\x0e\\n\\x0ctfq_gate_set\\x12\\x02\\x08\\x01'], dtype=object)>"
      ]
     },
     "execution_count": 55,
     "metadata": {},
     "output_type": "execute_result"
    }
   ],
   "source": [
    "tmp = tfq.convert_to_tensor([cirq.Circuit(), cirq.Circuit()])\n",
    "tf.repeat(tmp, repeats=1)"
   ]
  },
  {
   "cell_type": "code",
   "execution_count": 65,
   "metadata": {},
   "outputs": [
    {
     "data": {
      "text/plain": [
       "<tf.Tensor: shape=(1, 2), dtype=float32, numpy=array([[0.4158523, 0.5841477]], dtype=float32)>"
      ]
     },
     "execution_count": 65,
     "metadata": {},
     "output_type": "execute_result"
    }
   ],
   "source": [
    "state, _ = env.reset()\n",
    "\n",
    "# Convert state to batched tensor (batch size = 1).\n",
    "state = tf.expand_dims(state, 0)\n",
    "\n",
    "# Get action probabilities.\n",
    "actor.layers[1].theta.shape, actor.layers[1].lmbd.shape\n",
    "probs = actor([state])\n",
    "# probs\n",
    "# state\n",
    "# actor.layers[1].circuit\n",
    "# actor.layers[1].pqc.input_spec\n",
    "probs"
   ]
  },
  {
   "cell_type": "markdown",
   "metadata": {},
   "source": [
    "---"
   ]
  },
  {
   "cell_type": "code",
   "execution_count": 40,
   "metadata": {},
   "outputs": [
    {
     "name": "stdout",
     "output_type": "stream",
     "text": [
      "<class 'cirq.devices.line_qubit.LineQubit'>\n",
      "dirac notation: 0.71|01⟩ + 0.71|10⟩\n",
      "measurements: Counter({0: 51, 1: 49})\n",
      "0: ───H───M(Z)('m')───\n",
      "          │\n",
      "1: ───H───M(Z)────────\n"
     ]
    }
   ],
   "source": [
    "sim = cirq.Simulator()\n",
    "\n",
    "qubits = cirq.LineQubit.range(2)\n",
    "obs = reduce(lambda a, b: a * b, [cirq.Z(q) for q in qubits]) # Z0 * Z1 * ...\n",
    "# obs = obs + [cirq.Z(q) for q in qubits] # Z0, Z1, ...\n",
    "print(type(qubits[0]))\n",
    "circuit = cirq.Circuit(\n",
    "    [cirq.H(q) for q in qubits],\n",
    "    # obs,\n",
    "    cirq.measure_single_paulistring(obs, key='m'),\n",
    "    # cirq.measure(*qubits, key='m'),\n",
    ")\n",
    "print(f\"dirac notation: {sim.simulate(circuit).dirac_notation()}\")\n",
    "print(f\"measurements: {sim.run(circuit, repetitions=100).histogram(key='m')}\")\n",
    "# print(f\"measurements: {sim.run(circuit, repetitions=100).histogram(key='m0')}\")\n",
    "# print(f\"measurements: {sim.run(circuit, repetitions=100).histogram(key='m1')}\")\n",
    "# print(f\"measurements: {sim.run(circuit, repetitions=100).histogram(key='m2')}\")\n",
    "print(circuit)"
   ]
  },
  {
   "cell_type": "code",
   "execution_count": 77,
   "metadata": {},
   "outputs": [
    {
     "name": "stdout",
     "output_type": "stream",
     "text": [
      "tf.Tensor([[-0.789022]], shape=(1, 1), dtype=float32)\n"
     ]
    }
   ],
   "source": [
    "qubits = cirq.LineQubit.range(2)\n",
    "obs = reduce(lambda a, b: a * b, [cirq.Z(q) for q in qubits]) # Z0 * Z1 * ...\n",
    "# obs = [cirq.Z(q) for q in qubits] # Z0, Z1, ...\n",
    "circuit = cirq.Circuit(\n",
    "    # [cirq.H(q) for q in qubits],\n",
    "    [cirq.rx(sympy.Symbol(f'theta{i}'))(q) for i, q in enumerate(qubits)]\n",
    ")\n",
    "# tfq.convert_to_tensor([circuit])\n",
    "# circuit\n",
    "\n",
    "# # l = tfq.layers.AddCircuit(circuit)\n",
    "# l = tfq.layers.PQC(circuit, obs)\n",
    "l = tfq.layers.Sample()\n",
    "quantum_data = tfq.convert_to_tensor([\n",
    "    cirq.Circuit(),\n",
    "    # cirq.Circuit([cirq.X(q) for q in qubits]),\n",
    "])\n",
    "# print(quantum_data.shape)\n",
    "# quantum_data = tf.zeros(shape=(2,))\n",
    "# quantum_data = keras.layers.Input(shape=(1,))\n",
    "# policy = WeightedAlternatingSoftmaxPolicy(beta=1., n_actions=2)\n",
    "# policy = AlternatingObservables(n_actions=4)\n",
    "\n",
    "# x = l(quantum_data)\n",
    "x = l(circuit, symbol_names=)\n",
    "print(x)\n",
    "# x = policy(x)\n",
    "# print(x)"
   ]
  },
  {
   "cell_type": "code",
   "execution_count": 3,
   "metadata": {},
   "outputs": [
    {
     "data": {
      "text/plain": [
       "(array([-0.00238119, -0.02606253, -0.02181742,  0.03740089], dtype=float32),\n",
       " {})"
      ]
     },
     "execution_count": 3,
     "metadata": {},
     "output_type": "execute_result"
    }
   ],
   "source": [
    "env_name = \"CartPole-v1\"\n",
    "env = gym.make(env_name)\n",
    "env.reset()"
   ]
  },
  {
   "cell_type": "code",
   "execution_count": 4,
   "metadata": {},
   "outputs": [
    {
     "data": {
      "text/plain": [
       "(0, {'prob': 1})"
      ]
     },
     "execution_count": 4,
     "metadata": {},
     "output_type": "execute_result"
    }
   ],
   "source": [
    "env_name = \"FrozenLake-v1\"\n",
    "env = gym.make(env_name)\n",
    "env.reset()"
   ]
  },
  {
   "cell_type": "code",
   "execution_count": 5,
   "metadata": {},
   "outputs": [
    {
     "data": {
      "text/plain": [
       "<tf.Variable 'observables-weights:0' shape=(1, 4) dtype=float32, numpy=array([[ 1., -1.,  1., -1.]], dtype=float32)>"
      ]
     },
     "execution_count": 5,
     "metadata": {},
     "output_type": "execute_result"
    }
   ],
   "source": [
    "tf.Variable(\n",
    "        initial_value=tf.constant([[(-1.)**i for i in range(4)]]),\n",
    "        dtype='float32',\n",
    "        trainable=True,\n",
    "        name='observables-weights',\n",
    "    )"
   ]
  },
  {
   "cell_type": "code",
   "execution_count": 9,
   "metadata": {},
   "outputs": [
    {
     "data": {
      "image/png": "[encoded data removed]",
      "text/plain": [
       "<IPython.core.display.Image object>"
      ]
     },
     "execution_count": 9,
     "metadata": {},
     "output_type": "execute_result"
    }
   ],
   "source": [
    "n_qubits = 4\n",
    "n_layers = 5\n",
    "n_actions = 2\n",
    "beta = 1.0 # Inverse temperature parameter for softmax policy.\n",
    "qubits = cirq.LineQubit.range(n_qubits)\n",
    "ops = [cirq.Z(q) for q in qubits]\n",
    "observables = [reduce((lambda x, y: x*y), ops)]\n",
    "\n",
    "input_tensor = tf.keras.Input(shape=(n_qubits,), dtype='float32', name='input')\n",
    "x = input_tensor\n",
    "x = VariationalEncodingPQC(observables, qubits, n_layers, name='pqc')([x])\n",
    "# observables\n",
    "x = WeightedAlternatingSoftmaxPolicy(beta=beta, n_actions=n_actions, name='policy')(x)\n",
    "model = tf.keras.Model(inputs=[input_tensor], outputs=x)\n",
    "# pqc([input_tensor])\n",
    "tf.keras.utils.plot_model(model, show_shapes=True, dpi=70)"
   ]
  },
  {
   "cell_type": "code",
   "execution_count": 11,
   "metadata": {},
   "outputs": [
    {
     "data": {
      "text/plain": [
       "<KerasTensor: shape=(None, 1) dtype=float32 (created by layer 'pqc')>"
      ]
     },
     "execution_count": 11,
     "metadata": {},
     "output_type": "execute_result"
    }
   ],
   "source": [
    "qubits = cirq.LineQubit.range(n_qubits)\n",
    "input_tensor = tf.keras.Input(shape=(n_qubits,), dtype='float32', name='input')\n",
    "x = input_tensor\n",
    "outputs = VariationalEncodingPQC(observables, qubits, n_layers, name='pqc')([x])\n",
    "outputs"
   ]
  },
  {
   "cell_type": "code",
   "execution_count": 26,
   "metadata": {},
   "outputs": [],
   "source": [
    "batch_dim = 12\n",
    "inputs = np.zeros(shape=(batch_dim, 4))"
   ]
  },
  {
   "cell_type": "code",
   "execution_count": 29,
   "metadata": {},
   "outputs": [
    {
     "data": {
      "text/plain": [
       "<tf.Tensor: shape=(12, 20), dtype=float64, numpy=\n",
       "array([[0., 0., 0., 0., 0., 0., 0., 0., 0., 0., 0., 0., 0., 0., 0., 0.,\n",
       "        0., 0., 0., 0.],\n",
       "       [0., 0., 0., 0., 0., 0., 0., 0., 0., 0., 0., 0., 0., 0., 0., 0.,\n",
       "        0., 0., 0., 0.],\n",
       "       [0., 0., 0., 0., 0., 0., 0., 0., 0., 0., 0., 0., 0., 0., 0., 0.,\n",
       "        0., 0., 0., 0.],\n",
       "       [0., 0., 0., 0., 0., 0., 0., 0., 0., 0., 0., 0., 0., 0., 0., 0.,\n",
       "        0., 0., 0., 0.],\n",
       "       [0., 0., 0., 0., 0., 0., 0., 0., 0., 0., 0., 0., 0., 0., 0., 0.,\n",
       "        0., 0., 0., 0.],\n",
       "       [0., 0., 0., 0., 0., 0., 0., 0., 0., 0., 0., 0., 0., 0., 0., 0.,\n",
       "        0., 0., 0., 0.],\n",
       "       [0., 0., 0., 0., 0., 0., 0., 0., 0., 0., 0., 0., 0., 0., 0., 0.,\n",
       "        0., 0., 0., 0.],\n",
       "       [0., 0., 0., 0., 0., 0., 0., 0., 0., 0., 0., 0., 0., 0., 0., 0.,\n",
       "        0., 0., 0., 0.],\n",
       "       [0., 0., 0., 0., 0., 0., 0., 0., 0., 0., 0., 0., 0., 0., 0., 0.,\n",
       "        0., 0., 0., 0.],\n",
       "       [0., 0., 0., 0., 0., 0., 0., 0., 0., 0., 0., 0., 0., 0., 0., 0.,\n",
       "        0., 0., 0., 0.],\n",
       "       [0., 0., 0., 0., 0., 0., 0., 0., 0., 0., 0., 0., 0., 0., 0., 0.,\n",
       "        0., 0., 0., 0.],\n",
       "       [0., 0., 0., 0., 0., 0., 0., 0., 0., 0., 0., 0., 0., 0., 0., 0.,\n",
       "        0., 0., 0., 0.]])>"
      ]
     },
     "execution_count": 29,
     "metadata": {},
     "output_type": "execute_result"
    }
   ],
   "source": [
    "# tf.gather(tf.shape(inputs[0]), 0)\n",
    "batch_dim = tf.gather(tf.shape([inputs][0]), 0)\n",
    "tiled_up_inputs = tf.tile([inputs][0], multiples=[1, n_layers])\n",
    "tiled_up_inputs"
   ]
  }
 ],
 "metadata": {
  "kernelspec": {
   "display_name": "quantum",
   "language": "python",
   "name": "python3"
  },
  "language_info": {
   "codemirror_mode": {
    "name": "ipython",
    "version": 3
   },
   "file_extension": ".py",
   "mimetype": "text/x-python",
   "name": "python",
   "nbconvert_exporter": "python",
   "pygments_lexer": "ipython3",
   "version": "3.9.18"
  }
 },
 "nbformat": 4,
 "nbformat_minor": 2
}
