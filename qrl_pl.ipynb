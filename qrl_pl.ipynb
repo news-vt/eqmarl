{
 "cells": [
  {
   "cell_type": "code",
   "execution_count": 107,
   "metadata": {},
   "outputs": [
    {
     "name": "stdout",
     "output_type": "stream",
     "text": [
      "The autoreload extension is already loaded. To reload it, use:\n",
      "  %reload_ext autoreload\n"
     ]
    }
   ],
   "source": [
    "%load_ext autoreload\n",
    "%autoreload 2"
   ]
  },
  {
   "cell_type": "code",
   "execution_count": 108,
   "metadata": {},
   "outputs": [],
   "source": [
    "import pennylane as qml\n",
    "import tensorflow as tf\n",
    "from tensorflow import keras\n",
    "from eqmarl import *\n",
    "import numpy as np\n",
    "import gymnasium as gym\n",
    "from PIL import Image\n",
    "from pathlib import Path"
   ]
  },
  {
   "cell_type": "code",
   "execution_count": 109,
   "metadata": {},
   "outputs": [],
   "source": [
    "def render_episode_as_gif_frames(env_name, actor, max_steps):\n",
    "    env = gym.make(env_name, render_mode='rgb_array')\n",
    "    \n",
    "    state, _ = env.reset()\n",
    "    \n",
    "    state = tf.constant(state, dtype=tf.float32)\n",
    "    screen = env.render()\n",
    "    images = [Image.fromarray(screen)]\n",
    "    \n",
    "    for i in range(1, max_steps+1):\n",
    "        state = tf.expand_dims(state, 0)\n",
    "        action_probs = actor(state)\n",
    "        action = np.argmax(np.squeeze(action_probs))\n",
    "        \n",
    "        state, reward, done, _, _ = env.step(action)\n",
    "        state = tf.constant(state, dtype=tf.float32)\n",
    "        \n",
    "        screen = env.render()\n",
    "        images.append(Image.fromarray(screen))\n",
    "        \n",
    "        if done:\n",
    "            break\n",
    "\n",
    "    return images\n",
    "\n",
    "# def render_trajectory_as_gif_frames(env_name: str, trajectory: list[dict]):\n",
    "#     env = gym.make(env_name, render_mode='rgb_array')\n",
    "#     for i, t in enumerate(trajectory):\n",
    "        \n",
    "\n",
    "def save_frames_as_gif(frames: list[Image.Image], path: Path, **kwargs):\n",
    "    frames[1].save(\n",
    "        path,\n",
    "        save_all=True,\n",
    "        append_images=frames[2:],\n",
    "        optimize=False,\n",
    "        duration=40,\n",
    "        loop=0,\n",
    "        **kwargs,\n",
    "    )\n",
    "    \n",
    "import IPython.display\n",
    "def display_gif(path: Path) -> IPython.display.DisplayHandle:\n",
    "    return display(\n",
    "        IPython.display.Image(\n",
    "            data=open(path,'rb').read(), format='png'),\n",
    "        )"
   ]
  },
  {
   "cell_type": "code",
   "execution_count": 110,
   "metadata": {},
   "outputs": [
    {
     "data": {
      "text/plain": [
       "(Discrete(64), Discrete(4))"
      ]
     },
     "execution_count": 110,
     "metadata": {},
     "output_type": "execute_result"
    }
   ],
   "source": [
    "env = gym.make('FrozenLake-v1', map_name='8x8')\n",
    "env.observation_space, env.action_space"
   ]
  },
  {
   "cell_type": "code",
   "execution_count": 111,
   "metadata": {},
   "outputs": [
    {
     "data": {
      "text/plain": [
       "(Box([-4.8000002e+00 -3.4028235e+38 -4.1887903e-01 -3.4028235e+38], [4.8000002e+00 3.4028235e+38 4.1887903e-01 3.4028235e+38], (4,), float32),\n",
       " Discrete(2))"
      ]
     },
     "execution_count": 111,
     "metadata": {},
     "output_type": "execute_result"
    }
   ],
   "source": [
    "env = gym.make('CartPole-v1')\n",
    "env.observation_space, env.action_space"
   ]
  },
  {
   "cell_type": "code",
   "execution_count": 112,
   "metadata": {},
   "outputs": [],
   "source": [
    "env = gym.make('CartPole-v1')\n",
    "n_actions = 2 # because `env.action_space.n == 2`\n",
    "n_wires = 4 # because `env.observation_space.shape == (4,)`\n",
    "input_shape = (4,) # Shape of model input, which should match the observation vector shape `env.observation_space.shape == (4,)`\n",
    "\n",
    "# Create the circuit for the specific environment above.\n",
    "observables = lambda wires: AlternatingWeightedObservables(\n",
    "    TensorObservables(\n",
    "        PauliObservables(\n",
    "            wires=wires,\n",
    "            op=qml.PauliZ,\n",
    "        )\n",
    "    ),\n",
    "    n_reps=n_actions,\n",
    ")\n",
    "circuit = AgentCircuit(\n",
    "    wires=n_wires,\n",
    "    n_layers=3,\n",
    "    observables=observables,\n",
    ")"
   ]
  },
  {
   "cell_type": "code",
   "execution_count": 113,
   "metadata": {},
   "outputs": [
    {
     "name": "stdout",
     "output_type": "stream",
     "text": [
      "0: ─╭VariationalEncodingPQC─┤ ╭<𝓗(1.00)> ╭<𝓗(-1.00)>\n",
      "1: ─├VariationalEncodingPQC─┤ ├<𝓗(1.00)> ├<𝓗(-1.00)>\n",
      "2: ─├VariationalEncodingPQC─┤ ├<𝓗(1.00)> ├<𝓗(-1.00)>\n",
      "3: ─╰VariationalEncodingPQC─┤ ╰<𝓗(1.00)> ╰<𝓗(-1.00)>\n"
     ]
    }
   ],
   "source": [
    "### Visualize the circuit.\n",
    "weight_shapes = circuit.weight_shapes\n",
    "weights = {\n",
    "    k: np.random.uniform(low=0., high=np.pi, size=s)\n",
    "    for k, s in weight_shapes.items()\n",
    "}\n",
    "# shape_var, shape_enc = circuit.shape\n",
    "# weights_var = np.random.uniform(low=0., high=np.pi, size=shape_var)\n",
    "# weights_enc = np.random.uniform(low=0., high=np.pi, size=shape_enc)\n",
    "print(qml.draw(circuit, wire_order=circuit.wires)(**weights))"
   ]
  },
  {
   "cell_type": "code",
   "execution_count": 114,
   "metadata": {},
   "outputs": [],
   "source": [
    "# Turn circuit into keras layer.\n",
    "qlayer = circuit.get_keras_layer()"
   ]
  },
  {
   "cell_type": "code",
   "execution_count": 115,
   "metadata": {},
   "outputs": [
    {
     "name": "stdout",
     "output_type": "stream",
     "text": [
      "Model: \"sequential_7\"\n",
      "_________________________________________________________________\n",
      " Layer (type)                Output Shape              Param #   \n",
      "=================================================================\n",
      " dense_10 (Dense)            (None, 4)                 20        \n",
      "                                                                 \n",
      " keras_layer_6 (KerasLayer)  (None, 2)                 60        \n",
      "                                                                 \n",
      " softmax_18 (Softmax)        (None, 2)                 0         \n",
      "                                                                 \n",
      "=================================================================\n",
      "Total params: 80 (320.00 Byte)\n",
      "Trainable params: 80 (320.00 Byte)\n",
      "Non-trainable params: 0 (0.00 Byte)\n",
      "_________________________________________________________________\n"
     ]
    }
   ],
   "source": [
    "# inp = keras.Input(shape=env.observation_space.shape) # Environment state shape is 16-dimensional.\n",
    "# x = inp\n",
    "# # x = keras.layers.Dense(units=qlayer.input_shape[-1])(x) # Dense layer to ensure the shape matches that of the quantum circuit.\n",
    "# x = qlayer(x)\n",
    "# # x = keras.layers.Softmax()(x)\n",
    "# model = keras.Model(inputs=inp, outputs=x)\n",
    "\n",
    "\n",
    "\n",
    "model = keras.Sequential([\n",
    "    keras.Input(shape=input_shape),\n",
    "    keras.layers.Dense(units=qlayer.input_shape[-1]), # Dense layer to ensure the shape matches that of the quantum circuit.\n",
    "    qlayer,\n",
    "    keras.layers.Softmax(),\n",
    "    # keras.layers.Lambda(lambda x: tf.argmax(x, axis=-1)),\n",
    "    # keras.layers.Reshape(target_shape=(1,)),\n",
    "])\n",
    "\n",
    "model.summary()"
   ]
  },
  {
   "cell_type": "code",
   "execution_count": 116,
   "metadata": {},
   "outputs": [
    {
     "name": "stdout",
     "output_type": "stream",
     "text": [
      "1\n",
      "{'state': array([[-0.01996721, -0.03476997,  0.00652758,  0.0253366 ]],\n",
      "      dtype=float32), 'action': 1, 'reward': 1.0, 'next_state': array([[-0.02066261,  0.16025777,  0.00703431, -0.26527968]],\n",
      "      dtype=float32), 'done': False}\n"
     ]
    },
    {
     "name": "stderr",
     "output_type": "stream",
     "text": [
      "/usr/local/Caskroom/miniforge/base/envs/qml/lib/python3.11/site-packages/pennylane/math/utils.py:227: UserWarning: Contains tensors of types {'autograd', 'tensorflow'}; dispatch will prioritize TensorFlow, PyTorch, and  Jax over Autograd. Consider replacing Autograd with vanilla NumPy.\n",
      "  warnings.warn(\n"
     ]
    },
    {
     "name": "stdout",
     "output_type": "stream",
     "text": [
      "1\n",
      "{'state': array([[-0.02066261,  0.16025777,  0.00703431, -0.26527968]],\n",
      "      dtype=float32), 'action': 1, 'reward': 1.0, 'next_state': array([[-0.01745745,  0.3552786 ,  0.00172872, -0.55573565]],\n",
      "      dtype=float32), 'done': False}\n",
      "1\n",
      "{'state': array([[-0.01745745,  0.3552786 ,  0.00172872, -0.55573565]],\n",
      "      dtype=float32), 'action': 1, 'reward': 1.0, 'next_state': array([[-0.01035188,  0.55037624, -0.00938599, -0.8478734 ]],\n",
      "      dtype=float32), 'done': False}\n",
      "1\n",
      "{'state': array([[-0.01035188,  0.55037624, -0.00938599, -0.8478734 ]],\n",
      "      dtype=float32), 'action': 1, 'reward': 1.0, 'next_state': array([[ 6.5564777e-04,  7.4562496e-01, -2.6343461e-02, -1.1434931e+00]],\n",
      "      dtype=float32), 'done': False}\n",
      "1\n",
      "{'state': array([[ 6.5564777e-04,  7.4562496e-01, -2.6343461e-02, -1.1434931e+00]],\n",
      "      dtype=float32), 'action': 1, 'reward': 1.0, 'next_state': array([[ 0.01556815,  0.94108105, -0.04921332, -1.4443195 ]],\n",
      "      dtype=float32), 'done': False}\n",
      "1\n",
      "{'state': array([[ 0.01556815,  0.94108105, -0.04921332, -1.4443195 ]],\n",
      "      dtype=float32), 'action': 1, 'reward': 1.0, 'next_state': array([[ 0.03438977,  1.1367729 , -0.07809971, -1.7519647 ]],\n",
      "      dtype=float32), 'done': False}\n",
      "0\n",
      "{'state': array([[ 0.03438977,  1.1367729 , -0.07809971, -1.7519647 ]],\n",
      "      dtype=float32), 'action': 0, 'reward': 1.0, 'next_state': array([[ 0.05712523,  0.94261926, -0.113139  , -1.48456   ]],\n",
      "      dtype=float32), 'done': False}\n",
      "0\n",
      "{'state': array([[ 0.05712523,  0.94261926, -0.113139  , -1.48456   ]],\n",
      "      dtype=float32), 'action': 0, 'reward': 1.0, 'next_state': array([[ 0.07597761,  0.7490439 , -0.14283021, -1.2292453 ]],\n",
      "      dtype=float32), 'done': False}\n",
      "1\n",
      "{'state': array([[ 0.07597761,  0.7490439 , -0.14283021, -1.2292453 ]],\n",
      "      dtype=float32), 'action': 1, 'reward': 1.0, 'next_state': array([[ 0.09095848,  0.9456851 , -0.16741511, -1.563053  ]],\n",
      "      dtype=float32), 'done': False}\n",
      "0\n",
      "{'state': array([[ 0.09095848,  0.9456851 , -0.16741511, -1.563053  ]],\n",
      "      dtype=float32), 'action': 0, 'reward': 1.0, 'next_state': array([[ 0.10987219,  0.75291395, -0.19867617, -1.3269296 ]],\n",
      "      dtype=float32), 'done': False}\n",
      "1\n",
      "{'state': array([[ 0.10987219,  0.75291395, -0.19867617, -1.3269296 ]],\n",
      "      dtype=float32), 'action': 1, 'reward': 1.0, 'next_state': array([[ 0.12493047,  0.9499103 , -0.22521476, -1.6746385 ]],\n",
      "      dtype=float32), 'done': True}\n"
     ]
    }
   ],
   "source": [
    "trajectory = []\n",
    "state, _ = env.reset()\n",
    "state_shape = state.shape\n",
    "for t in range(100):\n",
    "    state = np.asarray(state).reshape((1, *state_shape)) # Reshape to (1, features) so that batch_size=1.\n",
    "    res = model(state)\n",
    "    action = np.asarray(tf.argmax(res, axis=-1))[0]\n",
    "    next_state, reward, done, _, _ = env.step(action)\n",
    "    next_state = np.asarray(next_state).reshape(state.shape)\n",
    "    \n",
    "    traj = dict(\n",
    "        state=state,\n",
    "        action=action,\n",
    "        reward=reward,\n",
    "        next_state=next_state,\n",
    "        done=done,\n",
    "    )\n",
    "    trajectory.append(traj)\n",
    "    state = next_state\n",
    "    print(traj)\n",
    "    \n",
    "    if done:\n",
    "        break"
   ]
  },
  {
   "cell_type": "code",
   "execution_count": 122,
   "metadata": {},
   "outputs": [
    {
     "name": "stdout",
     "output_type": "stream",
     "text": [
      "rendering 14 frames to GIF ./images/gym_CartPole.gif\n"
     ]
    },
    {
     "data": {
      "image/png": "[encoded data removed]",
      "text/plain": [
       "<IPython.core.display.Image object>"
      ]
     },
     "metadata": {},
     "output_type": "display_data"
    }
   ],
   "source": [
    "gif_path = './images/gym_CartPole.gif'\n",
    "frames = render_episode_as_gif_frames('CartPole-v1', model, 100)\n",
    "print(f\"rendering {len(frames)} frames to GIF {gif_path}\")\n",
    "save_frames_as_gif(frames, gif_path)\n",
    "display_gif(gif_path)"
   ]
  },
  {
   "cell_type": "code",
   "execution_count": 94,
   "metadata": {},
   "outputs": [
    {
     "data": {
      "text/plain": [
       "(1, 4)"
      ]
     },
     "execution_count": 94,
     "metadata": {},
     "output_type": "execute_result"
    }
   ],
   "source": [
    "s, _ = env.reset()\n",
    "s = np.asarray(s)[None, :]\n",
    "s.shape"
   ]
  },
  {
   "cell_type": "code",
   "execution_count": 93,
   "metadata": {},
   "outputs": [
    {
     "data": {
      "text/plain": [
       "<tf.Tensor: shape=(5, 2), dtype=float32, numpy=\n",
       "array([[0.35855764, 0.6414424 ],\n",
       "       [0.35855764, 0.6414424 ],\n",
       "       [0.35855764, 0.6414424 ],\n",
       "       [0.35855764, 0.6414424 ],\n",
       "       [0.3585576 , 0.6414424 ]], dtype=float32)>"
      ]
     },
     "execution_count": 93,
     "metadata": {},
     "output_type": "execute_result"
    }
   ],
   "source": [
    "s, _ = env.reset()\n",
    "# s = np.asarray(s).reshape(1, 4)\n",
    "# s = np.asarray([s, s])\n",
    "s = np.asarray(s)[None, :].repeat(5, axis=0)\n",
    "model(s)\n",
    "# s.shape"
   ]
  },
  {
   "cell_type": "code",
   "execution_count": 88,
   "metadata": {},
   "outputs": [
    {
     "data": {
      "text/plain": [
       "<tf.Tensor: shape=(5,), dtype=int64, numpy=array([1, 1, 1, 1, 1])>"
      ]
     },
     "execution_count": 88,
     "metadata": {},
     "output_type": "execute_result"
    }
   ],
   "source": [
    "keras.layers.Lambda(lambda x: tf.argmax(x, axis=-1))(keras.layers.Softmax()(qlayer(s)))"
   ]
  },
  {
   "cell_type": "code",
   "execution_count": 10,
   "metadata": {},
   "outputs": [
    {
     "data": {
      "text/plain": [
       "2"
      ]
     },
     "execution_count": 10,
     "metadata": {},
     "output_type": "execute_result"
    }
   ],
   "source": [
    "len(model.layers[1].get_weights())"
   ]
  },
  {
   "cell_type": "code",
   "execution_count": null,
   "metadata": {},
   "outputs": [],
   "source": [
    "qml.qnn.KerasLayer.compute_output_shape()"
   ]
  },
  {
   "cell_type": "code",
   "execution_count": 11,
   "metadata": {},
   "outputs": [
    {
     "data": {
      "text/plain": [
       "[array([[[2.779676  , 1.8895996 , 0.3551851 ],\n",
       "         [0.4370763 , 1.6767436 , 2.786039  ],\n",
       "         [3.117293  , 1.2660701 , 2.8539016 ],\n",
       "         [0.19082893, 2.2564154 , 1.4916829 ]],\n",
       " \n",
       "        [[1.9537493 , 0.12877125, 1.4064158 ],\n",
       "         [1.8604503 , 1.483519  , 3.070688  ],\n",
       "         [1.6275402 , 0.23737828, 0.03792521],\n",
       "         [0.8676418 , 2.450834  , 0.16465613]],\n",
       " \n",
       "        [[0.8643993 , 2.9948845 , 0.01621765],\n",
       "         [1.7288653 , 0.16435504, 0.9930717 ],\n",
       "         [1.9744045 , 0.12962961, 0.2147577 ],\n",
       "         [2.6725533 , 3.075475  , 1.7726152 ]],\n",
       " \n",
       "        [[0.39616477, 1.7307558 , 3.0141573 ],\n",
       "         [1.1535667 , 0.30248934, 0.68736684],\n",
       "         [0.3913183 , 2.447158  , 2.693568  ],\n",
       "         [0.11174691, 1.7640971 , 2.4550498 ]]], dtype=float32),\n",
       " array([[[1.],\n",
       "         [1.],\n",
       "         [1.],\n",
       "         [1.]],\n",
       " \n",
       "        [[1.],\n",
       "         [1.],\n",
       "         [1.],\n",
       "         [1.]],\n",
       " \n",
       "        [[1.],\n",
       "         [1.],\n",
       "         [1.],\n",
       "         [1.]]], dtype=float32)]"
      ]
     },
     "execution_count": 11,
     "metadata": {},
     "output_type": "execute_result"
    }
   ],
   "source": [
    "qlayer.get_weights()"
   ]
  },
  {
   "cell_type": "code",
   "execution_count": 30,
   "metadata": {},
   "outputs": [
    {
     "data": {
      "image/png": "[encoded data removed]",
      "text/plain": [
       "<IPython.core.display.Image object>"
      ]
     },
     "execution_count": 30,
     "metadata": {},
     "output_type": "execute_result"
    }
   ],
   "source": [
    "keras.utils.plot_model(model, to_file='model_plot.png', show_shapes=True, show_layer_names=True)"
   ]
  },
  {
   "cell_type": "code",
   "execution_count": 48,
   "metadata": {},
   "outputs": [
    {
     "name": "stderr",
     "output_type": "stream",
     "text": [
      "/usr/local/Caskroom/miniforge/base/envs/qml/lib/python3.11/site-packages/pennylane/math/utils.py:227: UserWarning: Contains tensors of types {'tensorflow', 'autograd'}; dispatch will prioritize TensorFlow, PyTorch, and  Jax over Autograd. Consider replacing Autograd with vanilla NumPy.\n",
      "  warnings.warn(\n"
     ]
    },
    {
     "data": {
      "text/plain": [
       "<tf.Tensor: shape=(3, 4), dtype=float32, numpy=\n",
       "array([[0.31638435, 0.18472214, 0.31093252, 0.18796101],\n",
       "       [0.31638435, 0.18472214, 0.31093252, 0.18796101],\n",
       "       [0.31638438, 0.18472214, 0.31093255, 0.18796103]], dtype=float32)>"
      ]
     },
     "execution_count": 48,
     "metadata": {},
     "output_type": "execute_result"
    }
   ],
   "source": [
    "model([np.ones(shape=(3, 16,))])"
   ]
  },
  {
   "cell_type": "code",
   "execution_count": 29,
   "metadata": {},
   "outputs": [
    {
     "data": {
      "text/plain": [
       "mappingproxy({'self': <Parameter \"self\">,\n",
       "              'weights_var': <Parameter \"weights_var\">,\n",
       "              'weights_enc': <Parameter \"weights_enc\">,\n",
       "              'inputs': <Parameter \"inputs=None\">})"
      ]
     },
     "execution_count": 29,
     "metadata": {},
     "output_type": "execute_result"
    }
   ],
   "source": [
    "import inspect\n",
    "from typing import TypedDict\n",
    "\n",
    "# class KwargsDict(TypedDict):\n",
    "#     inputs: Any\n",
    "\n",
    "# def func(**{inputs:}: KwargsDict):\n",
    "#     pass\n",
    "\n",
    "# inspect.signature(func).parameters\n",
    "\n",
    "inspect.signature(AgentCircuit.__call__).parameters"
   ]
  },
  {
   "cell_type": "code",
   "execution_count": null,
   "metadata": {},
   "outputs": [],
   "source": []
  }
 ],
 "metadata": {
  "kernelspec": {
   "display_name": "qml",
   "language": "python",
   "name": "python3"
  },
  "language_info": {
   "codemirror_mode": {
    "name": "ipython",
    "version": 3
   },
   "file_extension": ".py",
   "mimetype": "text/x-python",
   "name": "python",
   "nbconvert_exporter": "python",
   "pygments_lexer": "ipython3",
   "version": "3.11.6"
  }
 },
 "nbformat": 4,
 "nbformat_minor": 2
}
